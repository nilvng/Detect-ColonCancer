{
 "cells": [
  {
   "cell_type": "code",
   "execution_count": 42,
   "metadata": {},
   "outputs": [],
   "source": [
    "import matplotlib.pyplot as plt\n",
    "def plot_learning_curve_raw(train_loss, val_loss, train_metric, val_metric, metric_name='Accuracy'):\n",
    "    plt.figure(figsize=(10,5))\n",
    "    \n",
    "    plt.subplot(1,2,1)\n",
    "    plt.plot(train_loss, 'r--')\n",
    "    plt.plot(val_loss, 'b--')\n",
    "    plt.xlabel(\"epochs\")\n",
    "    plt.ylabel(\"Loss\")\n",
    "    plt.legend(['train', 'val'], loc='upper left')\n",
    "\n",
    "    plt.subplot(1,2,2)\n",
    "    plt.plot(train_metric, 'r--')\n",
    "    plt.plot(val_metric, 'b--')\n",
    "    plt.xlabel(\"epochs\")\n",
    "    plt.ylabel(metric_name)\n",
    "    plt.legend(['train', 'val'], loc='upper left')\n",
    "\n",
    "    plt.show()"
   ]
  },
  {
   "cell_type": "code",
   "execution_count": 43,
   "metadata": {},
   "outputs": [],
   "source": [
    "def plot_learning_curve(history):\n",
    "    plot_learning_curve_raw(history.history['loss'], \n",
    "                    history.history['val_loss'], \n",
    "                    history.history['accuracy'], \n",
    "                    history.history['val_accuracy'])"
   ]
  },
  {
   "cell_type": "markdown",
   "metadata": {},
   "source": [
    "# Load training dataset of 3 classes and 4 classes"
   ]
  },
  {
   "cell_type": "code",
   "execution_count": 1,
   "metadata": {},
   "outputs": [],
   "source": [
    "import cv2\n",
    "import matplotlib.image as mplib \n",
    "from PIL import Image\n",
    "import numpy as np\n",
    "full_classes = [\"epithelial\",\"fibroblast\",\"inflammatory\",\"others\"]\n",
    "multiclass_train_path = \"Image_classification_data/split_multi-task/train\"\n",
    "\n",
    "def load_data(labelNames, root):    \n",
    "    images = list()\n",
    "    labels = list()\n",
    "    \n",
    "    for label in labelNames:\n",
    "        # get image directory\n",
    "        img_dir = os.path.join(root, f\"{label}\")\n",
    "        \n",
    "        for img in os.listdir(img_dir):\n",
    "            img = np.array(Image.open(os.path.join(img_dir, img),'r'))\n",
    "            images.append(img)\n",
    "            labels.append(label)\n",
    "        \n",
    "    return (images, labels)\n"
   ]
  },
  {
   "cell_type": "code",
   "execution_count": 3,
   "metadata": {},
   "outputs": [],
   "source": [
    "from sklearn.model_selection import train_test_split\n",
    "classes3 = [\"epithelial\",\"fibroblast\",\"inflammatory\"]\n",
    "df3_x, df3_y = load_data(classes3, root=multiclass_train_path)\n",
    "\n",
    "train3_x, val3_x, train3_y, val3_y = train_test_split(df3_x, df3_y,test_size=0.2, random_state=4)"
   ]
  },
  {
   "cell_type": "code",
   "execution_count": 4,
   "metadata": {},
   "outputs": [],
   "source": [
    "from sklearn.model_selection import train_test_split\n",
    "classes4 = [\"epithelial\",\"fibroblast\",\"inflammatory\", \"others\"]\n",
    "df4_x, df4_y = load_data(classes4, root=multiclass_train_path)\n",
    "\n",
    "train4_x, val4_x, train4_y, val4_y = train_test_split(df4_x, df4_y,test_size=0.2, random_state=4)"
   ]
  },
  {
   "cell_type": "code",
   "execution_count": 15,
   "metadata": {},
   "outputs": [],
   "source": [
    "from sklearn.preprocessing import LabelEncoder\n",
    "coder = LabelEncoder()\n",
    "train3_y = coder.fit_transform(train3_y)\n",
    "val3_y = coder.fit_transform(val3_y)\n",
    "\n",
    "coder = LabelEncoder()\n",
    "train4_y = coder.fit_transform(train4_y)\n",
    "val4_y = coder.fit_transform(val4_y)"
   ]
  },
  {
   "cell_type": "code",
   "execution_count": 28,
   "metadata": {},
   "outputs": [
    {
     "data": {
      "text/plain": [
       "0    2617\n",
       "2    1606\n",
       "1    1222\n",
       "dtype: int64"
      ]
     },
     "execution_count": 28,
     "metadata": {},
     "output_type": "execute_result"
    }
   ],
   "source": [
    "import pandas as pd\n",
    "pd.DataFrame(train3_y).value_counts()"
   ]
  },
  {
   "cell_type": "code",
   "execution_count": 30,
   "metadata": {},
   "outputs": [
    {
     "data": {
      "text/plain": [
       "0    2625\n",
       "2    1616\n",
       "1    1200\n",
       "3     891\n",
       "dtype: int64"
      ]
     },
     "execution_count": 30,
     "metadata": {},
     "output_type": "execute_result"
    }
   ],
   "source": [
    "pd.DataFrame(train4_y).value_counts()"
   ]
  },
  {
   "cell_type": "code",
   "execution_count": 17,
   "metadata": {},
   "outputs": [
    {
     "name": "stdout",
     "output_type": "stream",
     "text": [
      "training:  (5445, 27, 27, 3)\n"
     ]
    }
   ],
   "source": [
    "train3_x = np.array(train3_x)\n",
    "train4_x = np.array(train4_x)\n",
    "\n",
    "val3_x = np.array(val3_x)\n",
    "val4_x = np.array(val4_x)\n",
    "print(\"training: \",train3_x.shape)"
   ]
  },
  {
   "cell_type": "markdown",
   "metadata": {},
   "source": [
    "# Model for 3 classes"
   ]
  },
  {
   "cell_type": "code",
   "execution_count": 98,
   "metadata": {},
   "outputs": [],
   "source": [
    "import tensorflow as tf\n",
    "def get_subclass_model():\n",
    "    \"\"\"\n",
    "        Structure of model classifying 3 classes\n",
    "    \"\"\"\n",
    "    \n",
    "    model = tf.keras.Sequential()\n",
    "    # First convo-pooling\n",
    "    # Convolutional layers (filter the image with a kernel)\n",
    "    model.add(tf.keras.layers.Conv2D(64, (3, 3), padding=\"same\", activation=\"relu\", input_shape=[27, 27, 3]))\n",
    "    # Max-pooling layers (reduce the size of the image by choosing max pixel at certain area)\n",
    "    model.add(tf.keras.layers.MaxPool2D(pool_size=(2, 2)))\n",
    "    model.add(tf.keras.layers.Conv2D(32, (3, 3), padding=\"same\", activation=\"relu\"))\n",
    "    # Max-pooling layers (reduce the size of the image by choosing max pixel at certain area)\n",
    "    model.add(tf.keras.layers.MaxPool2D(pool_size=(2, 2)))\n",
    "    # Flatten input\n",
    "    model.add(tf.keras.layers.Flatten())\n",
    "    model.add(tf.keras.layers.Dense(256, activation=\"relu\"))\n",
    "    model.add(tf.keras.layers.Dropout(0.5))\n",
    "    model.add(tf.keras.layers.Dense(128, activation=\"relu\"))\n",
    "    # Output layer\n",
    "    model.add(tf.keras.layers.Dense(3, activation=\"softmax\"))\n",
    "    # Compile model \n",
    "    model.compile(optimizer=\"adam\",\n",
    "                  loss=\"sparse_categorical_crossentropy\",\n",
    "                  metrics=[\"accuracy\"])\n",
    "    \n",
    "    return model\n",
    "    \n",
    "def qget_subclass_model():\n",
    "    \"\"\"\n",
    "        Structure of model classifying 3 classes\n",
    "    \"\"\"\n",
    "    \n",
    "    model = tf.keras.Sequential()\n",
    "    # First convo-pooling\n",
    "    # Convolutional layers (filter the image with a kernel)\n",
    "    model.add(tf.keras.layers.Conv2D(64, (3, 3), activation=\"relu\", input_shape=[27, 27, 3]))\n",
    "    # Max-pooling layers (reduce the size of the image by choosing max pixel at certain area)\n",
    "    model.add(tf.keras.layers.MaxPool2D(pool_size=(2, 2)))\n",
    "    # Flatten input\n",
    "    model.add(tf.keras.layers.Flatten())\n",
    "    model.add(tf.keras.layers.Dense(256, activation=\"relu\"))\n",
    "    model.add(tf.keras.layers.Dense(128, activation=\"relu\"))\n",
    "    model.add(tf.keras.layers.Dense(32, activation=\"relu\"))\n",
    "    # Output layer\n",
    "    model.add(tf.keras.layers.Dense(3, activation=\"softmax\"))\n",
    "    # Compile model \n",
    "    model.compile(optimizer=\"adam\",\n",
    "                  loss=\"sparse_categorical_crossentropy\",\n",
    "                  metrics=[\"accuracy\"])\n",
    "    \n",
    "    return model"
   ]
  },
  {
   "cell_type": "code",
   "execution_count": 51,
   "metadata": {},
   "outputs": [
    {
     "name": "stdout",
     "output_type": "stream",
     "text": [
      "Model: \"sequential_5\"\n",
      "_________________________________________________________________\n",
      " Layer (type)                Output Shape              Param #   \n",
      "=================================================================\n",
      " conv2d_8 (Conv2D)           (None, 27, 27, 64)        1792      \n",
      "                                                                 \n",
      " max_pooling2d_8 (MaxPooling  (None, 13, 13, 64)       0         \n",
      " 2D)                                                             \n",
      "                                                                 \n",
      " conv2d_9 (Conv2D)           (None, 13, 13, 32)        18464     \n",
      "                                                                 \n",
      " max_pooling2d_9 (MaxPooling  (None, 6, 6, 32)         0         \n",
      " 2D)                                                             \n",
      "                                                                 \n",
      " flatten_5 (Flatten)         (None, 1152)              0         \n",
      "                                                                 \n",
      " dense_20 (Dense)            (None, 256)               295168    \n",
      "                                                                 \n",
      " dropout_2 (Dropout)         (None, 256)               0         \n",
      "                                                                 \n",
      " dense_21 (Dense)            (None, 128)               32896     \n",
      "                                                                 \n",
      " dense_22 (Dense)            (None, 3)                 387       \n",
      "                                                                 \n",
      "=================================================================\n",
      "Total params: 348,707\n",
      "Trainable params: 348,707\n",
      "Non-trainable params: 0\n",
      "_________________________________________________________________\n"
     ]
    }
   ],
   "source": [
    "model3 = get_subclass_model()\n",
    "model3.summary()"
   ]
  },
  {
   "cell_type": "code",
   "execution_count": 52,
   "metadata": {},
   "outputs": [
    {
     "name": "stdout",
     "output_type": "stream",
     "text": [
      "Epoch 1/30\n",
      "WARNING:tensorflow:AutoGraph could not transform <function Model.make_train_function.<locals>.train_function at 0x7fa94cc154d0> and will run it as-is.\n",
      "Please report this to the TensorFlow team. When filing the bug, set the verbosity to 10 (on Linux, `export AUTOGRAPH_VERBOSITY=10`) and attach the full output.\n",
      "Cause: 'arguments' object has no attribute 'posonlyargs'\n",
      "To silence this warning, decorate the function with @tf.autograph.experimental.do_not_convert\n",
      "WARNING: AutoGraph could not transform <function Model.make_train_function.<locals>.train_function at 0x7fa94cc154d0> and will run it as-is.\n",
      "Please report this to the TensorFlow team. When filing the bug, set the verbosity to 10 (on Linux, `export AUTOGRAPH_VERBOSITY=10`) and attach the full output.\n",
      "Cause: 'arguments' object has no attribute 'posonlyargs'\n",
      "To silence this warning, decorate the function with @tf.autograph.experimental.do_not_convert\n",
      "43/43 [==============================] - ETA: 0s - loss: 4.7808 - accuracy: 0.4700WARNING:tensorflow:AutoGraph could not transform <function Model.make_test_function.<locals>.test_function at 0x7fa949918170> and will run it as-is.\n",
      "Please report this to the TensorFlow team. When filing the bug, set the verbosity to 10 (on Linux, `export AUTOGRAPH_VERBOSITY=10`) and attach the full output.\n",
      "Cause: 'arguments' object has no attribute 'posonlyargs'\n",
      "To silence this warning, decorate the function with @tf.autograph.experimental.do_not_convert\n",
      "WARNING: AutoGraph could not transform <function Model.make_test_function.<locals>.test_function at 0x7fa949918170> and will run it as-is.\n",
      "Please report this to the TensorFlow team. When filing the bug, set the verbosity to 10 (on Linux, `export AUTOGRAPH_VERBOSITY=10`) and attach the full output.\n",
      "Cause: 'arguments' object has no attribute 'posonlyargs'\n",
      "To silence this warning, decorate the function with @tf.autograph.experimental.do_not_convert\n",
      "43/43 [==============================] - 6s 126ms/step - loss: 4.7808 - accuracy: 0.4700 - val_loss: 0.8830 - val_accuracy: 0.6043\n",
      "Epoch 2/30\n",
      "43/43 [==============================] - 5s 126ms/step - loss: 0.8602 - accuracy: 0.6026 - val_loss: 0.6991 - val_accuracy: 0.6667\n",
      "Epoch 3/30\n",
      "43/43 [==============================] - 5s 115ms/step - loss: 0.7296 - accuracy: 0.6893 - val_loss: 0.6255 - val_accuracy: 0.7533\n",
      "Epoch 4/30\n",
      "43/43 [==============================] - 5s 119ms/step - loss: 0.6942 - accuracy: 0.7177 - val_loss: 0.6531 - val_accuracy: 0.7305\n",
      "Epoch 5/30\n",
      "43/43 [==============================] - 5s 120ms/step - loss: 0.6506 - accuracy: 0.7313 - val_loss: 0.5500 - val_accuracy: 0.7731\n",
      "Epoch 6/30\n",
      "43/43 [==============================] - 5s 118ms/step - loss: 0.5526 - accuracy: 0.7713 - val_loss: 0.5230 - val_accuracy: 0.7930\n",
      "Epoch 7/30\n",
      "43/43 [==============================] - 5s 114ms/step - loss: 0.5648 - accuracy: 0.7759 - val_loss: 0.5028 - val_accuracy: 0.7952\n",
      "Epoch 8/30\n",
      "43/43 [==============================] - 5s 119ms/step - loss: 0.5750 - accuracy: 0.7708 - val_loss: 0.5535 - val_accuracy: 0.7812\n",
      "Epoch 9/30\n",
      "43/43 [==============================] - 5s 116ms/step - loss: 0.5417 - accuracy: 0.7853 - val_loss: 0.4720 - val_accuracy: 0.8135\n",
      "Epoch 10/30\n",
      "43/43 [==============================] - 5s 120ms/step - loss: 0.5470 - accuracy: 0.7879 - val_loss: 0.5011 - val_accuracy: 0.7944\n",
      "Epoch 11/30\n",
      "43/43 [==============================] - 5s 122ms/step - loss: 0.5154 - accuracy: 0.7987 - val_loss: 0.5036 - val_accuracy: 0.7907\n",
      "Epoch 12/30\n",
      "43/43 [==============================] - 6s 134ms/step - loss: 0.5249 - accuracy: 0.7945 - val_loss: 0.4844 - val_accuracy: 0.8069\n",
      "Epoch 13/30\n",
      "43/43 [==============================] - 5s 118ms/step - loss: 0.5174 - accuracy: 0.7958 - val_loss: 0.4695 - val_accuracy: 0.8069\n",
      "Epoch 14/30\n",
      "43/43 [==============================] - 5s 120ms/step - loss: 0.4884 - accuracy: 0.8130 - val_loss: 0.4489 - val_accuracy: 0.8267\n",
      "Epoch 15/30\n",
      "43/43 [==============================] - 5s 116ms/step - loss: 0.4769 - accuracy: 0.8162 - val_loss: 0.4809 - val_accuracy: 0.8091\n",
      "Epoch 16/30\n",
      "43/43 [==============================] - 5s 119ms/step - loss: 0.4678 - accuracy: 0.8204 - val_loss: 0.4516 - val_accuracy: 0.8267\n",
      "Epoch 17/30\n",
      "43/43 [==============================] - 5s 116ms/step - loss: 0.4632 - accuracy: 0.8167 - val_loss: 0.4544 - val_accuracy: 0.8164\n",
      "Epoch 18/30\n",
      "43/43 [==============================] - 5s 121ms/step - loss: 0.4762 - accuracy: 0.8178 - val_loss: 0.4549 - val_accuracy: 0.8194\n",
      "Epoch 19/30\n",
      "43/43 [==============================] - 5s 122ms/step - loss: 0.4622 - accuracy: 0.8250 - val_loss: 0.4681 - val_accuracy: 0.8157\n",
      "Epoch 20/30\n",
      "43/43 [==============================] - 5s 120ms/step - loss: 0.4634 - accuracy: 0.8156 - val_loss: 0.4696 - val_accuracy: 0.8128\n",
      "Epoch 21/30\n",
      "43/43 [==============================] - 5s 116ms/step - loss: 0.4351 - accuracy: 0.8264 - val_loss: 0.4533 - val_accuracy: 0.8231\n",
      "Epoch 22/30\n",
      "43/43 [==============================] - 5s 119ms/step - loss: 0.4151 - accuracy: 0.8342 - val_loss: 0.4567 - val_accuracy: 0.8201\n",
      "Epoch 23/30\n",
      "43/43 [==============================] - 6s 129ms/step - loss: 0.4554 - accuracy: 0.8230 - val_loss: 0.4865 - val_accuracy: 0.8120\n",
      "Epoch 24/30\n",
      "43/43 [==============================] - 5s 120ms/step - loss: 0.4251 - accuracy: 0.8327 - val_loss: 0.4407 - val_accuracy: 0.8355\n",
      "Epoch 25/30\n",
      "43/43 [==============================] - 6s 142ms/step - loss: 0.4177 - accuracy: 0.8402 - val_loss: 0.4752 - val_accuracy: 0.8223\n",
      "Epoch 26/30\n",
      "43/43 [==============================] - 6s 132ms/step - loss: 0.4000 - accuracy: 0.8490 - val_loss: 0.4866 - val_accuracy: 0.8106\n",
      "Epoch 27/30\n",
      "43/43 [==============================] - 5s 117ms/step - loss: 0.4536 - accuracy: 0.8163 - val_loss: 0.4552 - val_accuracy: 0.8201\n",
      "Epoch 28/30\n",
      "43/43 [==============================] - 5s 118ms/step - loss: 0.4082 - accuracy: 0.8410 - val_loss: 0.4751 - val_accuracy: 0.8120\n",
      "Epoch 29/30\n",
      "43/43 [==============================] - 5s 114ms/step - loss: 0.3958 - accuracy: 0.8450 - val_loss: 0.4388 - val_accuracy: 0.8333\n",
      "Epoch 30/30\n",
      "43/43 [==============================] - 5s 123ms/step - loss: 0.4179 - accuracy: 0.8343 - val_loss: 0.4391 - val_accuracy: 0.8267\n"
     ]
    }
   ],
   "source": [
    "hist3 = model3.fit(train3_x, train3_y, validation_data=(val3_x, val3_y), epochs=30, batch_size=128)"
   ]
  },
  {
   "cell_type": "code",
   "execution_count": 53,
   "metadata": {},
   "outputs": [],
   "source": [
    "model3.save_weights(\"results/model3(43-82).h5\")"
   ]
  },
  {
   "cell_type": "code",
   "execution_count": 54,
   "metadata": {},
   "outputs": [
    {
     "data": {
      "image/png": "[encoded data removed]",
      "text/plain": [
       "<Figure size 720x360 with 2 Axes>"
      ]
     },
     "metadata": {
      "needs_background": "light"
     },
     "output_type": "display_data"
    }
   ],
   "source": [
    "plot_learning_curve(hist3)"
   ]
  },
  {
   "cell_type": "markdown",
   "metadata": {},
   "source": [
    "# Model for 4 classes"
   ]
  },
  {
   "cell_type": "code",
   "execution_count": 111,
   "metadata": {},
   "outputs": [],
   "source": [
    "import tensorflow as tf\n",
    "def get_multiclass_model():\n",
    "    \"\"\"\n",
    "        Structure of model classifying 4 classes\n",
    "    \"\"\"\n",
    "    \n",
    "    model = tf.keras.Sequential()\n",
    "    # First convo-pooling\n",
    "    # Convolutional layers (filter the image with a kernel)\n",
    "    model.add(tf.keras.layers.Conv2D(64, (3, 3), padding=\"same\",strides=1,activation=\"relu\", input_shape=[27, 27, 3]))\n",
    "    # Max-pooling layers (reduce the size of the image by choosing max pixel at certain area)\n",
    "    model.add(tf.keras.layers.MaxPool2D(pool_size=(2, 2)))\n",
    "    \n",
    "    # Second convo-pooling\n",
    "    # Convolutional layers (filter the image with a kernel)\n",
    "    model.add(tf.keras.layers.Conv2D(64, (3, 3),padding=\"same\", activation=\"relu\"))\n",
    "    # Max-pooling layers (reduce the size of the image by choosing max pixel at certain area)\n",
    "    model.add(tf.keras.layers.MaxPool2D(pool_size=(2, 2),strides=2))\n",
    "    \n",
    "    # Flatten input\n",
    "    model.add(tf.keras.layers.Flatten())\n",
    "    model.add(tf.keras.layers.Dense(128, activation=\"relu\"))\n",
    "    model.add(tf.keras.layers.Dropout(0.4))\n",
    "    model.add(tf.keras.layers.Dense(128, activation=\"relu\"))\n",
    "    # Output layer\n",
    "    model.add(tf.keras.layers.Dense(4, activation=\"softmax\"))\n",
    "    # Compile model \n",
    "    model.compile(optimizer=\"adam\",\n",
    "                  loss=\"sparse_categorical_crossentropy\",\n",
    "                  metrics=[\"accuracy\"])\n",
    "    \n",
    "    return model\n",
    "\n",
    "def qget_multiclass_model():\n",
    "    \"\"\"\n",
    "        Structure of model classifying 4 classes\n",
    "    \"\"\"\n",
    "    \n",
    "    model = tf.keras.Sequential()\n",
    "    # First convo-pooling\n",
    "    # Convolutional layers (filter the image with a kernel)\n",
    "    model.add(tf.keras.layers.Conv2D(64, (3, 3), strides=1,activation=\"relu\", input_shape=[27, 27, 3]))\n",
    "    # Max-pooling layers (reduce the size of the image by choosing max pixel at certain area)\n",
    "    model.add(tf.keras.layers.MaxPool2D(pool_size=(2, 2), strides=1))\n",
    "    \n",
    "    # Second convo-pooling\n",
    "    # Convolutional layers (filter the image with a kernel)\n",
    "    model.add(tf.keras.layers.Conv2D(64, (3, 3),strides=1, activation=\"relu\"))\n",
    "    # Max-pooling layers (reduce the size of the image by choosing max pixel at certain area)\n",
    "    model.add(tf.keras.layers.MaxPool2D(pool_size=(2, 2),strides=1))\n",
    "    \n",
    "    # Flatten input\n",
    "    model.add(tf.keras.layers.Flatten())\n",
    "    model.add(tf.keras.layers.Dense(256, activation=\"relu\"))\n",
    "    model.add(tf.keras.layers.Dense(128, activation=\"relu\"))\n",
    "    model.add(tf.keras.layers.Dense(32, activation=\"relu\"))\n",
    "    # Output layer\n",
    "    model.add(tf.keras.layers.Dense(4, activation=\"softmax\"))\n",
    "    # Compile model \n",
    "    model.compile(optimizer=\"adam\",\n",
    "                  loss=\"sparse_categorical_crossentropy\",\n",
    "                  metrics=[\"accuracy\"])\n",
    "    \n",
    "    return model"
   ]
  },
  {
   "cell_type": "code",
   "execution_count": 65,
   "metadata": {},
   "outputs": [
    {
     "name": "stdout",
     "output_type": "stream",
     "text": [
      "Model: \"sequential_11\"\n",
      "_________________________________________________________________\n",
      " Layer (type)                Output Shape              Param #   \n",
      "=================================================================\n",
      " conv2d_20 (Conv2D)          (None, 27, 27, 64)        1792      \n",
      "                                                                 \n",
      " max_pooling2d_20 (MaxPoolin  (None, 13, 13, 64)       0         \n",
      " g2D)                                                            \n",
      "                                                                 \n",
      " conv2d_21 (Conv2D)          (None, 13, 13, 64)        36928     \n",
      "                                                                 \n",
      " max_pooling2d_21 (MaxPoolin  (None, 6, 6, 64)         0         \n",
      " g2D)                                                            \n",
      "                                                                 \n",
      " flatten_11 (Flatten)        (None, 2304)              0         \n",
      "                                                                 \n",
      " dense_40 (Dense)            (None, 128)               295040    \n",
      "                                                                 \n",
      " dropout_3 (Dropout)         (None, 128)               0         \n",
      "                                                                 \n",
      " dense_41 (Dense)            (None, 128)               16512     \n",
      "                                                                 \n",
      " dense_42 (Dense)            (None, 4)                 516       \n",
      "                                                                 \n",
      "=================================================================\n",
      "Total params: 350,788\n",
      "Trainable params: 350,788\n",
      "Non-trainable params: 0\n",
      "_________________________________________________________________\n",
      "None\n"
     ]
    }
   ],
   "source": [
    "model4 = get_multiclass_model()\n",
    "print(model4.summary())"
   ]
  },
  {
   "cell_type": "code",
   "execution_count": 66,
   "metadata": {},
   "outputs": [
    {
     "name": "stdout",
     "output_type": "stream",
     "text": [
      "Epoch 1/40\n",
      "WARNING:tensorflow:AutoGraph could not transform <function Model.make_train_function.<locals>.train_function at 0x7fa938129cb0> and will run it as-is.\n",
      "Please report this to the TensorFlow team. When filing the bug, set the verbosity to 10 (on Linux, `export AUTOGRAPH_VERBOSITY=10`) and attach the full output.\n",
      "Cause: 'arguments' object has no attribute 'posonlyargs'\n",
      "To silence this warning, decorate the function with @tf.autograph.experimental.do_not_convert\n",
      "WARNING: AutoGraph could not transform <function Model.make_train_function.<locals>.train_function at 0x7fa938129cb0> and will run it as-is.\n",
      "Please report this to the TensorFlow team. When filing the bug, set the verbosity to 10 (on Linux, `export AUTOGRAPH_VERBOSITY=10`) and attach the full output.\n",
      "Cause: 'arguments' object has no attribute 'posonlyargs'\n",
      "To silence this warning, decorate the function with @tf.autograph.experimental.do_not_convert\n",
      "50/50 [==============================] - ETA: 0s - loss: 5.6453 - accuracy: 0.4097WARNING:tensorflow:AutoGraph could not transform <function Model.make_test_function.<locals>.test_function at 0x7fa9170cb830> and will run it as-is.\n",
      "Please report this to the TensorFlow team. When filing the bug, set the verbosity to 10 (on Linux, `export AUTOGRAPH_VERBOSITY=10`) and attach the full output.\n",
      "Cause: 'arguments' object has no attribute 'posonlyargs'\n",
      "To silence this warning, decorate the function with @tf.autograph.experimental.do_not_convert\n",
      "WARNING: AutoGraph could not transform <function Model.make_test_function.<locals>.test_function at 0x7fa9170cb830> and will run it as-is.\n",
      "Please report this to the TensorFlow team. When filing the bug, set the verbosity to 10 (on Linux, `export AUTOGRAPH_VERBOSITY=10`) and attach the full output.\n",
      "Cause: 'arguments' object has no attribute 'posonlyargs'\n",
      "To silence this warning, decorate the function with @tf.autograph.experimental.do_not_convert\n",
      "50/50 [==============================] - 8s 146ms/step - loss: 5.6453 - accuracy: 0.4097 - val_loss: 1.1008 - val_accuracy: 0.5679\n",
      "Epoch 2/40\n",
      "50/50 [==============================] - 7s 144ms/step - loss: 1.0690 - accuracy: 0.5649 - val_loss: 0.8948 - val_accuracy: 0.6696\n",
      "Epoch 3/40\n",
      "50/50 [==============================] - 8s 154ms/step - loss: 0.9592 - accuracy: 0.6230 - val_loss: 0.7443 - val_accuracy: 0.7183\n",
      "Epoch 4/40\n",
      "50/50 [==============================] - 7s 137ms/step - loss: 0.8765 - accuracy: 0.6565 - val_loss: 0.7389 - val_accuracy: 0.7138\n",
      "Epoch 5/40\n",
      "50/50 [==============================] - 8s 154ms/step - loss: 0.8193 - accuracy: 0.6804 - val_loss: 0.8156 - val_accuracy: 0.6658\n",
      "Epoch 6/40\n",
      "50/50 [==============================] - 7s 132ms/step - loss: 0.8108 - accuracy: 0.6871 - val_loss: 0.7156 - val_accuracy: 0.7227\n",
      "Epoch 7/40\n",
      "50/50 [==============================] - 7s 134ms/step - loss: 0.7982 - accuracy: 0.6835 - val_loss: 0.7054 - val_accuracy: 0.7309\n",
      "Epoch 8/40\n",
      "50/50 [==============================] - 8s 162ms/step - loss: 0.7682 - accuracy: 0.6988 - val_loss: 0.7233 - val_accuracy: 0.7220\n",
      "Epoch 9/40\n",
      "50/50 [==============================] - 11s 219ms/step - loss: 0.7612 - accuracy: 0.7053 - val_loss: 0.7206 - val_accuracy: 0.7220\n",
      "Epoch 10/40\n",
      "50/50 [==============================] - 10s 192ms/step - loss: 0.7410 - accuracy: 0.7086 - val_loss: 0.6838 - val_accuracy: 0.7328\n",
      "Epoch 11/40\n",
      "50/50 [==============================] - 9s 183ms/step - loss: 0.7329 - accuracy: 0.7115 - val_loss: 0.6777 - val_accuracy: 0.7328\n",
      "Epoch 12/40\n",
      "50/50 [==============================] - 7s 131ms/step - loss: 0.7095 - accuracy: 0.7213 - val_loss: 0.6461 - val_accuracy: 0.7385\n",
      "Epoch 13/40\n",
      "50/50 [==============================] - 7s 137ms/step - loss: 0.7021 - accuracy: 0.7232 - val_loss: 0.7424 - val_accuracy: 0.7132\n",
      "Epoch 14/40\n",
      "50/50 [==============================] - 7s 139ms/step - loss: 0.7238 - accuracy: 0.7162 - val_loss: 0.7500 - val_accuracy: 0.7220\n",
      "Epoch 15/40\n",
      "50/50 [==============================] - 8s 162ms/step - loss: 0.6836 - accuracy: 0.7385 - val_loss: 0.6795 - val_accuracy: 0.7353\n",
      "Epoch 16/40\n",
      "50/50 [==============================] - 7s 137ms/step - loss: 0.6804 - accuracy: 0.7350 - val_loss: 0.8387 - val_accuracy: 0.6551\n",
      "Epoch 17/40\n",
      "50/50 [==============================] - 7s 147ms/step - loss: 0.7169 - accuracy: 0.7205 - val_loss: 0.7381 - val_accuracy: 0.6993\n",
      "Epoch 18/40\n",
      "50/50 [==============================] - 7s 131ms/step - loss: 0.6921 - accuracy: 0.7307 - val_loss: 0.7139 - val_accuracy: 0.7176\n",
      "Epoch 19/40\n",
      "50/50 [==============================] - 7s 135ms/step - loss: 0.6560 - accuracy: 0.7502 - val_loss: 0.6673 - val_accuracy: 0.7397\n",
      "Epoch 20/40\n",
      "50/50 [==============================] - 7s 148ms/step - loss: 0.6402 - accuracy: 0.7459 - val_loss: 0.6751 - val_accuracy: 0.7404\n",
      "Epoch 21/40\n",
      "50/50 [==============================] - 6s 120ms/step - loss: 0.6386 - accuracy: 0.7533 - val_loss: 0.6788 - val_accuracy: 0.7391\n",
      "Epoch 22/40\n",
      "50/50 [==============================] - 7s 139ms/step - loss: 0.6499 - accuracy: 0.7478 - val_loss: 0.6839 - val_accuracy: 0.7340\n",
      "Epoch 23/40\n",
      "50/50 [==============================] - 7s 141ms/step - loss: 0.6329 - accuracy: 0.7546 - val_loss: 0.6699 - val_accuracy: 0.7524\n",
      "Epoch 24/40\n",
      "50/50 [==============================] - 7s 146ms/step - loss: 0.6128 - accuracy: 0.7615 - val_loss: 0.6808 - val_accuracy: 0.7429\n",
      "Epoch 25/40\n",
      "50/50 [==============================] - 7s 133ms/step - loss: 0.6433 - accuracy: 0.7511 - val_loss: 0.6997 - val_accuracy: 0.7385\n",
      "Epoch 26/40\n",
      "50/50 [==============================] - 7s 149ms/step - loss: 0.6013 - accuracy: 0.7727 - val_loss: 0.6677 - val_accuracy: 0.7492\n",
      "Epoch 27/40\n",
      "50/50 [==============================] - 6s 112ms/step - loss: 0.5956 - accuracy: 0.7732 - val_loss: 0.6857 - val_accuracy: 0.7391\n",
      "Epoch 28/40\n",
      "50/50 [==============================] - 6s 118ms/step - loss: 0.6073 - accuracy: 0.7650 - val_loss: 0.6500 - val_accuracy: 0.7492\n",
      "Epoch 29/40\n",
      "50/50 [==============================] - 7s 141ms/step - loss: 0.5736 - accuracy: 0.7767 - val_loss: 0.6668 - val_accuracy: 0.7549\n",
      "Epoch 30/40\n",
      "50/50 [==============================] - 7s 131ms/step - loss: 0.5788 - accuracy: 0.7757 - val_loss: 0.6580 - val_accuracy: 0.7486\n",
      "Epoch 31/40\n",
      "50/50 [==============================] - 7s 137ms/step - loss: 0.5540 - accuracy: 0.7851 - val_loss: 0.6720 - val_accuracy: 0.7378\n",
      "Epoch 32/40\n",
      "50/50 [==============================] - 7s 136ms/step - loss: 0.5553 - accuracy: 0.7830 - val_loss: 0.6464 - val_accuracy: 0.7568\n",
      "Epoch 33/40\n",
      "50/50 [==============================] - 7s 143ms/step - loss: 0.5694 - accuracy: 0.7800 - val_loss: 0.6890 - val_accuracy: 0.7442\n",
      "Epoch 34/40\n",
      "50/50 [==============================] - 7s 144ms/step - loss: 0.5343 - accuracy: 0.7975 - val_loss: 0.6807 - val_accuracy: 0.7536\n",
      "Epoch 35/40\n",
      "50/50 [==============================] - 7s 138ms/step - loss: 0.5323 - accuracy: 0.7999 - val_loss: 0.6619 - val_accuracy: 0.7555\n",
      "Epoch 36/40\n",
      "50/50 [==============================] - 7s 131ms/step - loss: 0.5304 - accuracy: 0.7986 - val_loss: 0.7782 - val_accuracy: 0.7126\n",
      "Epoch 37/40\n",
      "50/50 [==============================] - 7s 139ms/step - loss: 0.5228 - accuracy: 0.7991 - val_loss: 0.6988 - val_accuracy: 0.7517\n",
      "Epoch 38/40\n",
      "50/50 [==============================] - 7s 137ms/step - loss: 0.4946 - accuracy: 0.8062 - val_loss: 0.6921 - val_accuracy: 0.7461\n",
      "Epoch 39/40\n",
      "50/50 [==============================] - 7s 133ms/step - loss: 0.4773 - accuracy: 0.8168 - val_loss: 0.7003 - val_accuracy: 0.7498\n",
      "Epoch 40/40\n",
      "50/50 [==============================] - 7s 137ms/step - loss: 0.4917 - accuracy: 0.8113 - val_loss: 0.7259 - val_accuracy: 0.7410\n"
     ]
    }
   ],
   "source": [
    "hist4 = model4.fit(train4_x, train4_y, validation_data=(val4_x, val4_y), epochs=40, batch_size=128)"
   ]
  },
  {
   "cell_type": "code",
   "execution_count": 67,
   "metadata": {},
   "outputs": [
    {
     "data": {
      "image/png": "[encoded data removed]",
      "text/plain": [
       "<Figure size 720x360 with 2 Axes>"
      ]
     },
     "metadata": {
      "needs_background": "light"
     },
     "output_type": "display_data"
    }
   ],
   "source": [
    "plot_learning_curve(hist4)"
   ]
  },
  {
   "cell_type": "code",
   "execution_count": 68,
   "metadata": {},
   "outputs": [],
   "source": [
    "model4.save_weights(\"results/model4(72-74).h5\")"
   ]
  },
  {
   "cell_type": "code",
   "execution_count": null,
   "metadata": {},
   "outputs": [],
   "source": []
  },
  {
   "cell_type": "markdown",
   "metadata": {},
   "source": [
    "# The meta-model"
   ]
  },
  {
   "cell_type": "code",
   "execution_count": 81,
   "metadata": {},
   "outputs": [],
   "source": [
    "def get_meta_model():\n",
    "    model = tf.keras.Sequential()\n",
    "    # Flatten input\n",
    "    model.add(tf.keras.layers.Flatten())\n",
    "    # Hidden layers\n",
    "    model.add(tf.keras.layers.Dense(1024, activation=\"relu\"))\n",
    "    model.add(tf.keras.layers.Dropout(0.5))\n",
    "\n",
    "    model.add(tf.keras.layers.Dense(1024, activation=\"relu\"))\n",
    "    model.add(tf.keras.layers.Dropout(0.5))\n",
    "    model.add(tf.keras.layers.Dense(64, activation=\"relu\"))\n",
    "    model.add(tf.keras.layers.Dense(4, activation=\"softmax\"))\n",
    "    # Compile model\n",
    "    model.compile(optimizer=\"adam\",\n",
    "                  loss=\"sparse_categorical_crossentropy\",\n",
    "                  metrics=[\"accuracy\"])\n",
    "    return model"
   ]
  },
  {
   "cell_type": "code",
   "execution_count": 73,
   "metadata": {},
   "outputs": [
    {
     "name": "stdout",
     "output_type": "stream",
     "text": [
      "Train dataset = pred3 + pred4:  (6332, 7)\n",
      "Val dataset = pred3 + pred4:  (1583, 7)\n"
     ]
    }
   ],
   "source": [
    "pred3 = model3.predict(train4_x)\n",
    "pred4 = model4.predict(train4_x)\n",
    "train_34 =np.concatenate((pred3, pred4), axis=1)\n",
    "print(\"Train dataset = pred3 + pred4: \", train_34.shape)\n",
    "\n",
    "pred3 = model3.predict(val4_x)\n",
    "pred4 = model4.predict(val4_x)\n",
    "val_34 =np.concatenate((pred3, pred4), axis=1)\n",
    "print(\"Val dataset = pred3 + pred4: \", val_34.shape)"
   ]
  },
  {
   "cell_type": "code",
   "execution_count": 82,
   "metadata": {},
   "outputs": [
    {
     "name": "stdout",
     "output_type": "stream",
     "text": [
      "Epoch 1/50\n",
      "WARNING:tensorflow:AutoGraph could not transform <function Model.make_train_function.<locals>.train_function at 0x7fa9183bc950> and will run it as-is.\n",
      "Please report this to the TensorFlow team. When filing the bug, set the verbosity to 10 (on Linux, `export AUTOGRAPH_VERBOSITY=10`) and attach the full output.\n",
      "Cause: 'arguments' object has no attribute 'posonlyargs'\n",
      "To silence this warning, decorate the function with @tf.autograph.experimental.do_not_convert\n",
      "WARNING: AutoGraph could not transform <function Model.make_train_function.<locals>.train_function at 0x7fa9183bc950> and will run it as-is.\n",
      "Please report this to the TensorFlow team. When filing the bug, set the verbosity to 10 (on Linux, `export AUTOGRAPH_VERBOSITY=10`) and attach the full output.\n",
      "Cause: 'arguments' object has no attribute 'posonlyargs'\n",
      "To silence this warning, decorate the function with @tf.autograph.experimental.do_not_convert\n",
      "194/198 [============================>.] - ETA: 0s - loss: 0.4398 - accuracy: 0.8557WARNING:tensorflow:AutoGraph could not transform <function Model.make_test_function.<locals>.test_function at 0x7fa9376277a0> and will run it as-is.\n",
      "Please report this to the TensorFlow team. When filing the bug, set the verbosity to 10 (on Linux, `export AUTOGRAPH_VERBOSITY=10`) and attach the full output.\n",
      "Cause: 'arguments' object has no attribute 'posonlyargs'\n",
      "To silence this warning, decorate the function with @tf.autograph.experimental.do_not_convert\n",
      "WARNING: AutoGraph could not transform <function Model.make_test_function.<locals>.test_function at 0x7fa9376277a0> and will run it as-is.\n",
      "Please report this to the TensorFlow team. When filing the bug, set the verbosity to 10 (on Linux, `export AUTOGRAPH_VERBOSITY=10`) and attach the full output.\n",
      "Cause: 'arguments' object has no attribute 'posonlyargs'\n",
      "To silence this warning, decorate the function with @tf.autograph.experimental.do_not_convert\n",
      "198/198 [==============================] - 3s 11ms/step - loss: 0.4397 - accuracy: 0.8552 - val_loss: 0.7744 - val_accuracy: 0.7581\n",
      "Epoch 2/50\n",
      "198/198 [==============================] - 2s 11ms/step - loss: 0.3836 - accuracy: 0.8697 - val_loss: 0.7621 - val_accuracy: 0.7536\n",
      "Epoch 3/50\n",
      "198/198 [==============================] - 2s 10ms/step - loss: 0.3792 - accuracy: 0.8686 - val_loss: 0.7770 - val_accuracy: 0.7435\n",
      "Epoch 4/50\n",
      "198/198 [==============================] - 2s 10ms/step - loss: 0.3719 - accuracy: 0.8696 - val_loss: 0.7119 - val_accuracy: 0.7599\n",
      "Epoch 5/50\n",
      "198/198 [==============================] - 2s 11ms/step - loss: 0.3696 - accuracy: 0.8713 - val_loss: 0.7490 - val_accuracy: 0.7467\n",
      "Epoch 6/50\n",
      "198/198 [==============================] - 3s 14ms/step - loss: 0.3665 - accuracy: 0.8718 - val_loss: 0.7959 - val_accuracy: 0.7517\n",
      "Epoch 7/50\n",
      "198/198 [==============================] - 2s 11ms/step - loss: 0.3655 - accuracy: 0.8708 - val_loss: 0.7571 - val_accuracy: 0.7587\n",
      "Epoch 8/50\n",
      "198/198 [==============================] - 2s 11ms/step - loss: 0.3618 - accuracy: 0.8732 - val_loss: 0.8066 - val_accuracy: 0.7467\n",
      "Epoch 9/50\n",
      "198/198 [==============================] - 2s 11ms/step - loss: 0.3606 - accuracy: 0.8705 - val_loss: 0.7924 - val_accuracy: 0.7549\n",
      "Epoch 10/50\n",
      "198/198 [==============================] - 2s 10ms/step - loss: 0.3592 - accuracy: 0.8713 - val_loss: 0.7518 - val_accuracy: 0.7587\n",
      "Epoch 11/50\n",
      "198/198 [==============================] - 2s 10ms/step - loss: 0.3577 - accuracy: 0.8688 - val_loss: 0.7953 - val_accuracy: 0.7530\n",
      "Epoch 12/50\n",
      "198/198 [==============================] - 2s 10ms/step - loss: 0.3567 - accuracy: 0.8716 - val_loss: 0.7569 - val_accuracy: 0.7467\n",
      "Epoch 13/50\n",
      "198/198 [==============================] - 2s 10ms/step - loss: 0.3589 - accuracy: 0.8703 - val_loss: 0.7450 - val_accuracy: 0.7505\n",
      "Epoch 14/50\n",
      "198/198 [==============================] - 2s 12ms/step - loss: 0.3551 - accuracy: 0.8729 - val_loss: 0.7679 - val_accuracy: 0.7555\n",
      "Epoch 15/50\n",
      "198/198 [==============================] - 2s 10ms/step - loss: 0.3527 - accuracy: 0.8735 - val_loss: 0.8060 - val_accuracy: 0.7517\n",
      "Epoch 16/50\n",
      "198/198 [==============================] - 2s 10ms/step - loss: 0.3524 - accuracy: 0.8741 - val_loss: 0.7841 - val_accuracy: 0.7492\n",
      "Epoch 17/50\n",
      "198/198 [==============================] - 2s 10ms/step - loss: 0.3556 - accuracy: 0.8703 - val_loss: 0.7691 - val_accuracy: 0.7562\n",
      "Epoch 18/50\n",
      "198/198 [==============================] - 2s 10ms/step - loss: 0.3528 - accuracy: 0.8718 - val_loss: 0.8299 - val_accuracy: 0.7486\n",
      "Epoch 19/50\n",
      "198/198 [==============================] - 2s 11ms/step - loss: 0.3517 - accuracy: 0.8754 - val_loss: 0.7582 - val_accuracy: 0.7536\n",
      "Epoch 20/50\n",
      "198/198 [==============================] - 2s 10ms/step - loss: 0.3494 - accuracy: 0.8746 - val_loss: 0.7966 - val_accuracy: 0.7511\n",
      "Epoch 21/50\n",
      "198/198 [==============================] - 2s 10ms/step - loss: 0.3504 - accuracy: 0.8756 - val_loss: 0.8317 - val_accuracy: 0.7467\n",
      "Epoch 22/50\n",
      "198/198 [==============================] - 2s 10ms/step - loss: 0.3501 - accuracy: 0.8765 - val_loss: 0.7985 - val_accuracy: 0.7322\n",
      "Epoch 23/50\n",
      "198/198 [==============================] - 2s 10ms/step - loss: 0.3519 - accuracy: 0.8721 - val_loss: 0.8115 - val_accuracy: 0.7574\n",
      "Epoch 24/50\n",
      "198/198 [==============================] - 2s 10ms/step - loss: 0.3487 - accuracy: 0.8743 - val_loss: 0.8085 - val_accuracy: 0.7461\n",
      "Epoch 25/50\n",
      "198/198 [==============================] - 2s 11ms/step - loss: 0.3485 - accuracy: 0.8732 - val_loss: 0.8447 - val_accuracy: 0.7435\n",
      "Epoch 26/50\n",
      "198/198 [==============================] - 2s 10ms/step - loss: 0.3508 - accuracy: 0.8735 - val_loss: 0.8078 - val_accuracy: 0.7517\n",
      "Epoch 27/50\n",
      "198/198 [==============================] - 2s 10ms/step - loss: 0.3433 - accuracy: 0.8770 - val_loss: 0.8637 - val_accuracy: 0.7568\n",
      "Epoch 28/50\n",
      "198/198 [==============================] - 2s 11ms/step - loss: 0.3439 - accuracy: 0.8770 - val_loss: 0.7743 - val_accuracy: 0.7574\n",
      "Epoch 29/50\n",
      "198/198 [==============================] - 2s 11ms/step - loss: 0.3463 - accuracy: 0.8733 - val_loss: 0.8182 - val_accuracy: 0.7524\n",
      "Epoch 30/50\n",
      "198/198 [==============================] - 3s 13ms/step - loss: 0.3429 - accuracy: 0.8746 - val_loss: 0.8047 - val_accuracy: 0.7543\n",
      "Epoch 31/50\n",
      "198/198 [==============================] - 2s 10ms/step - loss: 0.3474 - accuracy: 0.8733 - val_loss: 0.8017 - val_accuracy: 0.7543\n",
      "Epoch 32/50\n",
      "198/198 [==============================] - 2s 10ms/step - loss: 0.3463 - accuracy: 0.8733 - val_loss: 0.7806 - val_accuracy: 0.7511\n",
      "Epoch 33/50\n",
      "198/198 [==============================] - 2s 10ms/step - loss: 0.3446 - accuracy: 0.8744 - val_loss: 0.8081 - val_accuracy: 0.7448\n",
      "Epoch 34/50\n",
      "198/198 [==============================] - 3s 13ms/step - loss: 0.3443 - accuracy: 0.8730 - val_loss: 0.8150 - val_accuracy: 0.7581\n",
      "Epoch 35/50\n",
      "198/198 [==============================] - 2s 12ms/step - loss: 0.3443 - accuracy: 0.8727 - val_loss: 0.8384 - val_accuracy: 0.7543\n",
      "Epoch 36/50\n",
      "198/198 [==============================] - 2s 10ms/step - loss: 0.3430 - accuracy: 0.8730 - val_loss: 0.8385 - val_accuracy: 0.7467\n",
      "Epoch 37/50\n",
      "198/198 [==============================] - 2s 10ms/step - loss: 0.3427 - accuracy: 0.8786 - val_loss: 0.8421 - val_accuracy: 0.7562\n",
      "Epoch 38/50\n",
      "198/198 [==============================] - 2s 10ms/step - loss: 0.3382 - accuracy: 0.8759 - val_loss: 0.8134 - val_accuracy: 0.7517\n",
      "Epoch 39/50\n",
      "198/198 [==============================] - 2s 11ms/step - loss: 0.3424 - accuracy: 0.8735 - val_loss: 0.8269 - val_accuracy: 0.7486\n",
      "Epoch 40/50\n",
      "198/198 [==============================] - 2s 10ms/step - loss: 0.3391 - accuracy: 0.8763 - val_loss: 0.8659 - val_accuracy: 0.7517\n",
      "Epoch 41/50\n",
      "198/198 [==============================] - 2s 11ms/step - loss: 0.3459 - accuracy: 0.8730 - val_loss: 0.8220 - val_accuracy: 0.7555\n",
      "Epoch 42/50\n",
      "198/198 [==============================] - 2s 11ms/step - loss: 0.3385 - accuracy: 0.8771 - val_loss: 0.7889 - val_accuracy: 0.7492\n",
      "Epoch 43/50\n",
      "198/198 [==============================] - 2s 11ms/step - loss: 0.3397 - accuracy: 0.8754 - val_loss: 0.8065 - val_accuracy: 0.7555\n",
      "Epoch 44/50\n",
      "198/198 [==============================] - 2s 11ms/step - loss: 0.3374 - accuracy: 0.8757 - val_loss: 0.8687 - val_accuracy: 0.7524\n",
      "Epoch 45/50\n",
      "198/198 [==============================] - 2s 10ms/step - loss: 0.3395 - accuracy: 0.8763 - val_loss: 0.8323 - val_accuracy: 0.7536\n",
      "Epoch 46/50\n",
      "198/198 [==============================] - 2s 10ms/step - loss: 0.3398 - accuracy: 0.8751 - val_loss: 0.8338 - val_accuracy: 0.7467\n",
      "Epoch 47/50\n",
      "198/198 [==============================] - 2s 10ms/step - loss: 0.3394 - accuracy: 0.8763 - val_loss: 0.8540 - val_accuracy: 0.7543\n",
      "Epoch 48/50\n",
      "198/198 [==============================] - 2s 10ms/step - loss: 0.3399 - accuracy: 0.8765 - val_loss: 0.8202 - val_accuracy: 0.7543\n",
      "Epoch 49/50\n",
      "198/198 [==============================] - 2s 11ms/step - loss: 0.3345 - accuracy: 0.8751 - val_loss: 0.8438 - val_accuracy: 0.7498\n",
      "Epoch 50/50\n",
      "198/198 [==============================] - 2s 10ms/step - loss: 0.3350 - accuracy: 0.8762 - val_loss: 0.8618 - val_accuracy: 0.7524\n"
     ]
    },
    {
     "data": {
      "text/plain": [
       "<keras.callbacks.History at 0x7fa938128110>"
      ]
     },
     "execution_count": 82,
     "metadata": {},
     "output_type": "execute_result"
    }
   ],
   "source": [
    "meta_model = get_meta_model()\n",
    "meta_model.fit(train_34, train4_y, validation_data=(val_34, val4_y), epochs=50, batch_size=32)"
   ]
  },
  {
   "cell_type": "markdown",
   "metadata": {},
   "source": [
    "## Quing's exact methods"
   ]
  },
  {
   "cell_type": "code",
   "execution_count": 114,
   "metadata": {},
   "outputs": [],
   "source": [
    "def qget_transfer_model():\n",
    "    model = tf.keras.Sequential()\n",
    "    # Flatten input\n",
    "    model.add(tf.keras.layers.Flatten())\n",
    "    # Hidden layers\n",
    "    model.add(tf.keras.layers.Dense(256, activation=\"relu\"))\n",
    "    model.add(tf.keras.layers.Dense(128, activation=\"softmax\"))\n",
    "    model.add(tf.keras.layers.Dense(32, activation=\"relu\"))\n",
    "    model.add(tf.keras.layers.Dense(3, activation=\"sigmoid\"))\n",
    "    # Output layer\n",
    "    model.add(tf.keras.layers.Dense(4, activation=\"softmax\"))\n",
    "    # Compile model\n",
    "    model.compile(optimizer=\"adam\",\n",
    "                  loss=\"sparse_categorical_crossentropy\",\n",
    "                  metrics=[\"accuracy\"])\n",
    "    return model"
   ]
  },
  {
   "cell_type": "code",
   "execution_count": 112,
   "metadata": {},
   "outputs": [],
   "source": [
    "qmodel3 = qget_subclass_model()\n",
    "qmodel3.load_weights(\"results/subclass.h5\")\n",
    "qmodel4 = qget_multiclass_model()\n",
    "qmodel4.load_weights(\"results/allclass.h5\")"
   ]
  },
  {
   "cell_type": "markdown",
   "metadata": {},
   "source": [
    "# Evaluation"
   ]
  },
  {
   "cell_type": "code",
   "execution_count": 5,
   "metadata": {},
   "outputs": [],
   "source": [
    "from sklearn.metrics import classification_report\n",
    "import numpy as np\n",
    "def multiclass_classification_report(y_test, prediction):\n",
    "    \"\"\"\n",
    "        Method to generate sklearn classification report with CNN multiclass output\n",
    "    \"\"\"\n",
    "    \n",
    "    encoded_pred = list()\n",
    "    # convert each CNN output (sparse categorial) to class\n",
    "    for pred in prediction:\n",
    "        encoded_pred.append(np.argmax(pred))\n",
    "\n",
    "    encoded_pred = np.array(encoded_pred)\n",
    "    print(classification_report(y_test, encoded_pred))"
   ]
  },
  {
   "cell_type": "code",
   "execution_count": 136,
   "metadata": {},
   "outputs": [],
   "source": [
    "df_test, df_test_label = load_data([\"epithelial\", \"fibroblast\", \"inflammatory\", \"others\"],root=\"Image_classification_data/split_multi-task/val\")\n",
    "coder.fit([\"epithelial\", \"fibroblast\", \"inflammatory\", \"others\"])\n",
    "test_y = coder.transform(df_test_label)\n",
    "test_x = np.array(df_test)"
   ]
  },
  {
   "cell_type": "code",
   "execution_count": 140,
   "metadata": {},
   "outputs": [
    {
     "name": "stdout",
     "output_type": "stream",
     "text": [
      "No data in class 0 in data 816\n",
      "No data in class 1 in data 378\n",
      "No data in class 2 in data 509\n",
      "No data in class 3 in data 278\n"
     ]
    }
   ],
   "source": [
    "for i in range(4):\n",
    "    print(f\"No data in class {i} in data\", (np.array(test_y)==i).sum())"
   ]
  },
  {
   "cell_type": "markdown",
   "metadata": {},
   "source": [
    "## Nil Evaluation"
   ]
  },
  {
   "cell_type": "code",
   "execution_count": 137,
   "metadata": {},
   "outputs": [
    {
     "name": "stdout",
     "output_type": "stream",
     "text": [
      "Test dataset = pred3 + pred4:  (1981, 7)\n"
     ]
    }
   ],
   "source": [
    "pred3 = model3.predict(test_x)\n",
    "pred4 = model4.predict(test_x)\n",
    "test_34 =np.concatenate((pred3, pred4), axis=1)\n",
    "print(\"Test dataset = pred3 + pred4: \", test_34.shape)\n"
   ]
  },
  {
   "cell_type": "code",
   "execution_count": 125,
   "metadata": {},
   "outputs": [
    {
     "name": "stdout",
     "output_type": "stream",
     "text": [
      "Evaluate Single CNN model for 4 classes: \n",
      "              precision    recall  f1-score   support\n",
      "\n",
      "           0       0.84      0.93      0.88       816\n",
      "           1       0.71      0.62      0.66       378\n",
      "           2       0.69      0.74      0.71       509\n",
      "           3       0.54      0.39      0.45       278\n",
      "\n",
      "    accuracy                           0.75      1981\n",
      "   macro avg       0.69      0.67      0.68      1981\n",
      "weighted avg       0.73      0.75      0.74      1981\n",
      "\n"
     ]
    }
   ],
   "source": [
    "print(\"Evaluate Single CNN model for 4 classes: \")\n",
    "multiclass_classification_report(test_y, pred4)"
   ]
  },
  {
   "cell_type": "code",
   "execution_count": 86,
   "metadata": {},
   "outputs": [
    {
     "name": "stdout",
     "output_type": "stream",
     "text": [
      "WARNING:tensorflow:AutoGraph could not transform <function Model.make_predict_function.<locals>.predict_function at 0x7fa949e4f170> and will run it as-is.\n",
      "Please report this to the TensorFlow team. When filing the bug, set the verbosity to 10 (on Linux, `export AUTOGRAPH_VERBOSITY=10`) and attach the full output.\n",
      "Cause: 'arguments' object has no attribute 'posonlyargs'\n",
      "To silence this warning, decorate the function with @tf.autograph.experimental.do_not_convert\n",
      "WARNING: AutoGraph could not transform <function Model.make_predict_function.<locals>.predict_function at 0x7fa949e4f170> and will run it as-is.\n",
      "Please report this to the TensorFlow team. When filing the bug, set the verbosity to 10 (on Linux, `export AUTOGRAPH_VERBOSITY=10`) and attach the full output.\n",
      "Cause: 'arguments' object has no attribute 'posonlyargs'\n",
      "To silence this warning, decorate the function with @tf.autograph.experimental.do_not_convert\n",
      "              precision    recall  f1-score   support\n",
      "\n",
      "           0       0.87      0.90      0.88       816\n",
      "           1       0.70      0.65      0.68       378\n",
      "           2       0.70      0.76      0.73       509\n",
      "           3       0.50      0.43      0.46       278\n",
      "\n",
      "    accuracy                           0.75      1981\n",
      "   macro avg       0.69      0.68      0.69      1981\n",
      "weighted avg       0.74      0.75      0.74      1981\n",
      "\n"
     ]
    }
   ],
   "source": [
    "pred_test = meta_model.predict(test_34)\n",
    "multiclass_classification_report(test_y, pred_test)"
   ]
  },
  {
   "cell_type": "markdown",
   "metadata": {},
   "source": [
    "## Quing Evaluation"
   ]
  },
  {
   "cell_type": "code",
   "execution_count": 141,
   "metadata": {},
   "outputs": [],
   "source": [
    "def celltype_classify_data(class_list):    \n",
    "    images = list()\n",
    "    labels = list()\n",
    "    root = \"Image_classification_data\"\n",
    "    for i, label in enumerate(class_list):\n",
    "        # get image directory\n",
    "        img_dir = os.path.join(\"Image_classification_data/split_multi-task/val\", f\"{label}\")\n",
    "        \n",
    "        for img in os.listdir(img_dir):\n",
    "            img = cv2.imread(os.path.join(img_dir, img))\n",
    "            # resize to 0-1 for faster computation\n",
    "            resized = img / 255\n",
    "            images.append(resized)\n",
    "            labels.append(i)\n",
    "        \n",
    "    return (images, labels)"
   ]
  },
  {
   "cell_type": "code",
   "execution_count": 142,
   "metadata": {},
   "outputs": [],
   "source": [
    "test_xx, test_yy = celltype_classify_data([\"epithelial\",\"inflammatory\",\"fibroblast\",\"others\"])\n"
   ]
  },
  {
   "cell_type": "code",
   "execution_count": 145,
   "metadata": {},
   "outputs": [],
   "source": [
    "qpred3 = qmodel3.predict(np.array(test_xx))\n",
    "qpred4 = qmodel4.predict(np.array(test_xx))\n",
    "\n",
    "qtest_34 =np.concatenate((qpred3, qpred4), axis=1)\n"
   ]
  },
  {
   "cell_type": "code",
   "execution_count": 146,
   "metadata": {},
   "outputs": [
    {
     "name": "stdout",
     "output_type": "stream",
     "text": [
      "              precision    recall  f1-score   support\n",
      "\n",
      "           0       0.93      0.89      0.91       816\n",
      "           1       0.03      0.03      0.03       378\n",
      "           2       0.27      0.29      0.28       509\n",
      "           3       0.66      0.72      0.69       278\n",
      "\n",
      "    accuracy                           0.55      1981\n",
      "   macro avg       0.47      0.48      0.48      1981\n",
      "weighted avg       0.55      0.55      0.55      1981\n",
      "\n"
     ]
    }
   ],
   "source": [
    "multiclass_classification_report(test_y, qpred4)"
   ]
  },
  {
   "cell_type": "code",
   "execution_count": 147,
   "metadata": {},
   "outputs": [],
   "source": [
    "qmeta_model = qget_transfer_model()\n",
    "qmeta_model.build(input_shape = qtest_34.shape)\n",
    "qmeta_model.load_weights(\"results/meta_learner.h5\")"
   ]
  },
  {
   "cell_type": "code",
   "execution_count": 148,
   "metadata": {},
   "outputs": [
    {
     "name": "stdout",
     "output_type": "stream",
     "text": [
      "WARNING:tensorflow:AutoGraph could not transform <function Model.make_predict_function.<locals>.predict_function at 0x7fa94a154d40> and will run it as-is.\n",
      "Please report this to the TensorFlow team. When filing the bug, set the verbosity to 10 (on Linux, `export AUTOGRAPH_VERBOSITY=10`) and attach the full output.\n",
      "Cause: 'arguments' object has no attribute 'posonlyargs'\n",
      "To silence this warning, decorate the function with @tf.autograph.experimental.do_not_convert\n",
      "WARNING: AutoGraph could not transform <function Model.make_predict_function.<locals>.predict_function at 0x7fa94a154d40> and will run it as-is.\n",
      "Please report this to the TensorFlow team. When filing the bug, set the verbosity to 10 (on Linux, `export AUTOGRAPH_VERBOSITY=10`) and attach the full output.\n",
      "Cause: 'arguments' object has no attribute 'posonlyargs'\n",
      "To silence this warning, decorate the function with @tf.autograph.experimental.do_not_convert\n",
      "              precision    recall  f1-score   support\n",
      "\n",
      "           0       0.94      0.97      0.96       816\n",
      "           1       0.02      0.02      0.02       378\n",
      "           2       0.25      0.26      0.25       509\n",
      "           3       0.80      0.65      0.72       278\n",
      "\n",
      "    accuracy                           0.56      1981\n",
      "   macro avg       0.50      0.48      0.49      1981\n",
      "weighted avg       0.57      0.56      0.56      1981\n",
      "\n"
     ]
    }
   ],
   "source": [
    "qpred_test = qmeta_model.predict(qtest_34)\n",
    "multiclass_classification_report(test_y, qpred_test)"
   ]
  },
  {
   "cell_type": "markdown",
   "metadata": {},
   "source": [
    "# Pseudo-labeling"
   ]
  },
  {
   "cell_type": "code",
   "execution_count": 87,
   "metadata": {},
   "outputs": [
    {
     "data": {
      "text/html": [
       "<div>\n",
       "<style scoped>\n",
       "    .dataframe tbody tr th:only-of-type {\n",
       "        vertical-align: middle;\n",
       "    }\n",
       "\n",
       "    .dataframe tbody tr th {\n",
       "        vertical-align: top;\n",
       "    }\n",
       "\n",
       "    .dataframe thead th {\n",
       "        text-align: right;\n",
       "    }\n",
       "</style>\n",
       "<table border=\"1\" class=\"dataframe\">\n",
       "  <thead>\n",
       "    <tr style=\"text-align: right;\">\n",
       "      <th></th>\n",
       "      <th>InstanceID</th>\n",
       "      <th>patientID</th>\n",
       "      <th>ImageName</th>\n",
       "      <th>isCancerous</th>\n",
       "    </tr>\n",
       "  </thead>\n",
       "  <tbody>\n",
       "    <tr>\n",
       "      <th>0</th>\n",
       "      <td>12681</td>\n",
       "      <td>61</td>\n",
       "      <td>12681.png</td>\n",
       "      <td>0</td>\n",
       "    </tr>\n",
       "    <tr>\n",
       "      <th>1</th>\n",
       "      <td>12682</td>\n",
       "      <td>61</td>\n",
       "      <td>12682.png</td>\n",
       "      <td>0</td>\n",
       "    </tr>\n",
       "    <tr>\n",
       "      <th>2</th>\n",
       "      <td>12683</td>\n",
       "      <td>61</td>\n",
       "      <td>12683.png</td>\n",
       "      <td>0</td>\n",
       "    </tr>\n",
       "    <tr>\n",
       "      <th>3</th>\n",
       "      <td>12684</td>\n",
       "      <td>61</td>\n",
       "      <td>12684.png</td>\n",
       "      <td>0</td>\n",
       "    </tr>\n",
       "    <tr>\n",
       "      <th>4</th>\n",
       "      <td>12685</td>\n",
       "      <td>61</td>\n",
       "      <td>12685.png</td>\n",
       "      <td>0</td>\n",
       "    </tr>\n",
       "  </tbody>\n",
       "</table>\n",
       "</div>"
      ],
      "text/plain": [
       "   InstanceID  patientID  ImageName  isCancerous\n",
       "0       12681         61  12681.png            0\n",
       "1       12682         61  12682.png            0\n",
       "2       12683         61  12683.png            0\n",
       "3       12684         61  12684.png            0\n",
       "4       12685         61  12685.png            0"
      ]
     },
     "execution_count": 87,
     "metadata": {},
     "output_type": "execute_result"
    }
   ],
   "source": [
    "import pandas as pd\n",
    "extra_df = pd.read_csv(\"Image_classification_data/data_labels_extraData.csv\")\n",
    "extra_df.head()"
   ]
  },
  {
   "cell_type": "code",
   "execution_count": 91,
   "metadata": {},
   "outputs": [
    {
     "name": "stdout",
     "output_type": "stream",
     "text": [
      "<class 'pandas.core.frame.DataFrame'>\n",
      "RangeIndex: 10384 entries, 0 to 10383\n",
      "Data columns (total 4 columns):\n",
      " #   Column       Non-Null Count  Dtype \n",
      "---  ------       --------------  ----- \n",
      " 0   InstanceID   10384 non-null  int64 \n",
      " 1   patientID    10384 non-null  int64 \n",
      " 2   ImageName    10384 non-null  object\n",
      " 3   isCancerous  10384 non-null  int64 \n",
      "dtypes: int64(3), object(1)\n",
      "memory usage: 324.6+ KB\n"
     ]
    }
   ],
   "source": [
    "extra_df.info()"
   ]
  },
  {
   "cell_type": "code",
   "execution_count": 94,
   "metadata": {},
   "outputs": [
    {
     "data": {
      "text/plain": [
       "0    7394\n",
       "1    2990\n",
       "Name: isCancerous, dtype: int64"
      ]
     },
     "execution_count": 94,
     "metadata": {},
     "output_type": "execute_result"
    }
   ],
   "source": [
    "extra_df.isCancerous.value_counts()"
   ]
  },
  {
   "cell_type": "code",
   "execution_count": 109,
   "metadata": {},
   "outputs": [
    {
     "name": "stdout",
     "output_type": "stream",
     "text": [
      "Found 10384 validated image filenames.\n",
      "(32, 27, 27, 3)\n",
      "(32, 27, 27, 3)\n",
      "(32, 27, 27, 3)\n",
      "(32, 27, 27, 3)\n",
      "(32, 27, 27, 3)\n",
      "(32, 27, 27, 3)\n",
      "(32, 27, 27, 3)\n",
      "(32, 27, 27, 3)\n",
      "(32, 27, 27, 3)\n",
      "(32, 27, 27, 3)\n",
      "(32, 27, 27, 3)\n",
      "(32, 27, 27, 3)\n",
      "(32, 27, 27, 3)\n",
      "(32, 27, 27, 3)\n",
      "(32, 27, 27, 3)\n",
      "(32, 27, 27, 3)\n",
      "(32, 27, 27, 3)\n",
      "(32, 27, 27, 3)\n",
      "(32, 27, 27, 3)\n",
      "(32, 27, 27, 3)\n",
      "(32, 27, 27, 3)\n",
      "(32, 27, 27, 3)\n",
      "(32, 27, 27, 3)\n",
      "(32, 27, 27, 3)\n",
      "(32, 27, 27, 3)\n",
      "(32, 27, 27, 3)\n",
      "(32, 27, 27, 3)\n",
      "(32, 27, 27, 3)\n",
      "(32, 27, 27, 3)\n",
      "(32, 27, 27, 3)\n",
      "(32, 27, 27, 3)\n",
      "(32, 27, 27, 3)\n",
      "(32, 27, 27, 3)\n",
      "(32, 27, 27, 3)\n",
      "(32, 27, 27, 3)\n",
      "(32, 27, 27, 3)\n",
      "(32, 27, 27, 3)\n",
      "(32, 27, 27, 3)\n",
      "(32, 27, 27, 3)\n",
      "(32, 27, 27, 3)\n",
      "(32, 27, 27, 3)\n",
      "(32, 27, 27, 3)\n",
      "(32, 27, 27, 3)\n",
      "(32, 27, 27, 3)\n",
      "(32, 27, 27, 3)\n",
      "(32, 27, 27, 3)\n",
      "(32, 27, 27, 3)\n",
      "(32, 27, 27, 3)\n",
      "(32, 27, 27, 3)\n",
      "(32, 27, 27, 3)\n",
      "(32, 27, 27, 3)\n",
      "(32, 27, 27, 3)\n",
      "(32, 27, 27, 3)\n",
      "(32, 27, 27, 3)\n",
      "(32, 27, 27, 3)\n",
      "(32, 27, 27, 3)\n",
      "(32, 27, 27, 3)\n",
      "(32, 27, 27, 3)\n",
      "(32, 27, 27, 3)\n",
      "(32, 27, 27, 3)\n",
      "(32, 27, 27, 3)\n",
      "(32, 27, 27, 3)\n",
      "(32, 27, 27, 3)\n",
      "(32, 27, 27, 3)\n",
      "(32, 27, 27, 3)\n",
      "(32, 27, 27, 3)\n",
      "(32, 27, 27, 3)\n",
      "(32, 27, 27, 3)\n",
      "(32, 27, 27, 3)\n",
      "(32, 27, 27, 3)\n",
      "(32, 27, 27, 3)\n",
      "(32, 27, 27, 3)\n",
      "(32, 27, 27, 3)\n",
      "(32, 27, 27, 3)\n",
      "(32, 27, 27, 3)\n",
      "(32, 27, 27, 3)\n",
      "(32, 27, 27, 3)\n",
      "(32, 27, 27, 3)\n",
      "(32, 27, 27, 3)\n",
      "(32, 27, 27, 3)\n",
      "(32, 27, 27, 3)\n",
      "(32, 27, 27, 3)\n",
      "(32, 27, 27, 3)\n",
      "(32, 27, 27, 3)\n",
      "(32, 27, 27, 3)\n",
      "(32, 27, 27, 3)\n",
      "(32, 27, 27, 3)\n",
      "(32, 27, 27, 3)\n",
      "(32, 27, 27, 3)\n",
      "(32, 27, 27, 3)\n",
      "(32, 27, 27, 3)\n",
      "(32, 27, 27, 3)\n",
      "(32, 27, 27, 3)\n",
      "(32, 27, 27, 3)\n",
      "(32, 27, 27, 3)\n",
      "(32, 27, 27, 3)\n",
      "(32, 27, 27, 3)\n",
      "(32, 27, 27, 3)\n",
      "(32, 27, 27, 3)\n",
      "(32, 27, 27, 3)\n",
      "(32, 27, 27, 3)\n",
      "(32, 27, 27, 3)\n",
      "(32, 27, 27, 3)\n",
      "(32, 27, 27, 3)\n",
      "(32, 27, 27, 3)\n",
      "(32, 27, 27, 3)\n",
      "(32, 27, 27, 3)\n",
      "(32, 27, 27, 3)\n",
      "(32, 27, 27, 3)\n",
      "(32, 27, 27, 3)\n",
      "(32, 27, 27, 3)\n",
      "(32, 27, 27, 3)\n",
      "(32, 27, 27, 3)\n",
      "(32, 27, 27, 3)\n",
      "(32, 27, 27, 3)\n",
      "(32, 27, 27, 3)\n",
      "(32, 27, 27, 3)\n",
      "(32, 27, 27, 3)\n",
      "(32, 27, 27, 3)\n",
      "(32, 27, 27, 3)\n",
      "(32, 27, 27, 3)\n",
      "(32, 27, 27, 3)\n",
      "(32, 27, 27, 3)\n",
      "(32, 27, 27, 3)\n",
      "(32, 27, 27, 3)\n",
      "(32, 27, 27, 3)\n",
      "(32, 27, 27, 3)\n",
      "(32, 27, 27, 3)\n",
      "(32, 27, 27, 3)\n",
      "(32, 27, 27, 3)\n",
      "(32, 27, 27, 3)\n",
      "(32, 27, 27, 3)\n",
      "(32, 27, 27, 3)\n",
      "(32, 27, 27, 3)\n",
      "(32, 27, 27, 3)\n",
      "(32, 27, 27, 3)\n",
      "(32, 27, 27, 3)\n",
      "(32, 27, 27, 3)\n",
      "(32, 27, 27, 3)\n",
      "(32, 27, 27, 3)\n",
      "(32, 27, 27, 3)\n",
      "(32, 27, 27, 3)\n",
      "(32, 27, 27, 3)\n",
      "(32, 27, 27, 3)\n",
      "(32, 27, 27, 3)\n",
      "(32, 27, 27, 3)\n",
      "(32, 27, 27, 3)\n",
      "(32, 27, 27, 3)\n",
      "(32, 27, 27, 3)\n",
      "(32, 27, 27, 3)\n",
      "(32, 27, 27, 3)\n",
      "(32, 27, 27, 3)\n",
      "(32, 27, 27, 3)\n",
      "(32, 27, 27, 3)\n",
      "(32, 27, 27, 3)\n",
      "(32, 27, 27, 3)\n",
      "(32, 27, 27, 3)\n",
      "(32, 27, 27, 3)\n",
      "(32, 27, 27, 3)\n",
      "(32, 27, 27, 3)\n",
      "(32, 27, 27, 3)\n",
      "(32, 27, 27, 3)\n",
      "(32, 27, 27, 3)\n",
      "(32, 27, 27, 3)\n",
      "(32, 27, 27, 3)\n",
      "(32, 27, 27, 3)\n",
      "(32, 27, 27, 3)\n",
      "(32, 27, 27, 3)\n",
      "(32, 27, 27, 3)\n",
      "(32, 27, 27, 3)\n",
      "(32, 27, 27, 3)\n",
      "(32, 27, 27, 3)\n",
      "(32, 27, 27, 3)\n",
      "(32, 27, 27, 3)\n",
      "(32, 27, 27, 3)\n",
      "(32, 27, 27, 3)\n",
      "(32, 27, 27, 3)\n",
      "(32, 27, 27, 3)\n",
      "(32, 27, 27, 3)\n",
      "(32, 27, 27, 3)\n",
      "(32, 27, 27, 3)\n",
      "(32, 27, 27, 3)\n",
      "(32, 27, 27, 3)\n",
      "(32, 27, 27, 3)\n",
      "(32, 27, 27, 3)\n",
      "(32, 27, 27, 3)\n",
      "(32, 27, 27, 3)\n",
      "(32, 27, 27, 3)\n",
      "(32, 27, 27, 3)\n",
      "(32, 27, 27, 3)\n",
      "(32, 27, 27, 3)\n",
      "(32, 27, 27, 3)\n",
      "(32, 27, 27, 3)\n",
      "(32, 27, 27, 3)\n",
      "(32, 27, 27, 3)\n",
      "(32, 27, 27, 3)\n",
      "(32, 27, 27, 3)\n",
      "(32, 27, 27, 3)\n",
      "(32, 27, 27, 3)\n",
      "(32, 27, 27, 3)\n",
      "(32, 27, 27, 3)\n",
      "(32, 27, 27, 3)\n",
      "(32, 27, 27, 3)\n",
      "(32, 27, 27, 3)\n",
      "(32, 27, 27, 3)\n",
      "(32, 27, 27, 3)\n",
      "(32, 27, 27, 3)\n",
      "(32, 27, 27, 3)\n",
      "(32, 27, 27, 3)\n",
      "(32, 27, 27, 3)\n",
      "(32, 27, 27, 3)\n",
      "(32, 27, 27, 3)\n",
      "(32, 27, 27, 3)\n",
      "(32, 27, 27, 3)\n",
      "(32, 27, 27, 3)\n",
      "(32, 27, 27, 3)\n",
      "(32, 27, 27, 3)\n",
      "(32, 27, 27, 3)\n",
      "(32, 27, 27, 3)\n",
      "(32, 27, 27, 3)\n",
      "(32, 27, 27, 3)\n",
      "(32, 27, 27, 3)\n",
      "(32, 27, 27, 3)\n",
      "(32, 27, 27, 3)\n",
      "(32, 27, 27, 3)\n",
      "(32, 27, 27, 3)\n",
      "(32, 27, 27, 3)\n",
      "(32, 27, 27, 3)\n",
      "(32, 27, 27, 3)\n",
      "(32, 27, 27, 3)\n",
      "(32, 27, 27, 3)\n",
      "(32, 27, 27, 3)\n",
      "(32, 27, 27, 3)\n",
      "(32, 27, 27, 3)\n",
      "(32, 27, 27, 3)\n",
      "(32, 27, 27, 3)\n",
      "(32, 27, 27, 3)\n",
      "(32, 27, 27, 3)\n",
      "(32, 27, 27, 3)\n",
      "(32, 27, 27, 3)\n",
      "(32, 27, 27, 3)\n",
      "(32, 27, 27, 3)\n",
      "(32, 27, 27, 3)\n",
      "(32, 27, 27, 3)\n",
      "(32, 27, 27, 3)\n",
      "(32, 27, 27, 3)\n",
      "(32, 27, 27, 3)\n",
      "(32, 27, 27, 3)\n",
      "(32, 27, 27, 3)\n",
      "(32, 27, 27, 3)\n",
      "(32, 27, 27, 3)\n",
      "(32, 27, 27, 3)\n",
      "(32, 27, 27, 3)\n",
      "(32, 27, 27, 3)\n",
      "(32, 27, 27, 3)\n",
      "(32, 27, 27, 3)\n",
      "(32, 27, 27, 3)\n",
      "(32, 27, 27, 3)\n",
      "(32, 27, 27, 3)\n",
      "(32, 27, 27, 3)\n",
      "(32, 27, 27, 3)\n",
      "(32, 27, 27, 3)\n",
      "(32, 27, 27, 3)\n",
      "(32, 27, 27, 3)\n",
      "(32, 27, 27, 3)\n",
      "(32, 27, 27, 3)\n",
      "(32, 27, 27, 3)\n",
      "(32, 27, 27, 3)\n",
      "(32, 27, 27, 3)\n",
      "(32, 27, 27, 3)\n",
      "(32, 27, 27, 3)\n",
      "(32, 27, 27, 3)\n",
      "(32, 27, 27, 3)\n",
      "(32, 27, 27, 3)\n",
      "(32, 27, 27, 3)\n",
      "(32, 27, 27, 3)\n",
      "(32, 27, 27, 3)\n",
      "(32, 27, 27, 3)\n",
      "(32, 27, 27, 3)\n",
      "(32, 27, 27, 3)\n",
      "(32, 27, 27, 3)\n",
      "(32, 27, 27, 3)\n",
      "(32, 27, 27, 3)\n",
      "(32, 27, 27, 3)\n",
      "(32, 27, 27, 3)\n",
      "(32, 27, 27, 3)\n",
      "(32, 27, 27, 3)\n",
      "(32, 27, 27, 3)\n",
      "(32, 27, 27, 3)\n",
      "(32, 27, 27, 3)\n",
      "(32, 27, 27, 3)\n",
      "(32, 27, 27, 3)\n",
      "(32, 27, 27, 3)\n",
      "(32, 27, 27, 3)\n",
      "(32, 27, 27, 3)\n",
      "(32, 27, 27, 3)\n",
      "(32, 27, 27, 3)\n",
      "(32, 27, 27, 3)\n",
      "(32, 27, 27, 3)\n",
      "(32, 27, 27, 3)\n",
      "(32, 27, 27, 3)\n",
      "(32, 27, 27, 3)\n",
      "(32, 27, 27, 3)\n",
      "(32, 27, 27, 3)\n",
      "(32, 27, 27, 3)\n",
      "(32, 27, 27, 3)\n",
      "(32, 27, 27, 3)\n",
      "(32, 27, 27, 3)\n",
      "(32, 27, 27, 3)\n",
      "(32, 27, 27, 3)\n",
      "(32, 27, 27, 3)\n",
      "(32, 27, 27, 3)\n",
      "(32, 27, 27, 3)\n",
      "(32, 27, 27, 3)\n",
      "(32, 27, 27, 3)\n",
      "(32, 27, 27, 3)\n",
      "(32, 27, 27, 3)\n",
      "(32, 27, 27, 3)\n",
      "(32, 27, 27, 3)\n",
      "(32, 27, 27, 3)\n",
      "(32, 27, 27, 3)\n",
      "(32, 27, 27, 3)\n",
      "(32, 27, 27, 3)\n",
      "(32, 27, 27, 3)\n",
      "(16, 27, 27, 3)\n",
      "(32, 27, 27, 3)\n"
     ]
    }
   ],
   "source": [
    "from keras.preprocessing.image import ImageDataGenerator\n",
    "datagen = ImageDataGenerator()\n",
    "\n",
    "extra_x = datagen.flow_from_dataframe(extra_df, directory=\"Image_classification_data/patch_images\",\n",
    "x_col=\"ImageName\",\n",
    "target_size=(27,27),class_mode=None, batch_size=32)\n",
    "for _ in range(int(10384 / 32) + 2):\n",
    "    extrab_x= extra_x.next()\n",
    "    print(extrab_x.shape)\n",
    "b1 = extra_x.next()\n",
    "# b2 = extra_x.next()"
   ]
  },
  {
   "cell_type": "code",
   "execution_count": 110,
   "metadata": {},
   "outputs": [
    {
     "data": {
      "text/plain": [
       "(32, 27, 27, 3)"
      ]
     },
     "execution_count": 110,
     "metadata": {},
     "output_type": "execute_result"
    }
   ],
   "source": [
    "# for every batch\n",
    "# use model34+meta to predict label of that batch of image\n",
    "# merge that batch of image to train_x\n",
    "# retrain model 3,4 and meta learner\n",
    "# evaluate again with test set\n",
    "b1.shape"
   ]
  },
  {
   "cell_type": "code",
   "execution_count": null,
   "metadata": {},
   "outputs": [],
   "source": []
  }
 ],
 "metadata": {
  "interpreter": {
   "hash": "0f85430522e24dcceb49f547c8042b2746187a0750be8e55b7097447c175006b"
  },
  "kernelspec": {
   "display_name": "Python 3.7.11 64-bit ('keras-env': conda)",
   "language": "python",
   "name": "python3"
  },
  "language_info": {
   "codemirror_mode": {
    "name": "ipython",
    "version": 3
   },
   "file_extension": ".py",
   "mimetype": "text/x-python",
   "name": "python",
   "nbconvert_exporter": "python",
   "pygments_lexer": "ipython3",
   "version": "3.7.11"
  },
  "orig_nbformat": 4
 },
 "nbformat": 4,
 "nbformat_minor": 2
}
