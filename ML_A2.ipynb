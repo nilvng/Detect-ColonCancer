{
 "cells": [
  {
   "cell_type": "code",
   "execution_count": 105,
   "id": "955516c7",
   "metadata": {},
   "outputs": [],
   "source": [
    "import cv2\n",
    "import numpy as np\n",
    "import pandas as pd\n",
    "import os\n",
    "import sys\n",
    "import tensorflow as tf\n",
    "from sklearn.model_selection import train_test_split\n",
    "import keras_tuner as kt\n",
    "from sklearn.metrics import classification_report"
   ]
  },
  {
   "cell_type": "markdown",
   "id": "57761c43",
   "metadata": {},
   "source": [
    "### Load dataframe"
   ]
  },
  {
   "cell_type": "code",
   "execution_count": 2,
   "id": "6b1deda5",
   "metadata": {},
   "outputs": [],
   "source": [
    "main_data = pd.read_csv(\"data_labels_mainData.csv\")\n",
    "extra_data = pd.read_csv(\"data_labels_extraData.csv\")"
   ]
  },
  {
   "cell_type": "markdown",
   "id": "bc53247b",
   "metadata": {},
   "source": [
    "### split data into different folders for different cell types"
   ]
  },
  {
   "cell_type": "code",
   "execution_count": 27,
   "id": "f240316c",
   "metadata": {},
   "outputs": [],
   "source": [
    "import shutil\n",
    "root = os.getcwd()\n",
    "source_dir = os.path.join(root, \"patch_images\")\n",
    "\n",
    "for i, row in main_data.iterrows():\n",
    "    image_name = row[\"ImageName\"]\n",
    "    cell_name = row[\"cellTypeName\"]\n",
    "    is_cancer = str(row[\"isCancerous\"])\n",
    "\n",
    "#     new_folder_multi = os.path.join(root,\"multiclass_task\", cell_name)\n",
    "    new_folder_bin = os.path.join(root,\"binary_task\", is_cancer)\n",
    "\n",
    "#     os.makedirs(new_folder_multi, exist_ok=True)\n",
    "    os.makedirs(new_folder_bin, exist_ok=True)\n",
    "\n",
    "    source = os.path.join(source_dir, image_name)\n",
    "\n",
    "#     dest_multi = os.path.join(root, \"multiclass_task\",cell_name)\n",
    "    dest_bin = os.path.join(root,\"binary_task\", is_cancer)\n",
    "\n",
    "#     go = shutil.copy(source,dest_multi)\n",
    "    go = shutil.copy(source, dest_bin)"
   ]
  },
  {
   "cell_type": "markdown",
   "id": "3890247e",
   "metadata": {},
   "source": [
    "### Add training data for cancerous classification from extra dataset "
   ]
  },
  {
   "cell_type": "code",
   "execution_count": 15,
   "id": "682dc3f2",
   "metadata": {},
   "outputs": [],
   "source": [
    "import shutil\n",
    "root = os.getcwd()\n",
    "source_dir = os.path.join(root, \"patch_images\")\n",
    "\n",
    "for i, row in extra_data.iterrows():\n",
    "    image_name = row[\"ImageName\"]\n",
    "    is_cancer = str(row[\"isCancerous\"])\n",
    "\n",
    "    new_folder_bin = os.path.join(root, \"binary_task\",is_cancer)\n",
    "\n",
    "    os.makedirs(new_folder_bin, exist_ok=True)\n",
    "\n",
    "    source = os.path.join(source_dir, image_name)\n",
    "\n",
    "    dest_bin = os.path.join(root, is_cancer)\n",
    "\n",
    "    go = shutil.copy(source, dest_bin)"
   ]
  },
  {
   "cell_type": "markdown",
   "id": "857e51b4",
   "metadata": {},
   "source": [
    "### Old load image code "
   ]
  },
  {
   "cell_type": "code",
   "execution_count": 4,
   "id": "3b6669fa",
   "metadata": {},
   "outputs": [
    {
     "name": "stdout",
     "output_type": "stream",
     "text": [
      "9896\n",
      "9896\n",
      "9896\n"
     ]
    }
   ],
   "source": [
    "def get_images(img_list, path):    \n",
    "    images = list()\n",
    "    \n",
    "    for img in img_list:\n",
    "        img = cv2.imread(os.path.join(path, img))\n",
    "        # resize to 0-1 for faster computation\n",
    "        resized = img / 255\n",
    "        images.append(resized)\n",
    "        \n",
    "    return images\n",
    "\n",
    "images, cell_type, is_cancerous = get_images(main_data[\"ImageName\"], \"patch_images\"), main_data[[\"cellType\"]], main_data[[\"isCancerous\"]]\n",
    "\n",
    "print(len(images))\n",
    "#print(images[0].shape)\n",
    "print(len(cell_type))\n",
    "print(len(is_cancerous))"
   ]
  },
  {
   "cell_type": "markdown",
   "id": "53e5727f",
   "metadata": {},
   "source": [
    "### Get data from splitted folder"
   ]
  },
  {
   "cell_type": "code",
   "execution_count": 3,
   "id": "7c986143",
   "metadata": {},
   "outputs": [],
   "source": [
    "import shutil\n",
    "root = os.getcwd()\n",
    "source_dir = os.path.join(root, \"patch_images\")\n",
    "\n",
    "def cancerous_classify_data():    \n",
    "    images = list()\n",
    "    labels = list()\n",
    "    \n",
    "    for label in [0, 1]:\n",
    "        # get image directory\n",
    "        img_dir = os.path.join(root, \"binary_task\",f\"{label}\")\n",
    "        \n",
    "        for img in os.listdir(img_dir):\n",
    "            img = cv2.imread(os.path.join(img_dir, img))\n",
    "            # resize to 0-1 for faster computation\n",
    "            resized = img / 255\n",
    "            images.append(resized)\n",
    "            labels.append(label)\n",
    "        \n",
    "    return (images, labels)\n"
   ]
  },
  {
   "cell_type": "markdown",
   "id": "68b14344",
   "metadata": {},
   "source": [
    "### Data augmentation "
   ]
  },
  {
   "cell_type": "code",
   "execution_count": 4,
   "id": "ed3266f9",
   "metadata": {},
   "outputs": [],
   "source": [
    "from tensorflow.keras.preprocessing import image_dataset_from_directory\n",
    "from keras.preprocessing.image import ImageDataGenerator\n",
    "\n",
    "root = os.getcwd()\n",
    "binary_root = os.path.join(root, \"binary_task\")\n",
    "multiclass_root = os.path.join(root, \"multiclass_task\")\n",
    "\n",
    "datagen = ImageDataGenerator()"
   ]
  },
  {
   "cell_type": "markdown",
   "id": "9977c54a",
   "metadata": {},
   "source": [
    "### Base CNN model"
   ]
  },
  {
   "cell_type": "code",
   "execution_count": 35,
   "id": "19f550aa",
   "metadata": {},
   "outputs": [
    {
     "name": "stderr",
     "output_type": "stream",
     "text": [
      "/opt/homebrew/Caskroom/miniforge/base/envs/tensorflow/lib/python3.9/site-packages/keras_preprocessing/image/image_data_generator.py:337: UserWarning: This ImageDataGenerator specifies `zca_whitening`, which overrides setting of `featurewise_center`.\n",
      "  warnings.warn('This ImageDataGenerator specifies '\n"
     ]
    },
    {
     "name": "stdout",
     "output_type": "stream",
     "text": [
      "Epoch 1/10\n"
     ]
    },
    {
     "name": "stderr",
     "output_type": "stream",
     "text": [
      "2022-05-05 11:49:18.572060: I tensorflow/core/grappler/optimizers/custom_graph_optimizer_registry.cc:113] Plugin optimizer for device_type GPU is enabled.\n"
     ]
    },
    {
     "name": "stdout",
     "output_type": "stream",
     "text": [
      "248/248 [==============================] - ETA: 0s - loss: 0.4474 - accuracy: 0.7828 - auc: 0.8660"
     ]
    },
    {
     "name": "stderr",
     "output_type": "stream",
     "text": [
      "2022-05-05 11:49:36.971005: I tensorflow/core/grappler/optimizers/custom_graph_optimizer_registry.cc:113] Plugin optimizer for device_type GPU is enabled.\n"
     ]
    },
    {
     "name": "stdout",
     "output_type": "stream",
     "text": [
      "248/248 [==============================] - 22s 87ms/step - loss: 0.4474 - accuracy: 0.7828 - auc: 0.8660 - val_loss: 0.3668 - val_accuracy: 0.8384 - val_auc: 0.9309\n",
      "Epoch 2/10\n",
      "248/248 [==============================] - 20s 81ms/step - loss: 0.2936 - accuracy: 0.8766 - auc: 0.9458 - val_loss: 0.3352 - val_accuracy: 0.8667 - val_auc: 0.9374\n",
      "Epoch 3/10\n",
      "248/248 [==============================] - 23s 92ms/step - loss: 0.2593 - accuracy: 0.8925 - auc: 0.9576 - val_loss: 0.3495 - val_accuracy: 0.8470 - val_auc: 0.9382\n",
      "Epoch 4/10\n",
      "248/248 [==============================] - 25s 102ms/step - loss: 0.2306 - accuracy: 0.9054 - auc: 0.9662 - val_loss: 0.3402 - val_accuracy: 0.8682 - val_auc: 0.9381\n",
      "Epoch 5/10\n",
      "248/248 [==============================] - 21s 84ms/step - loss: 0.2061 - accuracy: 0.9224 - auc: 0.9726 - val_loss: 0.3511 - val_accuracy: 0.8747 - val_auc: 0.9377\n",
      "Epoch 6/10\n",
      "248/248 [==============================] - 22s 87ms/step - loss: 0.1742 - accuracy: 0.9325 - auc: 0.9806 - val_loss: 0.3602 - val_accuracy: 0.8707 - val_auc: 0.9365\n",
      "Epoch 7/10\n",
      "248/248 [==============================] - 20s 79ms/step - loss: 0.1584 - accuracy: 0.9367 - auc: 0.9842 - val_loss: 0.3830 - val_accuracy: 0.8611 - val_auc: 0.9315\n",
      "Epoch 8/10\n",
      "248/248 [==============================] - 21s 86ms/step - loss: 0.1270 - accuracy: 0.9526 - auc: 0.9896 - val_loss: 0.4107 - val_accuracy: 0.8697 - val_auc: 0.9289\n",
      "Epoch 9/10\n",
      "248/248 [==============================] - 31s 124ms/step - loss: 0.1123 - accuracy: 0.9539 - auc: 0.9920 - val_loss: 0.4656 - val_accuracy: 0.8510 - val_auc: 0.9287\n",
      "Epoch 10/10\n",
      "248/248 [==============================] - 25s 101ms/step - loss: 0.0760 - accuracy: 0.9726 - auc: 0.9964 - val_loss: 0.7425 - val_accuracy: 0.8470 - val_auc: 0.9024\n"
     ]
    },
    {
     "data": {
      "text/plain": [
       "<keras.callbacks.History at 0x2c7d2ef40>"
      ]
     },
     "execution_count": 35,
     "metadata": {},
     "output_type": "execute_result"
    }
   ],
   "source": [
    "images, cancer_label = cancerous_classify_data()\n",
    "\n",
    "# try testing cancerous dataset\n",
    "# x_train, x_test, y_train, y_test = train_test_split(\n",
    "#     np.array(images), np.array(is_cancerous), test_size=0.2\n",
    "# )\n",
    "\n",
    "def get_model():\n",
    "    model = tf.keras.Sequential()\n",
    "    # First convo-pooling\n",
    "    # Convolutional layers (filter the image with a kernel)\n",
    "    model.add(tf.keras.layers.Conv2D(32, (3, 3), activation=\"relu\", input_shape=[27, 27, 3]))\n",
    "    # Max-pooling layers (reduce the size of the image by choosing max pixel at certain area)\n",
    "    model.add(tf.keras.layers.MaxPool2D(pool_size=(2, 2)))\n",
    "    # Flatten input\n",
    "    model.add(tf.keras.layers.Flatten())\n",
    "\n",
    "    model.add(tf.keras.layers.Dense(128, activation=\"relu\"))\n",
    "    model.add(tf.keras.layers.Dense(32, activation=\"relu\"))\n",
    "    # Output layer\n",
    "    model.add(tf.keras.layers.Dense(1, activation=\"sigmoid\"))\n",
    "    # Compile model\n",
    "    model.compile(optimizer=\"adam\",\n",
    "                  loss=\"binary_crossentropy\",\n",
    "                  metrics=[\"accuracy\", \"AUC\"])\n",
    "    \n",
    "    return model\n",
    "\n",
    "# train data from manual load data\n",
    "x_train, x_test, y_train, y_test = train_test_split(\n",
    "    np.array(images), np.array(cancer_label), test_size=0.2\n",
    ")\n",
    "\n",
    "datagen = ImageDataGenerator(\n",
    "    zca_whitening=True,\n",
    ")\n",
    "datagen.fit(np.array(images))\n",
    "\n",
    "aug_train = datagen.flow(x_train, y_train, shuffle=True)\n",
    "aug_val = datagen.flow(x_test, y_test, shuffle=True)\n",
    "\n",
    "model = get_model()\n",
    "# model.fit(x_train, y_train, epochs=10, validation_data=(x_test, y_test))\n",
    "model.fit(aug_train, epochs=10, validation_data=aug_val)"
   ]
  },
  {
   "cell_type": "markdown",
   "id": "5f6888d1",
   "metadata": {},
   "source": [
    "### Tune CNN model\n",
    "\n",
    "Tunable parameters:\n",
    "- Size of kernel of Convolution/Pooling Layers\n",
    "- Strides of Convolution/Pooling Layers\n",
    "- Activation function"
   ]
  },
  {
   "cell_type": "code",
   "execution_count": 48,
   "id": "2edb288b",
   "metadata": {},
   "outputs": [
    {
     "name": "stdout",
     "output_type": "stream",
     "text": [
      "Trial 5 Complete [00h 00m 30s]\n",
      "val_accuracy: 0.596969723701477\n",
      "\n",
      "Best val_accuracy So Far: 0.8808081150054932\n",
      "Total elapsed time: 00h 01m 54s\n",
      "INFO:tensorflow:Oracle triggered exit\n"
     ]
    }
   ],
   "source": [
    "x_train, x_test, y_train, y_test = train_test_split(\n",
    "    np.array(images), np.array(cancer_label), test_size=0.2\n",
    ")\n",
    "\n",
    "def cnn_tuner(hp):\n",
    "    model = tf.keras.Sequential()\n",
    "\n",
    "    for i in range(hp.Int(f'no_cnn', 1, 4, step=1)):\n",
    "        # Convolutional layers (filter the image with a kernel)\n",
    "        model.add(tf.keras.layers.Conv2D(hp.Int(f'convo_filter_{i}', 16, 128, step=16), (3, 3), strides=1,activation=hp.Choice(f\"activation_convo_{i}\", [\"relu\", \"sigmoid\", \"softmax\", \"tanh\"]), input_shape=[27, 27, 3]))\n",
    "        # Max-pooling layers (reduce the size of the image by choosing max pixel at certain area)\n",
    "        model.add(tf.keras.layers.MaxPool2D(pool_size=(2, 2), strides=1,))\n",
    "        \n",
    "    # Flatten input\n",
    "    model.add(tf.keras.layers.Flatten())\n",
    "\n",
    "    # hidden layers\n",
    "    for i in range(hp.Int('layers_no', 1, 4)):\n",
    "        model.add(tf.keras.layers.Dense(hp.Int(f'hidden_layer_{i}', 32, 256, step=32), activation=hp.Choice(f\"activation_hidden_{i}\", [\"relu\", \"sigmoid\", \"softmax\", \"tanh\"])))\n",
    "        \n",
    "    # output layer\n",
    "    model.add(tf.keras.layers.Dense(1, activation=\"sigmoid\"))   \n",
    "    # Compile model\n",
    "    model.compile(optimizer=\"adam\",\n",
    "                  loss=\"binary_crossentropy\",\n",
    "                  metrics=[\"accuracy\", \"AUC\"])\n",
    "    \n",
    "    return model\n",
    "\n",
    "# status.expect_partial()\n",
    "              \n",
    "tuner = kt.RandomSearch(cnn_tuner, objective=\"val_accuracy\", max_trials=5)\n",
    "\n",
    "tuner.search(x_train, y_train, epochs=5, validation_data=(x_test, y_test))\n",
    "best_model = tuner.get_best_models()[0]"
   ]
  },
  {
   "cell_type": "code",
   "execution_count": 52,
   "id": "075833c5",
   "metadata": {},
   "outputs": [
    {
     "name": "stdout",
     "output_type": "stream",
     "text": [
      "Best Convolution filter: 96\n",
      "Best number of hidden layer: 160\n",
      "Best nodes in hidden layer 0: 160\n",
      "Best activation in hidden layer 0: sigmoid\n",
      "Best nodes in hidden layer 1: 160\n",
      "Best activation in hidden layer 1: tanh\n",
      "Best nodes in hidden layer 2: 160\n",
      "Best activation in hidden layer 2: sigmoid\n",
      "Best nodes in hidden layer 3: 160\n",
      "Best activation in hidden layer 3: relu\n"
     ]
    }
   ],
   "source": [
    "print(f\"Best Convolution filter: {tuner.get_best_hyperparameters()[0].get('convo_filter')}\")\n",
    "print(f\"Best number of hidden layer: {tuner.get_best_hyperparameters()[0].get('hidden_layer')}\")\n",
    "\n",
    "for i in range(tuner.get_best_hyperparameters()[0].get('cnn_no')):\n",
    "    print(f\"Best filter in CNN layer {i}: {tuner.get_best_hyperparameters()[0].get(f'convo_filter_{i}')}\")\n",
    "    print(f\"Best filter in CNN layer {i}: {tuner.get_best_hyperparameters()[0].get(f\"activation_convo_{i}\")\n",
    "\n",
    "for i in range(tuner.get_best_hyperparameters()[0].get('layers_no')):\n",
    "    print(f\"Best nodes in hidden layer {i}: {tuner.get_best_hyperparameters()[0].get(f'hidden_layer_{i}')}\")\n",
    "    print(f\"Best activation in hidden layer {i}: {tuner.get_best_hyperparameters()[0].get(f'activation_hidden_{i}')}\")"
   ]
  },
  {
   "cell_type": "code",
   "execution_count": 48,
   "id": "01340ba4",
   "metadata": {},
   "outputs": [
    {
     "name": "stdout",
     "output_type": "stream",
     "text": [
      "Epoch 1/10\n"
     ]
    },
    {
     "name": "stderr",
     "output_type": "stream",
     "text": [
      "2022-05-03 13:15:50.902990: I tensorflow/core/grappler/optimizers/custom_graph_optimizer_registry.cc:113] Plugin optimizer for device_type GPU is enabled.\n"
     ]
    },
    {
     "name": "stdout",
     "output_type": "stream",
     "text": [
      "505/507 [============================>.] - ETA: 0s - loss: 0.3040 - accuracy: 0.8665 - auc: 0.9364"
     ]
    },
    {
     "name": "stderr",
     "output_type": "stream",
     "text": [
      "2022-05-03 13:15:56.659471: I tensorflow/core/grappler/optimizers/custom_graph_optimizer_registry.cc:113] Plugin optimizer for device_type GPU is enabled.\n"
     ]
    },
    {
     "name": "stdout",
     "output_type": "stream",
     "text": [
      "507/507 [==============================] - 7s 13ms/step - loss: 0.3041 - accuracy: 0.8667 - auc: 0.9364 - val_loss: 0.3408 - val_accuracy: 0.8474 - val_auc: 0.9363\n",
      "Epoch 2/10\n",
      "507/507 [==============================] - 6s 12ms/step - loss: 0.2892 - accuracy: 0.8739 - auc: 0.9425 - val_loss: 0.3483 - val_accuracy: 0.8614 - val_auc: 0.9390\n",
      "Epoch 3/10\n",
      "507/507 [==============================] - 6s 12ms/step - loss: 0.2661 - accuracy: 0.8876 - auc: 0.9514 - val_loss: 0.3096 - val_accuracy: 0.8728 - val_auc: 0.9376\n",
      "Epoch 4/10\n",
      "507/507 [==============================] - 6s 12ms/step - loss: 0.2448 - accuracy: 0.8935 - auc: 0.9590 - val_loss: 0.4050 - val_accuracy: 0.8425 - val_auc: 0.9346\n",
      "Epoch 5/10\n",
      "507/507 [==============================] - 6s 12ms/step - loss: 0.2220 - accuracy: 0.9077 - auc: 0.9662 - val_loss: 0.3574 - val_accuracy: 0.8627 - val_auc: 0.9325\n",
      "Epoch 6/10\n",
      "507/507 [==============================] - 6s 12ms/step - loss: 0.1984 - accuracy: 0.9173 - auc: 0.9731 - val_loss: 0.3761 - val_accuracy: 0.8508 - val_auc: 0.9318\n",
      "Epoch 7/10\n",
      "507/507 [==============================] - 6s 12ms/step - loss: 0.1664 - accuracy: 0.9334 - auc: 0.9809 - val_loss: 0.3838 - val_accuracy: 0.8688 - val_auc: 0.9231\n",
      "Epoch 8/10\n",
      "507/507 [==============================] - 6s 12ms/step - loss: 0.1456 - accuracy: 0.9421 - auc: 0.9852 - val_loss: 0.3927 - val_accuracy: 0.8698 - val_auc: 0.9295\n",
      "Epoch 9/10\n",
      "507/507 [==============================] - 6s 12ms/step - loss: 0.1294 - accuracy: 0.9476 - auc: 0.9881 - val_loss: 0.3855 - val_accuracy: 0.8644 - val_auc: 0.9291\n",
      "Epoch 10/10\n",
      "507/507 [==============================] - 6s 12ms/step - loss: 0.1074 - accuracy: 0.9589 - auc: 0.9916 - val_loss: 0.4712 - val_accuracy: 0.8649 - val_auc: 0.9173\n"
     ]
    },
    {
     "data": {
      "text/plain": [
       "<keras.callbacks.History at 0x323a0cca0>"
      ]
     },
     "execution_count": 48,
     "metadata": {},
     "output_type": "execute_result"
    }
   ],
   "source": [
    "best_model.fit(x_train, y_train, epochs=10, validation_data=(x_test, y_test))"
   ]
  },
  {
   "cell_type": "markdown",
   "id": "63e5992e",
   "metadata": {},
   "source": [
    "### Ensemble model"
   ]
  },
  {
   "cell_type": "code",
   "execution_count": 12,
   "id": "2bc84924",
   "metadata": {},
   "outputs": [
    {
     "name": "stdout",
     "output_type": "stream",
     "text": [
      "Epoch 1/5\n"
     ]
    },
    {
     "name": "stderr",
     "output_type": "stream",
     "text": [
      "2022-05-03 12:29:02.441814: I tensorflow/core/grappler/optimizers/custom_graph_optimizer_registry.cc:113] Plugin optimizer for device_type GPU is enabled.\n"
     ]
    },
    {
     "name": "stdout",
     "output_type": "stream",
     "text": [
      "502/507 [============================>.] - ETA: 0s - loss: 0.4035 - accuracy: 0.8150 - auc: 0.8832"
     ]
    },
    {
     "name": "stderr",
     "output_type": "stream",
     "text": [
      "2022-05-03 12:29:07.267409: I tensorflow/core/grappler/optimizers/custom_graph_optimizer_registry.cc:113] Plugin optimizer for device_type GPU is enabled.\n"
     ]
    },
    {
     "name": "stdout",
     "output_type": "stream",
     "text": [
      "507/507 [==============================] - 6s 11ms/step - loss: 0.4023 - accuracy: 0.8155 - auc: 0.8839 - val_loss: 0.3566 - val_accuracy: 0.8481 - val_auc: 0.9196\n",
      "Epoch 2/5\n",
      "507/507 [==============================] - 5s 9ms/step - loss: 0.3472 - accuracy: 0.8513 - auc: 0.9155 - val_loss: 0.4497 - val_accuracy: 0.7894 - val_auc: 0.9224\n",
      "Epoch 3/5\n",
      "507/507 [==============================] - 5s 9ms/step - loss: 0.3271 - accuracy: 0.8634 - auc: 0.9255 - val_loss: 0.3253 - val_accuracy: 0.8609 - val_auc: 0.9320\n",
      "Epoch 4/5\n",
      "507/507 [==============================] - 5s 9ms/step - loss: 0.3061 - accuracy: 0.8726 - auc: 0.9345 - val_loss: 0.3085 - val_accuracy: 0.8688 - val_auc: 0.9371\n",
      "Epoch 5/5\n",
      "507/507 [==============================] - 5s 10ms/step - loss: 0.2996 - accuracy: 0.8755 - auc: 0.9376 - val_loss: 0.3480 - val_accuracy: 0.8543 - val_auc: 0.9352\n",
      "Epoch 1/5\n",
      "  1/507 [..............................] - ETA: 2:36 - loss: 0.6759 - accuracy: 0.5938 - auc: 0.6053"
     ]
    },
    {
     "name": "stderr",
     "output_type": "stream",
     "text": [
      "2022-05-03 12:29:27.537301: I tensorflow/core/grappler/optimizers/custom_graph_optimizer_registry.cc:113] Plugin optimizer for device_type GPU is enabled.\n"
     ]
    },
    {
     "name": "stdout",
     "output_type": "stream",
     "text": [
      "506/507 [============================>.] - ETA: 0s - loss: 0.4187 - accuracy: 0.8018 - auc: 0.8733"
     ]
    },
    {
     "name": "stderr",
     "output_type": "stream",
     "text": [
      "2022-05-03 12:29:31.934386: I tensorflow/core/grappler/optimizers/custom_graph_optimizer_registry.cc:113] Plugin optimizer for device_type GPU is enabled.\n"
     ]
    },
    {
     "name": "stdout",
     "output_type": "stream",
     "text": [
      "507/507 [==============================] - 5s 10ms/step - loss: 0.4183 - accuracy: 0.8020 - auc: 0.8736 - val_loss: 0.3767 - val_accuracy: 0.8323 - val_auc: 0.9160\n",
      "Epoch 2/5\n",
      "507/507 [==============================] - 5s 10ms/step - loss: 0.3408 - accuracy: 0.8543 - auc: 0.9189 - val_loss: 0.3306 - val_accuracy: 0.8590 - val_auc: 0.9262\n",
      "Epoch 3/5\n",
      "507/507 [==============================] - 5s 9ms/step - loss: 0.3263 - accuracy: 0.8611 - auc: 0.9258 - val_loss: 0.3197 - val_accuracy: 0.8664 - val_auc: 0.9308\n",
      "Epoch 4/5\n",
      "507/507 [==============================] - 5s 9ms/step - loss: 0.3099 - accuracy: 0.8705 - auc: 0.9332 - val_loss: 0.3471 - val_accuracy: 0.8531 - val_auc: 0.9297\n",
      "Epoch 5/5\n",
      "507/507 [==============================] - 5s 9ms/step - loss: 0.3007 - accuracy: 0.8736 - auc: 0.9373 - val_loss: 0.3209 - val_accuracy: 0.8632 - val_auc: 0.9362\n",
      "Epoch 1/5\n",
      "  1/507 [..............................] - ETA: 2:38 - loss: 0.6501 - accuracy: 0.7188 - auc: 0.6473"
     ]
    },
    {
     "name": "stderr",
     "output_type": "stream",
     "text": [
      "2022-05-03 12:29:52.092467: I tensorflow/core/grappler/optimizers/custom_graph_optimizer_registry.cc:113] Plugin optimizer for device_type GPU is enabled.\n"
     ]
    },
    {
     "name": "stdout",
     "output_type": "stream",
     "text": [
      "507/507 [==============================] - ETA: 0s - loss: 0.3943 - accuracy: 0.8187 - auc: 0.8893"
     ]
    },
    {
     "name": "stderr",
     "output_type": "stream",
     "text": [
      "2022-05-03 12:29:56.532275: I tensorflow/core/grappler/optimizers/custom_graph_optimizer_registry.cc:113] Plugin optimizer for device_type GPU is enabled.\n"
     ]
    },
    {
     "name": "stdout",
     "output_type": "stream",
     "text": [
      "507/507 [==============================] - 5s 10ms/step - loss: 0.3943 - accuracy: 0.8187 - auc: 0.8893 - val_loss: 0.3908 - val_accuracy: 0.8222 - val_auc: 0.9181\n",
      "Epoch 2/5\n",
      "507/507 [==============================] - 5s 10ms/step - loss: 0.3409 - accuracy: 0.8515 - auc: 0.9188 - val_loss: 0.3395 - val_accuracy: 0.8540 - val_auc: 0.9244\n",
      "Epoch 3/5\n",
      "507/507 [==============================] - 5s 10ms/step - loss: 0.3256 - accuracy: 0.8600 - auc: 0.9261 - val_loss: 0.3995 - val_accuracy: 0.8257 - val_auc: 0.9281\n",
      "Epoch 4/5\n",
      "507/507 [==============================] - 5s 9ms/step - loss: 0.3121 - accuracy: 0.8705 - auc: 0.9322 - val_loss: 0.4551 - val_accuracy: 0.7944 - val_auc: 0.9304\n",
      "Epoch 5/5\n",
      "507/507 [==============================] - 5s 9ms/step - loss: 0.2986 - accuracy: 0.8746 - auc: 0.9381 - val_loss: 0.3361 - val_accuracy: 0.8543 - val_auc: 0.9338\n",
      "Epoch 1/5\n",
      "  1/507 [..............................] - ETA: 2:36 - loss: 0.6376 - accuracy: 0.7812 - auc: 0.6771"
     ]
    },
    {
     "name": "stderr",
     "output_type": "stream",
     "text": [
      "2022-05-03 12:30:16.958711: I tensorflow/core/grappler/optimizers/custom_graph_optimizer_registry.cc:113] Plugin optimizer for device_type GPU is enabled.\n"
     ]
    },
    {
     "name": "stdout",
     "output_type": "stream",
     "text": [
      "506/507 [============================>.] - ETA: 0s - loss: 0.4108 - accuracy: 0.8136 - auc: 0.8789"
     ]
    },
    {
     "name": "stderr",
     "output_type": "stream",
     "text": [
      "2022-05-03 12:30:21.261002: I tensorflow/core/grappler/optimizers/custom_graph_optimizer_registry.cc:113] Plugin optimizer for device_type GPU is enabled.\n"
     ]
    },
    {
     "name": "stdout",
     "output_type": "stream",
     "text": [
      "507/507 [==============================] - 5s 10ms/step - loss: 0.4106 - accuracy: 0.8138 - auc: 0.8789 - val_loss: 0.3663 - val_accuracy: 0.8432 - val_auc: 0.9141\n",
      "Epoch 2/5\n",
      "507/507 [==============================] - 5s 10ms/step - loss: 0.3464 - accuracy: 0.8497 - auc: 0.9162 - val_loss: 0.3438 - val_accuracy: 0.8531 - val_auc: 0.9204\n",
      "Epoch 3/5\n",
      "507/507 [==============================] - 5s 10ms/step - loss: 0.3312 - accuracy: 0.8572 - auc: 0.9237 - val_loss: 0.4029 - val_accuracy: 0.8129 - val_auc: 0.9269\n",
      "Epoch 4/5\n",
      "507/507 [==============================] - 5s 9ms/step - loss: 0.3136 - accuracy: 0.8658 - auc: 0.9317 - val_loss: 0.3340 - val_accuracy: 0.8484 - val_auc: 0.9341\n",
      "Epoch 5/5\n",
      "507/507 [==============================] - 5s 10ms/step - loss: 0.3033 - accuracy: 0.8715 - auc: 0.9362 - val_loss: 0.3656 - val_accuracy: 0.8452 - val_auc: 0.9314\n",
      "Epoch 1/5\n",
      "  1/507 [..............................] - ETA: 2:51 - loss: 0.6469 - accuracy: 0.7500 - auc: 0.5990"
     ]
    },
    {
     "name": "stderr",
     "output_type": "stream",
     "text": [
      "2022-05-03 12:30:41.839497: I tensorflow/core/grappler/optimizers/custom_graph_optimizer_registry.cc:113] Plugin optimizer for device_type GPU is enabled.\n"
     ]
    },
    {
     "name": "stdout",
     "output_type": "stream",
     "text": [
      "502/507 [============================>.] - ETA: 0s - loss: 0.4079 - accuracy: 0.8134 - auc: 0.8805"
     ]
    },
    {
     "name": "stderr",
     "output_type": "stream",
     "text": [
      "2022-05-03 12:30:46.377667: I tensorflow/core/grappler/optimizers/custom_graph_optimizer_registry.cc:113] Plugin optimizer for device_type GPU is enabled.\n"
     ]
    },
    {
     "name": "stdout",
     "output_type": "stream",
     "text": [
      "507/507 [==============================] - 6s 10ms/step - loss: 0.4075 - accuracy: 0.8141 - auc: 0.8808 - val_loss: 0.3662 - val_accuracy: 0.8390 - val_auc: 0.9201\n",
      "Epoch 2/5\n",
      "507/507 [==============================] - 5s 10ms/step - loss: 0.3458 - accuracy: 0.8499 - auc: 0.9162 - val_loss: 0.3440 - val_accuracy: 0.8523 - val_auc: 0.9224\n",
      "Epoch 3/5\n",
      "507/507 [==============================] - 5s 10ms/step - loss: 0.3267 - accuracy: 0.8606 - auc: 0.9255 - val_loss: 0.3220 - val_accuracy: 0.8644 - val_auc: 0.9308\n",
      "Epoch 4/5\n",
      "507/507 [==============================] - 5s 10ms/step - loss: 0.3026 - accuracy: 0.8702 - auc: 0.9363 - val_loss: 0.3158 - val_accuracy: 0.8698 - val_auc: 0.9339\n",
      "Epoch 5/5\n",
      "507/507 [==============================] - 5s 10ms/step - loss: 0.2974 - accuracy: 0.8759 - auc: 0.9384 - val_loss: 0.3303 - val_accuracy: 0.8656 - val_auc: 0.9305\n"
     ]
    }
   ],
   "source": [
    "# generate train and test set\n",
    "x_train, x_test, y_train, y_test = train_test_split(np.array(images), np.array(cancer_label), test_size=0.2)\n",
    "\n",
    "# train data from ImageDataGenerator\n",
    "aug_train = image_dataset_from_directory(binary_root, labels=\"inferred\",validation_split=0.2,\n",
    "  subset=\"training\",seed=123, image_size=(27,27))\n",
    "aug_val = image_dataset_from_directory(binary_root, labels=\"inferred\",validation_split=0.2,\n",
    "  subset=\"validation\",seed=123,  image_size=(27,27))\n",
    "\n",
    "# intialize and train sub-models\n",
    "def get_sub_model():\n",
    "    # number of sub models\n",
    "    nets = 5\n",
    "    sub_models = [0]*nets\n",
    "    \n",
    "    for i in range(nets):\n",
    "        model = get_model()\n",
    "        # fit sub_model with train and test data\n",
    "        model.fit(x_train, y_train, epochs=5, validation_data=(x_test, y_test))\n",
    "        \n",
    "        # save fitted sub_model to model list\n",
    "        sub_models[i] = model\n",
    "        \n",
    "    return sub_models\n",
    "    \n",
    "sub_models = get_sub_model()"
   ]
  },
  {
   "cell_type": "code",
   "execution_count": 13,
   "id": "e90d20eb",
   "metadata": {},
   "outputs": [],
   "source": [
    "# method to get output from submodels to feed meta_learner\n",
    "# shape of dataset would be (no rows of OG dataset, [no output of sub model * no sub model])\n",
    "def get_ensembled_x(x):\n",
    "    ensembled_data = None\n",
    "    for sub_model in sub_models:\n",
    "        prediction = sub_model.predict(x)\n",
    "        \n",
    "        # stack prediction of sub model to ensembled data\n",
    "        if ensembled_data is None:\n",
    "            ensembled_data = prediction\n",
    "        else:\n",
    "            ensembled_data = np.dstack((ensembled_data, prediction))\n",
    "            \n",
    "    # ensemble data initially shape iz (no_col, no submodels, no classes)        \n",
    "    # reshape to (no_col, no submodels*no classes)\n",
    "    ensembled_data = ensembled_data.reshape(ensembled_data.shape[0], ensembled_data.shape[1]*ensembled_data.shape[2])\n",
    "    return ensembled_data\n",
    "\n",
    "def get_meta_learner():\n",
    "    model = tf.keras.Sequential()\n",
    "    # Flatten input\n",
    "    model.add(tf.keras.layers.Flatten())\n",
    "    # Hidden layers\n",
    "    model.add(tf.keras.layers.Dense(256, activation=\"tanh\"))\n",
    "    model.add(tf.keras.layers.Dense(128, activation=\"softmax\"))\n",
    "    model.add(tf.keras.layers.Dense(32, activation=\"relu\"))\n",
    "    # Output layer\n",
    "    model.add(tf.keras.layers.Dense(1, activation=\"sigmoid\"))\n",
    "    # Compile model\n",
    "    model.compile(optimizer=\"adam\",\n",
    "                  loss=\"binary_crossentropy\",\n",
    "                  metrics=[\"accuracy\", \"AUC\"])\n",
    "    \n",
    "    # get train ensembled data\n",
    "    ensembled_x = get_ensembled_x(x_train)\n",
    "    \n",
    "    model.fit(ensembled_x, y_train, epochs=10)\n",
    "    return model "
   ]
  },
  {
   "cell_type": "code",
   "execution_count": 14,
   "id": "9b341ecb",
   "metadata": {},
   "outputs": [
    {
     "name": "stderr",
     "output_type": "stream",
     "text": [
      "2022-05-03 12:31:14.316182: I tensorflow/core/grappler/optimizers/custom_graph_optimizer_registry.cc:113] Plugin optimizer for device_type GPU is enabled.\n",
      "2022-05-03 12:31:14.592216: I tensorflow/core/grappler/optimizers/custom_graph_optimizer_registry.cc:113] Plugin optimizer for device_type GPU is enabled.\n",
      "2022-05-03 12:31:14.857777: I tensorflow/core/grappler/optimizers/custom_graph_optimizer_registry.cc:113] Plugin optimizer for device_type GPU is enabled.\n",
      "2022-05-03 12:31:15.125754: I tensorflow/core/grappler/optimizers/custom_graph_optimizer_registry.cc:113] Plugin optimizer for device_type GPU is enabled.\n",
      "2022-05-03 12:31:15.393551: I tensorflow/core/grappler/optimizers/custom_graph_optimizer_registry.cc:113] Plugin optimizer for device_type GPU is enabled.\n",
      "2022-05-03 12:31:15.748085: I tensorflow/core/grappler/optimizers/custom_graph_optimizer_registry.cc:113] Plugin optimizer for device_type GPU is enabled.\n",
      "2022-05-03 12:31:16.835260: I tensorflow/core/grappler/optimizers/custom_graph_optimizer_registry.cc:113] Plugin optimizer for device_type GPU is enabled.\n",
      "2022-05-03 12:31:17.800838: I tensorflow/core/grappler/optimizers/custom_graph_optimizer_registry.cc:113] Plugin optimizer for device_type GPU is enabled.\n",
      "2022-05-03 12:31:18.874799: I tensorflow/core/grappler/optimizers/custom_graph_optimizer_registry.cc:113] Plugin optimizer for device_type GPU is enabled.\n",
      "2022-05-03 12:31:19.863718: I tensorflow/core/grappler/optimizers/custom_graph_optimizer_registry.cc:113] Plugin optimizer for device_type GPU is enabled.\n"
     ]
    },
    {
     "name": "stdout",
     "output_type": "stream",
     "text": [
      "Epoch 1/10\n"
     ]
    },
    {
     "name": "stderr",
     "output_type": "stream",
     "text": [
      "2022-05-03 12:31:20.944978: I tensorflow/core/grappler/optimizers/custom_graph_optimizer_registry.cc:113] Plugin optimizer for device_type GPU is enabled.\n"
     ]
    },
    {
     "name": "stdout",
     "output_type": "stream",
     "text": [
      "507/507 [==============================] - 4s 8ms/step - loss: 0.3601 - accuracy: 0.8763 - auc: 0.9177\n",
      "Epoch 2/10\n",
      "507/507 [==============================] - 4s 7ms/step - loss: 0.2748 - accuracy: 0.8889 - auc: 0.9486\n",
      "Epoch 3/10\n",
      "507/507 [==============================] - 4s 7ms/step - loss: 0.2718 - accuracy: 0.8903 - auc: 0.9498\n",
      "Epoch 4/10\n",
      "507/507 [==============================] - 4s 7ms/step - loss: 0.2711 - accuracy: 0.8901 - auc: 0.9496\n",
      "Epoch 5/10\n",
      "507/507 [==============================] - 4s 7ms/step - loss: 0.2700 - accuracy: 0.8904 - auc: 0.9500\n",
      "Epoch 6/10\n",
      "507/507 [==============================] - 4s 7ms/step - loss: 0.2694 - accuracy: 0.8897 - auc: 0.9499\n",
      "Epoch 7/10\n",
      "507/507 [==============================] - 4s 7ms/step - loss: 0.2690 - accuracy: 0.8907 - auc: 0.9501\n",
      "Epoch 8/10\n",
      "507/507 [==============================] - 4s 7ms/step - loss: 0.2687 - accuracy: 0.8896 - auc: 0.9502\n",
      "Epoch 9/10\n",
      "507/507 [==============================] - 4s 7ms/step - loss: 0.2685 - accuracy: 0.8895 - auc: 0.9501\n",
      "Epoch 10/10\n",
      "507/507 [==============================] - 4s 8ms/step - loss: 0.2692 - accuracy: 0.8894 - auc: 0.9499\n",
      "  1/127 [..............................] - ETA: 28s - loss: 0.2177 - accuracy: 0.9062 - auc: 0.9543"
     ]
    },
    {
     "name": "stderr",
     "output_type": "stream",
     "text": [
      "2022-05-03 12:31:59.237369: I tensorflow/core/grappler/optimizers/custom_graph_optimizer_registry.cc:113] Plugin optimizer for device_type GPU is enabled.\n"
     ]
    },
    {
     "name": "stdout",
     "output_type": "stream",
     "text": [
      "127/127 [==============================] - 1s 7ms/step - loss: 0.3076 - accuracy: 0.8691 - auc: 0.9365\n"
     ]
    },
    {
     "data": {
      "text/plain": [
       "[0.3075993061065674, 0.8690828680992126, 0.936511218547821]"
      ]
     },
     "execution_count": 14,
     "metadata": {},
     "output_type": "execute_result"
    }
   ],
   "source": [
    "# evaluate with ensembled CNN model\n",
    "# get test data\n",
    "ensembled_x_test = get_ensembled_x(x_test)\n",
    "# get trained ensemble model\n",
    "ensembled_model = get_meta_learner()\n",
    "# evaluate\n",
    "ensembled_model.evaluate(ensembled_x_test, y_test)"
   ]
  },
  {
   "cell_type": "markdown",
   "id": "4b8319ef",
   "metadata": {},
   "source": [
    "### Base model for multiclass  "
   ]
  },
  {
   "cell_type": "code",
   "execution_count": 46,
   "id": "a3409180",
   "metadata": {
    "scrolled": true
   },
   "outputs": [
    {
     "data": {
      "image/png": "[encoded data removed]",
      "text/plain": [
       "<Figure size 720x720 with 25 Axes>"
      ]
     },
     "metadata": {},
     "output_type": "display_data"
    },
    {
     "name": "stdout",
     "output_type": "stream",
     "text": [
      "Epoch 1/15\n"
     ]
    },
    {
     "name": "stderr",
     "output_type": "stream",
     "text": [
      "2022-05-05 12:54:54.025128: I tensorflow/core/grappler/optimizers/custom_graph_optimizer_registry.cc:113] Plugin optimizer for device_type GPU is enabled.\n"
     ]
    },
    {
     "name": "stdout",
     "output_type": "stream",
     "text": [
      "248/248 [==============================] - ETA: 0s - loss: 0.9878 - accuracy: 0.5934"
     ]
    },
    {
     "name": "stderr",
     "output_type": "stream",
     "text": [
      "2022-05-05 12:54:57.915474: I tensorflow/core/grappler/optimizers/custom_graph_optimizer_registry.cc:113] Plugin optimizer for device_type GPU is enabled.\n"
     ]
    },
    {
     "name": "stdout",
     "output_type": "stream",
     "text": [
      "248/248 [==============================] - 5s 16ms/step - loss: 0.9878 - accuracy: 0.5934 - val_loss: 0.9111 - val_accuracy: 0.6343\n",
      "Epoch 2/15\n",
      "248/248 [==============================] - 4s 15ms/step - loss: 0.8070 - accuracy: 0.6834 - val_loss: 0.7392 - val_accuracy: 0.7283\n",
      "Epoch 3/15\n",
      "248/248 [==============================] - 4s 14ms/step - loss: 0.7275 - accuracy: 0.7121 - val_loss: 0.7349 - val_accuracy: 0.7116\n",
      "Epoch 4/15\n",
      "248/248 [==============================] - 4s 14ms/step - loss: 0.6944 - accuracy: 0.7292 - val_loss: 0.7672 - val_accuracy: 0.6934\n",
      "Epoch 5/15\n",
      "248/248 [==============================] - 4s 15ms/step - loss: 0.6733 - accuracy: 0.7365 - val_loss: 0.6968 - val_accuracy: 0.7328\n",
      "Epoch 6/15\n",
      "248/248 [==============================] - 4s 15ms/step - loss: 0.6263 - accuracy: 0.7532 - val_loss: 0.6601 - val_accuracy: 0.7449\n",
      "Epoch 7/15\n",
      "248/248 [==============================] - 4s 15ms/step - loss: 0.6000 - accuracy: 0.7662 - val_loss: 0.6796 - val_accuracy: 0.7399\n",
      "Epoch 8/15\n",
      "248/248 [==============================] - 4s 14ms/step - loss: 0.5732 - accuracy: 0.7779 - val_loss: 0.6789 - val_accuracy: 0.7328\n",
      "Epoch 9/15\n",
      "248/248 [==============================] - 4s 14ms/step - loss: 0.5441 - accuracy: 0.7972 - val_loss: 0.6895 - val_accuracy: 0.7318\n",
      "Epoch 10/15\n",
      "248/248 [==============================] - 4s 15ms/step - loss: 0.5259 - accuracy: 0.7979 - val_loss: 0.7722 - val_accuracy: 0.7242\n",
      "Epoch 11/15\n",
      "248/248 [==============================] - 4s 15ms/step - loss: 0.4828 - accuracy: 0.8134 - val_loss: 0.7840 - val_accuracy: 0.7116\n",
      "Epoch 12/15\n",
      "248/248 [==============================] - 4s 15ms/step - loss: 0.4296 - accuracy: 0.8384 - val_loss: 0.7188 - val_accuracy: 0.7475\n",
      "Epoch 13/15\n",
      "248/248 [==============================] - 4s 15ms/step - loss: 0.3982 - accuracy: 0.8485 - val_loss: 0.8473 - val_accuracy: 0.7369\n",
      "Epoch 14/15\n",
      "248/248 [==============================] - 4s 15ms/step - loss: 0.3479 - accuracy: 0.8687 - val_loss: 0.7889 - val_accuracy: 0.7449\n",
      "Epoch 15/15\n",
      "248/248 [==============================] - 4s 15ms/step - loss: 0.3079 - accuracy: 0.8845 - val_loss: 0.9563 - val_accuracy: 0.7328\n"
     ]
    },
    {
     "data": {
      "text/plain": [
       "<keras.callbacks.History at 0x2d7416fa0>"
      ]
     },
     "execution_count": 46,
     "metadata": {},
     "output_type": "execute_result"
    }
   ],
   "source": [
    "import matplotlib.pyplot as plt\n",
    "all_class = [\"epithelial\", \"fibroblast\", \"inflammatory\", \"others\"]\n",
    "\n",
    "def celltype_classify_data(class_list):    \n",
    "    images = list()\n",
    "    labels = list()\n",
    "    \n",
    "    for i, label in enumerate(class_list):\n",
    "        # get image directory\n",
    "        img_dir = os.path.join(root, f\"{label}\")\n",
    "        \n",
    "        for img in os.listdir(img_dir):\n",
    "            img = cv2.imread(os.path.join(img_dir, img))\n",
    "            # resize to 0-1 for faster computation\n",
    "            resized = img / 255\n",
    "            images.append(resized)\n",
    "            labels.append(i)\n",
    "        \n",
    "    return (images, labels)\n",
    "\n",
    "# print first 25 images\n",
    "plt.figure(figsize=(10,10))\n",
    "for i in range(25):\n",
    "    plt.subplot(5,5,i+1)\n",
    "    plt.xticks([])\n",
    "    plt.yticks([])\n",
    "    plt.grid(False)\n",
    "    plt.imshow(x_train[i], cmap=plt.cm.binary)\n",
    "    plt.xlabel(all_class[y_train[i]])\n",
    "plt.show()\n",
    "\n",
    "def get_multiclass_model():\n",
    "    model = tf.keras.Sequential()\n",
    "    # First convo-pooling\n",
    "    \n",
    "    # Convolutional layers (filter the image with a kernel)\n",
    "    model.add(tf.keras.layers.Conv2D(64, (3, 3), strides=1,activation=\"relu\", input_shape=[27, 27, 3]))\n",
    "    # Max-pooling layers (reduce the size of the image by choosing max pixel at certain area)\n",
    "    model.add(tf.keras.layers.MaxPool2D(pool_size=(2, 2), strides=1))\n",
    "    \n",
    "    # Convolutional layers (filter the image with a kernel)\n",
    "    model.add(tf.keras.layers.Conv2D(64, (3, 3),strides=1, activation=\"relu\"))\n",
    "    # Max-pooling layers (reduce the size of the image by choosing max pixel at certain area)\n",
    "    model.add(tf.keras.layers.MaxPool2D(pool_size=(2, 2),strides=1))\n",
    "    \n",
    "    # Flatten input\n",
    "    model.add(tf.keras.layers.Flatten())\n",
    "    model.add(tf.keras.layers.Dense(256, activation=\"relu\"))\n",
    "    model.add(tf.keras.layers.Dense(128, activation=\"relu\"))\n",
    "    model.add(tf.keras.layers.Dense(32, activation=\"relu\"))\n",
    "    # Output layer\n",
    "    model.add(tf.keras.layers.Dense(4, activation=\"softmax\"))\n",
    "    # Compile model \n",
    "    model.compile(optimizer=\"adam\",\n",
    "                  loss=\"sparse_categorical_crossentropy\",\n",
    "                  metrics=[\"accuracy\"])\n",
    "    \n",
    "    return model\n",
    "\n",
    "cell_img, celltype_label = celltype_classify_data(all_class)\n",
    "x_train, x_test, y_train, y_test = train_test_split(\n",
    "    np.array(cell_img), np.array(celltype_label), test_size=0.2\n",
    ")\n",
    "\n",
    "model = get_multiclass_model()\n",
    "\n",
    "model.fit(x_train, y_train, epochs=15, validation_data=(x_test, y_test))"
   ]
  },
  {
   "cell_type": "markdown",
   "id": "d59cfe83",
   "metadata": {},
   "source": [
    "Base CNN + ZCA whitening"
   ]
  },
  {
   "cell_type": "code",
   "execution_count": 45,
   "id": "9d5d5373",
   "metadata": {},
   "outputs": [
    {
     "name": "stdout",
     "output_type": "stream",
     "text": [
      "Epoch 1/20\n"
     ]
    },
    {
     "name": "stderr",
     "output_type": "stream",
     "text": [
      "2022-05-05 12:38:04.478584: I tensorflow/core/grappler/optimizers/custom_graph_optimizer_registry.cc:113] Plugin optimizer for device_type GPU is enabled.\n"
     ]
    },
    {
     "name": "stdout",
     "output_type": "stream",
     "text": [
      "248/248 [==============================] - ETA: 0s - loss: 1.3706 - accuracy: 0.4061"
     ]
    },
    {
     "name": "stderr",
     "output_type": "stream",
     "text": [
      "2022-05-05 12:38:23.959164: I tensorflow/core/grappler/optimizers/custom_graph_optimizer_registry.cc:113] Plugin optimizer for device_type GPU is enabled.\n"
     ]
    },
    {
     "name": "stdout",
     "output_type": "stream",
     "text": [
      "248/248 [==============================] - 23s 91ms/step - loss: 1.3706 - accuracy: 0.4061 - val_loss: 1.2991 - val_accuracy: 0.4202\n",
      "Epoch 2/20\n",
      "248/248 [==============================] - 21s 85ms/step - loss: 1.3081 - accuracy: 0.4102 - val_loss: 1.2988 - val_accuracy: 0.4202\n",
      "Epoch 3/20\n",
      "248/248 [==============================] - 21s 86ms/step - loss: 1.2966 - accuracy: 0.4102 - val_loss: 1.2720 - val_accuracy: 0.4763\n",
      "Epoch 4/20\n",
      "248/248 [==============================] - 21s 86ms/step - loss: 1.0521 - accuracy: 0.5394 - val_loss: 1.0167 - val_accuracy: 0.5475\n",
      "Epoch 5/20\n",
      "248/248 [==============================] - 23s 92ms/step - loss: 0.9413 - accuracy: 0.5918 - val_loss: 0.9600 - val_accuracy: 0.5859\n",
      "Epoch 6/20\n",
      "248/248 [==============================] - 22s 90ms/step - loss: 0.8677 - accuracy: 0.6290 - val_loss: 0.9248 - val_accuracy: 0.5985\n",
      "Epoch 7/20\n",
      "248/248 [==============================] - 22s 88ms/step - loss: 0.8128 - accuracy: 0.6572 - val_loss: 0.9588 - val_accuracy: 0.5848\n",
      "Epoch 8/20\n",
      "248/248 [==============================] - 22s 87ms/step - loss: 0.7303 - accuracy: 0.6937 - val_loss: 1.0056 - val_accuracy: 0.5833\n",
      "Epoch 9/20\n",
      "248/248 [==============================] - 22s 89ms/step - loss: 0.6330 - accuracy: 0.7423 - val_loss: 1.0920 - val_accuracy: 0.5783\n",
      "Epoch 10/20\n",
      "248/248 [==============================] - 21s 86ms/step - loss: 0.5032 - accuracy: 0.7976 - val_loss: 1.2448 - val_accuracy: 0.5707\n",
      "Epoch 11/20\n",
      "248/248 [==============================] - 22s 87ms/step - loss: 0.3851 - accuracy: 0.8552 - val_loss: 1.3937 - val_accuracy: 0.5591\n",
      "Epoch 12/20\n",
      "248/248 [==============================] - 21s 84ms/step - loss: 0.2886 - accuracy: 0.8935 - val_loss: 1.9989 - val_accuracy: 0.5631\n",
      "Epoch 13/20\n",
      "248/248 [==============================] - 22s 87ms/step - loss: 0.2185 - accuracy: 0.9219 - val_loss: 2.2358 - val_accuracy: 0.5545\n",
      "Epoch 14/20\n",
      "248/248 [==============================] - 22s 88ms/step - loss: 0.1547 - accuracy: 0.9450 - val_loss: 2.3432 - val_accuracy: 0.5495\n",
      "Epoch 15/20\n",
      "248/248 [==============================] - 23s 91ms/step - loss: 0.1620 - accuracy: 0.9468 - val_loss: 2.6337 - val_accuracy: 0.5621\n",
      "Epoch 16/20\n",
      "248/248 [==============================] - 23s 93ms/step - loss: 0.1132 - accuracy: 0.9627 - val_loss: 2.6724 - val_accuracy: 0.5480\n",
      "Epoch 17/20\n",
      "248/248 [==============================] - 23s 93ms/step - loss: 0.0534 - accuracy: 0.9851 - val_loss: 3.0535 - val_accuracy: 0.5475\n",
      "Epoch 18/20\n",
      "248/248 [==============================] - 22s 88ms/step - loss: 0.0713 - accuracy: 0.9771 - val_loss: 3.2356 - val_accuracy: 0.5470\n",
      "Epoch 19/20\n",
      "248/248 [==============================] - 23s 93ms/step - loss: 0.1166 - accuracy: 0.9597 - val_loss: 2.8625 - val_accuracy: 0.5576\n",
      "Epoch 20/20\n",
      "248/248 [==============================] - 21s 86ms/step - loss: 0.0812 - accuracy: 0.9749 - val_loss: 3.1996 - val_accuracy: 0.5424\n"
     ]
    },
    {
     "data": {
      "text/plain": [
       "<keras.callbacks.History at 0x2c7f030a0>"
      ]
     },
     "execution_count": 45,
     "metadata": {},
     "output_type": "execute_result"
    }
   ],
   "source": [
    "# train data from ImageDataGenerator\n",
    "datagen = ImageDataGenerator(\n",
    "     zca_whitening=True,\n",
    ")\n",
    "datagen.fit(np.array(cell_img))\n",
    "\n",
    "aug_train = datagen.flow(x_train, y_train, shuffle=True)\n",
    "aug_val = datagen.flow(x_test, y_test, shuffle=True)\n",
    "\n",
    "model = get_multiclass_model()\n",
    "model.fit(aug_train, epochs=20, validation_data=aug_val)"
   ]
  },
  {
   "cell_type": "markdown",
   "id": "9c230a95",
   "metadata": {},
   "source": [
    "Base CNN + rotation"
   ]
  },
  {
   "cell_type": "code",
   "execution_count": 40,
   "id": "765a8e3c",
   "metadata": {},
   "outputs": [
    {
     "name": "stdout",
     "output_type": "stream",
     "text": [
      "Epoch 1/20\n"
     ]
    },
    {
     "name": "stderr",
     "output_type": "stream",
     "text": [
      "2022-05-05 12:25:33.117577: I tensorflow/core/grappler/optimizers/custom_graph_optimizer_registry.cc:113] Plugin optimizer for device_type GPU is enabled.\n"
     ]
    },
    {
     "name": "stdout",
     "output_type": "stream",
     "text": [
      "248/248 [==============================] - ETA: 0s - loss: 1.0627 - accuracy: 0.5485"
     ]
    },
    {
     "name": "stderr",
     "output_type": "stream",
     "text": [
      "2022-05-05 12:25:36.867577: I tensorflow/core/grappler/optimizers/custom_graph_optimizer_registry.cc:113] Plugin optimizer for device_type GPU is enabled.\n"
     ]
    },
    {
     "name": "stdout",
     "output_type": "stream",
     "text": [
      "248/248 [==============================] - 4s 16ms/step - loss: 1.0627 - accuracy: 0.5485 - val_loss: 0.9035 - val_accuracy: 0.6404\n",
      "Epoch 2/20\n",
      "248/248 [==============================] - 4s 15ms/step - loss: 0.8048 - accuracy: 0.6772 - val_loss: 0.7946 - val_accuracy: 0.6823\n",
      "Epoch 3/20\n",
      "248/248 [==============================] - 4s 15ms/step - loss: 0.7569 - accuracy: 0.6988 - val_loss: 0.7558 - val_accuracy: 0.7005\n",
      "Epoch 4/20\n",
      "248/248 [==============================] - 4s 15ms/step - loss: 0.7456 - accuracy: 0.6987 - val_loss: 0.7611 - val_accuracy: 0.6995\n",
      "Epoch 5/20\n",
      "248/248 [==============================] - 4s 15ms/step - loss: 0.7319 - accuracy: 0.7068 - val_loss: 0.8100 - val_accuracy: 0.6793\n",
      "Epoch 6/20\n",
      "248/248 [==============================] - 4s 15ms/step - loss: 0.7095 - accuracy: 0.7121 - val_loss: 0.6961 - val_accuracy: 0.7303\n",
      "Epoch 7/20\n",
      "248/248 [==============================] - 4s 15ms/step - loss: 0.7107 - accuracy: 0.7140 - val_loss: 0.7549 - val_accuracy: 0.6980\n",
      "Epoch 8/20\n",
      "248/248 [==============================] - 4s 15ms/step - loss: 0.7022 - accuracy: 0.7202 - val_loss: 0.6825 - val_accuracy: 0.7328\n",
      "Epoch 9/20\n",
      "248/248 [==============================] - 4s 15ms/step - loss: 0.6732 - accuracy: 0.7290 - val_loss: 0.7120 - val_accuracy: 0.7222\n",
      "Epoch 10/20\n",
      "248/248 [==============================] - 4s 15ms/step - loss: 0.6668 - accuracy: 0.7377 - val_loss: 0.6725 - val_accuracy: 0.7455\n",
      "Epoch 11/20\n",
      "248/248 [==============================] - 4s 15ms/step - loss: 0.6629 - accuracy: 0.7359 - val_loss: 0.7065 - val_accuracy: 0.7237\n",
      "Epoch 12/20\n",
      "248/248 [==============================] - 4s 15ms/step - loss: 0.6522 - accuracy: 0.7417 - val_loss: 0.7024 - val_accuracy: 0.7404\n",
      "Epoch 13/20\n",
      "248/248 [==============================] - 4s 15ms/step - loss: 0.6275 - accuracy: 0.7552 - val_loss: 0.6728 - val_accuracy: 0.7394\n",
      "Epoch 14/20\n",
      "248/248 [==============================] - 4s 15ms/step - loss: 0.6185 - accuracy: 0.7593 - val_loss: 0.6590 - val_accuracy: 0.7455\n",
      "Epoch 15/20\n",
      "248/248 [==============================] - 4s 15ms/step - loss: 0.6341 - accuracy: 0.7497 - val_loss: 0.6838 - val_accuracy: 0.7354\n",
      "Epoch 16/20\n",
      "248/248 [==============================] - 4s 15ms/step - loss: 0.5999 - accuracy: 0.7621 - val_loss: 0.6787 - val_accuracy: 0.7419\n",
      "Epoch 17/20\n",
      "248/248 [==============================] - 4s 15ms/step - loss: 0.6013 - accuracy: 0.7663 - val_loss: 0.7027 - val_accuracy: 0.7419\n",
      "Epoch 18/20\n",
      "248/248 [==============================] - 4s 15ms/step - loss: 0.5986 - accuracy: 0.7681 - val_loss: 0.6810 - val_accuracy: 0.7429\n",
      "Epoch 19/20\n",
      "248/248 [==============================] - 4s 15ms/step - loss: 0.5991 - accuracy: 0.7645 - val_loss: 0.6697 - val_accuracy: 0.7566\n",
      "Epoch 20/20\n",
      "248/248 [==============================] - 4s 15ms/step - loss: 0.5770 - accuracy: 0.7743 - val_loss: 0.7469 - val_accuracy: 0.7157\n"
     ]
    },
    {
     "data": {
      "text/plain": [
       "<keras.callbacks.History at 0x2c7ffa070>"
      ]
     },
     "execution_count": 40,
     "metadata": {},
     "output_type": "execute_result"
    }
   ],
   "source": [
    "# train data from ImageDataGenerator\n",
    "datagen = ImageDataGenerator(\n",
    "     rotation_range=45,\n",
    ")\n",
    "datagen.fit(np.array(cell_img))\n",
    "\n",
    "aug_train = datagen.flow(x_train, y_train, shuffle=True)\n",
    "aug_val = datagen.flow(x_test, y_test, shuffle=True)\n",
    "\n",
    "model = get_multiclass_model()\n",
    "model.fit(aug_train, epochs=20, validation_data=aug_val)"
   ]
  },
  {
   "cell_type": "markdown",
   "id": "6ada6a38",
   "metadata": {},
   "source": [
    "### Multiclass using multiple models"
   ]
  },
  {
   "cell_type": "code",
   "execution_count": 88,
   "id": "bb8d3e77",
   "metadata": {},
   "outputs": [
    {
     "name": "stdout",
     "output_type": "stream",
     "text": [
      "---Subclass training---\n",
      "Epoch 1/40\n"
     ]
    },
    {
     "name": "stderr",
     "output_type": "stream",
     "text": [
      "2022-05-06 12:10:09.713300: I tensorflow/core/grappler/optimizers/custom_graph_optimizer_registry.cc:113] Plugin optimizer for device_type GPU is enabled.\n"
     ]
    },
    {
     "name": "stdout",
     "output_type": "stream",
     "text": [
      "213/213 [==============================] - ETA: 0s - loss: 0.6369 - accuracy: 0.7327"
     ]
    },
    {
     "name": "stderr",
     "output_type": "stream",
     "text": [
      "2022-05-06 12:10:11.779974: I tensorflow/core/grappler/optimizers/custom_graph_optimizer_registry.cc:113] Plugin optimizer for device_type GPU is enabled.\n"
     ]
    },
    {
     "name": "stdout",
     "output_type": "stream",
     "text": [
      "213/213 [==============================] - 2s 10ms/step - loss: 0.6369 - accuracy: 0.7327 - val_loss: 0.5417 - val_accuracy: 0.7703\n",
      "Epoch 2/40\n",
      "213/213 [==============================] - 2s 9ms/step - loss: 0.5002 - accuracy: 0.8063 - val_loss: 0.4863 - val_accuracy: 0.8126\n",
      "Epoch 3/40\n",
      "213/213 [==============================] - 2s 9ms/step - loss: 0.4455 - accuracy: 0.8293 - val_loss: 0.4612 - val_accuracy: 0.8296\n",
      "Epoch 4/40\n",
      "213/213 [==============================] - 2s 9ms/step - loss: 0.4211 - accuracy: 0.8371 - val_loss: 0.4815 - val_accuracy: 0.8179\n",
      "Epoch 5/40\n",
      "213/213 [==============================] - 2s 9ms/step - loss: 0.3999 - accuracy: 0.8453 - val_loss: 0.4940 - val_accuracy: 0.8179\n",
      "Epoch 6/40\n",
      "213/213 [==============================] - 2s 9ms/step - loss: 0.3723 - accuracy: 0.8594 - val_loss: 0.5234 - val_accuracy: 0.7996\n",
      "Epoch 7/40\n",
      "213/213 [==============================] - 2s 9ms/step - loss: 0.3416 - accuracy: 0.8652 - val_loss: 0.5340 - val_accuracy: 0.8002\n",
      "Epoch 8/40\n",
      "213/213 [==============================] - 2s 9ms/step - loss: 0.3524 - accuracy: 0.8584 - val_loss: 0.4657 - val_accuracy: 0.8237\n",
      "Epoch 9/40\n",
      "213/213 [==============================] - 2s 9ms/step - loss: 0.3228 - accuracy: 0.8702 - val_loss: 0.5450 - val_accuracy: 0.7961\n",
      "Epoch 10/40\n",
      "213/213 [==============================] - 2s 9ms/step - loss: 0.2828 - accuracy: 0.8916 - val_loss: 0.5115 - val_accuracy: 0.8055\n",
      "Epoch 11/40\n",
      "213/213 [==============================] - 2s 9ms/step - loss: 0.2402 - accuracy: 0.9091 - val_loss: 0.5938 - val_accuracy: 0.8067\n",
      "Epoch 12/40\n",
      "213/213 [==============================] - 2s 9ms/step - loss: 0.2123 - accuracy: 0.9229 - val_loss: 0.5148 - val_accuracy: 0.8302\n",
      "Epoch 13/40\n",
      "213/213 [==============================] - 2s 9ms/step - loss: 0.1779 - accuracy: 0.9323 - val_loss: 0.6101 - val_accuracy: 0.8214\n",
      "Epoch 14/40\n",
      "213/213 [==============================] - 2s 9ms/step - loss: 0.1533 - accuracy: 0.9412 - val_loss: 0.5783 - val_accuracy: 0.8067\n",
      "Epoch 15/40\n",
      "213/213 [==============================] - 2s 9ms/step - loss: 0.1391 - accuracy: 0.9481 - val_loss: 0.6622 - val_accuracy: 0.8102\n",
      "Epoch 16/40\n",
      "213/213 [==============================] - 2s 9ms/step - loss: 0.1163 - accuracy: 0.9583 - val_loss: 0.7947 - val_accuracy: 0.8043\n",
      "Epoch 17/40\n",
      "213/213 [==============================] - 2s 9ms/step - loss: 0.0998 - accuracy: 0.9630 - val_loss: 1.0411 - val_accuracy: 0.7985\n",
      "Epoch 18/40\n",
      "213/213 [==============================] - 2s 9ms/step - loss: 0.0785 - accuracy: 0.9702 - val_loss: 0.8970 - val_accuracy: 0.8073\n",
      "Epoch 19/40\n",
      "213/213 [==============================] - 2s 9ms/step - loss: 0.0965 - accuracy: 0.9653 - val_loss: 0.8970 - val_accuracy: 0.7803\n",
      "Epoch 20/40\n",
      "213/213 [==============================] - 2s 10ms/step - loss: 0.0660 - accuracy: 0.9762 - val_loss: 1.1178 - val_accuracy: 0.7803\n",
      "Epoch 21/40\n",
      "213/213 [==============================] - 2s 11ms/step - loss: 0.0648 - accuracy: 0.9784 - val_loss: 1.1004 - val_accuracy: 0.8061\n",
      "Epoch 22/40\n",
      "213/213 [==============================] - 2s 10ms/step - loss: 0.0589 - accuracy: 0.9784 - val_loss: 1.1616 - val_accuracy: 0.7938\n",
      "Epoch 23/40\n",
      "213/213 [==============================] - 2s 9ms/step - loss: 0.0363 - accuracy: 0.9882 - val_loss: 1.0685 - val_accuracy: 0.8020\n",
      "Epoch 24/40\n",
      "213/213 [==============================] - 2s 9ms/step - loss: 0.0794 - accuracy: 0.9731 - val_loss: 1.1351 - val_accuracy: 0.7920\n",
      "Epoch 25/40\n",
      "213/213 [==============================] - 2s 9ms/step - loss: 0.0318 - accuracy: 0.9884 - val_loss: 1.4096 - val_accuracy: 0.7808\n",
      "Epoch 26/40\n",
      "213/213 [==============================] - 2s 9ms/step - loss: 0.0363 - accuracy: 0.9877 - val_loss: 1.2262 - val_accuracy: 0.8008\n",
      "Epoch 27/40\n",
      "213/213 [==============================] - 2s 9ms/step - loss: 0.0083 - accuracy: 0.9985 - val_loss: 1.4116 - val_accuracy: 0.8038\n",
      "Epoch 28/40\n",
      "213/213 [==============================] - 2s 9ms/step - loss: 0.0872 - accuracy: 0.9712 - val_loss: 1.2995 - val_accuracy: 0.7803\n",
      "Epoch 29/40\n",
      "213/213 [==============================] - 2s 9ms/step - loss: 0.0612 - accuracy: 0.9787 - val_loss: 1.4262 - val_accuracy: 0.7474\n",
      "Epoch 30/40\n",
      "213/213 [==============================] - 2s 9ms/step - loss: 0.0497 - accuracy: 0.9837 - val_loss: 1.3127 - val_accuracy: 0.7826\n",
      "Epoch 31/40\n",
      "213/213 [==============================] - 2s 9ms/step - loss: 0.0197 - accuracy: 0.9931 - val_loss: 1.3921 - val_accuracy: 0.7650\n",
      "Epoch 32/40\n",
      "213/213 [==============================] - 2s 9ms/step - loss: 0.0253 - accuracy: 0.9932 - val_loss: 1.2562 - val_accuracy: 0.7996\n",
      "Epoch 33/40\n",
      "213/213 [==============================] - 2s 8ms/step - loss: 0.0315 - accuracy: 0.9890 - val_loss: 1.2694 - val_accuracy: 0.7932\n",
      "Epoch 34/40\n",
      "213/213 [==============================] - 2s 8ms/step - loss: 0.0280 - accuracy: 0.9916 - val_loss: 1.4402 - val_accuracy: 0.7873\n",
      "Epoch 35/40\n",
      "213/213 [==============================] - 2s 9ms/step - loss: 0.0135 - accuracy: 0.9957 - val_loss: 1.4530 - val_accuracy: 0.8002\n",
      "Epoch 36/40\n",
      "213/213 [==============================] - 2s 9ms/step - loss: 0.0153 - accuracy: 0.9943 - val_loss: 1.4248 - val_accuracy: 0.7926\n",
      "Epoch 37/40\n",
      "213/213 [==============================] - 2s 9ms/step - loss: 0.0614 - accuracy: 0.9800 - val_loss: 1.1629 - val_accuracy: 0.7908\n",
      "Epoch 38/40\n",
      "213/213 [==============================] - 2s 8ms/step - loss: 0.0136 - accuracy: 0.9963 - val_loss: 1.4326 - val_accuracy: 0.7891\n",
      "Epoch 39/40\n",
      "213/213 [==============================] - 2s 9ms/step - loss: 0.0040 - accuracy: 0.9993 - val_loss: 1.4714 - val_accuracy: 0.7938\n",
      "Epoch 40/40\n",
      "213/213 [==============================] - 2s 9ms/step - loss: 0.0058 - accuracy: 0.9981 - val_loss: 1.6018 - val_accuracy: 0.7985\n"
     ]
    },
    {
     "data": {
      "text/plain": [
       "<keras.callbacks.History at 0x2cafd5df0>"
      ]
     },
     "execution_count": 88,
     "metadata": {},
     "output_type": "execute_result"
    }
   ],
   "source": [
    "def get_subclass_model():\n",
    "    model = tf.keras.Sequential()\n",
    "    # First convo-pooling\n",
    "    # Convolutional layers (filter the image with a kernel)\n",
    "    model.add(tf.keras.layers.Conv2D(64, (3, 3), activation=\"relu\", input_shape=[27, 27, 3]))\n",
    "    # Max-pooling layers (reduce the size of the image by choosing max pixel at certain area)\n",
    "    model.add(tf.keras.layers.MaxPool2D(pool_size=(2, 2)))\n",
    "    # Flatten input\n",
    "    model.add(tf.keras.layers.Flatten())\n",
    "    model.add(tf.keras.layers.Dense(256, activation=\"relu\"))\n",
    "    model.add(tf.keras.layers.Dense(128, activation=\"relu\"))\n",
    "    model.add(tf.keras.layers.Dense(32, activation=\"relu\"))\n",
    "    # Output layer\n",
    "    model.add(tf.keras.layers.Dense(3, activation=\"softmax\"))\n",
    "    # Compile model \n",
    "    model.compile(optimizer=\"adam\",\n",
    "                  loss=\"sparse_categorical_crossentropy\",\n",
    "                  metrics=[\"accuracy\"])\n",
    "    \n",
    "    return model\n",
    "\n",
    "def get_transfer_model():\n",
    "    model = tf.keras.Sequential()\n",
    "    # Flatten input\n",
    "    model.add(tf.keras.layers.Flatten())\n",
    "    # Hidden layers\n",
    "    model.add(tf.keras.layers.Dense(256, activation=\"relu\"))\n",
    "    model.add(tf.keras.layers.Dense(128, activation=\"softmax\"))\n",
    "    model.add(tf.keras.layers.Dense(32, activation=\"relu\"))\n",
    "    model.add(tf.keras.layers.Dense(3, activation=\"sigmoid\"))\n",
    "    # Output layer\n",
    "    model.add(tf.keras.layers.Dense(4, activation=\"softmax\"))\n",
    "    # Compile model\n",
    "    model.compile(optimizer=\"adam\",\n",
    "                  loss=\"sparse_categorical_crossentropy\",\n",
    "                  metrics=[\"accuracy\"])\n",
    "    return model\n",
    "\n",
    "sub_multiclass = [\"epithelial\", \"fibroblast\", \"inflammatory\"]\n",
    "\n",
    "# imgs with 3 classes\n",
    "subcell_img, subcelltype_label = celltype_classify_data(sub_multiclass)\n",
    "subx_train, subx_test, suby_train, suby_test = train_test_split(\n",
    "    np.array(subcell_img), np.array(subcelltype_label), test_size=0.2\n",
    ")\n",
    "\n",
    "print(\"---Subclass training---\")\n",
    "# train subclass that fit with 3 types of images\n",
    "subclass_model = get_subclass_model()\n",
    "subclass_model.fit(subx_train, suby_train, epochs=40, validation_data=(subx_test, suby_test))"
   ]
  },
  {
   "cell_type": "markdown",
   "id": "f0c669d9",
   "metadata": {},
   "source": [
    "### Multiclass + ANN"
   ]
  },
  {
   "cell_type": "code",
   "execution_count": 66,
   "id": "76680b1e",
   "metadata": {},
   "outputs": [
    {
     "name": "stdout",
     "output_type": "stream",
     "text": [
      "---Second model (4 classes model) training---\n",
      "Epoch 1/100\n",
      "  1/248 [..............................] - ETA: 1:14 - loss: 1.3386 - accuracy: 0.4688"
     ]
    },
    {
     "name": "stderr",
     "output_type": "stream",
     "text": [
      "2022-05-06 10:41:10.093982: I tensorflow/core/grappler/optimizers/custom_graph_optimizer_registry.cc:113] Plugin optimizer for device_type GPU is enabled.\n"
     ]
    },
    {
     "name": "stdout",
     "output_type": "stream",
     "text": [
      "248/248 [==============================] - ETA: 0s - loss: 1.1876 - accuracy: 0.4889"
     ]
    },
    {
     "name": "stderr",
     "output_type": "stream",
     "text": [
      "2022-05-06 10:41:11.898375: I tensorflow/core/grappler/optimizers/custom_graph_optimizer_registry.cc:113] Plugin optimizer for device_type GPU is enabled.\n"
     ]
    },
    {
     "name": "stdout",
     "output_type": "stream",
     "text": [
      "248/248 [==============================] - 2s 8ms/step - loss: 1.1876 - accuracy: 0.4889 - val_loss: 0.9993 - val_accuracy: 0.5742\n",
      "Epoch 2/100\n",
      "248/248 [==============================] - 2s 7ms/step - loss: 0.8610 - accuracy: 0.8084 - val_loss: 0.7887 - val_accuracy: 0.8157\n",
      "Epoch 3/100\n",
      "248/248 [==============================] - 2s 7ms/step - loss: 0.7288 - accuracy: 0.8240 - val_loss: 0.7102 - val_accuracy: 0.8152\n",
      "Epoch 4/100\n",
      "248/248 [==============================] - 2s 7ms/step - loss: 0.6737 - accuracy: 0.8239 - val_loss: 0.6672 - val_accuracy: 0.8167\n",
      "Epoch 5/100\n",
      "248/248 [==============================] - 2s 7ms/step - loss: 0.6402 - accuracy: 0.8235 - val_loss: 0.6393 - val_accuracy: 0.8152\n",
      "Epoch 6/100\n",
      "248/248 [==============================] - 2s 7ms/step - loss: 0.6182 - accuracy: 0.8239 - val_loss: 0.6166 - val_accuracy: 0.8162\n",
      "Epoch 7/100\n",
      "248/248 [==============================] - 2s 7ms/step - loss: 0.6012 - accuracy: 0.8239 - val_loss: 0.6005 - val_accuracy: 0.8167\n",
      "Epoch 8/100\n",
      "248/248 [==============================] - 2s 7ms/step - loss: 0.5895 - accuracy: 0.8224 - val_loss: 0.5907 - val_accuracy: 0.8141\n",
      "Epoch 9/100\n",
      "248/248 [==============================] - 2s 7ms/step - loss: 0.5732 - accuracy: 0.8231 - val_loss: 0.5735 - val_accuracy: 0.8162\n",
      "Epoch 10/100\n",
      "248/248 [==============================] - 2s 7ms/step - loss: 0.5603 - accuracy: 0.8266 - val_loss: 0.5647 - val_accuracy: 0.8157\n",
      "Epoch 11/100\n",
      "248/248 [==============================] - 2s 7ms/step - loss: 0.5515 - accuracy: 0.8276 - val_loss: 0.5522 - val_accuracy: 0.8187\n",
      "Epoch 12/100\n",
      "248/248 [==============================] - 2s 7ms/step - loss: 0.5433 - accuracy: 0.8293 - val_loss: 0.5450 - val_accuracy: 0.8187\n",
      "Epoch 13/100\n",
      "248/248 [==============================] - 2s 7ms/step - loss: 0.5376 - accuracy: 0.8298 - val_loss: 0.5367 - val_accuracy: 0.8197\n",
      "Epoch 14/100\n",
      "248/248 [==============================] - 2s 7ms/step - loss: 0.5335 - accuracy: 0.8296 - val_loss: 0.5340 - val_accuracy: 0.8263\n",
      "Epoch 15/100\n",
      "248/248 [==============================] - 2s 7ms/step - loss: 0.5276 - accuracy: 0.8307 - val_loss: 0.5315 - val_accuracy: 0.8263\n",
      "Epoch 16/100\n",
      "248/248 [==============================] - 2s 7ms/step - loss: 0.5240 - accuracy: 0.8308 - val_loss: 0.5296 - val_accuracy: 0.8268\n",
      "Epoch 17/100\n",
      "248/248 [==============================] - 2s 7ms/step - loss: 0.5198 - accuracy: 0.8316 - val_loss: 0.5257 - val_accuracy: 0.8283\n",
      "Epoch 18/100\n",
      "248/248 [==============================] - 2s 7ms/step - loss: 0.5189 - accuracy: 0.8317 - val_loss: 0.5245 - val_accuracy: 0.8288\n",
      "Epoch 19/100\n",
      "248/248 [==============================] - 2s 7ms/step - loss: 0.5149 - accuracy: 0.8327 - val_loss: 0.5184 - val_accuracy: 0.8273\n",
      "Epoch 20/100\n",
      "248/248 [==============================] - 2s 7ms/step - loss: 0.5139 - accuracy: 0.8324 - val_loss: 0.5177 - val_accuracy: 0.8278\n",
      "Epoch 21/100\n",
      "248/248 [==============================] - 2s 7ms/step - loss: 0.5118 - accuracy: 0.8334 - val_loss: 0.5210 - val_accuracy: 0.8278\n",
      "Epoch 22/100\n",
      "248/248 [==============================] - 2s 7ms/step - loss: 0.5109 - accuracy: 0.8341 - val_loss: 0.5146 - val_accuracy: 0.8308\n",
      "Epoch 23/100\n",
      "248/248 [==============================] - 2s 7ms/step - loss: 0.5092 - accuracy: 0.8335 - val_loss: 0.5177 - val_accuracy: 0.8288\n",
      "Epoch 24/100\n",
      "248/248 [==============================] - 2s 7ms/step - loss: 0.5089 - accuracy: 0.8330 - val_loss: 0.5100 - val_accuracy: 0.8308\n",
      "Epoch 25/100\n",
      "248/248 [==============================] - 2s 7ms/step - loss: 0.5078 - accuracy: 0.8339 - val_loss: 0.5114 - val_accuracy: 0.8308\n",
      "Epoch 26/100\n",
      "248/248 [==============================] - 2s 7ms/step - loss: 0.5074 - accuracy: 0.8334 - val_loss: 0.5118 - val_accuracy: 0.8308\n",
      "Epoch 27/100\n",
      "248/248 [==============================] - 2s 7ms/step - loss: 0.5071 - accuracy: 0.8339 - val_loss: 0.5136 - val_accuracy: 0.8273\n",
      "Epoch 28/100\n",
      "248/248 [==============================] - 2s 7ms/step - loss: 0.5059 - accuracy: 0.8340 - val_loss: 0.5098 - val_accuracy: 0.8318\n",
      "Epoch 29/100\n",
      "248/248 [==============================] - 2s 7ms/step - loss: 0.5078 - accuracy: 0.8349 - val_loss: 0.5116 - val_accuracy: 0.8298\n",
      "Epoch 30/100\n",
      "248/248 [==============================] - 2s 7ms/step - loss: 0.5057 - accuracy: 0.8356 - val_loss: 0.5121 - val_accuracy: 0.8247\n",
      "Epoch 31/100\n",
      "248/248 [==============================] - 2s 7ms/step - loss: 0.5056 - accuracy: 0.8345 - val_loss: 0.5106 - val_accuracy: 0.8308\n",
      "Epoch 32/100\n",
      "248/248 [==============================] - 2s 7ms/step - loss: 0.5048 - accuracy: 0.8354 - val_loss: 0.5053 - val_accuracy: 0.8348\n",
      "Epoch 33/100\n",
      "248/248 [==============================] - 2s 7ms/step - loss: 0.5048 - accuracy: 0.8350 - val_loss: 0.5090 - val_accuracy: 0.8298\n",
      "Epoch 34/100\n",
      "248/248 [==============================] - 2s 7ms/step - loss: 0.5043 - accuracy: 0.8362 - val_loss: 0.5064 - val_accuracy: 0.8303\n",
      "Epoch 35/100\n",
      "248/248 [==============================] - 2s 7ms/step - loss: 0.5040 - accuracy: 0.8355 - val_loss: 0.5065 - val_accuracy: 0.8258\n",
      "Epoch 36/100\n",
      "248/248 [==============================] - 2s 7ms/step - loss: 0.5048 - accuracy: 0.8350 - val_loss: 0.5084 - val_accuracy: 0.8303\n",
      "Epoch 37/100\n",
      "248/248 [==============================] - 2s 7ms/step - loss: 0.5045 - accuracy: 0.8362 - val_loss: 0.5071 - val_accuracy: 0.8273\n",
      "Epoch 38/100\n",
      "248/248 [==============================] - 2s 7ms/step - loss: 0.5048 - accuracy: 0.8354 - val_loss: 0.5083 - val_accuracy: 0.8343\n",
      "Epoch 39/100\n",
      "248/248 [==============================] - 2s 7ms/step - loss: 0.5044 - accuracy: 0.8353 - val_loss: 0.5038 - val_accuracy: 0.8333\n",
      "Epoch 40/100\n",
      "248/248 [==============================] - 2s 7ms/step - loss: 0.5022 - accuracy: 0.8356 - val_loss: 0.5084 - val_accuracy: 0.8303\n",
      "Epoch 41/100\n",
      "248/248 [==============================] - 2s 7ms/step - loss: 0.5037 - accuracy: 0.8346 - val_loss: 0.5073 - val_accuracy: 0.8313\n",
      "Epoch 42/100\n",
      "248/248 [==============================] - 2s 7ms/step - loss: 0.5014 - accuracy: 0.8358 - val_loss: 0.5074 - val_accuracy: 0.8343\n",
      "Epoch 43/100\n",
      "248/248 [==============================] - 2s 7ms/step - loss: 0.5025 - accuracy: 0.8353 - val_loss: 0.5040 - val_accuracy: 0.8318\n",
      "Epoch 44/100\n",
      "248/248 [==============================] - 2s 7ms/step - loss: 0.5032 - accuracy: 0.8365 - val_loss: 0.5056 - val_accuracy: 0.8328\n",
      "Epoch 45/100\n",
      "248/248 [==============================] - 2s 7ms/step - loss: 0.5017 - accuracy: 0.8369 - val_loss: 0.5096 - val_accuracy: 0.8328\n",
      "Epoch 46/100\n",
      "248/248 [==============================] - 2s 7ms/step - loss: 0.5024 - accuracy: 0.8362 - val_loss: 0.5131 - val_accuracy: 0.8313\n",
      "Epoch 47/100\n",
      "248/248 [==============================] - 2s 7ms/step - loss: 0.5017 - accuracy: 0.8369 - val_loss: 0.5104 - val_accuracy: 0.8313\n",
      "Epoch 48/100\n",
      "248/248 [==============================] - 2s 7ms/step - loss: 0.5020 - accuracy: 0.8368 - val_loss: 0.5058 - val_accuracy: 0.8328\n",
      "Epoch 49/100\n",
      "248/248 [==============================] - 2s 7ms/step - loss: 0.5013 - accuracy: 0.8362 - val_loss: 0.5060 - val_accuracy: 0.8338\n",
      "Epoch 50/100\n",
      "248/248 [==============================] - 2s 7ms/step - loss: 0.5019 - accuracy: 0.8373 - val_loss: 0.5044 - val_accuracy: 0.8354\n",
      "Epoch 51/100\n",
      "248/248 [==============================] - 2s 7ms/step - loss: 0.5021 - accuracy: 0.8363 - val_loss: 0.5039 - val_accuracy: 0.8328\n",
      "Epoch 52/100\n",
      "248/248 [==============================] - 2s 8ms/step - loss: 0.5018 - accuracy: 0.8362 - val_loss: 0.5075 - val_accuracy: 0.8328\n",
      "Epoch 53/100\n",
      "248/248 [==============================] - 2s 7ms/step - loss: 0.5013 - accuracy: 0.8355 - val_loss: 0.5055 - val_accuracy: 0.8338\n",
      "Epoch 54/100\n",
      "248/248 [==============================] - 2s 7ms/step - loss: 0.5012 - accuracy: 0.8362 - val_loss: 0.5028 - val_accuracy: 0.8338\n",
      "Epoch 55/100\n",
      "248/248 [==============================] - 2s 7ms/step - loss: 0.5018 - accuracy: 0.8374 - val_loss: 0.5063 - val_accuracy: 0.8338\n",
      "Epoch 56/100\n",
      "248/248 [==============================] - 2s 7ms/step - loss: 0.5014 - accuracy: 0.8368 - val_loss: 0.5015 - val_accuracy: 0.8354\n",
      "Epoch 57/100\n",
      "248/248 [==============================] - 2s 7ms/step - loss: 0.5013 - accuracy: 0.8362 - val_loss: 0.5075 - val_accuracy: 0.8338\n",
      "Epoch 58/100\n"
     ]
    },
    {
     "name": "stdout",
     "output_type": "stream",
     "text": [
      "248/248 [==============================] - 2s 7ms/step - loss: 0.5009 - accuracy: 0.8363 - val_loss: 0.5064 - val_accuracy: 0.8348\n",
      "Epoch 59/100\n",
      "248/248 [==============================] - 2s 7ms/step - loss: 0.5027 - accuracy: 0.8368 - val_loss: 0.5042 - val_accuracy: 0.8338\n",
      "Epoch 60/100\n",
      "248/248 [==============================] - 2s 7ms/step - loss: 0.5014 - accuracy: 0.8378 - val_loss: 0.5062 - val_accuracy: 0.8338\n",
      "Epoch 61/100\n",
      "248/248 [==============================] - 2s 7ms/step - loss: 0.5003 - accuracy: 0.8374 - val_loss: 0.5030 - val_accuracy: 0.8343\n",
      "Epoch 62/100\n",
      "248/248 [==============================] - 2s 7ms/step - loss: 0.5001 - accuracy: 0.8375 - val_loss: 0.5058 - val_accuracy: 0.8354\n",
      "Epoch 63/100\n",
      "248/248 [==============================] - 2s 7ms/step - loss: 0.5007 - accuracy: 0.8368 - val_loss: 0.5048 - val_accuracy: 0.8343\n",
      "Epoch 64/100\n",
      "248/248 [==============================] - 2s 7ms/step - loss: 0.5018 - accuracy: 0.8372 - val_loss: 0.5052 - val_accuracy: 0.8338\n",
      "Epoch 65/100\n",
      "248/248 [==============================] - 2s 7ms/step - loss: 0.5006 - accuracy: 0.8362 - val_loss: 0.5034 - val_accuracy: 0.8348\n",
      "Epoch 66/100\n",
      "248/248 [==============================] - 2s 7ms/step - loss: 0.5010 - accuracy: 0.8380 - val_loss: 0.5007 - val_accuracy: 0.8343\n",
      "Epoch 67/100\n",
      "248/248 [==============================] - 2s 7ms/step - loss: 0.5030 - accuracy: 0.8358 - val_loss: 0.5062 - val_accuracy: 0.8333\n",
      "Epoch 68/100\n",
      "248/248 [==============================] - 2s 7ms/step - loss: 0.5007 - accuracy: 0.8363 - val_loss: 0.5070 - val_accuracy: 0.8343\n",
      "Epoch 69/100\n",
      "248/248 [==============================] - 2s 7ms/step - loss: 0.5007 - accuracy: 0.8364 - val_loss: 0.5072 - val_accuracy: 0.8343\n",
      "Epoch 70/100\n",
      "248/248 [==============================] - 2s 7ms/step - loss: 0.5007 - accuracy: 0.8358 - val_loss: 0.5025 - val_accuracy: 0.8348\n",
      "Epoch 71/100\n",
      "248/248 [==============================] - 2s 7ms/step - loss: 0.5004 - accuracy: 0.8373 - val_loss: 0.5028 - val_accuracy: 0.8343\n",
      "Epoch 72/100\n",
      "248/248 [==============================] - 2s 7ms/step - loss: 0.5002 - accuracy: 0.8365 - val_loss: 0.5049 - val_accuracy: 0.8343\n",
      "Epoch 73/100\n",
      "248/248 [==============================] - 2s 7ms/step - loss: 0.5002 - accuracy: 0.8359 - val_loss: 0.5046 - val_accuracy: 0.8359\n",
      "Epoch 74/100\n",
      "248/248 [==============================] - 2s 7ms/step - loss: 0.4997 - accuracy: 0.8380 - val_loss: 0.5026 - val_accuracy: 0.8338\n",
      "Epoch 75/100\n",
      "248/248 [==============================] - 2s 7ms/step - loss: 0.5009 - accuracy: 0.8373 - val_loss: 0.5071 - val_accuracy: 0.8348\n",
      "Epoch 76/100\n",
      "248/248 [==============================] - 2s 7ms/step - loss: 0.5005 - accuracy: 0.8372 - val_loss: 0.5065 - val_accuracy: 0.8343\n",
      "Epoch 77/100\n",
      "248/248 [==============================] - 2s 7ms/step - loss: 0.5007 - accuracy: 0.8373 - val_loss: 0.5029 - val_accuracy: 0.8354\n",
      "Epoch 78/100\n",
      "248/248 [==============================] - 2s 7ms/step - loss: 0.4995 - accuracy: 0.8377 - val_loss: 0.5057 - val_accuracy: 0.8333\n",
      "Epoch 79/100\n",
      "248/248 [==============================] - 2s 7ms/step - loss: 0.4994 - accuracy: 0.8375 - val_loss: 0.5072 - val_accuracy: 0.8333\n",
      "Epoch 80/100\n",
      "248/248 [==============================] - 2s 7ms/step - loss: 0.4999 - accuracy: 0.8370 - val_loss: 0.5026 - val_accuracy: 0.8359\n",
      "Epoch 81/100\n",
      "248/248 [==============================] - 2s 7ms/step - loss: 0.5008 - accuracy: 0.8378 - val_loss: 0.5077 - val_accuracy: 0.8338\n",
      "Epoch 82/100\n",
      "248/248 [==============================] - 2s 7ms/step - loss: 0.5007 - accuracy: 0.8368 - val_loss: 0.5001 - val_accuracy: 0.8338\n",
      "Epoch 83/100\n",
      "248/248 [==============================] - 2s 7ms/step - loss: 0.5002 - accuracy: 0.8370 - val_loss: 0.5062 - val_accuracy: 0.8333\n",
      "Epoch 84/100\n",
      "248/248 [==============================] - 2s 7ms/step - loss: 0.5005 - accuracy: 0.8358 - val_loss: 0.5012 - val_accuracy: 0.8338\n",
      "Epoch 85/100\n",
      "248/248 [==============================] - 2s 7ms/step - loss: 0.5003 - accuracy: 0.8377 - val_loss: 0.5033 - val_accuracy: 0.8343\n",
      "Epoch 86/100\n",
      "248/248 [==============================] - 2s 7ms/step - loss: 0.5000 - accuracy: 0.8362 - val_loss: 0.5040 - val_accuracy: 0.8343\n",
      "Epoch 87/100\n",
      "248/248 [==============================] - 2s 7ms/step - loss: 0.4994 - accuracy: 0.8369 - val_loss: 0.5035 - val_accuracy: 0.8348\n",
      "Epoch 88/100\n",
      "248/248 [==============================] - 2s 7ms/step - loss: 0.4997 - accuracy: 0.8380 - val_loss: 0.5034 - val_accuracy: 0.8333\n",
      "Epoch 89/100\n",
      "248/248 [==============================] - 2s 7ms/step - loss: 0.4997 - accuracy: 0.8367 - val_loss: 0.5041 - val_accuracy: 0.8338\n",
      "Epoch 90/100\n",
      "248/248 [==============================] - 2s 7ms/step - loss: 0.4988 - accuracy: 0.8368 - val_loss: 0.5062 - val_accuracy: 0.8343\n",
      "Epoch 91/100\n",
      "248/248 [==============================] - 2s 7ms/step - loss: 0.4990 - accuracy: 0.8365 - val_loss: 0.5044 - val_accuracy: 0.8348\n",
      "Epoch 92/100\n",
      "248/248 [==============================] - 2s 7ms/step - loss: 0.4989 - accuracy: 0.8369 - val_loss: 0.5046 - val_accuracy: 0.8348\n",
      "Epoch 93/100\n",
      "248/248 [==============================] - 2s 7ms/step - loss: 0.4995 - accuracy: 0.8374 - val_loss: 0.5044 - val_accuracy: 0.8343\n",
      "Epoch 94/100\n",
      "248/248 [==============================] - 2s 7ms/step - loss: 0.4991 - accuracy: 0.8362 - val_loss: 0.5046 - val_accuracy: 0.8338\n",
      "Epoch 95/100\n",
      "248/248 [==============================] - 2s 7ms/step - loss: 0.4994 - accuracy: 0.8369 - val_loss: 0.5056 - val_accuracy: 0.8348\n",
      "Epoch 96/100\n",
      "248/248 [==============================] - 2s 7ms/step - loss: 0.5000 - accuracy: 0.8367 - val_loss: 0.5035 - val_accuracy: 0.8343\n",
      "Epoch 97/100\n",
      "248/248 [==============================] - 2s 7ms/step - loss: 0.4981 - accuracy: 0.8370 - val_loss: 0.5011 - val_accuracy: 0.8348\n",
      "Epoch 98/100\n",
      "248/248 [==============================] - 2s 7ms/step - loss: 0.4995 - accuracy: 0.8373 - val_loss: 0.5026 - val_accuracy: 0.8348\n",
      "Epoch 99/100\n",
      "248/248 [==============================] - 2s 7ms/step - loss: 0.4988 - accuracy: 0.8370 - val_loss: 0.5053 - val_accuracy: 0.8343\n",
      "Epoch 100/100\n",
      "248/248 [==============================] - 2s 7ms/step - loss: 0.4997 - accuracy: 0.8364 - val_loss: 0.5042 - val_accuracy: 0.8338\n"
     ]
    },
    {
     "data": {
      "text/plain": [
       "<keras.callbacks.History at 0x2d7403c10>"
      ]
     },
     "execution_count": 66,
     "metadata": {},
     "output_type": "execute_result"
    }
   ],
   "source": [
    "all_class = [\"epithelial\", \"fibroblast\", \"inflammatory\", \"others\"]\n",
    "# imgs with 4 classes\n",
    "cell_img, celltype_label = celltype_classify_data(all_class)\n",
    "x_train, x_test, y_train, y_test = train_test_split(\n",
    "    np.array(cell_img), np.array(celltype_label), test_size=0.2\n",
    ")\n",
    "\n",
    "# get transfered model and train with 4 types of images\n",
    "transfer_x_train = subclass_model.predict(x_train)\n",
    "transfer_x_test = subclass_model.predict(x_test)\n",
    "transfer_model = get_transfer_model()\n",
    "\n",
    "print(\"---Second model (4 classes model) training---\")\n",
    "transfer_model.fit(transfer_x_train, y_train, epochs=40, validation_data=(transfer_x_test, y_test))"
   ]
  },
  {
   "cell_type": "markdown",
   "id": "7750be6d",
   "metadata": {},
   "source": [
    "### Stacked output from 3 classes and 4 models as meta-learner x"
   ]
  },
  {
   "cell_type": "code",
   "execution_count": 89,
   "id": "67e93dc1",
   "metadata": {},
   "outputs": [
    {
     "name": "stderr",
     "output_type": "stream",
     "text": [
      "2022-05-06 12:11:50.782643: I tensorflow/core/grappler/optimizers/custom_graph_optimizer_registry.cc:113] Plugin optimizer for device_type GPU is enabled.\n"
     ]
    },
    {
     "name": "stdout",
     "output_type": "stream",
     "text": [
      "Epoch 1/30\n",
      "  1/248 [..............................] - ETA: 1:09 - loss: 1.3522 - accuracy: 0.4375"
     ]
    },
    {
     "name": "stderr",
     "output_type": "stream",
     "text": [
      "2022-05-06 12:11:52.899456: I tensorflow/core/grappler/optimizers/custom_graph_optimizer_registry.cc:113] Plugin optimizer for device_type GPU is enabled.\n"
     ]
    },
    {
     "name": "stdout",
     "output_type": "stream",
     "text": [
      "246/248 [============================>.] - ETA: 0s - loss: 1.1610 - accuracy: 0.4967"
     ]
    },
    {
     "name": "stderr",
     "output_type": "stream",
     "text": [
      "2022-05-06 12:11:54.662435: I tensorflow/core/grappler/optimizers/custom_graph_optimizer_registry.cc:113] Plugin optimizer for device_type GPU is enabled.\n"
     ]
    },
    {
     "name": "stdout",
     "output_type": "stream",
     "text": [
      "248/248 [==============================] - 2s 8ms/step - loss: 1.1598 - accuracy: 0.4984 - val_loss: 0.9044 - val_accuracy: 0.8379\n",
      "Epoch 2/30\n",
      "248/248 [==============================] - 2s 7ms/step - loss: 0.7957 - accuracy: 0.8181 - val_loss: 0.6837 - val_accuracy: 0.8328\n",
      "Epoch 3/30\n",
      "248/248 [==============================] - 2s 7ms/step - loss: 0.6686 - accuracy: 0.8181 - val_loss: 0.6076 - val_accuracy: 0.8354\n",
      "Epoch 4/30\n",
      "248/248 [==============================] - 2s 7ms/step - loss: 0.6148 - accuracy: 0.8196 - val_loss: 0.5656 - val_accuracy: 0.8318\n",
      "Epoch 5/30\n",
      "248/248 [==============================] - 2s 7ms/step - loss: 0.5754 - accuracy: 0.8204 - val_loss: 0.5261 - val_accuracy: 0.8359\n",
      "Epoch 6/30\n",
      "248/248 [==============================] - 2s 7ms/step - loss: 0.5444 - accuracy: 0.8216 - val_loss: 0.5001 - val_accuracy: 0.8359\n",
      "Epoch 7/30\n",
      "248/248 [==============================] - 2s 7ms/step - loss: 0.5190 - accuracy: 0.8215 - val_loss: 0.4763 - val_accuracy: 0.8354\n",
      "Epoch 8/30\n",
      "248/248 [==============================] - 2s 7ms/step - loss: 0.4923 - accuracy: 0.8200 - val_loss: 0.4451 - val_accuracy: 0.8399\n",
      "Epoch 9/30\n",
      "248/248 [==============================] - 2s 7ms/step - loss: 0.4633 - accuracy: 0.8322 - val_loss: 0.4282 - val_accuracy: 0.9056\n",
      "Epoch 10/30\n",
      "248/248 [==============================] - 2s 7ms/step - loss: 0.4393 - accuracy: 0.8916 - val_loss: 0.3924 - val_accuracy: 0.9172\n",
      "Epoch 11/30\n",
      "248/248 [==============================] - 2s 7ms/step - loss: 0.4172 - accuracy: 0.8999 - val_loss: 0.3748 - val_accuracy: 0.9217\n",
      "Epoch 12/30\n",
      "248/248 [==============================] - 2s 7ms/step - loss: 0.4013 - accuracy: 0.9039 - val_loss: 0.3565 - val_accuracy: 0.9232\n",
      "Epoch 13/30\n",
      "248/248 [==============================] - 2s 7ms/step - loss: 0.3861 - accuracy: 0.9030 - val_loss: 0.3422 - val_accuracy: 0.9268\n",
      "Epoch 14/30\n",
      "248/248 [==============================] - 2s 7ms/step - loss: 0.3736 - accuracy: 0.9054 - val_loss: 0.3426 - val_accuracy: 0.9217\n",
      "Epoch 15/30\n",
      "248/248 [==============================] - 2s 7ms/step - loss: 0.3655 - accuracy: 0.9064 - val_loss: 0.3216 - val_accuracy: 0.9268\n",
      "Epoch 16/30\n",
      "248/248 [==============================] - 2s 7ms/step - loss: 0.3571 - accuracy: 0.9070 - val_loss: 0.3250 - val_accuracy: 0.9242\n",
      "Epoch 17/30\n",
      "248/248 [==============================] - 2s 7ms/step - loss: 0.3515 - accuracy: 0.9050 - val_loss: 0.3122 - val_accuracy: 0.9247\n",
      "Epoch 18/30\n",
      "248/248 [==============================] - 2s 7ms/step - loss: 0.3446 - accuracy: 0.9065 - val_loss: 0.3065 - val_accuracy: 0.9278\n",
      "Epoch 19/30\n",
      "248/248 [==============================] - 2s 7ms/step - loss: 0.3395 - accuracy: 0.9068 - val_loss: 0.2987 - val_accuracy: 0.9253\n",
      "Epoch 20/30\n",
      "248/248 [==============================] - 2s 7ms/step - loss: 0.3348 - accuracy: 0.9070 - val_loss: 0.2970 - val_accuracy: 0.9242\n",
      "Epoch 21/30\n",
      "248/248 [==============================] - 2s 7ms/step - loss: 0.3306 - accuracy: 0.9077 - val_loss: 0.2943 - val_accuracy: 0.9247\n",
      "Epoch 22/30\n",
      "248/248 [==============================] - 2s 7ms/step - loss: 0.3262 - accuracy: 0.9083 - val_loss: 0.2873 - val_accuracy: 0.9258\n",
      "Epoch 23/30\n",
      "248/248 [==============================] - 2s 7ms/step - loss: 0.3222 - accuracy: 0.9099 - val_loss: 0.2876 - val_accuracy: 0.9247\n",
      "Epoch 24/30\n",
      "248/248 [==============================] - 2s 7ms/step - loss: 0.3201 - accuracy: 0.9077 - val_loss: 0.2810 - val_accuracy: 0.9268\n",
      "Epoch 25/30\n",
      "248/248 [==============================] - 2s 7ms/step - loss: 0.3170 - accuracy: 0.9102 - val_loss: 0.2781 - val_accuracy: 0.9258\n",
      "Epoch 26/30\n",
      "248/248 [==============================] - 2s 7ms/step - loss: 0.3135 - accuracy: 0.9093 - val_loss: 0.2758 - val_accuracy: 0.9253\n",
      "Epoch 27/30\n",
      "248/248 [==============================] - 2s 7ms/step - loss: 0.3104 - accuracy: 0.9104 - val_loss: 0.2725 - val_accuracy: 0.9258\n",
      "Epoch 28/30\n",
      "248/248 [==============================] - 2s 7ms/step - loss: 0.3080 - accuracy: 0.9112 - val_loss: 0.2709 - val_accuracy: 0.9283\n",
      "Epoch 29/30\n",
      "248/248 [==============================] - 2s 7ms/step - loss: 0.3056 - accuracy: 0.9104 - val_loss: 0.2742 - val_accuracy: 0.9242\n",
      "Epoch 30/30\n",
      "248/248 [==============================] - 2s 7ms/step - loss: 0.3045 - accuracy: 0.9109 - val_loss: 0.2734 - val_accuracy: 0.9253\n"
     ]
    },
    {
     "data": {
      "text/plain": [
       "<keras.callbacks.History at 0x2c9818c40>"
      ]
     },
     "execution_count": 89,
     "metadata": {},
     "output_type": "execute_result"
    }
   ],
   "source": [
    "# imgs with 3 classes\n",
    "subcell_img, subcelltype_label = celltype_classify_data(sub_multiclass)\n",
    "subx_train, subx_test, suby_train, suby_test = train_test_split(\n",
    "    np.array(subcell_img), np.array(subcelltype_label), test_size=0.2\n",
    ")\n",
    "\n",
    "# imgs with 4 classes\n",
    "cell_img, celltype_label = celltype_classify_data(all_class)\n",
    "x_train, x_test, y_train, y_test = train_test_split(\n",
    "    np.array(cell_img), np.array(celltype_label), test_size=0.2\n",
    ")\n",
    "\n",
    "# get transfered model (3 classes model) and predict with 4 types of images\n",
    "transfer_x_train = subclass_model.predict(x_train)\n",
    "transfer_x_test = subclass_model.predict(x_test)\n",
    "\n",
    "# get base model (4 classes model) and predict to get another x\n",
    "base_x = model.predict(x_train)\n",
    "base_x_test = model.predict(x_test)\n",
    "\n",
    "stacked_x_train = np.concatenate((transfer_x_train, base_x), axis=1)\n",
    "stack_x_test = np.concatenate((transfer_x_test, base_x_test), axis=1)\n",
    "\n",
    "transfer_model = get_transfer_model()\n",
    "transfer_model.fit(stacked_x_train, y_train, epochs=30, validation_data=(stack_x_test, y_test))"
   ]
  },
  {
   "cell_type": "code",
   "execution_count": 104,
   "id": "b8155f42",
   "metadata": {},
   "outputs": [
    {
     "name": "stdout",
     "output_type": "stream",
     "text": [
      "              precision    recall  f1-score   support\n",
      "\n",
      "           0       0.96      0.98      0.97       828\n",
      "           1       0.91      0.90      0.91       382\n",
      "           2       0.92      0.93      0.93       505\n",
      "           3       0.82      0.78      0.80       265\n",
      "\n",
      "    accuracy                           0.93      1980\n",
      "   macro avg       0.91      0.90      0.90      1980\n",
      "weighted avg       0.92      0.93      0.92      1980\n",
      "\n"
     ]
    }
   ],
   "source": [
    "transfer_pred = transfer_model.predict(stack_x_test)\n",
    "\n",
    "encoded_pred = list()\n",
    "for pred in transfer_pred:\n",
    "    encoded_pred.append(np.argmax(pred))\n",
    "    \n",
    "encoded_pred = np.array(encoded_pred)\n",
    "print(classification_report(y_test, encoded_pred))"
   ]
  },
  {
   "cell_type": "markdown",
   "id": "07ef5cc1",
   "metadata": {},
   "source": [
    "### EDA"
   ]
  },
  {
   "cell_type": "code",
   "execution_count": 55,
   "id": "f0a27724",
   "metadata": {},
   "outputs": [
    {
     "name": "stdout",
     "output_type": "stream",
     "text": [
      "No data in class 0 in data 4079\n",
      "No data in class 1 in data 1888\n",
      "No data in class 2 in data 2543\n",
      "No data in class 3 in data 1386\n"
     ]
    }
   ],
   "source": [
    "for i in range(4):\n",
    "    print(f\"No data in class {i} in data\", (np.array(celltype_label)==i).sum())"
   ]
  },
  {
   "cell_type": "markdown",
   "id": "848b3774",
   "metadata": {},
   "source": [
    "### Multiclass + Oversampling + Decision tree"
   ]
  },
  {
   "cell_type": "code",
   "execution_count": 62,
   "id": "4bb6d4d7",
   "metadata": {},
   "outputs": [
    {
     "name": "stdout",
     "output_type": "stream",
     "text": [
      "No data in class 0 in oversampled data 4079\n",
      "No data in class 1 in oversampled data 4079\n",
      "No data in class 2 in oversampled data 4079\n",
      "No data in class 3 in oversampled data 4079\n",
      "              precision    recall  f1-score   support\n",
      "\n",
      "           0       0.86      0.90      0.88       811\n",
      "           1       0.74      0.88      0.80       789\n",
      "           2       0.75      0.86      0.80       822\n",
      "           3       0.67      0.43      0.52       842\n",
      "\n",
      "    accuracy                           0.76      3264\n",
      "   macro avg       0.75      0.77      0.75      3264\n",
      "weighted avg       0.75      0.76      0.75      3264\n",
      "\n",
      "              precision    recall  f1-score   support\n",
      "\n",
      "           0       0.89      0.94      0.91       811\n",
      "           1       0.75      0.92      0.83       789\n",
      "           2       0.76      0.89      0.82       822\n",
      "           3       0.76      0.43      0.54       842\n",
      "\n",
      "    accuracy                           0.79      3264\n",
      "   macro avg       0.79      0.79      0.78      3264\n",
      "weighted avg       0.79      0.79      0.77      3264\n",
      "\n"
     ]
    }
   ],
   "source": [
    "from sklearn import tree\n",
    "from sklearn.ensemble import RandomForestClassifier\n",
    "from imblearn.over_sampling import SMOTE\n",
    "\n",
    "cell_img, celltype_label = celltype_classify_data(all_class)\n",
    "transfered_x = subclass_model.predict(np.array(cell_img))\n",
    "\n",
    "# by default, it would only over sample minority class which is the aim in this case\n",
    "oversample = SMOTE()\n",
    "transfered_x, celltype_label = oversample.fit_resample(transfered_x, np.array(celltype_label))\n",
    "\n",
    "for i in range(4):\n",
    "    print(f\"No data in class {i} in oversampled data\", (np.array(celltype_label)==i).sum())\n",
    "\n",
    "x_train, x_test, y_train, y_test = train_test_split(\n",
    "    transfered_x, celltype_label, test_size=0.2\n",
    ")\n",
    "\n",
    "tree_classifier = tree.DecisionTreeClassifier(class_weight=\"balanced\")\n",
    "tree_classifier = tree_classifier.fit(x_train, y_train)\n",
    "\n",
    "forest_classifier = RandomForestClassifier(class_weight=\"balanced\")\n",
    "forest_classifier.fit(x_train, y_train)\n",
    "\n",
    "tree_pred = tree_classifier.predict(x_test)\n",
    "forest_pred = forest_classifier.predict(x_test)\n",
    "\n",
    "print(classification_report(y_test, tree_pred))\n",
    "print(classification_report(y_test, forest_pred))                                        "
   ]
  }
 ],
 "metadata": {
  "kernelspec": {
   "display_name": "Python 3.9 (tensorflow)",
   "language": "python",
   "name": "tensorflow"
  },
  "language_info": {
   "codemirror_mode": {
    "name": "ipython",
    "version": 3
   },
   "file_extension": ".py",
   "mimetype": "text/x-python",
   "name": "python",
   "nbconvert_exporter": "python",
   "pygments_lexer": "ipython3",
   "version": "3.9.7"
  }
 },
 "nbformat": 4,
 "nbformat_minor": 5
}
