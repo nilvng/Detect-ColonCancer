{
 "cells": [
  {
   "cell_type": "code",
   "execution_count": 1,
   "id": "955516c7",
   "metadata": {},
   "outputs": [],
   "source": [
    "import cv2\n",
    "import numpy as np\n",
    "import pandas as pd\n",
    "import os\n",
    "import sys\n",
    "import tensorflow as tf\n",
    "from sklearn.model_selection import train_test_split\n",
    "import keras_tuner as kt"
   ]
  },
  {
   "cell_type": "markdown",
   "id": "57761c43",
   "metadata": {},
   "source": [
    "### Load dataframe"
   ]
  },
  {
   "cell_type": "code",
   "execution_count": 2,
   "id": "6b1deda5",
   "metadata": {},
   "outputs": [],
   "source": [
    "main_data = pd.read_csv(\"data_labels_mainData.csv\")\n",
    "extra_data = pd.read_csv(\"data_labels_extraData.csv\")"
   ]
  },
  {
   "cell_type": "markdown",
   "id": "bc53247b",
   "metadata": {},
   "source": [
    "### split data into different folders for different cell types"
   ]
  },
  {
   "cell_type": "code",
   "execution_count": 3,
   "id": "f240316c",
   "metadata": {},
   "outputs": [],
   "source": [
    "import shutil\n",
    "root = os.getcwd()\n",
    "source_dir = os.path.join(root, \"patch_images\")\n",
    "\n",
    "for i, row in main_data.iterrows():\n",
    "    image_name = row[\"ImageName\"]\n",
    "    cell_name = row[\"cellTypeName\"]\n",
    "    is_cancer = str(row[\"isCancerous\"])\n",
    "\n",
    "    new_folder_multi = os.path.join(root, cell_name)\n",
    "    new_folder_bin = os.path.join(root, is_cancer)\n",
    "\n",
    "    os.makedirs(new_folder_multi, exist_ok=True)\n",
    "    #os.makedirs(new_folder_bin, exist_ok=True)\n",
    "\n",
    "    source = os.path.join(source_dir, image_name)\n",
    "\n",
    "    dest_multi = os.path.join(root, cell_name)\n",
    "    #dest_bin = os.path.join(root, is_cancer)\n",
    "\n",
    "    go = shutil.copy(source,dest_multi)\n",
    "    #go = shutil.copy(source, dest_bin)"
   ]
  },
  {
   "cell_type": "markdown",
   "id": "3890247e",
   "metadata": {},
   "source": [
    "### Add training data for cancerous classification from extra dataset "
   ]
  },
  {
   "cell_type": "code",
   "execution_count": 5,
   "id": "682dc3f2",
   "metadata": {},
   "outputs": [],
   "source": [
    "import shutil\n",
    "root = os.getcwd()\n",
    "source_dir = os.path.join(root, \"patch_images\")\n",
    "\n",
    "for i, row in extra_data.iterrows():\n",
    "    image_name = row[\"ImageName\"]\n",
    "    is_cancer = str(row[\"isCancerous\"])\n",
    "\n",
    "    new_folder_bin = os.path.join(root, is_cancer)\n",
    "\n",
    "    os.makedirs(new_folder_bin, exist_ok=True)\n",
    "\n",
    "    source = os.path.join(source_dir, image_name)\n",
    "\n",
    "    dest_bin = os.path.join(root, is_cancer)\n",
    "\n",
    "    go = shutil.copy(source, dest_bin)"
   ]
  },
  {
   "cell_type": "markdown",
   "id": "857e51b4",
   "metadata": {},
   "source": [
    "### Old load image code "
   ]
  },
  {
   "cell_type": "code",
   "execution_count": 4,
   "id": "3b6669fa",
   "metadata": {},
   "outputs": [
    {
     "name": "stdout",
     "output_type": "stream",
     "text": [
      "9896\n",
      "9896\n",
      "9896\n"
     ]
    }
   ],
   "source": [
    "def get_images(img_list, path):    \n",
    "    images = list()\n",
    "    \n",
    "    for img in img_list:\n",
    "        img = cv2.imread(os.path.join(path, img))\n",
    "        # resize to 0-1 for faster computation\n",
    "        resized = img / 255\n",
    "        images.append(resized)\n",
    "        \n",
    "    return images\n",
    "\n",
    "images, cell_type, is_cancerous = get_images(main_data[\"ImageName\"], \"patch_images\"), main_data[[\"cellType\"]], main_data[[\"isCancerous\"]]\n",
    "\n",
    "print(len(images))\n",
    "#print(images[0].shape)\n",
    "print(len(cell_type))\n",
    "print(len(is_cancerous))"
   ]
  },
  {
   "cell_type": "markdown",
   "id": "53e5727f",
   "metadata": {},
   "source": [
    "### Get data from splitted folder"
   ]
  },
  {
   "cell_type": "code",
   "execution_count": 4,
   "id": "7c986143",
   "metadata": {},
   "outputs": [],
   "source": [
    "import shutil\n",
    "root = os.getcwd()\n",
    "source_dir = os.path.join(root, \"patch_images\")\n",
    "\n",
    "def cancerous_classify_data():    \n",
    "    images = list()\n",
    "    labels = list()\n",
    "    \n",
    "    for label in [0, 1]:\n",
    "        # get image directory\n",
    "        img_dir = os.path.join(root, f\"{label}\")\n",
    "        \n",
    "        for img in os.listdir(img_dir):\n",
    "            img = cv2.imread(os.path.join(img_dir, img))\n",
    "            # resize to 0-1 for faster computation\n",
    "            resized = img / 255\n",
    "            images.append(resized)\n",
    "            labels.append(label)\n",
    "        \n",
    "    return (images, labels)\n"
   ]
  },
  {
   "cell_type": "markdown",
   "id": "9977c54a",
   "metadata": {},
   "source": [
    "### Base CNN model"
   ]
  },
  {
   "cell_type": "code",
   "execution_count": 8,
   "id": "19f550aa",
   "metadata": {},
   "outputs": [
    {
     "name": "stdout",
     "output_type": "stream",
     "text": [
      "(16224, 27, 27, 3)\n",
      "(16224,)\n",
      "Metal device set to: Apple M1 Pro\n"
     ]
    },
    {
     "name": "stderr",
     "output_type": "stream",
     "text": [
      "2022-05-03 12:26:41.281955: I tensorflow/core/common_runtime/pluggable_device/pluggable_device_factory.cc:305] Could not identify NUMA node of platform GPU ID 0, defaulting to 0. Your kernel may not have been built with NUMA support.\n",
      "2022-05-03 12:26:41.282248: I tensorflow/core/common_runtime/pluggable_device/pluggable_device_factory.cc:271] Created TensorFlow device (/job:localhost/replica:0/task:0/device:GPU:0 with 0 MB memory) -> physical PluggableDevice (device: 0, name: METAL, pci bus id: <undefined>)\n"
     ]
    },
    {
     "name": "stdout",
     "output_type": "stream",
     "text": [
      "Epoch 1/10\n"
     ]
    },
    {
     "name": "stderr",
     "output_type": "stream",
     "text": [
      "2022-05-03 12:26:41.520725: W tensorflow/core/platform/profile_utils/cpu_utils.cc:128] Failed to get CPU frequency: 0 Hz\n",
      "2022-05-03 12:26:41.725192: I tensorflow/core/grappler/optimizers/custom_graph_optimizer_registry.cc:113] Plugin optimizer for device_type GPU is enabled.\n"
     ]
    },
    {
     "name": "stdout",
     "output_type": "stream",
     "text": [
      "501/507 [============================>.] - ETA: 0s - loss: 0.4109 - accuracy: 0.8076 - auc: 0.8794"
     ]
    },
    {
     "name": "stderr",
     "output_type": "stream",
     "text": [
      "2022-05-03 12:26:46.169622: I tensorflow/core/grappler/optimizers/custom_graph_optimizer_registry.cc:113] Plugin optimizer for device_type GPU is enabled.\n"
     ]
    },
    {
     "name": "stdout",
     "output_type": "stream",
     "text": [
      "507/507 [==============================] - 5s 10ms/step - loss: 0.4095 - accuracy: 0.8084 - auc: 0.8804 - val_loss: 0.3615 - val_accuracy: 0.8397 - val_auc: 0.9163\n",
      "Epoch 2/10\n",
      "507/507 [==============================] - 5s 9ms/step - loss: 0.3372 - accuracy: 0.8529 - auc: 0.9212 - val_loss: 0.3632 - val_accuracy: 0.8390 - val_auc: 0.9265\n",
      "Epoch 3/10\n",
      "507/507 [==============================] - 5s 9ms/step - loss: 0.3206 - accuracy: 0.8630 - auc: 0.9291 - val_loss: 0.3173 - val_accuracy: 0.8602 - val_auc: 0.9313\n",
      "Epoch 4/10\n",
      "507/507 [==============================] - 5s 9ms/step - loss: 0.3136 - accuracy: 0.8664 - auc: 0.9321 - val_loss: 0.3372 - val_accuracy: 0.8452 - val_auc: 0.9355\n",
      "Epoch 5/10\n",
      "507/507 [==============================] - 5s 9ms/step - loss: 0.2941 - accuracy: 0.8749 - auc: 0.9406 - val_loss: 0.3164 - val_accuracy: 0.8587 - val_auc: 0.9337\n",
      "Epoch 6/10\n",
      "507/507 [==============================] - 5s 9ms/step - loss: 0.2890 - accuracy: 0.8764 - auc: 0.9423 - val_loss: 0.3069 - val_accuracy: 0.8725 - val_auc: 0.9392\n",
      "Epoch 7/10\n",
      "507/507 [==============================] - 5s 9ms/step - loss: 0.2748 - accuracy: 0.8841 - auc: 0.9482 - val_loss: 0.3760 - val_accuracy: 0.8336 - val_auc: 0.9379\n",
      "Epoch 8/10\n",
      "507/507 [==============================] - 5s 9ms/step - loss: 0.2701 - accuracy: 0.8866 - auc: 0.9500 - val_loss: 0.3018 - val_accuracy: 0.8698 - val_auc: 0.9373\n",
      "Epoch 9/10\n",
      "507/507 [==============================] - 5s 9ms/step - loss: 0.2547 - accuracy: 0.8926 - auc: 0.9557 - val_loss: 0.3047 - val_accuracy: 0.8720 - val_auc: 0.9370\n",
      "Epoch 10/10\n",
      "507/507 [==============================] - 5s 9ms/step - loss: 0.2451 - accuracy: 0.8960 - auc: 0.9592 - val_loss: 0.3037 - val_accuracy: 0.8745 - val_auc: 0.9400\n"
     ]
    },
    {
     "name": "stderr",
     "output_type": "stream",
     "text": [
      "2022-05-03 12:27:29.655092: I tensorflow/core/grappler/optimizers/custom_graph_optimizer_registry.cc:113] Plugin optimizer for device_type GPU is enabled.\n"
     ]
    }
   ],
   "source": [
    "images, cancer_label = cancerous_classify_data()\n",
    "\n",
    "# try testing cancerous dataset\n",
    "# x_train, x_test, y_train, y_test = train_test_split(\n",
    "#     np.array(images), np.array(is_cancerous), test_size=0.2\n",
    "# )\n",
    "\n",
    "x_train, x_test, y_train, y_test = train_test_split(\n",
    "    np.array(images), np.array(cancer_label), test_size=0.2\n",
    ")\n",
    "\n",
    "def get_model():\n",
    "    model = tf.keras.Sequential()\n",
    "    # First convo-pooling\n",
    "    # Convolutional layers (filter the image with a kernel)\n",
    "    model.add(tf.keras.layers.Conv2D(32, (3, 3), activation=\"relu\", input_shape=[27, 27, 3]))\n",
    "    # Max-pooling layers (reduce the size of the image by choosing max pixel at certain area)\n",
    "    model.add(tf.keras.layers.MaxPool2D(pool_size=(2, 2)))\n",
    "    # Flatten input\n",
    "    model.add(tf.keras.layers.Flatten())\n",
    "\n",
    "    model.add(tf.keras.layers.Dense(128, activation=\"relu\"))\n",
    "    model.add(tf.keras.layers.Dense(32, activation=\"relu\"))\n",
    "    # Output layer\n",
    "    model.add(tf.keras.layers.Dense(1, activation=\"sigmoid\"))\n",
    "    # Compile model\n",
    "    model.compile(optimizer=\"adam\",\n",
    "                  loss=\"binary_crossentropy\",\n",
    "                  metrics=[\"accuracy\", \"AUC\"])\n",
    "    \n",
    "    return model\n",
    "\n",
    "print(x_train.shape)\n",
    "print(y_train.shape)\n",
    "model = get_model()\n",
    "\n",
    "model.fit(x_train, y_train, epochs=10, validation_data=(x_test, y_test))\n",
    "prediction = model.predict(x_test)"
   ]
  },
  {
   "cell_type": "markdown",
   "id": "5f6888d1",
   "metadata": {},
   "source": [
    "### Tune CNN model\n",
    "\n",
    "Tunable parameters:\n",
    "- Size of kernel of Convolution/Pooling Layers\n",
    "- Strides of Convolution/Pooling Layers\n",
    "- Activation function"
   ]
  },
  {
   "cell_type": "code",
   "execution_count": 47,
   "id": "2edb288b",
   "metadata": {},
   "outputs": [
    {
     "name": "stdout",
     "output_type": "stream",
     "text": [
      "Trial 5 Complete [00h 00m 32s]\n",
      "val_accuracy: 0.8639053106307983\n",
      "\n",
      "Best val_accuracy So Far: 0.8639053106307983\n",
      "Total elapsed time: 00h 02m 30s\n",
      "INFO:tensorflow:Oracle triggered exit\n",
      "[<keras_tuner.engine.hyperparameters.HyperParameters object at 0x318747130>]\n"
     ]
    }
   ],
   "source": [
    "x_train, x_test, y_train, y_test = train_test_split(\n",
    "    np.array(images), np.array(cancer_label), test_size=0.2\n",
    ")\n",
    "\n",
    "def cnn_tuner(hp):\n",
    "    model = tf.keras.Sequential()\n",
    "\n",
    "    # Convolutional layers (filter the image with a kernel)\n",
    "    model.add(tf.keras.layers.Conv2D(hp.Int(f'convo_filter', 16, 128, step=16), (3, 3), activation=hp.Choice(\"activation_convo\", [\"relu\", \"sigmoid\", \"softmax\", \"tanh\"]), input_shape=[27, 27, 3]))\n",
    "    # Max-pooling layers (reduce the size of the image by choosing max pixel at certain area)\n",
    "    model.add(tf.keras.layers.MaxPool2D(pool_size=(2, 2)))\n",
    "        \n",
    "    # Flatten input\n",
    "    model.add(tf.keras.layers.Flatten())\n",
    "\n",
    "    # hidden layers\n",
    "    for i in range(hp.Int('layers_no', 1, 4)):\n",
    "        model.add(tf.keras.layers.Dense(hp.Int('hidden_layer', 32, 256, step=32), activation=hp.Choice(f\"activation_hidden_{i}\", [\"relu\", \"sigmoid\", \"softmax\", \"tanh\"])))\n",
    "        \n",
    "    # output layer\n",
    "    model.add(tf.keras.layers.Dense(1, activation=\"sigmoid\"))   \n",
    "    # Compile model\n",
    "    model.compile(optimizer=\"adam\",\n",
    "                  loss=\"binary_crossentropy\",\n",
    "                  metrics=[\"accuracy\", \"AUC\"])\n",
    "    \n",
    "    return model\n",
    "\n",
    "# status.expect_partial()\n",
    "              \n",
    "tuner = kt.RandomSearch(cnn_tuner, objective=\"val_accuracy\", max_trials=5)\n",
    "\n",
    "tuner.search(x_train, y_train, epochs=5, validation_data=(x_test, y_test))\n",
    "best_model = tuner.get_best_models()[0]"
   ]
  },
  {
   "cell_type": "code",
   "execution_count": 52,
   "id": "075833c5",
   "metadata": {},
   "outputs": [
    {
     "name": "stdout",
     "output_type": "stream",
     "text": [
      "Best Convolution filter: 96\n",
      "Best number of hidden layer: 160\n",
      "Best nodes in hidden layer 0: 160\n",
      "Best activation in hidden layer 0: sigmoid\n",
      "Best nodes in hidden layer 1: 160\n",
      "Best activation in hidden layer 1: tanh\n",
      "Best nodes in hidden layer 2: 160\n",
      "Best activation in hidden layer 2: sigmoid\n",
      "Best nodes in hidden layer 3: 160\n",
      "Best activation in hidden layer 3: relu\n"
     ]
    }
   ],
   "source": [
    "print(f\"Best Convolution filter: {tuner.get_best_hyperparameters()[0].get('convo_filter')}\")\n",
    "print(f\"Best number of hidden layer: {tuner.get_best_hyperparameters()[0].get('hidden_layer')}\")\n",
    "for i in range(tuner.get_best_hyperparameters()[0].get('layers_no')):\n",
    "    print(f\"Best nodes in hidden layer {i}: {tuner.get_best_hyperparameters()[0].get('hidden_layer')}\")\n",
    "    print(f\"Best activation in hidden layer {i}: {tuner.get_best_hyperparameters()[0].get(f'activation_hidden_{i}')}\")\n",
    "    \n"
   ]
  },
  {
   "cell_type": "code",
   "execution_count": 48,
   "id": "01340ba4",
   "metadata": {},
   "outputs": [
    {
     "name": "stdout",
     "output_type": "stream",
     "text": [
      "Epoch 1/10\n"
     ]
    },
    {
     "name": "stderr",
     "output_type": "stream",
     "text": [
      "2022-05-03 13:15:50.902990: I tensorflow/core/grappler/optimizers/custom_graph_optimizer_registry.cc:113] Plugin optimizer for device_type GPU is enabled.\n"
     ]
    },
    {
     "name": "stdout",
     "output_type": "stream",
     "text": [
      "505/507 [============================>.] - ETA: 0s - loss: 0.3040 - accuracy: 0.8665 - auc: 0.9364"
     ]
    },
    {
     "name": "stderr",
     "output_type": "stream",
     "text": [
      "2022-05-03 13:15:56.659471: I tensorflow/core/grappler/optimizers/custom_graph_optimizer_registry.cc:113] Plugin optimizer for device_type GPU is enabled.\n"
     ]
    },
    {
     "name": "stdout",
     "output_type": "stream",
     "text": [
      "507/507 [==============================] - 7s 13ms/step - loss: 0.3041 - accuracy: 0.8667 - auc: 0.9364 - val_loss: 0.3408 - val_accuracy: 0.8474 - val_auc: 0.9363\n",
      "Epoch 2/10\n",
      "507/507 [==============================] - 6s 12ms/step - loss: 0.2892 - accuracy: 0.8739 - auc: 0.9425 - val_loss: 0.3483 - val_accuracy: 0.8614 - val_auc: 0.9390\n",
      "Epoch 3/10\n",
      "507/507 [==============================] - 6s 12ms/step - loss: 0.2661 - accuracy: 0.8876 - auc: 0.9514 - val_loss: 0.3096 - val_accuracy: 0.8728 - val_auc: 0.9376\n",
      "Epoch 4/10\n",
      "507/507 [==============================] - 6s 12ms/step - loss: 0.2448 - accuracy: 0.8935 - auc: 0.9590 - val_loss: 0.4050 - val_accuracy: 0.8425 - val_auc: 0.9346\n",
      "Epoch 5/10\n",
      "507/507 [==============================] - 6s 12ms/step - loss: 0.2220 - accuracy: 0.9077 - auc: 0.9662 - val_loss: 0.3574 - val_accuracy: 0.8627 - val_auc: 0.9325\n",
      "Epoch 6/10\n",
      "507/507 [==============================] - 6s 12ms/step - loss: 0.1984 - accuracy: 0.9173 - auc: 0.9731 - val_loss: 0.3761 - val_accuracy: 0.8508 - val_auc: 0.9318\n",
      "Epoch 7/10\n",
      "507/507 [==============================] - 6s 12ms/step - loss: 0.1664 - accuracy: 0.9334 - auc: 0.9809 - val_loss: 0.3838 - val_accuracy: 0.8688 - val_auc: 0.9231\n",
      "Epoch 8/10\n",
      "507/507 [==============================] - 6s 12ms/step - loss: 0.1456 - accuracy: 0.9421 - auc: 0.9852 - val_loss: 0.3927 - val_accuracy: 0.8698 - val_auc: 0.9295\n",
      "Epoch 9/10\n",
      "507/507 [==============================] - 6s 12ms/step - loss: 0.1294 - accuracy: 0.9476 - auc: 0.9881 - val_loss: 0.3855 - val_accuracy: 0.8644 - val_auc: 0.9291\n",
      "Epoch 10/10\n",
      "507/507 [==============================] - 6s 12ms/step - loss: 0.1074 - accuracy: 0.9589 - auc: 0.9916 - val_loss: 0.4712 - val_accuracy: 0.8649 - val_auc: 0.9173\n"
     ]
    },
    {
     "data": {
      "text/plain": [
       "<keras.callbacks.History at 0x323a0cca0>"
      ]
     },
     "execution_count": 48,
     "metadata": {},
     "output_type": "execute_result"
    }
   ],
   "source": [
    "best_model.fit(x_train, y_train, epochs=10, validation_data=(x_test, y_test))"
   ]
  },
  {
   "cell_type": "markdown",
   "id": "63e5992e",
   "metadata": {},
   "source": [
    "### Ensemble model"
   ]
  },
  {
   "cell_type": "code",
   "execution_count": 12,
   "id": "2bc84924",
   "metadata": {},
   "outputs": [
    {
     "name": "stdout",
     "output_type": "stream",
     "text": [
      "Epoch 1/5\n"
     ]
    },
    {
     "name": "stderr",
     "output_type": "stream",
     "text": [
      "2022-05-03 12:29:02.441814: I tensorflow/core/grappler/optimizers/custom_graph_optimizer_registry.cc:113] Plugin optimizer for device_type GPU is enabled.\n"
     ]
    },
    {
     "name": "stdout",
     "output_type": "stream",
     "text": [
      "502/507 [============================>.] - ETA: 0s - loss: 0.4035 - accuracy: 0.8150 - auc: 0.8832"
     ]
    },
    {
     "name": "stderr",
     "output_type": "stream",
     "text": [
      "2022-05-03 12:29:07.267409: I tensorflow/core/grappler/optimizers/custom_graph_optimizer_registry.cc:113] Plugin optimizer for device_type GPU is enabled.\n"
     ]
    },
    {
     "name": "stdout",
     "output_type": "stream",
     "text": [
      "507/507 [==============================] - 6s 11ms/step - loss: 0.4023 - accuracy: 0.8155 - auc: 0.8839 - val_loss: 0.3566 - val_accuracy: 0.8481 - val_auc: 0.9196\n",
      "Epoch 2/5\n",
      "507/507 [==============================] - 5s 9ms/step - loss: 0.3472 - accuracy: 0.8513 - auc: 0.9155 - val_loss: 0.4497 - val_accuracy: 0.7894 - val_auc: 0.9224\n",
      "Epoch 3/5\n",
      "507/507 [==============================] - 5s 9ms/step - loss: 0.3271 - accuracy: 0.8634 - auc: 0.9255 - val_loss: 0.3253 - val_accuracy: 0.8609 - val_auc: 0.9320\n",
      "Epoch 4/5\n",
      "507/507 [==============================] - 5s 9ms/step - loss: 0.3061 - accuracy: 0.8726 - auc: 0.9345 - val_loss: 0.3085 - val_accuracy: 0.8688 - val_auc: 0.9371\n",
      "Epoch 5/5\n",
      "507/507 [==============================] - 5s 10ms/step - loss: 0.2996 - accuracy: 0.8755 - auc: 0.9376 - val_loss: 0.3480 - val_accuracy: 0.8543 - val_auc: 0.9352\n",
      "Epoch 1/5\n",
      "  1/507 [..............................] - ETA: 2:36 - loss: 0.6759 - accuracy: 0.5938 - auc: 0.6053"
     ]
    },
    {
     "name": "stderr",
     "output_type": "stream",
     "text": [
      "2022-05-03 12:29:27.537301: I tensorflow/core/grappler/optimizers/custom_graph_optimizer_registry.cc:113] Plugin optimizer for device_type GPU is enabled.\n"
     ]
    },
    {
     "name": "stdout",
     "output_type": "stream",
     "text": [
      "506/507 [============================>.] - ETA: 0s - loss: 0.4187 - accuracy: 0.8018 - auc: 0.8733"
     ]
    },
    {
     "name": "stderr",
     "output_type": "stream",
     "text": [
      "2022-05-03 12:29:31.934386: I tensorflow/core/grappler/optimizers/custom_graph_optimizer_registry.cc:113] Plugin optimizer for device_type GPU is enabled.\n"
     ]
    },
    {
     "name": "stdout",
     "output_type": "stream",
     "text": [
      "507/507 [==============================] - 5s 10ms/step - loss: 0.4183 - accuracy: 0.8020 - auc: 0.8736 - val_loss: 0.3767 - val_accuracy: 0.8323 - val_auc: 0.9160\n",
      "Epoch 2/5\n",
      "507/507 [==============================] - 5s 10ms/step - loss: 0.3408 - accuracy: 0.8543 - auc: 0.9189 - val_loss: 0.3306 - val_accuracy: 0.8590 - val_auc: 0.9262\n",
      "Epoch 3/5\n",
      "507/507 [==============================] - 5s 9ms/step - loss: 0.3263 - accuracy: 0.8611 - auc: 0.9258 - val_loss: 0.3197 - val_accuracy: 0.8664 - val_auc: 0.9308\n",
      "Epoch 4/5\n",
      "507/507 [==============================] - 5s 9ms/step - loss: 0.3099 - accuracy: 0.8705 - auc: 0.9332 - val_loss: 0.3471 - val_accuracy: 0.8531 - val_auc: 0.9297\n",
      "Epoch 5/5\n",
      "507/507 [==============================] - 5s 9ms/step - loss: 0.3007 - accuracy: 0.8736 - auc: 0.9373 - val_loss: 0.3209 - val_accuracy: 0.8632 - val_auc: 0.9362\n",
      "Epoch 1/5\n",
      "  1/507 [..............................] - ETA: 2:38 - loss: 0.6501 - accuracy: 0.7188 - auc: 0.6473"
     ]
    },
    {
     "name": "stderr",
     "output_type": "stream",
     "text": [
      "2022-05-03 12:29:52.092467: I tensorflow/core/grappler/optimizers/custom_graph_optimizer_registry.cc:113] Plugin optimizer for device_type GPU is enabled.\n"
     ]
    },
    {
     "name": "stdout",
     "output_type": "stream",
     "text": [
      "507/507 [==============================] - ETA: 0s - loss: 0.3943 - accuracy: 0.8187 - auc: 0.8893"
     ]
    },
    {
     "name": "stderr",
     "output_type": "stream",
     "text": [
      "2022-05-03 12:29:56.532275: I tensorflow/core/grappler/optimizers/custom_graph_optimizer_registry.cc:113] Plugin optimizer for device_type GPU is enabled.\n"
     ]
    },
    {
     "name": "stdout",
     "output_type": "stream",
     "text": [
      "507/507 [==============================] - 5s 10ms/step - loss: 0.3943 - accuracy: 0.8187 - auc: 0.8893 - val_loss: 0.3908 - val_accuracy: 0.8222 - val_auc: 0.9181\n",
      "Epoch 2/5\n",
      "507/507 [==============================] - 5s 10ms/step - loss: 0.3409 - accuracy: 0.8515 - auc: 0.9188 - val_loss: 0.3395 - val_accuracy: 0.8540 - val_auc: 0.9244\n",
      "Epoch 3/5\n",
      "507/507 [==============================] - 5s 10ms/step - loss: 0.3256 - accuracy: 0.8600 - auc: 0.9261 - val_loss: 0.3995 - val_accuracy: 0.8257 - val_auc: 0.9281\n",
      "Epoch 4/5\n",
      "507/507 [==============================] - 5s 9ms/step - loss: 0.3121 - accuracy: 0.8705 - auc: 0.9322 - val_loss: 0.4551 - val_accuracy: 0.7944 - val_auc: 0.9304\n",
      "Epoch 5/5\n",
      "507/507 [==============================] - 5s 9ms/step - loss: 0.2986 - accuracy: 0.8746 - auc: 0.9381 - val_loss: 0.3361 - val_accuracy: 0.8543 - val_auc: 0.9338\n",
      "Epoch 1/5\n",
      "  1/507 [..............................] - ETA: 2:36 - loss: 0.6376 - accuracy: 0.7812 - auc: 0.6771"
     ]
    },
    {
     "name": "stderr",
     "output_type": "stream",
     "text": [
      "2022-05-03 12:30:16.958711: I tensorflow/core/grappler/optimizers/custom_graph_optimizer_registry.cc:113] Plugin optimizer for device_type GPU is enabled.\n"
     ]
    },
    {
     "name": "stdout",
     "output_type": "stream",
     "text": [
      "506/507 [============================>.] - ETA: 0s - loss: 0.4108 - accuracy: 0.8136 - auc: 0.8789"
     ]
    },
    {
     "name": "stderr",
     "output_type": "stream",
     "text": [
      "2022-05-03 12:30:21.261002: I tensorflow/core/grappler/optimizers/custom_graph_optimizer_registry.cc:113] Plugin optimizer for device_type GPU is enabled.\n"
     ]
    },
    {
     "name": "stdout",
     "output_type": "stream",
     "text": [
      "507/507 [==============================] - 5s 10ms/step - loss: 0.4106 - accuracy: 0.8138 - auc: 0.8789 - val_loss: 0.3663 - val_accuracy: 0.8432 - val_auc: 0.9141\n",
      "Epoch 2/5\n",
      "507/507 [==============================] - 5s 10ms/step - loss: 0.3464 - accuracy: 0.8497 - auc: 0.9162 - val_loss: 0.3438 - val_accuracy: 0.8531 - val_auc: 0.9204\n",
      "Epoch 3/5\n",
      "507/507 [==============================] - 5s 10ms/step - loss: 0.3312 - accuracy: 0.8572 - auc: 0.9237 - val_loss: 0.4029 - val_accuracy: 0.8129 - val_auc: 0.9269\n",
      "Epoch 4/5\n",
      "507/507 [==============================] - 5s 9ms/step - loss: 0.3136 - accuracy: 0.8658 - auc: 0.9317 - val_loss: 0.3340 - val_accuracy: 0.8484 - val_auc: 0.9341\n",
      "Epoch 5/5\n",
      "507/507 [==============================] - 5s 10ms/step - loss: 0.3033 - accuracy: 0.8715 - auc: 0.9362 - val_loss: 0.3656 - val_accuracy: 0.8452 - val_auc: 0.9314\n",
      "Epoch 1/5\n",
      "  1/507 [..............................] - ETA: 2:51 - loss: 0.6469 - accuracy: 0.7500 - auc: 0.5990"
     ]
    },
    {
     "name": "stderr",
     "output_type": "stream",
     "text": [
      "2022-05-03 12:30:41.839497: I tensorflow/core/grappler/optimizers/custom_graph_optimizer_registry.cc:113] Plugin optimizer for device_type GPU is enabled.\n"
     ]
    },
    {
     "name": "stdout",
     "output_type": "stream",
     "text": [
      "502/507 [============================>.] - ETA: 0s - loss: 0.4079 - accuracy: 0.8134 - auc: 0.8805"
     ]
    },
    {
     "name": "stderr",
     "output_type": "stream",
     "text": [
      "2022-05-03 12:30:46.377667: I tensorflow/core/grappler/optimizers/custom_graph_optimizer_registry.cc:113] Plugin optimizer for device_type GPU is enabled.\n"
     ]
    },
    {
     "name": "stdout",
     "output_type": "stream",
     "text": [
      "507/507 [==============================] - 6s 10ms/step - loss: 0.4075 - accuracy: 0.8141 - auc: 0.8808 - val_loss: 0.3662 - val_accuracy: 0.8390 - val_auc: 0.9201\n",
      "Epoch 2/5\n",
      "507/507 [==============================] - 5s 10ms/step - loss: 0.3458 - accuracy: 0.8499 - auc: 0.9162 - val_loss: 0.3440 - val_accuracy: 0.8523 - val_auc: 0.9224\n",
      "Epoch 3/5\n",
      "507/507 [==============================] - 5s 10ms/step - loss: 0.3267 - accuracy: 0.8606 - auc: 0.9255 - val_loss: 0.3220 - val_accuracy: 0.8644 - val_auc: 0.9308\n",
      "Epoch 4/5\n",
      "507/507 [==============================] - 5s 10ms/step - loss: 0.3026 - accuracy: 0.8702 - auc: 0.9363 - val_loss: 0.3158 - val_accuracy: 0.8698 - val_auc: 0.9339\n",
      "Epoch 5/5\n",
      "507/507 [==============================] - 5s 10ms/step - loss: 0.2974 - accuracy: 0.8759 - auc: 0.9384 - val_loss: 0.3303 - val_accuracy: 0.8656 - val_auc: 0.9305\n"
     ]
    }
   ],
   "source": [
    "# generate train and test set\n",
    "x_train, x_test, y_train, y_test = train_test_split(np.array(images), np.array(cancer_label), test_size=0.2)\n",
    "\n",
    "# intialize and train sub-models\n",
    "def get_sub_model():\n",
    "    # number of sub models\n",
    "    nets = 5\n",
    "    sub_models = [0]*nets\n",
    "    \n",
    "    for i in range(nets):\n",
    "        model = get_model()\n",
    "        # fit sub_model with train and test data\n",
    "        model.fit(x_train, y_train, epochs=5, validation_data=(x_test, y_test))\n",
    "        \n",
    "        # save fitted sub_model to model list\n",
    "        sub_models[i] = model\n",
    "        \n",
    "    return sub_models\n",
    "    \n",
    "sub_models = get_sub_model()"
   ]
  },
  {
   "cell_type": "code",
   "execution_count": 13,
   "id": "e90d20eb",
   "metadata": {},
   "outputs": [],
   "source": [
    "# method to get output from submodels to feed meta_learner\n",
    "# shape of dataset would be (no rows of OG dataset, [no output of sub model * no sub model])\n",
    "def get_ensembled_x(x):\n",
    "    ensembled_data = None\n",
    "    for sub_model in sub_models:\n",
    "        prediction = sub_model.predict(x)\n",
    "        \n",
    "        # stack prediction of sub model to ensembled data\n",
    "        if ensembled_data is None:\n",
    "            ensembled_data = prediction\n",
    "        else:\n",
    "            ensembled_data = np.dstack((ensembled_data, prediction))\n",
    "            \n",
    "    # ensemble data initially shape iz (no_col, no submodels, no classes)        \n",
    "    # reshape to (no_col, no submodels*no classes)\n",
    "    ensembled_data = ensembled_data.reshape(ensembled_data.shape[0], ensembled_data.shape[1]*ensembled_data.shape[2])\n",
    "    return ensembled_data\n",
    "\n",
    "def get_meta_learner():\n",
    "    model = tf.keras.Sequential()\n",
    "    # Flatten input\n",
    "    model.add(tf.keras.layers.Flatten())\n",
    "    # Hidden layers\n",
    "    model.add(tf.keras.layers.Dense(256, activation=\"tanh\"))\n",
    "    model.add(tf.keras.layers.Dense(128, activation=\"softmax\"))\n",
    "    model.add(tf.keras.layers.Dense(32, activation=\"relu\"))\n",
    "    # Output layer\n",
    "    model.add(tf.keras.layers.Dense(1, activation=\"sigmoid\"))\n",
    "    # Compile model\n",
    "    model.compile(optimizer=\"adam\",\n",
    "                  loss=\"binary_crossentropy\",\n",
    "                  metrics=[\"accuracy\", \"AUC\"])\n",
    "    \n",
    "    # get train ensembled data\n",
    "    ensembled_x = get_ensembled_x(x_train)\n",
    "    \n",
    "    model.fit(ensembled_x, y_train, epochs=10)\n",
    "    return model "
   ]
  },
  {
   "cell_type": "code",
   "execution_count": 14,
   "id": "9b341ecb",
   "metadata": {},
   "outputs": [
    {
     "name": "stderr",
     "output_type": "stream",
     "text": [
      "2022-05-03 12:31:14.316182: I tensorflow/core/grappler/optimizers/custom_graph_optimizer_registry.cc:113] Plugin optimizer for device_type GPU is enabled.\n",
      "2022-05-03 12:31:14.592216: I tensorflow/core/grappler/optimizers/custom_graph_optimizer_registry.cc:113] Plugin optimizer for device_type GPU is enabled.\n",
      "2022-05-03 12:31:14.857777: I tensorflow/core/grappler/optimizers/custom_graph_optimizer_registry.cc:113] Plugin optimizer for device_type GPU is enabled.\n",
      "2022-05-03 12:31:15.125754: I tensorflow/core/grappler/optimizers/custom_graph_optimizer_registry.cc:113] Plugin optimizer for device_type GPU is enabled.\n",
      "2022-05-03 12:31:15.393551: I tensorflow/core/grappler/optimizers/custom_graph_optimizer_registry.cc:113] Plugin optimizer for device_type GPU is enabled.\n",
      "2022-05-03 12:31:15.748085: I tensorflow/core/grappler/optimizers/custom_graph_optimizer_registry.cc:113] Plugin optimizer for device_type GPU is enabled.\n",
      "2022-05-03 12:31:16.835260: I tensorflow/core/grappler/optimizers/custom_graph_optimizer_registry.cc:113] Plugin optimizer for device_type GPU is enabled.\n",
      "2022-05-03 12:31:17.800838: I tensorflow/core/grappler/optimizers/custom_graph_optimizer_registry.cc:113] Plugin optimizer for device_type GPU is enabled.\n",
      "2022-05-03 12:31:18.874799: I tensorflow/core/grappler/optimizers/custom_graph_optimizer_registry.cc:113] Plugin optimizer for device_type GPU is enabled.\n",
      "2022-05-03 12:31:19.863718: I tensorflow/core/grappler/optimizers/custom_graph_optimizer_registry.cc:113] Plugin optimizer for device_type GPU is enabled.\n"
     ]
    },
    {
     "name": "stdout",
     "output_type": "stream",
     "text": [
      "Epoch 1/10\n"
     ]
    },
    {
     "name": "stderr",
     "output_type": "stream",
     "text": [
      "2022-05-03 12:31:20.944978: I tensorflow/core/grappler/optimizers/custom_graph_optimizer_registry.cc:113] Plugin optimizer for device_type GPU is enabled.\n"
     ]
    },
    {
     "name": "stdout",
     "output_type": "stream",
     "text": [
      "507/507 [==============================] - 4s 8ms/step - loss: 0.3601 - accuracy: 0.8763 - auc: 0.9177\n",
      "Epoch 2/10\n",
      "507/507 [==============================] - 4s 7ms/step - loss: 0.2748 - accuracy: 0.8889 - auc: 0.9486\n",
      "Epoch 3/10\n",
      "507/507 [==============================] - 4s 7ms/step - loss: 0.2718 - accuracy: 0.8903 - auc: 0.9498\n",
      "Epoch 4/10\n",
      "507/507 [==============================] - 4s 7ms/step - loss: 0.2711 - accuracy: 0.8901 - auc: 0.9496\n",
      "Epoch 5/10\n",
      "507/507 [==============================] - 4s 7ms/step - loss: 0.2700 - accuracy: 0.8904 - auc: 0.9500\n",
      "Epoch 6/10\n",
      "507/507 [==============================] - 4s 7ms/step - loss: 0.2694 - accuracy: 0.8897 - auc: 0.9499\n",
      "Epoch 7/10\n",
      "507/507 [==============================] - 4s 7ms/step - loss: 0.2690 - accuracy: 0.8907 - auc: 0.9501\n",
      "Epoch 8/10\n",
      "507/507 [==============================] - 4s 7ms/step - loss: 0.2687 - accuracy: 0.8896 - auc: 0.9502\n",
      "Epoch 9/10\n",
      "507/507 [==============================] - 4s 7ms/step - loss: 0.2685 - accuracy: 0.8895 - auc: 0.9501\n",
      "Epoch 10/10\n",
      "507/507 [==============================] - 4s 8ms/step - loss: 0.2692 - accuracy: 0.8894 - auc: 0.9499\n",
      "  1/127 [..............................] - ETA: 28s - loss: 0.2177 - accuracy: 0.9062 - auc: 0.9543"
     ]
    },
    {
     "name": "stderr",
     "output_type": "stream",
     "text": [
      "2022-05-03 12:31:59.237369: I tensorflow/core/grappler/optimizers/custom_graph_optimizer_registry.cc:113] Plugin optimizer for device_type GPU is enabled.\n"
     ]
    },
    {
     "name": "stdout",
     "output_type": "stream",
     "text": [
      "127/127 [==============================] - 1s 7ms/step - loss: 0.3076 - accuracy: 0.8691 - auc: 0.9365\n"
     ]
    },
    {
     "data": {
      "text/plain": [
       "[0.3075993061065674, 0.8690828680992126, 0.936511218547821]"
      ]
     },
     "execution_count": 14,
     "metadata": {},
     "output_type": "execute_result"
    }
   ],
   "source": [
    "# evaluate with ensembled CNN model\n",
    "# get test data\n",
    "ensembled_x_test = get_ensembled_x(x_test)\n",
    "# get trained ensemble model\n",
    "ensembled_model = get_meta_learner()\n",
    "# evaluate\n",
    "ensembled_model.evaluate(ensembled_x_test, y_test)"
   ]
  },
  {
   "cell_type": "markdown",
   "id": "4b8319ef",
   "metadata": {},
   "source": [
    "### Base model for multiclass  "
   ]
  },
  {
   "cell_type": "code",
   "execution_count": 6,
   "id": "a3409180",
   "metadata": {
    "scrolled": true
   },
   "outputs": [
    {
     "data": {
      "image/png": "[encoded data removed]",
      "text/plain": [
       "<Figure size 720x720 with 25 Axes>"
      ]
     },
     "metadata": {},
     "output_type": "display_data"
    },
    {
     "name": "stdout",
     "output_type": "stream",
     "text": [
      "Epoch 1/100\n"
     ]
    },
    {
     "name": "stderr",
     "output_type": "stream",
     "text": [
      "2022-05-04 20:26:52.608137: I tensorflow/core/grappler/optimizers/custom_graph_optimizer_registry.cc:113] Plugin optimizer for device_type GPU is enabled.\n"
     ]
    },
    {
     "name": "stdout",
     "output_type": "stream",
     "text": [
      "248/248 [==============================] - ETA: 0s - loss: 0.9752 - accuracy: 0.5982"
     ]
    },
    {
     "name": "stderr",
     "output_type": "stream",
     "text": [
      "2022-05-04 20:26:55.322814: I tensorflow/core/grappler/optimizers/custom_graph_optimizer_registry.cc:113] Plugin optimizer for device_type GPU is enabled.\n"
     ]
    },
    {
     "name": "stdout",
     "output_type": "stream",
     "text": [
      "248/248 [==============================] - 3s 11ms/step - loss: 0.9752 - accuracy: 0.5982 - val_loss: 0.7885 - val_accuracy: 0.6712\n",
      "Epoch 2/100\n",
      "248/248 [==============================] - 2s 9ms/step - loss: 0.7826 - accuracy: 0.6875 - val_loss: 0.7045 - val_accuracy: 0.7121\n",
      "Epoch 3/100\n",
      "248/248 [==============================] - 2s 9ms/step - loss: 0.7429 - accuracy: 0.7103 - val_loss: 0.6948 - val_accuracy: 0.7187\n",
      "Epoch 4/100\n",
      "248/248 [==============================] - 2s 9ms/step - loss: 0.7169 - accuracy: 0.7169 - val_loss: 0.6847 - val_accuracy: 0.7258\n",
      "Epoch 5/100\n",
      "248/248 [==============================] - 2s 9ms/step - loss: 0.6768 - accuracy: 0.7404 - val_loss: 0.7050 - val_accuracy: 0.7192\n",
      "Epoch 6/100\n",
      "248/248 [==============================] - 2s 9ms/step - loss: 0.6673 - accuracy: 0.7390 - val_loss: 0.6238 - val_accuracy: 0.7434\n",
      "Epoch 7/100\n",
      "248/248 [==============================] - 2s 9ms/step - loss: 0.6217 - accuracy: 0.7624 - val_loss: 0.6508 - val_accuracy: 0.7394\n",
      "Epoch 8/100\n",
      "248/248 [==============================] - 2s 10ms/step - loss: 0.6059 - accuracy: 0.7673 - val_loss: 0.7559 - val_accuracy: 0.7242\n",
      "Epoch 9/100\n",
      "248/248 [==============================] - 2s 9ms/step - loss: 0.5712 - accuracy: 0.7803 - val_loss: 0.6686 - val_accuracy: 0.7414\n",
      "Epoch 10/100\n",
      "248/248 [==============================] - 2s 9ms/step - loss: 0.5383 - accuracy: 0.7923 - val_loss: 0.6349 - val_accuracy: 0.7465\n",
      "Epoch 11/100\n",
      "248/248 [==============================] - 2s 9ms/step - loss: 0.4990 - accuracy: 0.8124 - val_loss: 0.6385 - val_accuracy: 0.7571\n",
      "Epoch 12/100\n",
      "248/248 [==============================] - 2s 9ms/step - loss: 0.4591 - accuracy: 0.8262 - val_loss: 0.6992 - val_accuracy: 0.7333\n",
      "Epoch 13/100\n",
      "248/248 [==============================] - 2s 10ms/step - loss: 0.4382 - accuracy: 0.8324 - val_loss: 0.6780 - val_accuracy: 0.7505\n",
      "Epoch 14/100\n",
      "248/248 [==============================] - 2s 9ms/step - loss: 0.3713 - accuracy: 0.8604 - val_loss: 0.8679 - val_accuracy: 0.7298\n",
      "Epoch 15/100\n",
      "248/248 [==============================] - 2s 10ms/step - loss: 0.3386 - accuracy: 0.8715 - val_loss: 0.7433 - val_accuracy: 0.7404\n",
      "Epoch 16/100\n",
      "248/248 [==============================] - 3s 10ms/step - loss: 0.3164 - accuracy: 0.8776 - val_loss: 0.8091 - val_accuracy: 0.7253\n",
      "Epoch 17/100\n",
      "248/248 [==============================] - 2s 10ms/step - loss: 0.2812 - accuracy: 0.8940 - val_loss: 0.8658 - val_accuracy: 0.7394\n",
      "Epoch 18/100\n",
      "248/248 [==============================] - 2s 9ms/step - loss: 0.2170 - accuracy: 0.9210 - val_loss: 1.0109 - val_accuracy: 0.7364\n",
      "Epoch 19/100\n",
      "248/248 [==============================] - 2s 9ms/step - loss: 0.1916 - accuracy: 0.9346 - val_loss: 1.1556 - val_accuracy: 0.7121\n",
      "Epoch 20/100\n",
      "248/248 [==============================] - 2s 9ms/step - loss: 0.1855 - accuracy: 0.9341 - val_loss: 1.2358 - val_accuracy: 0.7056\n",
      "Epoch 21/100\n",
      "248/248 [==============================] - 2s 9ms/step - loss: 0.1420 - accuracy: 0.9497 - val_loss: 1.3966 - val_accuracy: 0.7232\n",
      "Epoch 22/100\n",
      "248/248 [==============================] - 2s 9ms/step - loss: 0.1372 - accuracy: 0.9549 - val_loss: 1.2569 - val_accuracy: 0.7091\n",
      "Epoch 23/100\n",
      "248/248 [==============================] - 2s 9ms/step - loss: 0.1180 - accuracy: 0.9569 - val_loss: 1.4428 - val_accuracy: 0.7253\n",
      "Epoch 24/100\n",
      "248/248 [==============================] - 2s 9ms/step - loss: 0.1210 - accuracy: 0.9570 - val_loss: 1.5411 - val_accuracy: 0.7131\n",
      "Epoch 25/100\n",
      "248/248 [==============================] - 2s 9ms/step - loss: 0.0954 - accuracy: 0.9666 - val_loss: 1.4596 - val_accuracy: 0.7212\n",
      "Epoch 26/100\n",
      "248/248 [==============================] - 2s 9ms/step - loss: 0.0603 - accuracy: 0.9787 - val_loss: 1.7292 - val_accuracy: 0.7146\n",
      "Epoch 27/100\n",
      "248/248 [==============================] - 2s 9ms/step - loss: 0.0971 - accuracy: 0.9663 - val_loss: 1.8136 - val_accuracy: 0.7101\n",
      "Epoch 28/100\n",
      "248/248 [==============================] - 2s 9ms/step - loss: 0.0704 - accuracy: 0.9771 - val_loss: 1.7208 - val_accuracy: 0.7187\n",
      "Epoch 29/100\n",
      "248/248 [==============================] - 2s 9ms/step - loss: 0.0349 - accuracy: 0.9894 - val_loss: 1.8202 - val_accuracy: 0.7192\n",
      "Epoch 30/100\n",
      "248/248 [==============================] - 2s 9ms/step - loss: 0.0673 - accuracy: 0.9783 - val_loss: 1.8957 - val_accuracy: 0.7101\n",
      "Epoch 31/100\n",
      "248/248 [==============================] - 2s 9ms/step - loss: 0.0314 - accuracy: 0.9900 - val_loss: 2.1286 - val_accuracy: 0.7253\n",
      "Epoch 32/100\n",
      "248/248 [==============================] - 2s 9ms/step - loss: 0.1048 - accuracy: 0.9664 - val_loss: 1.4799 - val_accuracy: 0.7152\n",
      "Epoch 33/100\n",
      "248/248 [==============================] - 2s 9ms/step - loss: 0.0459 - accuracy: 0.9856 - val_loss: 1.8945 - val_accuracy: 0.7020\n",
      "Epoch 34/100\n",
      "248/248 [==============================] - 2s 9ms/step - loss: 0.0606 - accuracy: 0.9808 - val_loss: 1.8670 - val_accuracy: 0.7035\n",
      "Epoch 35/100\n",
      "248/248 [==============================] - 2s 9ms/step - loss: 0.0511 - accuracy: 0.9826 - val_loss: 2.0733 - val_accuracy: 0.7152\n",
      "Epoch 36/100\n",
      "248/248 [==============================] - 2s 9ms/step - loss: 0.0048 - accuracy: 0.9994 - val_loss: 2.2885 - val_accuracy: 0.7247\n",
      "Epoch 37/100\n",
      "248/248 [==============================] - 2s 9ms/step - loss: 0.0022 - accuracy: 0.9997 - val_loss: 2.3862 - val_accuracy: 0.7202\n",
      "Epoch 38/100\n",
      "248/248 [==============================] - 2s 9ms/step - loss: 0.0010 - accuracy: 0.9999 - val_loss: 2.5129 - val_accuracy: 0.7303\n",
      "Epoch 39/100\n",
      "248/248 [==============================] - 2s 9ms/step - loss: 8.3402e-04 - accuracy: 0.9997 - val_loss: 2.5902 - val_accuracy: 0.7278\n",
      "Epoch 40/100\n",
      "248/248 [==============================] - 2s 9ms/step - loss: 5.7236e-04 - accuracy: 0.9999 - val_loss: 2.6785 - val_accuracy: 0.7278\n",
      "Epoch 41/100\n",
      "248/248 [==============================] - 2s 9ms/step - loss: 5.0654e-04 - accuracy: 0.9999 - val_loss: 2.6717 - val_accuracy: 0.7263\n",
      "Epoch 42/100\n",
      "248/248 [==============================] - 2s 9ms/step - loss: 5.2205e-04 - accuracy: 0.9999 - val_loss: 2.7935 - val_accuracy: 0.7288\n",
      "Epoch 43/100\n",
      "248/248 [==============================] - 2s 9ms/step - loss: 4.9394e-04 - accuracy: 0.9997 - val_loss: 2.8650 - val_accuracy: 0.7298\n",
      "Epoch 44/100\n",
      "248/248 [==============================] - 2s 9ms/step - loss: 3.6071e-04 - accuracy: 0.9997 - val_loss: 2.9139 - val_accuracy: 0.7278\n",
      "Epoch 45/100\n",
      "248/248 [==============================] - 2s 9ms/step - loss: 3.4266e-04 - accuracy: 0.9997 - val_loss: 2.9865 - val_accuracy: 0.7268\n",
      "Epoch 46/100\n",
      "248/248 [==============================] - 2s 9ms/step - loss: 0.0601 - accuracy: 0.9846 - val_loss: 2.3524 - val_accuracy: 0.6561\n",
      "Epoch 47/100\n",
      "248/248 [==============================] - 2s 9ms/step - loss: 0.2769 - accuracy: 0.9018 - val_loss: 1.3085 - val_accuracy: 0.7157\n",
      "Epoch 48/100\n",
      "248/248 [==============================] - 2s 9ms/step - loss: 0.0758 - accuracy: 0.9742 - val_loss: 1.6970 - val_accuracy: 0.6828\n",
      "Epoch 49/100\n",
      "248/248 [==============================] - 2s 10ms/step - loss: 0.0623 - accuracy: 0.9800 - val_loss: 1.8423 - val_accuracy: 0.7091\n",
      "Epoch 50/100\n",
      "248/248 [==============================] - 2s 10ms/step - loss: 0.0500 - accuracy: 0.9826 - val_loss: 1.9934 - val_accuracy: 0.7288\n",
      "Epoch 51/100\n",
      "248/248 [==============================] - 2s 9ms/step - loss: 0.0540 - accuracy: 0.9809 - val_loss: 1.9739 - val_accuracy: 0.7126\n",
      "Epoch 52/100\n",
      "248/248 [==============================] - 2s 10ms/step - loss: 0.0108 - accuracy: 0.9971 - val_loss: 2.1752 - val_accuracy: 0.7126\n",
      "Epoch 53/100\n",
      "248/248 [==============================] - 2s 10ms/step - loss: 0.0563 - accuracy: 0.9840 - val_loss: 1.9510 - val_accuracy: 0.7066\n",
      "Epoch 54/100\n",
      "248/248 [==============================] - 2s 9ms/step - loss: 0.0062 - accuracy: 0.9987 - val_loss: 2.2993 - val_accuracy: 0.7167\n",
      "Epoch 55/100\n",
      "248/248 [==============================] - 2s 9ms/step - loss: 0.0675 - accuracy: 0.9788 - val_loss: 2.1619 - val_accuracy: 0.6763\n",
      "Epoch 56/100\n",
      "248/248 [==============================] - 2s 10ms/step - loss: 0.0159 - accuracy: 0.9960 - val_loss: 2.1280 - val_accuracy: 0.7162\n",
      "Epoch 57/100\n",
      "248/248 [==============================] - 2s 9ms/step - loss: 0.0016 - accuracy: 0.9996 - val_loss: 2.4311 - val_accuracy: 0.7318\n"
     ]
    },
    {
     "name": "stdout",
     "output_type": "stream",
     "text": [
      "Epoch 58/100\n",
      "248/248 [==============================] - 2s 9ms/step - loss: 5.4748e-04 - accuracy: 0.9999 - val_loss: 2.5232 - val_accuracy: 0.7303\n",
      "Epoch 59/100\n",
      "248/248 [==============================] - 2s 9ms/step - loss: 3.7109e-04 - accuracy: 0.9997 - val_loss: 2.6493 - val_accuracy: 0.7318\n",
      "Epoch 60/100\n",
      "248/248 [==============================] - 2s 9ms/step - loss: 3.3829e-04 - accuracy: 0.9999 - val_loss: 2.7419 - val_accuracy: 0.7288\n",
      "Epoch 61/100\n",
      "248/248 [==============================] - 2s 9ms/step - loss: 3.4178e-04 - accuracy: 0.9997 - val_loss: 2.8117 - val_accuracy: 0.7298\n",
      "Epoch 62/100\n",
      "248/248 [==============================] - 2s 10ms/step - loss: 4.0001e-04 - accuracy: 0.9999 - val_loss: 2.8373 - val_accuracy: 0.7318\n",
      "Epoch 63/100\n",
      "248/248 [==============================] - 2s 10ms/step - loss: 4.7999e-04 - accuracy: 0.9999 - val_loss: 2.8478 - val_accuracy: 0.7258\n",
      "Epoch 64/100\n",
      "248/248 [==============================] - 2s 9ms/step - loss: 2.9899e-04 - accuracy: 0.9997 - val_loss: 2.9587 - val_accuracy: 0.7258\n",
      "Epoch 65/100\n",
      "248/248 [==============================] - 2s 9ms/step - loss: 2.8488e-04 - accuracy: 0.9997 - val_loss: 3.0835 - val_accuracy: 0.7273\n",
      "Epoch 66/100\n",
      "248/248 [==============================] - 2s 9ms/step - loss: 2.6810e-04 - accuracy: 0.9997 - val_loss: 3.2435 - val_accuracy: 0.7253\n",
      "Epoch 67/100\n",
      "248/248 [==============================] - 2s 9ms/step - loss: 2.5189e-04 - accuracy: 0.9999 - val_loss: 3.3706 - val_accuracy: 0.7268\n",
      "Epoch 68/100\n",
      "248/248 [==============================] - 2s 9ms/step - loss: 2.3815e-04 - accuracy: 0.9999 - val_loss: 3.5542 - val_accuracy: 0.7278\n",
      "Epoch 69/100\n",
      "248/248 [==============================] - 2s 9ms/step - loss: 2.3197e-04 - accuracy: 0.9997 - val_loss: 3.5940 - val_accuracy: 0.7258\n",
      "Epoch 70/100\n",
      "248/248 [==============================] - 2s 9ms/step - loss: 2.3371e-04 - accuracy: 0.9997 - val_loss: 3.7476 - val_accuracy: 0.7283\n",
      "Epoch 71/100\n",
      "248/248 [==============================] - 2s 9ms/step - loss: 2.3104e-04 - accuracy: 0.9997 - val_loss: 3.8478 - val_accuracy: 0.7268\n",
      "Epoch 72/100\n",
      "248/248 [==============================] - 2s 10ms/step - loss: 2.2909e-04 - accuracy: 0.9999 - val_loss: 3.8776 - val_accuracy: 0.7263\n",
      "Epoch 73/100\n",
      "248/248 [==============================] - 2s 9ms/step - loss: 2.1844e-04 - accuracy: 0.9999 - val_loss: 3.9403 - val_accuracy: 0.7283\n",
      "Epoch 74/100\n",
      "248/248 [==============================] - 2s 10ms/step - loss: 2.1931e-04 - accuracy: 0.9999 - val_loss: 3.9891 - val_accuracy: 0.7273\n",
      "Epoch 75/100\n",
      "248/248 [==============================] - 2s 10ms/step - loss: 0.2173 - accuracy: 0.9353 - val_loss: 0.8772 - val_accuracy: 0.6884\n",
      "Epoch 76/100\n",
      "248/248 [==============================] - 2s 10ms/step - loss: 0.1855 - accuracy: 0.9308 - val_loss: 1.6682 - val_accuracy: 0.6955\n",
      "Epoch 77/100\n",
      "248/248 [==============================] - 2s 9ms/step - loss: 0.0830 - accuracy: 0.9709 - val_loss: 1.7317 - val_accuracy: 0.6985\n",
      "Epoch 78/100\n",
      "248/248 [==============================] - 2s 9ms/step - loss: 0.0228 - accuracy: 0.9934 - val_loss: 2.0862 - val_accuracy: 0.7111\n",
      "Epoch 79/100\n",
      "248/248 [==============================] - 2s 10ms/step - loss: 0.0333 - accuracy: 0.9889 - val_loss: 2.3062 - val_accuracy: 0.6894\n",
      "Epoch 80/100\n",
      "248/248 [==============================] - 2s 10ms/step - loss: 0.0184 - accuracy: 0.9936 - val_loss: 2.1863 - val_accuracy: 0.7136\n",
      "Epoch 81/100\n",
      "248/248 [==============================] - 2s 9ms/step - loss: 0.0300 - accuracy: 0.9900 - val_loss: 2.1015 - val_accuracy: 0.7010\n",
      "Epoch 82/100\n",
      "248/248 [==============================] - 2s 10ms/step - loss: 0.0455 - accuracy: 0.9848 - val_loss: 2.2432 - val_accuracy: 0.7162\n",
      "Epoch 83/100\n",
      "248/248 [==============================] - 2s 10ms/step - loss: 0.0490 - accuracy: 0.9871 - val_loss: 1.9644 - val_accuracy: 0.7217\n",
      "Epoch 84/100\n",
      "248/248 [==============================] - 2s 10ms/step - loss: 0.0104 - accuracy: 0.9965 - val_loss: 2.3881 - val_accuracy: 0.7182\n",
      "Epoch 85/100\n",
      "248/248 [==============================] - 2s 10ms/step - loss: 0.0109 - accuracy: 0.9967 - val_loss: 2.4933 - val_accuracy: 0.7111\n",
      "Epoch 86/100\n",
      "248/248 [==============================] - 2s 10ms/step - loss: 0.0087 - accuracy: 0.9977 - val_loss: 2.5432 - val_accuracy: 0.7237\n",
      "Epoch 87/100\n",
      "248/248 [==============================] - 2s 10ms/step - loss: 0.0027 - accuracy: 0.9992 - val_loss: 2.6093 - val_accuracy: 0.7232\n",
      "Epoch 88/100\n",
      "248/248 [==============================] - 2s 10ms/step - loss: 6.6956e-04 - accuracy: 0.9997 - val_loss: 2.7244 - val_accuracy: 0.7192\n",
      "Epoch 89/100\n",
      "248/248 [==============================] - 2s 9ms/step - loss: 4.5174e-04 - accuracy: 0.9999 - val_loss: 2.7672 - val_accuracy: 0.7227\n",
      "Epoch 90/100\n",
      "248/248 [==============================] - 2s 9ms/step - loss: 3.3196e-04 - accuracy: 0.9997 - val_loss: 2.8119 - val_accuracy: 0.7217\n",
      "Epoch 91/100\n",
      "248/248 [==============================] - 2s 9ms/step - loss: 3.0590e-04 - accuracy: 0.9999 - val_loss: 2.8431 - val_accuracy: 0.7222\n",
      "Epoch 92/100\n",
      "248/248 [==============================] - 2s 9ms/step - loss: 2.9914e-04 - accuracy: 0.9997 - val_loss: 2.8835 - val_accuracy: 0.7237\n",
      "Epoch 93/100\n",
      "248/248 [==============================] - 2s 9ms/step - loss: 2.6710e-04 - accuracy: 0.9997 - val_loss: 2.9344 - val_accuracy: 0.7227\n",
      "Epoch 94/100\n",
      "248/248 [==============================] - 2s 10ms/step - loss: 2.1543e-04 - accuracy: 0.9999 - val_loss: 2.9810 - val_accuracy: 0.7217\n",
      "Epoch 95/100\n",
      "248/248 [==============================] - 2s 10ms/step - loss: 2.8493e-04 - accuracy: 0.9999 - val_loss: 3.0142 - val_accuracy: 0.7207\n",
      "Epoch 96/100\n",
      "248/248 [==============================] - 2s 10ms/step - loss: 2.7428e-04 - accuracy: 0.9999 - val_loss: 2.9808 - val_accuracy: 0.7192\n",
      "Epoch 97/100\n",
      "248/248 [==============================] - 2s 10ms/step - loss: 3.8375e-04 - accuracy: 0.9997 - val_loss: 3.0390 - val_accuracy: 0.7202\n",
      "Epoch 98/100\n",
      "248/248 [==============================] - 2s 9ms/step - loss: 2.5388e-04 - accuracy: 0.9997 - val_loss: 3.0883 - val_accuracy: 0.7222\n",
      "Epoch 99/100\n",
      "248/248 [==============================] - 2s 10ms/step - loss: 2.6681e-04 - accuracy: 0.9997 - val_loss: 3.1076 - val_accuracy: 0.7217\n",
      "Epoch 100/100\n",
      "248/248 [==============================] - 2s 10ms/step - loss: 2.1487e-04 - accuracy: 0.9997 - val_loss: 3.1756 - val_accuracy: 0.7217\n"
     ]
    },
    {
     "name": "stderr",
     "output_type": "stream",
     "text": [
      "2022-05-04 20:30:47.100784: I tensorflow/core/grappler/optimizers/custom_graph_optimizer_registry.cc:113] Plugin optimizer for device_type GPU is enabled.\n"
     ]
    }
   ],
   "source": [
    "import matplotlib.pyplot as plt\n",
    "all_class = [\"epithelial\", \"fibroblast\", \"inflammatory\", \"others\"]\n",
    "\n",
    "def celltype_classify_data(class_list):    \n",
    "    images = list()\n",
    "    labels = list()\n",
    "    \n",
    "    for i, label in enumerate(class_list):\n",
    "        # get image directory\n",
    "        img_dir = os.path.join(root, f\"{label}\")\n",
    "        \n",
    "        for img in os.listdir(img_dir):\n",
    "            img = cv2.imread(os.path.join(img_dir, img))\n",
    "            # resize to 0-1 for faster computation\n",
    "            resized = img / 255\n",
    "            images.append(resized)\n",
    "            labels.append(i)\n",
    "        \n",
    "    return (images, labels)\n",
    "\n",
    "cell_img, celltype_label = celltype_classify_data(all_class)\n",
    "x_train, x_test, y_train, y_test = train_test_split(\n",
    "    np.array(cell_img), np.array(celltype_label), test_size=0.2\n",
    ")\n",
    "\n",
    "# print first 25 images\n",
    "plt.figure(figsize=(10,10))\n",
    "for i in range(25):\n",
    "    plt.subplot(5,5,i+1)\n",
    "    plt.xticks([])\n",
    "    plt.yticks([])\n",
    "    plt.grid(False)\n",
    "    plt.imshow(x_train[i], cmap=plt.cm.binary)\n",
    "    plt.xlabel(all_class[y_train[i]])\n",
    "plt.show()\n",
    "\n",
    "def get_multiclass_model():\n",
    "    model = tf.keras.Sequential()\n",
    "    # First convo-pooling\n",
    "    \n",
    "    # Convolutional layers (filter the image with a kernel)\n",
    "    model.add(tf.keras.layers.Conv2D(64, (3, 3), activation=\"relu\", input_shape=[27, 27, 3]))\n",
    "    # Max-pooling layers (reduce the size of the image by choosing max pixel at certain area)\n",
    "    model.add(tf.keras.layers.MaxPool2D(pool_size=(2, 2)))\n",
    "    \n",
    "    # Convolutional layers (filter the image with a kernel)\n",
    "    model.add(tf.keras.layers.Conv2D(64, (3, 3),strides=(1,1), activation=\"relu\", input_shape=[27, 27, 3]))\n",
    "    # Max-pooling layers (reduce the size of the image by choosing max pixel at certain area)\n",
    "    model.add(tf.keras.layers.MaxPool2D(pool_size=(2, 2), strides=(1,1)))\n",
    "    \n",
    "    # Flatten input\n",
    "    model.add(tf.keras.layers.Flatten())\n",
    "    model.add(tf.keras.layers.Dense(256, activation=\"relu\"))\n",
    "    model.add(tf.keras.layers.Dense(128, activation=\"relu\"))\n",
    "    model.add(tf.keras.layers.Dense(32, activation=\"relu\"))\n",
    "    # Output layer\n",
    "    model.add(tf.keras.layers.Dense(4, activation=\"softmax\"))\n",
    "    # Compile model \n",
    "    model.compile(optimizer=\"adam\",\n",
    "                  loss=\"sparse_categorical_crossentropy\",\n",
    "                  metrics=[\"accuracy\"])\n",
    "    \n",
    "    return model\n",
    "\n",
    "model = get_multiclass_model()\n",
    "\n",
    "model.fit(x_train, y_train, epochs=100, validation_data=(x_test, y_test))\n",
    "prediction = model.predict(x_test)"
   ]
  },
  {
   "cell_type": "markdown",
   "id": "6ada6a38",
   "metadata": {},
   "source": [
    "### Multiclass using transfer learning "
   ]
  },
  {
   "cell_type": "code",
   "execution_count": 10,
   "id": "bb8d3e77",
   "metadata": {},
   "outputs": [
    {
     "name": "stdout",
     "output_type": "stream",
     "text": [
      "---Subclass training---\n",
      "Epoch 1/40\n",
      "  1/213 [..............................] - ETA: 1:04 - loss: 1.0636 - accuracy: 0.5000"
     ]
    },
    {
     "name": "stderr",
     "output_type": "stream",
     "text": [
      "2022-05-04 21:27:20.273948: I tensorflow/core/grappler/optimizers/custom_graph_optimizer_registry.cc:113] Plugin optimizer for device_type GPU is enabled.\n"
     ]
    },
    {
     "name": "stdout",
     "output_type": "stream",
     "text": [
      "213/213 [==============================] - ETA: 0s - loss: 0.7221 - accuracy: 0.6901"
     ]
    },
    {
     "name": "stderr",
     "output_type": "stream",
     "text": [
      "2022-05-04 21:27:22.285884: I tensorflow/core/grappler/optimizers/custom_graph_optimizer_registry.cc:113] Plugin optimizer for device_type GPU is enabled.\n"
     ]
    },
    {
     "name": "stdout",
     "output_type": "stream",
     "text": [
      "213/213 [==============================] - 2s 10ms/step - loss: 0.7221 - accuracy: 0.6901 - val_loss: 0.6653 - val_accuracy: 0.7233\n",
      "Epoch 2/40\n",
      "213/213 [==============================] - 2s 9ms/step - loss: 0.5150 - accuracy: 0.8002 - val_loss: 0.5358 - val_accuracy: 0.7979\n",
      "Epoch 3/40\n",
      "213/213 [==============================] - 2s 9ms/step - loss: 0.4981 - accuracy: 0.8054 - val_loss: 0.4749 - val_accuracy: 0.8167\n",
      "Epoch 4/40\n",
      "213/213 [==============================] - 2s 9ms/step - loss: 0.4480 - accuracy: 0.8256 - val_loss: 0.4777 - val_accuracy: 0.8208\n",
      "Epoch 5/40\n",
      "213/213 [==============================] - 2s 9ms/step - loss: 0.4436 - accuracy: 0.8295 - val_loss: 0.5088 - val_accuracy: 0.8014\n",
      "Epoch 6/40\n",
      "213/213 [==============================] - 2s 9ms/step - loss: 0.3971 - accuracy: 0.8446 - val_loss: 0.4641 - val_accuracy: 0.8132\n",
      "Epoch 7/40\n",
      "213/213 [==============================] - 2s 9ms/step - loss: 0.3957 - accuracy: 0.8412 - val_loss: 0.5332 - val_accuracy: 0.7932\n",
      "Epoch 8/40\n",
      "213/213 [==============================] - 2s 9ms/step - loss: 0.3733 - accuracy: 0.8509 - val_loss: 0.4826 - val_accuracy: 0.8061\n",
      "Epoch 9/40\n",
      "213/213 [==============================] - 2s 9ms/step - loss: 0.3361 - accuracy: 0.8713 - val_loss: 0.4732 - val_accuracy: 0.8184\n",
      "Epoch 10/40\n",
      "213/213 [==============================] - 2s 9ms/step - loss: 0.3379 - accuracy: 0.8681 - val_loss: 0.4775 - val_accuracy: 0.8143\n",
      "Epoch 11/40\n",
      "213/213 [==============================] - 2s 9ms/step - loss: 0.3132 - accuracy: 0.8821 - val_loss: 0.4975 - val_accuracy: 0.8179\n",
      "Epoch 12/40\n",
      "213/213 [==============================] - 2s 9ms/step - loss: 0.3061 - accuracy: 0.8763 - val_loss: 0.5128 - val_accuracy: 0.8096\n",
      "Epoch 13/40\n",
      "213/213 [==============================] - 2s 9ms/step - loss: 0.2575 - accuracy: 0.8963 - val_loss: 0.5821 - val_accuracy: 0.8126\n",
      "Epoch 14/40\n",
      "213/213 [==============================] - 2s 9ms/step - loss: 0.2249 - accuracy: 0.9130 - val_loss: 0.5656 - val_accuracy: 0.8120\n",
      "Epoch 15/40\n",
      "213/213 [==============================] - 2s 9ms/step - loss: 0.1905 - accuracy: 0.9264 - val_loss: 0.6225 - val_accuracy: 0.8102\n",
      "Epoch 16/40\n",
      "213/213 [==============================] - 2s 9ms/step - loss: 0.1793 - accuracy: 0.9288 - val_loss: 0.6871 - val_accuracy: 0.8073\n",
      "Epoch 17/40\n",
      "213/213 [==============================] - 2s 9ms/step - loss: 0.1438 - accuracy: 0.9458 - val_loss: 0.7332 - val_accuracy: 0.8067\n",
      "Epoch 18/40\n",
      "213/213 [==============================] - 2s 9ms/step - loss: 0.1173 - accuracy: 0.9575 - val_loss: 0.9083 - val_accuracy: 0.7744\n",
      "Epoch 19/40\n",
      "213/213 [==============================] - 2s 9ms/step - loss: 0.1141 - accuracy: 0.9598 - val_loss: 0.8931 - val_accuracy: 0.7867\n",
      "Epoch 20/40\n",
      "213/213 [==============================] - 2s 9ms/step - loss: 0.0861 - accuracy: 0.9671 - val_loss: 0.9298 - val_accuracy: 0.7897\n",
      "Epoch 21/40\n",
      "213/213 [==============================] - 2s 9ms/step - loss: 0.1182 - accuracy: 0.9568 - val_loss: 1.0070 - val_accuracy: 0.7832\n",
      "Epoch 22/40\n",
      "213/213 [==============================] - 2s 9ms/step - loss: 0.1160 - accuracy: 0.9587 - val_loss: 0.9488 - val_accuracy: 0.8108\n",
      "Epoch 23/40\n",
      "213/213 [==============================] - 2s 9ms/step - loss: 0.0565 - accuracy: 0.9818 - val_loss: 1.0305 - val_accuracy: 0.7955\n",
      "Epoch 24/40\n",
      "213/213 [==============================] - 2s 9ms/step - loss: 0.0488 - accuracy: 0.9831 - val_loss: 1.1407 - val_accuracy: 0.7808\n",
      "Epoch 25/40\n",
      "213/213 [==============================] - 2s 9ms/step - loss: 0.0872 - accuracy: 0.9683 - val_loss: 1.0144 - val_accuracy: 0.8020\n",
      "Epoch 26/40\n",
      "213/213 [==============================] - 2s 9ms/step - loss: 0.0875 - accuracy: 0.9683 - val_loss: 0.9251 - val_accuracy: 0.7891\n",
      "Epoch 27/40\n",
      "213/213 [==============================] - 2s 9ms/step - loss: 0.0453 - accuracy: 0.9856 - val_loss: 1.2757 - val_accuracy: 0.7691\n",
      "Epoch 28/40\n",
      "213/213 [==============================] - 2s 9ms/step - loss: 0.0465 - accuracy: 0.9837 - val_loss: 1.1642 - val_accuracy: 0.8102\n",
      "Epoch 29/40\n",
      "213/213 [==============================] - 2s 9ms/step - loss: 0.0265 - accuracy: 0.9913 - val_loss: 1.1242 - val_accuracy: 0.8108\n",
      "Epoch 30/40\n",
      "213/213 [==============================] - 2s 9ms/step - loss: 0.0533 - accuracy: 0.9819 - val_loss: 1.0845 - val_accuracy: 0.7873\n",
      "Epoch 31/40\n",
      "213/213 [==============================] - 2s 9ms/step - loss: 0.0487 - accuracy: 0.9838 - val_loss: 1.3049 - val_accuracy: 0.7850\n",
      "Epoch 32/40\n",
      "213/213 [==============================] - 2s 9ms/step - loss: 0.0397 - accuracy: 0.9862 - val_loss: 1.3038 - val_accuracy: 0.8085\n",
      "Epoch 33/40\n",
      "213/213 [==============================] - 2s 9ms/step - loss: 0.0146 - accuracy: 0.9960 - val_loss: 1.3007 - val_accuracy: 0.7985\n",
      "Epoch 34/40\n",
      "213/213 [==============================] - 2s 9ms/step - loss: 0.0634 - accuracy: 0.9786 - val_loss: 1.2914 - val_accuracy: 0.7632\n",
      "Epoch 35/40\n",
      "213/213 [==============================] - 2s 9ms/step - loss: 0.0200 - accuracy: 0.9944 - val_loss: 1.3785 - val_accuracy: 0.8137\n",
      "Epoch 36/40\n",
      "213/213 [==============================] - 2s 9ms/step - loss: 0.0025 - accuracy: 0.9996 - val_loss: 1.4142 - val_accuracy: 0.8096\n",
      "Epoch 37/40\n",
      "213/213 [==============================] - 2s 9ms/step - loss: 6.2230e-04 - accuracy: 1.0000 - val_loss: 1.5902 - val_accuracy: 0.8108\n",
      "Epoch 38/40\n",
      "213/213 [==============================] - 2s 9ms/step - loss: 3.0669e-04 - accuracy: 1.0000 - val_loss: 1.6556 - val_accuracy: 0.8102\n",
      "Epoch 39/40\n",
      "213/213 [==============================] - 2s 9ms/step - loss: 2.2655e-04 - accuracy: 1.0000 - val_loss: 1.7093 - val_accuracy: 0.8102\n",
      "Epoch 40/40\n",
      "213/213 [==============================] - 2s 9ms/step - loss: 1.6546e-04 - accuracy: 1.0000 - val_loss: 1.7515 - val_accuracy: 0.8108\n"
     ]
    },
    {
     "name": "stderr",
     "output_type": "stream",
     "text": [
      "2022-05-04 21:28:37.058355: I tensorflow/core/grappler/optimizers/custom_graph_optimizer_registry.cc:113] Plugin optimizer for device_type GPU is enabled.\n"
     ]
    },
    {
     "name": "stdout",
     "output_type": "stream",
     "text": [
      "---Transfer learning training---\n",
      "Epoch 1/100\n",
      "  8/248 [..............................] - ETA: 1s - loss: 1.3618 - accuracy: 0.2578  "
     ]
    },
    {
     "name": "stderr",
     "output_type": "stream",
     "text": [
      "2022-05-04 21:28:37.880547: I tensorflow/core/grappler/optimizers/custom_graph_optimizer_registry.cc:113] Plugin optimizer for device_type GPU is enabled.\n"
     ]
    },
    {
     "name": "stdout",
     "output_type": "stream",
     "text": [
      "248/248 [==============================] - ETA: 0s - loss: 1.2149 - accuracy: 0.4908"
     ]
    },
    {
     "name": "stderr",
     "output_type": "stream",
     "text": [
      "2022-05-04 21:28:39.674731: I tensorflow/core/grappler/optimizers/custom_graph_optimizer_registry.cc:113] Plugin optimizer for device_type GPU is enabled.\n"
     ]
    },
    {
     "name": "stdout",
     "output_type": "stream",
     "text": [
      "248/248 [==============================] - 2s 8ms/step - loss: 1.2149 - accuracy: 0.4908 - val_loss: 1.0276 - val_accuracy: 0.6515\n",
      "Epoch 2/100\n",
      "248/248 [==============================] - 2s 7ms/step - loss: 0.9168 - accuracy: 0.6527 - val_loss: 0.8191 - val_accuracy: 0.6505\n",
      "Epoch 3/100\n",
      "248/248 [==============================] - 2s 7ms/step - loss: 0.7754 - accuracy: 0.8123 - val_loss: 0.7210 - val_accuracy: 0.8303\n",
      "Epoch 4/100\n",
      "248/248 [==============================] - 2s 7ms/step - loss: 0.7051 - accuracy: 0.8272 - val_loss: 0.6668 - val_accuracy: 0.8303\n",
      "Epoch 5/100\n",
      "248/248 [==============================] - 2s 7ms/step - loss: 0.6619 - accuracy: 0.8273 - val_loss: 0.6299 - val_accuracy: 0.8298\n",
      "Epoch 6/100\n",
      "248/248 [==============================] - 2s 7ms/step - loss: 0.6322 - accuracy: 0.8271 - val_loss: 0.6031 - val_accuracy: 0.8298\n",
      "Epoch 7/100\n",
      "248/248 [==============================] - 2s 7ms/step - loss: 0.6111 - accuracy: 0.8271 - val_loss: 0.5796 - val_accuracy: 0.8318\n",
      "Epoch 8/100\n",
      "248/248 [==============================] - 2s 7ms/step - loss: 0.5983 - accuracy: 0.8272 - val_loss: 0.5724 - val_accuracy: 0.8298\n",
      "Epoch 9/100\n",
      "248/248 [==============================] - 2s 7ms/step - loss: 0.5847 - accuracy: 0.8267 - val_loss: 0.5554 - val_accuracy: 0.8308\n",
      "Epoch 10/100\n",
      "248/248 [==============================] - 2s 7ms/step - loss: 0.5757 - accuracy: 0.8259 - val_loss: 0.5503 - val_accuracy: 0.8303\n",
      "Epoch 11/100\n",
      "248/248 [==============================] - 2s 7ms/step - loss: 0.5671 - accuracy: 0.8266 - val_loss: 0.5402 - val_accuracy: 0.8318\n",
      "Epoch 12/100\n",
      "248/248 [==============================] - 2s 7ms/step - loss: 0.5596 - accuracy: 0.8269 - val_loss: 0.5343 - val_accuracy: 0.8303\n",
      "Epoch 13/100\n",
      "248/248 [==============================] - 2s 7ms/step - loss: 0.5513 - accuracy: 0.8274 - val_loss: 0.5300 - val_accuracy: 0.8313\n",
      "Epoch 14/100\n",
      "248/248 [==============================] - 2s 7ms/step - loss: 0.5446 - accuracy: 0.8292 - val_loss: 0.5195 - val_accuracy: 0.8318\n",
      "Epoch 15/100\n",
      "248/248 [==============================] - 2s 7ms/step - loss: 0.5391 - accuracy: 0.8302 - val_loss: 0.5148 - val_accuracy: 0.8343\n",
      "Epoch 16/100\n",
      "248/248 [==============================] - 2s 7ms/step - loss: 0.5351 - accuracy: 0.8302 - val_loss: 0.5116 - val_accuracy: 0.8369\n",
      "Epoch 17/100\n",
      "248/248 [==============================] - 2s 7ms/step - loss: 0.5309 - accuracy: 0.8315 - val_loss: 0.5058 - val_accuracy: 0.8364\n",
      "Epoch 18/100\n",
      "248/248 [==============================] - 2s 7ms/step - loss: 0.5269 - accuracy: 0.8330 - val_loss: 0.5038 - val_accuracy: 0.8359\n",
      "Epoch 19/100\n",
      "248/248 [==============================] - 2s 7ms/step - loss: 0.5246 - accuracy: 0.8332 - val_loss: 0.5011 - val_accuracy: 0.8369\n",
      "Epoch 20/100\n",
      "248/248 [==============================] - 2s 7ms/step - loss: 0.5229 - accuracy: 0.8330 - val_loss: 0.4983 - val_accuracy: 0.8364\n",
      "Epoch 21/100\n",
      "248/248 [==============================] - 2s 7ms/step - loss: 0.5198 - accuracy: 0.8335 - val_loss: 0.4954 - val_accuracy: 0.8374\n",
      "Epoch 22/100\n",
      "248/248 [==============================] - 2s 7ms/step - loss: 0.5181 - accuracy: 0.8335 - val_loss: 0.4932 - val_accuracy: 0.8374\n",
      "Epoch 23/100\n",
      "248/248 [==============================] - 2s 7ms/step - loss: 0.5158 - accuracy: 0.8353 - val_loss: 0.4917 - val_accuracy: 0.8374\n",
      "Epoch 24/100\n",
      "248/248 [==============================] - 2s 7ms/step - loss: 0.5153 - accuracy: 0.8344 - val_loss: 0.4911 - val_accuracy: 0.8369\n",
      "Epoch 25/100\n",
      "248/248 [==============================] - 2s 7ms/step - loss: 0.5141 - accuracy: 0.8343 - val_loss: 0.4893 - val_accuracy: 0.8359\n",
      "Epoch 26/100\n",
      "248/248 [==============================] - 2s 7ms/step - loss: 0.5131 - accuracy: 0.8338 - val_loss: 0.4896 - val_accuracy: 0.8369\n",
      "Epoch 27/100\n",
      "248/248 [==============================] - 2s 7ms/step - loss: 0.5128 - accuracy: 0.8343 - val_loss: 0.4869 - val_accuracy: 0.8359\n",
      "Epoch 28/100\n",
      "248/248 [==============================] - 2s 7ms/step - loss: 0.5103 - accuracy: 0.8344 - val_loss: 0.4872 - val_accuracy: 0.8364\n",
      "Epoch 29/100\n",
      "248/248 [==============================] - 2s 7ms/step - loss: 0.5098 - accuracy: 0.8336 - val_loss: 0.4886 - val_accuracy: 0.8379\n",
      "Epoch 30/100\n",
      "248/248 [==============================] - 2s 7ms/step - loss: 0.5096 - accuracy: 0.8346 - val_loss: 0.4840 - val_accuracy: 0.8359\n",
      "Epoch 31/100\n",
      "248/248 [==============================] - 2s 7ms/step - loss: 0.5089 - accuracy: 0.8346 - val_loss: 0.4850 - val_accuracy: 0.8359\n",
      "Epoch 32/100\n",
      "248/248 [==============================] - 2s 7ms/step - loss: 0.5077 - accuracy: 0.8348 - val_loss: 0.4828 - val_accuracy: 0.8384\n",
      "Epoch 33/100\n",
      "248/248 [==============================] - 2s 7ms/step - loss: 0.5065 - accuracy: 0.8348 - val_loss: 0.4886 - val_accuracy: 0.8359\n",
      "Epoch 34/100\n",
      "248/248 [==============================] - 2s 7ms/step - loss: 0.5066 - accuracy: 0.8354 - val_loss: 0.4843 - val_accuracy: 0.8369\n",
      "Epoch 35/100\n",
      "248/248 [==============================] - 2s 7ms/step - loss: 0.5067 - accuracy: 0.8354 - val_loss: 0.4831 - val_accuracy: 0.8374\n",
      "Epoch 36/100\n",
      "248/248 [==============================] - 2s 7ms/step - loss: 0.5073 - accuracy: 0.8349 - val_loss: 0.4817 - val_accuracy: 0.8374\n",
      "Epoch 37/100\n",
      "248/248 [==============================] - 2s 7ms/step - loss: 0.5050 - accuracy: 0.8356 - val_loss: 0.4826 - val_accuracy: 0.8379\n",
      "Epoch 38/100\n",
      "248/248 [==============================] - 2s 7ms/step - loss: 0.5039 - accuracy: 0.8359 - val_loss: 0.4778 - val_accuracy: 0.8389\n",
      "Epoch 39/100\n",
      "248/248 [==============================] - 2s 7ms/step - loss: 0.5039 - accuracy: 0.8356 - val_loss: 0.4765 - val_accuracy: 0.8394\n",
      "Epoch 40/100\n",
      "248/248 [==============================] - 2s 7ms/step - loss: 0.5029 - accuracy: 0.8360 - val_loss: 0.4789 - val_accuracy: 0.8404\n",
      "Epoch 41/100\n",
      "248/248 [==============================] - 2s 7ms/step - loss: 0.5024 - accuracy: 0.8362 - val_loss: 0.4781 - val_accuracy: 0.8414\n",
      "Epoch 42/100\n",
      "248/248 [==============================] - 2s 7ms/step - loss: 0.5018 - accuracy: 0.8363 - val_loss: 0.4802 - val_accuracy: 0.8399\n",
      "Epoch 43/100\n",
      "248/248 [==============================] - 2s 7ms/step - loss: 0.5031 - accuracy: 0.8362 - val_loss: 0.4783 - val_accuracy: 0.8399\n",
      "Epoch 44/100\n",
      "248/248 [==============================] - 2s 7ms/step - loss: 0.5025 - accuracy: 0.8356 - val_loss: 0.4782 - val_accuracy: 0.8404\n",
      "Epoch 45/100\n",
      "248/248 [==============================] - 2s 7ms/step - loss: 0.5006 - accuracy: 0.8358 - val_loss: 0.4764 - val_accuracy: 0.8399\n",
      "Epoch 46/100\n",
      "248/248 [==============================] - 2s 7ms/step - loss: 0.5017 - accuracy: 0.8369 - val_loss: 0.4762 - val_accuracy: 0.8394\n",
      "Epoch 47/100\n",
      "248/248 [==============================] - 2s 7ms/step - loss: 0.5012 - accuracy: 0.8365 - val_loss: 0.4739 - val_accuracy: 0.8409\n",
      "Epoch 48/100\n",
      "248/248 [==============================] - 2s 7ms/step - loss: 0.4995 - accuracy: 0.8365 - val_loss: 0.4726 - val_accuracy: 0.8394\n",
      "Epoch 49/100\n",
      "248/248 [==============================] - 2s 7ms/step - loss: 0.4996 - accuracy: 0.8364 - val_loss: 0.4742 - val_accuracy: 0.8419\n",
      "Epoch 50/100\n",
      "248/248 [==============================] - 2s 7ms/step - loss: 0.4995 - accuracy: 0.8363 - val_loss: 0.4774 - val_accuracy: 0.8409\n",
      "Epoch 51/100\n",
      "248/248 [==============================] - 2s 7ms/step - loss: 0.5005 - accuracy: 0.8360 - val_loss: 0.4724 - val_accuracy: 0.8404\n",
      "Epoch 52/100\n",
      "248/248 [==============================] - 2s 7ms/step - loss: 0.5000 - accuracy: 0.8365 - val_loss: 0.4725 - val_accuracy: 0.8409\n",
      "Epoch 53/100\n",
      "248/248 [==============================] - 2s 7ms/step - loss: 0.4990 - accuracy: 0.8363 - val_loss: 0.4732 - val_accuracy: 0.8399\n",
      "Epoch 54/100\n",
      "248/248 [==============================] - 2s 7ms/step - loss: 0.4984 - accuracy: 0.8367 - val_loss: 0.4905 - val_accuracy: 0.8419\n",
      "Epoch 55/100\n",
      "248/248 [==============================] - 2s 7ms/step - loss: 0.4981 - accuracy: 0.8372 - val_loss: 0.4774 - val_accuracy: 0.8419\n",
      "Epoch 56/100\n",
      "248/248 [==============================] - 2s 7ms/step - loss: 0.4972 - accuracy: 0.8369 - val_loss: 0.4716 - val_accuracy: 0.8409\n",
      "Epoch 57/100\n",
      "248/248 [==============================] - 2s 7ms/step - loss: 0.4973 - accuracy: 0.8363 - val_loss: 0.4760 - val_accuracy: 0.8409\n",
      "Epoch 58/100\n"
     ]
    },
    {
     "name": "stdout",
     "output_type": "stream",
     "text": [
      "248/248 [==============================] - 2s 7ms/step - loss: 0.4988 - accuracy: 0.8368 - val_loss: 0.4772 - val_accuracy: 0.8414\n",
      "Epoch 59/100\n",
      "248/248 [==============================] - 2s 7ms/step - loss: 0.4964 - accuracy: 0.8356 - val_loss: 0.4721 - val_accuracy: 0.8434\n",
      "Epoch 60/100\n",
      "248/248 [==============================] - 2s 7ms/step - loss: 0.4955 - accuracy: 0.8363 - val_loss: 0.4803 - val_accuracy: 0.8419\n",
      "Epoch 61/100\n",
      "248/248 [==============================] - 2s 7ms/step - loss: 0.4954 - accuracy: 0.8354 - val_loss: 0.4698 - val_accuracy: 0.8419\n",
      "Epoch 62/100\n",
      "248/248 [==============================] - 2s 7ms/step - loss: 0.4963 - accuracy: 0.8368 - val_loss: 0.4750 - val_accuracy: 0.8414\n",
      "Epoch 63/100\n",
      "248/248 [==============================] - 2s 7ms/step - loss: 0.4965 - accuracy: 0.8350 - val_loss: 0.4747 - val_accuracy: 0.8419\n",
      "Epoch 64/100\n",
      "248/248 [==============================] - 2s 8ms/step - loss: 0.4980 - accuracy: 0.8358 - val_loss: 0.4697 - val_accuracy: 0.8409\n",
      "Epoch 65/100\n",
      "248/248 [==============================] - 2s 8ms/step - loss: 0.4956 - accuracy: 0.8362 - val_loss: 0.4764 - val_accuracy: 0.8399\n",
      "Epoch 66/100\n",
      "248/248 [==============================] - 2s 8ms/step - loss: 0.4984 - accuracy: 0.8363 - val_loss: 0.4738 - val_accuracy: 0.8414\n",
      "Epoch 67/100\n",
      "248/248 [==============================] - 2s 8ms/step - loss: 0.4967 - accuracy: 0.8363 - val_loss: 0.4686 - val_accuracy: 0.8419\n",
      "Epoch 68/100\n",
      "248/248 [==============================] - 2s 8ms/step - loss: 0.4957 - accuracy: 0.8365 - val_loss: 0.4783 - val_accuracy: 0.8409\n",
      "Epoch 69/100\n",
      "248/248 [==============================] - 2s 7ms/step - loss: 0.4944 - accuracy: 0.8364 - val_loss: 0.4705 - val_accuracy: 0.8424\n",
      "Epoch 70/100\n",
      "248/248 [==============================] - 2s 7ms/step - loss: 0.4956 - accuracy: 0.8363 - val_loss: 0.4833 - val_accuracy: 0.8434\n",
      "Epoch 71/100\n",
      "248/248 [==============================] - 2s 7ms/step - loss: 0.4973 - accuracy: 0.8365 - val_loss: 0.4695 - val_accuracy: 0.8465\n",
      "Epoch 72/100\n",
      "248/248 [==============================] - 2s 7ms/step - loss: 0.4954 - accuracy: 0.8378 - val_loss: 0.4709 - val_accuracy: 0.8419\n",
      "Epoch 73/100\n",
      "248/248 [==============================] - 2s 7ms/step - loss: 0.4943 - accuracy: 0.8365 - val_loss: 0.4692 - val_accuracy: 0.8424\n",
      "Epoch 74/100\n",
      "248/248 [==============================] - 2s 7ms/step - loss: 0.4946 - accuracy: 0.8372 - val_loss: 0.4716 - val_accuracy: 0.8419\n",
      "Epoch 75/100\n",
      "248/248 [==============================] - 2s 7ms/step - loss: 0.4933 - accuracy: 0.8354 - val_loss: 0.4693 - val_accuracy: 0.8434\n",
      "Epoch 76/100\n",
      "248/248 [==============================] - 2s 7ms/step - loss: 0.4936 - accuracy: 0.8368 - val_loss: 0.4737 - val_accuracy: 0.8444\n",
      "Epoch 77/100\n",
      "248/248 [==============================] - 2s 7ms/step - loss: 0.4934 - accuracy: 0.8364 - val_loss: 0.4659 - val_accuracy: 0.8455\n",
      "Epoch 78/100\n",
      "248/248 [==============================] - 2s 7ms/step - loss: 0.4943 - accuracy: 0.8363 - val_loss: 0.4674 - val_accuracy: 0.8434\n",
      "Epoch 79/100\n",
      "248/248 [==============================] - 2s 7ms/step - loss: 0.4932 - accuracy: 0.8373 - val_loss: 0.4681 - val_accuracy: 0.8409\n",
      "Epoch 80/100\n",
      "248/248 [==============================] - 2s 7ms/step - loss: 0.4918 - accuracy: 0.8351 - val_loss: 0.4665 - val_accuracy: 0.8439\n",
      "Epoch 81/100\n",
      "248/248 [==============================] - 2s 7ms/step - loss: 0.4912 - accuracy: 0.8363 - val_loss: 0.4664 - val_accuracy: 0.8439\n",
      "Epoch 82/100\n",
      "248/248 [==============================] - 2s 7ms/step - loss: 0.4922 - accuracy: 0.8363 - val_loss: 0.4678 - val_accuracy: 0.8419\n",
      "Epoch 83/100\n",
      "248/248 [==============================] - 2s 7ms/step - loss: 0.4924 - accuracy: 0.8363 - val_loss: 0.4641 - val_accuracy: 0.8424\n",
      "Epoch 84/100\n",
      "248/248 [==============================] - 2s 7ms/step - loss: 0.4926 - accuracy: 0.8363 - val_loss: 0.4733 - val_accuracy: 0.8429\n",
      "Epoch 85/100\n",
      "248/248 [==============================] - 2s 7ms/step - loss: 0.4930 - accuracy: 0.8367 - val_loss: 0.4691 - val_accuracy: 0.8434\n",
      "Epoch 86/100\n",
      "248/248 [==============================] - 2s 7ms/step - loss: 0.4914 - accuracy: 0.8373 - val_loss: 0.4692 - val_accuracy: 0.8424\n",
      "Epoch 87/100\n",
      "248/248 [==============================] - 2s 7ms/step - loss: 0.4930 - accuracy: 0.8358 - val_loss: 0.4764 - val_accuracy: 0.8414\n",
      "Epoch 88/100\n",
      "248/248 [==============================] - 2s 7ms/step - loss: 0.4923 - accuracy: 0.8369 - val_loss: 0.4728 - val_accuracy: 0.8460\n",
      "Epoch 89/100\n",
      "248/248 [==============================] - 2s 7ms/step - loss: 0.4935 - accuracy: 0.8364 - val_loss: 0.4665 - val_accuracy: 0.8444\n",
      "Epoch 90/100\n",
      "248/248 [==============================] - 2s 7ms/step - loss: 0.4921 - accuracy: 0.8373 - val_loss: 0.4673 - val_accuracy: 0.8429\n",
      "Epoch 91/100\n",
      "248/248 [==============================] - 2s 7ms/step - loss: 0.4920 - accuracy: 0.8369 - val_loss: 0.4692 - val_accuracy: 0.8444\n",
      "Epoch 92/100\n",
      "248/248 [==============================] - 2s 7ms/step - loss: 0.4938 - accuracy: 0.8372 - val_loss: 0.4724 - val_accuracy: 0.8404\n",
      "Epoch 93/100\n",
      "248/248 [==============================] - 2s 7ms/step - loss: 0.4929 - accuracy: 0.8359 - val_loss: 0.4655 - val_accuracy: 0.8434\n",
      "Epoch 94/100\n",
      "248/248 [==============================] - 2s 7ms/step - loss: 0.4918 - accuracy: 0.8363 - val_loss: 0.4702 - val_accuracy: 0.8444\n",
      "Epoch 95/100\n",
      "248/248 [==============================] - 2s 7ms/step - loss: 0.4926 - accuracy: 0.8363 - val_loss: 0.4676 - val_accuracy: 0.8419\n",
      "Epoch 96/100\n",
      "248/248 [==============================] - 2s 7ms/step - loss: 0.4929 - accuracy: 0.8364 - val_loss: 0.4712 - val_accuracy: 0.8409\n",
      "Epoch 97/100\n",
      "248/248 [==============================] - 2s 7ms/step - loss: 0.4938 - accuracy: 0.8363 - val_loss: 0.4736 - val_accuracy: 0.8444\n",
      "Epoch 98/100\n",
      "248/248 [==============================] - 2s 7ms/step - loss: 0.4919 - accuracy: 0.8373 - val_loss: 0.4663 - val_accuracy: 0.8419\n",
      "Epoch 99/100\n",
      "248/248 [==============================] - 2s 7ms/step - loss: 0.4937 - accuracy: 0.8373 - val_loss: 0.4730 - val_accuracy: 0.8439\n",
      "Epoch 100/100\n",
      "248/248 [==============================] - 2s 7ms/step - loss: 0.4924 - accuracy: 0.8369 - val_loss: 0.4707 - val_accuracy: 0.8424\n"
     ]
    },
    {
     "data": {
      "text/plain": [
       "<keras.callbacks.History at 0x28e59bd90>"
      ]
     },
     "execution_count": 10,
     "metadata": {},
     "output_type": "execute_result"
    }
   ],
   "source": [
    "def get_subclass_model():\n",
    "    model = tf.keras.Sequential()\n",
    "    # First convo-pooling\n",
    "    # Convolutional layers (filter the image with a kernel)\n",
    "    model.add(tf.keras.layers.Conv2D(64, (3, 3), activation=\"relu\", input_shape=[27, 27, 3]))\n",
    "    # Max-pooling layers (reduce the size of the image by choosing max pixel at certain area)\n",
    "    model.add(tf.keras.layers.MaxPool2D(pool_size=(2, 2)))\n",
    "    # Flatten input\n",
    "    model.add(tf.keras.layers.Flatten())\n",
    "    model.add(tf.keras.layers.Dense(256, activation=\"relu\"))\n",
    "    model.add(tf.keras.layers.Dense(128, activation=\"relu\"))\n",
    "    model.add(tf.keras.layers.Dense(32, activation=\"relu\"))\n",
    "    # Output layer\n",
    "    model.add(tf.keras.layers.Dense(3, activation=\"softmax\"))\n",
    "    # Compile model \n",
    "    model.compile(optimizer=\"adam\",\n",
    "                  loss=\"sparse_categorical_crossentropy\",\n",
    "                  metrics=[\"accuracy\"])\n",
    "    \n",
    "    return model\n",
    "\n",
    "def get_transfer_model():\n",
    "    model = tf.keras.Sequential()\n",
    "    # Flatten input\n",
    "    model.add(tf.keras.layers.Flatten())\n",
    "    # Hidden layers\n",
    "    model.add(tf.keras.layers.Dense(256, activation=\"relu\"))\n",
    "    model.add(tf.keras.layers.Dense(128, activation=\"softmax\"))\n",
    "    model.add(tf.keras.layers.Dense(32, activation=\"relu\"))\n",
    "    model.add(tf.keras.layers.Dense(3, activation=\"sigmoid\"))\n",
    "    # Output layer\n",
    "    model.add(tf.keras.layers.Dense(4, activation=\"softmax\"))\n",
    "    # Compile model\n",
    "    model.compile(optimizer=\"adam\",\n",
    "                  loss=\"sparse_categorical_crossentropy\",\n",
    "                  metrics=[\"accuracy\"])\n",
    "    return model\n",
    "\n",
    "sub_multiclass = [\"epithelial\", \"fibroblast\", \"inflammatory\"]\n",
    "\n",
    "# imgs with 3 classes\n",
    "subcell_img, subcelltype_label = celltype_classify_data(sub_multiclass)\n",
    "subx_train, subx_test, suby_train, suby_test = train_test_split(\n",
    "    np.array(subcell_img), np.array(subcelltype_label), test_size=0.2\n",
    ")\n",
    "\n",
    "all_class = [\"epithelial\", \"fibroblast\", \"inflammatory\", \"others\"]\n",
    "# imgs with 4 classes\n",
    "cell_img, celltype_label = celltype_classify_data(all_class)\n",
    "x_train, x_test, y_train, y_test = train_test_split(\n",
    "    np.array(cell_img), np.array(celltype_label), test_size=0.2\n",
    ")\n",
    "\n",
    "print(\"---Subclass training---\")\n",
    "# train subclass that fit with 3 types of images\n",
    "subclass_model = get_subclass_model()\n",
    "subclass_model.fit(subx_train, suby_train, epochs=40, validation_data=(subx_test, suby_test))\n",
    "\n",
    "# get transfered model and train\n",
    "transfer_x_train = subclass_model.predict(x_train)\n",
    "transfer_x_test = subclass_model.predict(x_test)\n",
    "transfer_model = get_transfer_model()\n",
    "print(\"---Transfer learning training---\")\n",
    "transfer_model.fit(transfer_x_train, y_train, epochs=100, validation_data=(transfer_x_test, y_test))"
   ]
  }
 ],
 "metadata": {
  "kernelspec": {
   "display_name": "Python 3.9 (tensorflow)",
   "language": "python",
   "name": "tensorflow"
  },
  "language_info": {
   "codemirror_mode": {
    "name": "ipython",
    "version": 3
   },
   "file_extension": ".py",
   "mimetype": "text/x-python",
   "name": "python",
   "nbconvert_exporter": "python",
   "pygments_lexer": "ipython3",
   "version": "3.9.7"
  }
 },
 "nbformat": 4,
 "nbformat_minor": 5
}
