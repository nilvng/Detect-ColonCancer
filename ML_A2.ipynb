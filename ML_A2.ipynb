{
 "cells": [
  {
   "cell_type": "code",
   "execution_count": 5,
   "id": "955516c7",
   "metadata": {},
   "outputs": [],
   "source": [
    "import cv2\n",
    "import numpy as np\n",
    "import pandas as pd\n",
    "import os\n",
    "import sys\n",
    "import tensorflow as tf\n",
    "from tensorflow import keras\n",
    "from sklearn.model_selection import train_test_split\n",
    "import keras_tuner as kt\n",
    "from sklearn.metrics import classification_report\n",
    "import shutil\n",
    "from os import path\n",
    "import matplotlib.pyplot as plt\n",
    "from tensorflow.keras.preprocessing import image_dataset_from_directory\n",
    "from keras.preprocessing.image import ImageDataGenerator\n",
    "\n",
    "# path variables to access files\n",
    "root = os.getcwd()\n",
    "binary_root = os.path.join(root, \"binary_task\")\n",
    "multiclass_root = os.path.join(root, \"multiclass_task\")"
   ]
  },
  {
   "cell_type": "markdown",
   "id": "57761c43",
   "metadata": {},
   "source": [
    "### Load dataframe"
   ]
  },
  {
   "cell_type": "code",
   "execution_count": 6,
   "id": "6b1deda5",
   "metadata": {},
   "outputs": [],
   "source": [
    "main_data = pd.read_csv(\"data_labels_mainData.csv\")\n",
    "extra_data = pd.read_csv(\"data_labels_extraData.csv\")"
   ]
  },
  {
   "cell_type": "markdown",
   "id": "bc53247b",
   "metadata": {},
   "source": [
    "### split data into different folders for different cell types"
   ]
  },
  {
   "cell_type": "code",
   "execution_count": 7,
   "id": "f240316c",
   "metadata": {},
   "outputs": [],
   "source": [
    "root = os.getcwd()\n",
    "source_dir = os.path.join(root, \"patch_images\")\n",
    "\n",
    "for i, row in main_data.iterrows():\n",
    "    image_name = row[\"ImageName\"]\n",
    "    cell_name = row[\"cellTypeName\"]\n",
    "    is_cancer = str(row[\"isCancerous\"])\n",
    "\n",
    "#     new_folder_multi = os.path.join(root,\"multiclass_task\", cell_name)\n",
    "    new_folder_bin = os.path.join(root,\"binary_task\", is_cancer)\n",
    "\n",
    "#     os.makedirs(new_folder_multi, exist_ok=True)\n",
    "    os.makedirs(new_folder_bin, exist_ok=True)\n",
    "\n",
    "    source = os.path.join(source_dir, image_name)\n",
    "\n",
    "#     dest_multi = os.path.join(root, \"multiclass_task\",cell_name)\n",
    "    dest_bin = os.path.join(root,\"binary_task\", is_cancer)\n",
    "\n",
    "#     go = shutil.copy(source,dest_multi)\n",
    "    go = shutil.copy(source, dest_bin)"
   ]
  },
  {
   "cell_type": "markdown",
   "id": "3890247e",
   "metadata": {},
   "source": [
    "### Add training data for cancerous classification from extra dataset "
   ]
  },
  {
   "cell_type": "code",
   "execution_count": 8,
   "id": "682dc3f2",
   "metadata": {},
   "outputs": [],
   "source": [
    "root = os.getcwd()\n",
    "source_dir = os.path.join(root, \"patch_images\")\n",
    "\n",
    "for i, row in extra_data.iterrows():\n",
    "    image_name = row[\"ImageName\"]\n",
    "    is_cancer = str(row[\"isCancerous\"])\n",
    "\n",
    "    new_folder_bin = os.path.join(root, \"binary_task\",is_cancer)\n",
    "\n",
    "    os.makedirs(new_folder_bin, exist_ok=True)\n",
    "\n",
    "    source = os.path.join(source_dir, image_name)\n",
    "\n",
    "    dest_bin = os.path.join(root, is_cancer)\n",
    "\n",
    "    go = shutil.copy(source, dest_bin)"
   ]
  },
  {
   "cell_type": "markdown",
   "id": "53e5727f",
   "metadata": {},
   "source": [
    "### Get data from splitted folder"
   ]
  },
  {
   "cell_type": "code",
   "execution_count": 19,
   "id": "7c986143",
   "metadata": {},
   "outputs": [],
   "source": [
    "root = os.getcwd()\n",
    "source_dir = os.path.join(root, \"patch_images\")\n",
    "\n",
    "# # method get data for binary task (task 1)\n",
    "def cancerous_classify_data_all():    \n",
    "    images = list()\n",
    "    labels = list()\n",
    "    \n",
    "    for label in [0, 1]:\n",
    "        # get image directory\n",
    "        img_dir = os.path.join(root, \"binary_task\",f\"{label}\")\n",
    "        \n",
    "        for img in os.listdir(img_dir):\n",
    "            img = cv2.imread(os.path.join(img_dir, img))\n",
    "            # resize to 0-1 for faster computation\n",
    "            resized = img / 255\n",
    "            images.append(resized)\n",
    "            labels.append(label)\n",
    "        \n",
    "    return (images, labels)\n",
    "\n",
    "# all_class = [\"epithelial\", \"fibroblast\", \"inflammatory\", \"others\"]\n",
    "\n",
    "# method get data for multiclass task (task 2)\n",
    "def celltype_classify_data_all(class_list):    \n",
    "    images = list()\n",
    "    labels = list()\n",
    "    \n",
    "    for i, label in enumerate(class_list):\n",
    "        # get image directory\n",
    "        img_dir = os.path.join(root, \"multiclass_task\", f\"{label}\")\n",
    "        \n",
    "        for img in os.listdir(img_dir):\n",
    "            img = cv2.imread(os.path.join(img_dir, img))\n",
    "            # resize to 0-1 for faster computation\n",
    "            resized = img / 255\n",
    "            images.append(resized)\n",
    "            labels.append(i)\n",
    "        \n",
    "    return (images, labels)\n"
   ]
  },
  {
   "cell_type": "markdown",
   "id": "4fc72433",
   "metadata": {},
   "source": [
    "### New load file code"
   ]
  },
  {
   "cell_type": "code",
   "execution_count": 18,
   "id": "efe80a41",
   "metadata": {},
   "outputs": [],
   "source": [
    "root = os.getcwd()\n",
    "# method get data for binary task (task 1)\n",
    "def cancerous_classify_data(mode):    \n",
    "    images = list()\n",
    "    labels = list()\n",
    "    \n",
    "    for label in [0, 1]:\n",
    "        # get image directory\n",
    "        img_dir = os.path.join(root, \"split3-binary-task\",f\"{mode}\",f\"{label}\")\n",
    "        \n",
    "        for img in os.listdir(img_dir):\n",
    "            img = cv2.imread(os.path.join(img_dir, img))\n",
    "            # resize to 0-1 for faster computation\n",
    "            resized = img / 255\n",
    "            images.append(resized)\n",
    "            labels.append(label)\n",
    "        \n",
    "    return (images, labels)\n",
    "\n",
    "all_class = [\"epithelial\", \"fibroblast\", \"inflammatory\", \"others\"]\n",
    "\n",
    "# method get data for multiclass task (task 2)\n",
    "def celltype_classify_data(class_list, mode):    \n",
    "    images = list()\n",
    "    labels = list()\n",
    "    \n",
    "    for i, label in enumerate(class_list):\n",
    "        # get image directory\n",
    "        img_dir = os.path.join(root, \"split3-multi-task\", f\"{mode}\", f\"{label}\")\n",
    "        \n",
    "        for img in os.listdir(img_dir):\n",
    "            img = cv2.imread(os.path.join(img_dir, img))\n",
    "            # resize to 0-1 for faster computation\n",
    "            resized = img / 255\n",
    "            images.append(resized)\n",
    "            labels.append(i)\n",
    "        \n",
    "    return (images, labels)"
   ]
  },
  {
   "cell_type": "markdown",
   "id": "b2606e21",
   "metadata": {},
   "source": [
    "### Classification report"
   ]
  },
  {
   "cell_type": "code",
   "execution_count": 11,
   "id": "fe3b52d9",
   "metadata": {},
   "outputs": [],
   "source": [
    "def multiclass_classification_report(y_test, prediction):\n",
    "    \"\"\"\n",
    "        Method to generate sklearn classification report with CNN multiclass output\n",
    "    \"\"\"\n",
    "    \n",
    "    encoded_pred = list()\n",
    "    # convert each CNN output (sparse categorial) to class\n",
    "    for pred in prediction:\n",
    "        encoded_pred.append(np.argmax(pred))\n",
    "\n",
    "    encoded_pred = np.array(encoded_pred)\n",
    "    print(classification_report(y_test, encoded_pred))\n",
    "    \n",
    "def binary_classification_report(y_test, prediction):\n",
    "    \"\"\"\n",
    "        Method to generate sklearn classification report with CNN binary output\n",
    "    \"\"\"\n",
    "    encoded_pred = list()\n",
    "    # convert each CNN output (sparse categorial) to class\n",
    "    for pred in prediction:\n",
    "        encoded_pred.append(round(pred[0]))\n",
    "\n",
    "    encoded_pred = np.array(encoded_pred)\n",
    "    print(classification_report(y_test, encoded_pred))"
   ]
  },
  {
   "cell_type": "markdown",
   "id": "9977c54a",
   "metadata": {},
   "source": [
    "## I) Task 1 - Binary classification"
   ]
  },
  {
   "cell_type": "markdown",
   "id": "a0ac1428",
   "metadata": {},
   "source": [
    "### Load binary data"
   ]
  },
  {
   "cell_type": "code",
   "execution_count": 20,
   "id": "86ba9691",
   "metadata": {},
   "outputs": [],
   "source": [
    "# # data being used\n",
    "# images, cancer_label = cancerous_classify_data()\n",
    "\n",
    "# # change to numpy\n",
    "# images, cancer_label = np.array(images), np.array(cancer_label)\n",
    "# print(images.shape)\n",
    "# print(cancer_label.shape)\n",
    "\n",
    "# # generate train, validation and test set\n",
    "# x_train_val, x_test, y_train_val, y_test = train_test_split(\n",
    "#     images, cancer_label, test_size=0.2\n",
    "# )\n",
    "# x_train, x_val, y_train, y_val = train_test_split(\n",
    "#     x_train_val, y_train_val, test_size=0.25\n",
    "# )\n",
    "\n",
    "images, cancer_label = cancerous_classify_data_all()\n",
    "\n",
    "x_train, y_train = cancerous_classify_data(\"train\")\n",
    "x_train, y_train = np.array(x_train), np.array(y_train)\n",
    "\n",
    "x_val, y_val = cancerous_classify_data(\"val\")\n",
    "x_val, y_val = np.array(x_val), np.array(y_val)\n",
    "\n",
    "x_test, y_test = cancerous_classify_data(\"test\")\n",
    "x_test, y_test = np.array(x_test), np.array(y_test)"
   ]
  },
  {
   "cell_type": "markdown",
   "id": "7f880fcd",
   "metadata": {},
   "source": [
    "### Base CNN model"
   ]
  },
  {
   "cell_type": "code",
   "execution_count": 13,
   "id": "19f550aa",
   "metadata": {
    "scrolled": true
   },
   "outputs": [
    {
     "name": "stdout",
     "output_type": "stream",
     "text": [
      "Metal device set to: Apple M1 Pro\n",
      "Epoch 1/10\n"
     ]
    },
    {
     "name": "stderr",
     "output_type": "stream",
     "text": [
      "2022-05-12 17:04:54.431478: I tensorflow/core/common_runtime/pluggable_device/pluggable_device_factory.cc:305] Could not identify NUMA node of platform GPU ID 0, defaulting to 0. Your kernel may not have been built with NUMA support.\n",
      "2022-05-12 17:04:54.431585: I tensorflow/core/common_runtime/pluggable_device/pluggable_device_factory.cc:271] Created TensorFlow device (/job:localhost/replica:0/task:0/device:GPU:0 with 0 MB memory) -> physical PluggableDevice (device: 0, name: METAL, pci bus id: <undefined>)\n",
      "2022-05-12 17:04:54.553911: W tensorflow/core/platform/profile_utils/cpu_utils.cc:128] Failed to get CPU frequency: 0 Hz\n",
      "2022-05-12 17:04:54.740575: I tensorflow/core/grappler/optimizers/custom_graph_optimizer_registry.cc:113] Plugin optimizer for device_type GPU is enabled.\n"
     ]
    },
    {
     "name": "stdout",
     "output_type": "stream",
     "text": [
      "381/381 [==============================] - ETA: 0s - loss: 0.4421 - accuracy: 0.7893 - auc: 0.8590"
     ]
    },
    {
     "name": "stderr",
     "output_type": "stream",
     "text": [
      "2022-05-12 17:04:58.498163: I tensorflow/core/grappler/optimizers/custom_graph_optimizer_registry.cc:113] Plugin optimizer for device_type GPU is enabled.\n"
     ]
    },
    {
     "name": "stdout",
     "output_type": "stream",
     "text": [
      "381/381 [==============================] - 5s 11ms/step - loss: 0.4421 - accuracy: 0.7893 - auc: 0.8590 - val_loss: 0.3595 - val_accuracy: 0.8422 - val_auc: 0.9142\n",
      "Epoch 2/10\n",
      "381/381 [==============================] - 4s 11ms/step - loss: 0.3616 - accuracy: 0.8418 - auc: 0.9091 - val_loss: 0.3537 - val_accuracy: 0.8459 - val_auc: 0.9201\n",
      "Epoch 3/10\n",
      "381/381 [==============================] - 4s 11ms/step - loss: 0.3467 - accuracy: 0.8512 - auc: 0.9166 - val_loss: 0.3297 - val_accuracy: 0.8547 - val_auc: 0.9270\n",
      "Epoch 4/10\n",
      "381/381 [==============================] - 4s 11ms/step - loss: 0.3340 - accuracy: 0.8586 - auc: 0.9225 - val_loss: 0.3352 - val_accuracy: 0.8545 - val_auc: 0.9319\n",
      "Epoch 5/10\n",
      "381/381 [==============================] - 4s 10ms/step - loss: 0.3233 - accuracy: 0.8622 - auc: 0.9279 - val_loss: 0.3127 - val_accuracy: 0.8691 - val_auc: 0.9344\n",
      "Epoch 6/10\n",
      "381/381 [==============================] - 4s 10ms/step - loss: 0.3177 - accuracy: 0.8627 - auc: 0.9304 - val_loss: 0.3406 - val_accuracy: 0.8528 - val_auc: 0.9370\n",
      "Epoch 7/10\n",
      "381/381 [==============================] - 4s 11ms/step - loss: 0.3003 - accuracy: 0.8731 - auc: 0.9378 - val_loss: 0.3371 - val_accuracy: 0.8501 - val_auc: 0.9409\n",
      "Epoch 8/10\n",
      "381/381 [==============================] - 4s 11ms/step - loss: 0.2937 - accuracy: 0.8747 - auc: 0.9408 - val_loss: 0.3831 - val_accuracy: 0.8370 - val_auc: 0.9429\n",
      "Epoch 9/10\n",
      "381/381 [==============================] - 4s 10ms/step - loss: 0.2822 - accuracy: 0.8819 - auc: 0.9452 - val_loss: 0.3186 - val_accuracy: 0.8602 - val_auc: 0.9422\n",
      "Epoch 10/10\n",
      "381/381 [==============================] - 4s 10ms/step - loss: 0.2769 - accuracy: 0.8836 - auc: 0.9474 - val_loss: 0.2932 - val_accuracy: 0.8742 - val_auc: 0.9423\n"
     ]
    },
    {
     "data": {
      "text/plain": [
       "<keras.callbacks.History at 0x2902ccbb0>"
      ]
     },
     "execution_count": 13,
     "metadata": {},
     "output_type": "execute_result"
    }
   ],
   "source": [
    "def get_model():\n",
    "    model = tf.keras.Sequential()\n",
    "    # First convo-pooling\n",
    "    # Convolutional layers (filter the image with a kernel)\n",
    "    model.add(tf.keras.layers.Conv2D(32, (3, 3), activation=\"relu\", input_shape=[27, 27, 3]))\n",
    "    # Max-pooling layers (reduce the size of the image by choosing max pixel at certain area)\n",
    "    model.add(tf.keras.layers.MaxPool2D(pool_size=(2, 2)))\n",
    "    # Flatten input\n",
    "    model.add(tf.keras.layers.Flatten())\n",
    "\n",
    "    model.add(tf.keras.layers.Dense(128, activation=\"relu\"))\n",
    "    model.add(tf.keras.layers.Dense(32, activation=\"relu\"))\n",
    "    # Output layer\n",
    "    model.add(tf.keras.layers.Dense(1, activation=\"sigmoid\"))\n",
    "    # Compile model\n",
    "    model.compile(optimizer=\"adam\",\n",
    "                  loss=\"binary_crossentropy\",\n",
    "                  metrics=[\"accuracy\", \"AUC\"])\n",
    "    return model\n",
    "\n",
    "binary_model = get_model()\n",
    "binary_model.fit(x_train, y_train, epochs=10, validation_data=(x_val, y_val))"
   ]
  },
  {
   "cell_type": "code",
   "execution_count": 14,
   "id": "b812d279",
   "metadata": {},
   "outputs": [
    {
     "name": "stderr",
     "output_type": "stream",
     "text": [
      "2022-05-12 17:05:35.292602: I tensorflow/core/grappler/optimizers/custom_graph_optimizer_registry.cc:113] Plugin optimizer for device_type GPU is enabled.\n"
     ]
    },
    {
     "name": "stdout",
     "output_type": "stream",
     "text": [
      "              precision    recall  f1-score   support\n",
      "\n",
      "           0       0.89      0.92      0.90      2643\n",
      "           1       0.84      0.79      0.81      1415\n",
      "\n",
      "    accuracy                           0.87      4058\n",
      "   macro avg       0.87      0.85      0.86      4058\n",
      "weighted avg       0.87      0.87      0.87      4058\n",
      "\n"
     ]
    }
   ],
   "source": [
    "binary_pred = binary_model.predict(x_test)\n",
    "binary_classification_report(y_test, binary_pred)"
   ]
  },
  {
   "cell_type": "markdown",
   "id": "8f833819",
   "metadata": {},
   "source": [
    "### CNN with ZCA whitening"
   ]
  },
  {
   "cell_type": "code",
   "execution_count": 15,
   "id": "85e2096c",
   "metadata": {},
   "outputs": [
    {
     "name": "stderr",
     "output_type": "stream",
     "text": [
      "/opt/homebrew/Caskroom/miniforge/base/envs/tensorflow/lib/python3.9/site-packages/keras_preprocessing/image/image_data_generator.py:337: UserWarning: This ImageDataGenerator specifies `zca_whitening`, which overrides setting of `featurewise_center`.\n",
      "  warnings.warn('This ImageDataGenerator specifies '\n"
     ]
    },
    {
     "ename": "NameError",
     "evalue": "name 'images' is not defined",
     "output_type": "error",
     "traceback": [
      "\u001b[0;31m---------------------------------------------------------------------------\u001b[0m",
      "\u001b[0;31mNameError\u001b[0m                                 Traceback (most recent call last)",
      "\u001b[0;32m/var/folders/bc/1x56pk_j3glgqwsdp02fbltm0000gn/T/ipykernel_66614/4270336267.py\u001b[0m in \u001b[0;36m<module>\u001b[0;34m\u001b[0m\n\u001b[1;32m      3\u001b[0m     \u001b[0mzca_whitening\u001b[0m\u001b[0;34m=\u001b[0m\u001b[0;32mTrue\u001b[0m\u001b[0;34m,\u001b[0m\u001b[0;34m\u001b[0m\u001b[0;34m\u001b[0m\u001b[0m\n\u001b[1;32m      4\u001b[0m )\n\u001b[0;32m----> 5\u001b[0;31m \u001b[0mdatagen\u001b[0m\u001b[0;34m.\u001b[0m\u001b[0mfit\u001b[0m\u001b[0;34m(\u001b[0m\u001b[0mimages\u001b[0m\u001b[0;34m)\u001b[0m\u001b[0;34m\u001b[0m\u001b[0;34m\u001b[0m\u001b[0m\n\u001b[0m\u001b[1;32m      6\u001b[0m \u001b[0;34m\u001b[0m\u001b[0m\n\u001b[1;32m      7\u001b[0m \u001b[0mzca_aug_train\u001b[0m \u001b[0;34m=\u001b[0m \u001b[0mdatagen\u001b[0m\u001b[0;34m.\u001b[0m\u001b[0mflow\u001b[0m\u001b[0;34m(\u001b[0m\u001b[0mx_train\u001b[0m\u001b[0;34m,\u001b[0m \u001b[0my_train\u001b[0m\u001b[0;34m,\u001b[0m \u001b[0mshuffle\u001b[0m\u001b[0;34m=\u001b[0m\u001b[0;32mTrue\u001b[0m\u001b[0;34m)\u001b[0m\u001b[0;34m\u001b[0m\u001b[0;34m\u001b[0m\u001b[0m\n",
      "\u001b[0;31mNameError\u001b[0m: name 'images' is not defined"
     ]
    }
   ],
   "source": [
    "# get zca whitening data\n",
    "datagen = ImageDataGenerator(\n",
    "    zca_whitening=True,\n",
    ")\n",
    "datagen.fit(images)\n",
    "\n",
    "zca_aug_train = datagen.flow(x_train, y_train, shuffle=True)\n",
    "zca_aug_val = datagen.flow(x_val, y_val, shuffle=True)\n",
    "\n",
    "zca_binary = get_model()\n",
    "zca_binary.fit(zca_aug_train, epochs=10, validation_data=zca_aug_val)"
   ]
  },
  {
   "cell_type": "code",
   "execution_count": null,
   "id": "8eb4cec3",
   "metadata": {},
   "outputs": [],
   "source": [
    "zca_aug_test = datagen.flow(x_test, shuffle=False)\n",
    "zca_binary_pred = zca_binary.predict_generator(zca_aug_test)\n",
    "\n",
    "binary_classification_report(y_test, zca_binary_pred)"
   ]
  },
  {
   "cell_type": "markdown",
   "id": "886dd6f9",
   "metadata": {},
   "source": [
    "### CNN with rotation"
   ]
  },
  {
   "cell_type": "code",
   "execution_count": 21,
   "id": "75a864a6",
   "metadata": {},
   "outputs": [
    {
     "name": "stdout",
     "output_type": "stream",
     "text": [
      "Epoch 1/10\n",
      "  1/381 [..............................] - ETA: 2:07 - loss: 0.8056 - accuracy: 0.3438 - auc: 0.4264"
     ]
    },
    {
     "name": "stderr",
     "output_type": "stream",
     "text": [
      "2022-05-12 17:17:13.913480: I tensorflow/core/grappler/optimizers/custom_graph_optimizer_registry.cc:113] Plugin optimizer for device_type GPU is enabled.\n"
     ]
    },
    {
     "name": "stdout",
     "output_type": "stream",
     "text": [
      "380/381 [============================>.] - ETA: 0s - loss: 0.4341 - accuracy: 0.7946 - auc: 0.8635"
     ]
    },
    {
     "name": "stderr",
     "output_type": "stream",
     "text": [
      "2022-05-12 17:17:17.565521: I tensorflow/core/grappler/optimizers/custom_graph_optimizer_registry.cc:113] Plugin optimizer for device_type GPU is enabled.\n"
     ]
    },
    {
     "name": "stdout",
     "output_type": "stream",
     "text": [
      "381/381 [==============================] - 5s 11ms/step - loss: 0.4338 - accuracy: 0.7946 - auc: 0.8638 - val_loss: 0.4186 - val_accuracy: 0.8185 - val_auc: 0.9103\n",
      "Epoch 2/10\n",
      "381/381 [==============================] - 4s 11ms/step - loss: 0.3655 - accuracy: 0.8409 - auc: 0.9065 - val_loss: 0.3599 - val_accuracy: 0.8446 - val_auc: 0.9222\n",
      "Epoch 3/10\n",
      "381/381 [==============================] - 4s 11ms/step - loss: 0.3575 - accuracy: 0.8452 - auc: 0.9107 - val_loss: 0.3386 - val_accuracy: 0.8557 - val_auc: 0.9245\n",
      "Epoch 4/10\n",
      "381/381 [==============================] - 4s 11ms/step - loss: 0.3484 - accuracy: 0.8488 - auc: 0.9155 - val_loss: 0.3373 - val_accuracy: 0.8570 - val_auc: 0.9303\n",
      "Epoch 5/10\n",
      "381/381 [==============================] - 4s 11ms/step - loss: 0.3396 - accuracy: 0.8532 - auc: 0.9199 - val_loss: 0.3423 - val_accuracy: 0.8498 - val_auc: 0.9313\n",
      "Epoch 6/10\n",
      "381/381 [==============================] - 4s 11ms/step - loss: 0.3296 - accuracy: 0.8567 - auc: 0.9245 - val_loss: 0.3071 - val_accuracy: 0.8651 - val_auc: 0.9360\n",
      "Epoch 7/10\n",
      "381/381 [==============================] - 4s 10ms/step - loss: 0.3272 - accuracy: 0.8583 - auc: 0.9253 - val_loss: 0.3266 - val_accuracy: 0.8552 - val_auc: 0.9368\n",
      "Epoch 8/10\n",
      "381/381 [==============================] - 4s 10ms/step - loss: 0.3294 - accuracy: 0.8567 - auc: 0.9247 - val_loss: 0.2980 - val_accuracy: 0.8755 - val_auc: 0.9383\n",
      "Epoch 9/10\n",
      "381/381 [==============================] - 4s 11ms/step - loss: 0.3211 - accuracy: 0.8598 - auc: 0.9285 - val_loss: 0.2898 - val_accuracy: 0.8755 - val_auc: 0.9418\n",
      "Epoch 10/10\n",
      "381/381 [==============================] - 4s 10ms/step - loss: 0.3038 - accuracy: 0.8693 - auc: 0.9359 - val_loss: 0.3329 - val_accuracy: 0.8530 - val_auc: 0.9419\n"
     ]
    },
    {
     "data": {
      "text/plain": [
       "<keras.callbacks.History at 0x290452c40>"
      ]
     },
     "execution_count": 21,
     "metadata": {},
     "output_type": "execute_result"
    }
   ],
   "source": [
    "# get rotation data\n",
    "datagen = ImageDataGenerator(\n",
    "    rotation_range=45,\n",
    ")\n",
    "datagen.fit(images)\n",
    "\n",
    "aug_train = datagen.flow(x_train, y_train, shuffle=True)\n",
    "aug_val = datagen.flow(x_val, y_val, shuffle=True)\n",
    "\n",
    "rotation_binary = get_model()\n",
    "rotation_binary.fit(aug_train, epochs=10, validation_data=aug_val)"
   ]
  },
  {
   "cell_type": "code",
   "execution_count": 22,
   "id": "1f4472be",
   "metadata": {},
   "outputs": [
    {
     "name": "stderr",
     "output_type": "stream",
     "text": [
      "/var/folders/bc/1x56pk_j3glgqwsdp02fbltm0000gn/T/ipykernel_66614/786871663.py:3: UserWarning: `Model.predict_generator` is deprecated and will be removed in a future version. Please use `Model.predict`, which supports generators.\n",
      "  rotation_pred = rotation_binary.predict_generator(aug_test)\n",
      "2022-05-12 17:17:55.291936: I tensorflow/core/grappler/optimizers/custom_graph_optimizer_registry.cc:113] Plugin optimizer for device_type GPU is enabled.\n"
     ]
    },
    {
     "name": "stdout",
     "output_type": "stream",
     "text": [
      "              precision    recall  f1-score   support\n",
      "\n",
      "           0       0.84      0.96      0.90      2643\n",
      "           1       0.91      0.66      0.77      1415\n",
      "\n",
      "    accuracy                           0.86      4058\n",
      "   macro avg       0.87      0.81      0.83      4058\n",
      "weighted avg       0.86      0.86      0.85      4058\n",
      "\n"
     ]
    }
   ],
   "source": [
    "aug_test = datagen.flow(x_test, shuffle=False)\n",
    "\n",
    "rotation_pred = rotation_binary.predict_generator(aug_test)\n",
    "binary_classification_report(y_test, rotation_pred)"
   ]
  },
  {
   "cell_type": "markdown",
   "id": "5f6888d1",
   "metadata": {},
   "source": [
    "### Tune CNN model\n",
    "\n",
    "**Parameters that affect the output of models:**\n",
    "- Size of kernel of Convolution/Pooling Layers\n",
    "- Strides of Convolution/Pooling Layers\n",
    "- Activation function\n",
    "\n",
    "**Other aspects that would affect the output of models**\n",
    "- Number of Convolution/Pooling layers\n",
    "- Number of hidden layer\n",
    "\n",
    "**Method of tuning**: for this problem, the tuning being applied is RandomSearch as there are many combinations to adjust the model. The tuning progress would be carried out both manually and by using keras tuner"
   ]
  },
  {
   "cell_type": "code",
   "execution_count": 23,
   "id": "2edb288b",
   "metadata": {},
   "outputs": [
    {
     "name": "stdout",
     "output_type": "stream",
     "text": [
      "INFO:tensorflow:Reloading Oracle from existing project ./untitled_project/oracle.json\n",
      "INFO:tensorflow:Reloading Tuner from ./untitled_project/tuner0.json\n",
      "INFO:tensorflow:Oracle triggered exit\n"
     ]
    }
   ],
   "source": [
    "def cnn_tuner(hp):\n",
    "    model = tf.keras.Sequential()\n",
    "\n",
    "    for i in range(hp.Int(f'no_cnn', 1, 4, step=1)):\n",
    "        # Convolutional layers (filter the image with a kernel)\n",
    "        model.add(tf.keras.layers.Conv2D(hp.Int(f'convo_filter_{i}', 16, 128, step=16), (3, 3), strides=1,activation=hp.Choice(f\"activation_convo_{i}\", [\"relu\", \"sigmoid\", \"softmax\", \"tanh\"]), input_shape=[27, 27, 3]))\n",
    "        # Max-pooling layers (reduce the size of the image by choosing max pixel at certain area)\n",
    "        model.add(tf.keras.layers.MaxPool2D(pool_size=(2, 2), strides=1,))\n",
    "        \n",
    "    # Flatten input\n",
    "    model.add(tf.keras.layers.Flatten())\n",
    "\n",
    "    # hidden layers\n",
    "    for i in range(hp.Int('layers_no', 1, 4)):\n",
    "        model.add(tf.keras.layers.Dense(hp.Int(f'hidden_layer_{i}', 32, 256, step=32), activation=hp.Choice(f\"activation_hidden_{i}\", [\"relu\", \"sigmoid\", \"softmax\", \"tanh\"])))\n",
    "        \n",
    "    # output layer\n",
    "    model.add(tf.keras.layers.Dense(1, activation=\"sigmoid\"))   \n",
    "    # Compile model\n",
    "    model.compile(optimizer=\"adam\",\n",
    "                  loss=\"binary_crossentropy\",\n",
    "                  metrics=[\"accuracy\", \"AUC\"])\n",
    "    \n",
    "    return model\n",
    "              \n",
    "tuner = kt.RandomSearch(cnn_tuner, objective=\"val_accuracy\", max_trials=5)\n",
    "\n",
    "tuner.search(x_train, y_train, epochs=5, validation_data=(x_val, y_val))\n",
    "best_model = tuner.get_best_models()[0]"
   ]
  },
  {
   "cell_type": "code",
   "execution_count": 24,
   "id": "075833c5",
   "metadata": {},
   "outputs": [
    {
     "name": "stdout",
     "output_type": "stream",
     "text": [
      "Best number of CNN layer: 4\n",
      "Best number of hidden layer: 2\n",
      "Best filter in CNN layer 0: 32\n",
      "Best activation in CNN layer 0: relu\n",
      "Best filter in CNN layer 1: 48\n",
      "Best activation in CNN layer 1: relu\n",
      "Best filter in CNN layer 2: 16\n",
      "Best activation in CNN layer 2: relu\n",
      "Best filter in CNN layer 3: 16\n",
      "Best activation in CNN layer 3: relu\n",
      "Best nodes in hidden layer 0: 192\n",
      "Best activation in hidden layer 0: relu\n",
      "Best nodes in hidden layer 1: 128\n",
      "Best activation in hidden layer 1: sigmoid\n"
     ]
    }
   ],
   "source": [
    "# print(f\"Best Convolution filter: {tuner.get_best_hyperparameters()[0].get('convo_filter')}\")\n",
    "print(f\"Best number of CNN layer: {tuner.get_best_hyperparameters()[0].get('no_cnn')}\")\n",
    "print(f\"Best number of hidden layer: {tuner.get_best_hyperparameters()[0].get('layers_no')}\")\n",
    "\n",
    "for i in range(tuner.get_best_hyperparameters()[0].get('no_cnn')):\n",
    "    print(f\"Best filter in CNN layer {i}: {tuner.get_best_hyperparameters()[0].get(f'convo_filter_{i}')}\")\n",
    "    print(f\"Best activation in CNN layer {i}: {tuner.get_best_hyperparameters()[0].get(f'activation_convo_{i}')}\")\n",
    "\n",
    "for i in range(tuner.get_best_hyperparameters()[0].get('layers_no')):\n",
    "    print(f\"Best nodes in hidden layer {i}: {tuner.get_best_hyperparameters()[0].get(f'hidden_layer_{i}')}\")\n",
    "    print(f\"Best activation in hidden layer {i}: {tuner.get_best_hyperparameters()[0].get(f'activation_hidden_{i}')}\")"
   ]
  },
  {
   "cell_type": "code",
   "execution_count": 25,
   "id": "01340ba4",
   "metadata": {},
   "outputs": [
    {
     "name": "stdout",
     "output_type": "stream",
     "text": [
      "Epoch 1/10\n"
     ]
    },
    {
     "name": "stderr",
     "output_type": "stream",
     "text": [
      "2022-05-12 17:17:56.380790: I tensorflow/core/grappler/optimizers/custom_graph_optimizer_registry.cc:113] Plugin optimizer for device_type GPU is enabled.\n"
     ]
    },
    {
     "name": "stdout",
     "output_type": "stream",
     "text": [
      "381/381 [==============================] - ETA: 0s - loss: 0.3416 - accuracy: 0.8526 - auc: 0.9191"
     ]
    },
    {
     "name": "stderr",
     "output_type": "stream",
     "text": [
      "2022-05-12 17:18:01.684912: I tensorflow/core/grappler/optimizers/custom_graph_optimizer_registry.cc:113] Plugin optimizer for device_type GPU is enabled.\n"
     ]
    },
    {
     "name": "stdout",
     "output_type": "stream",
     "text": [
      "381/381 [==============================] - 7s 16ms/step - loss: 0.3416 - accuracy: 0.8526 - auc: 0.9191 - val_loss: 0.3350 - val_accuracy: 0.8615 - val_auc: 0.9304\n",
      "Epoch 2/10\n",
      "381/381 [==============================] - 5s 14ms/step - loss: 0.3330 - accuracy: 0.8557 - auc: 0.9231 - val_loss: 0.3070 - val_accuracy: 0.8753 - val_auc: 0.9347\n",
      "Epoch 3/10\n",
      "381/381 [==============================] - 6s 15ms/step - loss: 0.3165 - accuracy: 0.8662 - auc: 0.9307 - val_loss: 0.3364 - val_accuracy: 0.8605 - val_auc: 0.9273\n",
      "Epoch 4/10\n",
      "381/381 [==============================] - 6s 15ms/step - loss: 0.3120 - accuracy: 0.8667 - auc: 0.9324 - val_loss: 0.3054 - val_accuracy: 0.8817 - val_auc: 0.9399\n",
      "Epoch 5/10\n",
      "381/381 [==============================] - 5s 14ms/step - loss: 0.3096 - accuracy: 0.8657 - auc: 0.9337 - val_loss: 0.3218 - val_accuracy: 0.8620 - val_auc: 0.9337\n",
      "Epoch 6/10\n",
      "381/381 [==============================] - 6s 15ms/step - loss: 0.2998 - accuracy: 0.8737 - auc: 0.9378 - val_loss: 0.3033 - val_accuracy: 0.8760 - val_auc: 0.9413\n",
      "Epoch 7/10\n",
      "381/381 [==============================] - 5s 14ms/step - loss: 0.3001 - accuracy: 0.8691 - auc: 0.9375 - val_loss: 0.2970 - val_accuracy: 0.8827 - val_auc: 0.9448\n",
      "Epoch 8/10\n",
      "381/381 [==============================] - 5s 14ms/step - loss: 0.2811 - accuracy: 0.8803 - auc: 0.9453 - val_loss: 0.4018 - val_accuracy: 0.8438 - val_auc: 0.9287\n",
      "Epoch 9/10\n",
      "381/381 [==============================] - 6s 14ms/step - loss: 0.2862 - accuracy: 0.8784 - auc: 0.9436 - val_loss: 0.2769 - val_accuracy: 0.8871 - val_auc: 0.9476\n",
      "Epoch 10/10\n",
      "381/381 [==============================] - 6s 15ms/step - loss: 0.2727 - accuracy: 0.8867 - auc: 0.9487 - val_loss: 0.3231 - val_accuracy: 0.8603 - val_auc: 0.9455\n"
     ]
    },
    {
     "data": {
      "text/plain": [
       "<keras.callbacks.History at 0x2905e4460>"
      ]
     },
     "execution_count": 25,
     "metadata": {},
     "output_type": "execute_result"
    }
   ],
   "source": [
    "best_model.fit(x_train, y_train, epochs=10, validation_data=(x_test, y_test))"
   ]
  },
  {
   "cell_type": "code",
   "execution_count": 26,
   "id": "f1b1a51c",
   "metadata": {},
   "outputs": [
    {
     "name": "stderr",
     "output_type": "stream",
     "text": [
      "2022-05-12 17:18:52.572528: I tensorflow/core/grappler/optimizers/custom_graph_optimizer_registry.cc:113] Plugin optimizer for device_type GPU is enabled.\n"
     ]
    },
    {
     "name": "stdout",
     "output_type": "stream",
     "text": [
      "              precision    recall  f1-score   support\n",
      "\n",
      "           0       0.93      0.84      0.89      2643\n",
      "           1       0.75      0.89      0.82      1415\n",
      "\n",
      "    accuracy                           0.86      4058\n",
      "   macro avg       0.84      0.87      0.85      4058\n",
      "weighted avg       0.87      0.86      0.86      4058\n",
      "\n"
     ]
    }
   ],
   "source": [
    "binary_tuned_pred = best_model.predict(x_test)\n",
    "binary_classification_report(y_test, binary_tuned_pred)"
   ]
  },
  {
   "cell_type": "markdown",
   "id": "63e5992e",
   "metadata": {},
   "source": [
    "### Ensemble model"
   ]
  },
  {
   "cell_type": "code",
   "execution_count": 27,
   "id": "2bc84924",
   "metadata": {},
   "outputs": [],
   "source": [
    "# intialize and train sub-models\n",
    "def get_sub_model():\n",
    "    # number of sub models\n",
    "    nets = 5\n",
    "    sub_models = [0]*nets\n",
    "    model_path = os.path.join(root, \"binary_submodels\")\n",
    "    \n",
    "    if not path.exists(model_path) or len(os.listdir(model_path))!=nets:\n",
    "        for i in range(nets):\n",
    "            model = get_model()\n",
    "            # fit sub_model with train and test data\n",
    "            model.fit(x_train, y_train, epochs=5, validation_data=(x_val, y_val))\n",
    "            # save fitted sub_model to model list\n",
    "            sub_models[i] = model\n",
    "            \n",
    "            # new file dir\n",
    "            new_dir = os.path.join(model_path, f'submodel_{i}.h5')\n",
    "            # save model to file\n",
    "            model.save(new_dir)\n",
    "        return sub_models\n",
    "    else:\n",
    "        for i in range(nets):\n",
    "            sub_models[i]=keras.models.load_model(os.path.join(model_path, f'submodel_{i}.h5'))\n",
    "        \n",
    "        return sub_models\n",
    "    \n",
    "sub_models = get_sub_model()"
   ]
  },
  {
   "cell_type": "code",
   "execution_count": 28,
   "id": "e90d20eb",
   "metadata": {},
   "outputs": [],
   "source": [
    "# method to get output from submodels to feed meta_learner\n",
    "# shape of dataset would be (no rows of OG dataset, [no output of sub model * no sub model])\n",
    "def get_ensembled_x(x):\n",
    "    ensembled_data = None\n",
    "    for sub_model in sub_models:\n",
    "        prediction = sub_model.predict(x)\n",
    "        \n",
    "        # stack prediction of sub model to ensembled data\n",
    "        if ensembled_data is None:\n",
    "            ensembled_data = prediction\n",
    "        else:\n",
    "            ensembled_data = np.dstack((ensembled_data, prediction))\n",
    "            \n",
    "    # ensemble data initially shape iz (no_col, no submodels, no classes)        \n",
    "    # reshape to (no_col, no submodels*no classes)\n",
    "    ensembled_data = ensembled_data.reshape(ensembled_data.shape[0], ensembled_data.shape[1]*ensembled_data.shape[2])\n",
    "    return ensembled_data\n",
    "\n",
    "def get_meta_learner():\n",
    "    model = tf.keras.Sequential()\n",
    "    # Flatten input\n",
    "    model.add(tf.keras.layers.Flatten())\n",
    "    # Hidden layers\n",
    "    model.add(tf.keras.layers.Dense(256, activation=\"tanh\"))\n",
    "    model.add(tf.keras.layers.Dense(128, activation=\"softmax\"))\n",
    "    model.add(tf.keras.layers.Dense(32, activation=\"relu\"))\n",
    "    # Output layer\n",
    "    model.add(tf.keras.layers.Dense(1, activation=\"sigmoid\"))\n",
    "    # Compile model\n",
    "    model.compile(optimizer=\"adam\",\n",
    "                  loss=\"binary_crossentropy\",\n",
    "                  metrics=[\"accuracy\", \"AUC\"])\n",
    "    \n",
    "    # get train ensembled data\n",
    "    ensembled_x = get_ensembled_x(x_train)\n",
    "    \n",
    "    model.fit(ensembled_x, y_train, epochs=10)\n",
    "    return model "
   ]
  },
  {
   "cell_type": "code",
   "execution_count": 29,
   "id": "9b341ecb",
   "metadata": {},
   "outputs": [
    {
     "name": "stderr",
     "output_type": "stream",
     "text": [
      "2022-05-12 17:18:53.217968: I tensorflow/core/grappler/optimizers/custom_graph_optimizer_registry.cc:113] Plugin optimizer for device_type GPU is enabled.\n",
      "2022-05-12 17:18:53.461112: I tensorflow/core/grappler/optimizers/custom_graph_optimizer_registry.cc:113] Plugin optimizer for device_type GPU is enabled.\n",
      "2022-05-12 17:18:53.705868: I tensorflow/core/grappler/optimizers/custom_graph_optimizer_registry.cc:113] Plugin optimizer for device_type GPU is enabled.\n",
      "2022-05-12 17:18:53.951823: I tensorflow/core/grappler/optimizers/custom_graph_optimizer_registry.cc:113] Plugin optimizer for device_type GPU is enabled.\n",
      "2022-05-12 17:18:54.192018: I tensorflow/core/grappler/optimizers/custom_graph_optimizer_registry.cc:113] Plugin optimizer for device_type GPU is enabled.\n"
     ]
    },
    {
     "name": "stdout",
     "output_type": "stream",
     "text": [
      "Epoch 1/10\n",
      "  1/381 [..............................] - ETA: 2:10 - loss: 0.6923 - accuracy: 0.6250 - auc: 0.5000"
     ]
    },
    {
     "name": "stderr",
     "output_type": "stream",
     "text": [
      "2022-05-12 17:18:57.614110: I tensorflow/core/grappler/optimizers/custom_graph_optimizer_registry.cc:113] Plugin optimizer for device_type GPU is enabled.\n"
     ]
    },
    {
     "name": "stdout",
     "output_type": "stream",
     "text": [
      "381/381 [==============================] - 3s 8ms/step - loss: 0.4395 - accuracy: 0.8217 - auc: 0.8757\n",
      "Epoch 2/10\n",
      "381/381 [==============================] - 3s 8ms/step - loss: 0.3454 - accuracy: 0.8506 - auc: 0.9199\n",
      "Epoch 3/10\n",
      "381/381 [==============================] - 3s 8ms/step - loss: 0.3396 - accuracy: 0.8521 - auc: 0.9218\n",
      "Epoch 4/10\n",
      "381/381 [==============================] - 3s 8ms/step - loss: 0.3384 - accuracy: 0.8520 - auc: 0.9223\n",
      "Epoch 5/10\n",
      "381/381 [==============================] - 3s 8ms/step - loss: 0.3380 - accuracy: 0.8520 - auc: 0.9220\n",
      "Epoch 6/10\n",
      "381/381 [==============================] - 3s 8ms/step - loss: 0.3354 - accuracy: 0.8514 - auc: 0.9235\n",
      "Epoch 7/10\n",
      "381/381 [==============================] - 3s 8ms/step - loss: 0.3327 - accuracy: 0.8543 - auc: 0.9245\n",
      "Epoch 8/10\n",
      "381/381 [==============================] - 3s 8ms/step - loss: 0.3325 - accuracy: 0.8540 - auc: 0.9243\n",
      "Epoch 9/10\n",
      "381/381 [==============================] - 3s 8ms/step - loss: 0.3329 - accuracy: 0.8529 - auc: 0.9240\n",
      "Epoch 10/10\n",
      "381/381 [==============================] - 3s 8ms/step - loss: 0.3302 - accuracy: 0.8533 - auc: 0.9252\n"
     ]
    }
   ],
   "source": [
    "# evaluate with ensembled CNN model\n",
    "# get test data\n",
    "ensembled_x_test = get_ensembled_x(x_test)\n",
    "# get trained ensemble model\n",
    "ensembled_model = get_meta_learner()"
   ]
  },
  {
   "cell_type": "code",
   "execution_count": 30,
   "id": "43caeba6",
   "metadata": {},
   "outputs": [
    {
     "name": "stderr",
     "output_type": "stream",
     "text": [
      "2022-05-12 17:19:28.226646: I tensorflow/core/grappler/optimizers/custom_graph_optimizer_registry.cc:113] Plugin optimizer for device_type GPU is enabled.\n"
     ]
    },
    {
     "name": "stdout",
     "output_type": "stream",
     "text": [
      "              precision    recall  f1-score   support\n",
      "\n",
      "           0       0.89      0.88      0.89      2643\n",
      "           1       0.78      0.81      0.79      1415\n",
      "\n",
      "    accuracy                           0.85      4058\n",
      "   macro avg       0.84      0.84      0.84      4058\n",
      "weighted avg       0.85      0.85      0.85      4058\n",
      "\n"
     ]
    }
   ],
   "source": [
    "# evaluate\n",
    "ensemble_pred = ensembled_model.predict(ensembled_x_test)\n",
    "binary_classification_report(y_test, ensemble_pred)"
   ]
  },
  {
   "cell_type": "markdown",
   "id": "4b8319ef",
   "metadata": {},
   "source": [
    "## II) Task 2 - Multiclasses classification\n"
   ]
  },
  {
   "cell_type": "markdown",
   "id": "50aacf33",
   "metadata": {},
   "source": [
    "### Load data for multiclasses"
   ]
  },
  {
   "cell_type": "code",
   "execution_count": 51,
   "id": "40e48c0b",
   "metadata": {},
   "outputs": [],
   "source": [
    "# all_class = [\"epithelial\", \"fibroblast\", \"inflammatory\", \"others\"]\n",
    "cell_img, celltype_label = celltype_classify_data_all(all_class)\n",
    "cell_img, celltype_label = np.array(cell_img), np.array(celltype_label)\n",
    "\n",
    "# x_train_val, x_test, y_train_val, y_test = train_test_split(\n",
    "#     cell_img, celltype_label, test_size=0.2\n",
    "# )\n",
    "\n",
    "# x_train, x_val, y_train, y_val = train_test_split(\n",
    "#     x_train_val, y_train_val, test_size=0.25\n",
    "# )\n",
    "\n",
    "x_train, y_train = celltype_classify_data(all_class, \"train\")\n",
    "x_train, y_train = np.array(x_train), np.array(y_train)\n",
    "\n",
    "x_val, y_val = celltype_classify_data(all_class, \"val\")\n",
    "x_val, y_val = np.array(x_val), np.array(y_val)\n",
    "\n",
    "x_test, y_test = celltype_classify_data(all_class, \"test\")\n",
    "x_test, y_test = np.array(x_test), np.array(y_test)\n"
   ]
  },
  {
   "cell_type": "markdown",
   "id": "77393f00",
   "metadata": {},
   "source": [
    "### Base model for multiclass  "
   ]
  },
  {
   "cell_type": "code",
   "execution_count": 81,
   "id": "a3409180",
   "metadata": {
    "scrolled": true
   },
   "outputs": [
    {
     "data": {
      "image/png": "[encoded data removed]",
      "text/plain": [
       "<Figure size 720x720 with 25 Axes>"
      ]
     },
     "metadata": {},
     "output_type": "display_data"
    },
    {
     "name": "stdout",
     "output_type": "stream",
     "text": [
      "Epoch 1/15\n"
     ]
    },
    {
     "name": "stderr",
     "output_type": "stream",
     "text": [
      "2022-05-12 18:34:39.800423: I tensorflow/core/grappler/optimizers/custom_graph_optimizer_registry.cc:113] Plugin optimizer for device_type GPU is enabled.\n"
     ]
    },
    {
     "name": "stdout",
     "output_type": "stream",
     "text": [
      "186/186 [==============================] - ETA: 0s - loss: 1.1134 - accuracy: 0.5495"
     ]
    },
    {
     "name": "stderr",
     "output_type": "stream",
     "text": [
      "2022-05-12 18:34:42.807749: I tensorflow/core/grappler/optimizers/custom_graph_optimizer_registry.cc:113] Plugin optimizer for device_type GPU is enabled.\n"
     ]
    },
    {
     "name": "stdout",
     "output_type": "stream",
     "text": [
      "186/186 [==============================] - 4s 17ms/step - loss: 1.1134 - accuracy: 0.5495 - val_loss: 1.0746 - val_accuracy: 0.5589\n",
      "Epoch 2/15\n",
      "186/186 [==============================] - 3s 15ms/step - loss: 0.8586 - accuracy: 0.6596 - val_loss: 0.8000 - val_accuracy: 0.6884\n",
      "Epoch 3/15\n",
      "186/186 [==============================] - 3s 15ms/step - loss: 0.7795 - accuracy: 0.6925 - val_loss: 0.8060 - val_accuracy: 0.6884\n",
      "Epoch 4/15\n",
      "186/186 [==============================] - 3s 15ms/step - loss: 0.7404 - accuracy: 0.7048 - val_loss: 0.7475 - val_accuracy: 0.7233\n",
      "Epoch 5/15\n",
      "186/186 [==============================] - 3s 15ms/step - loss: 0.7308 - accuracy: 0.7100 - val_loss: 0.7241 - val_accuracy: 0.7218\n",
      "Epoch 6/15\n",
      "186/186 [==============================] - 3s 15ms/step - loss: 0.6698 - accuracy: 0.7390 - val_loss: 0.7076 - val_accuracy: 0.7294\n",
      "Epoch 7/15\n",
      "186/186 [==============================] - 3s 15ms/step - loss: 0.6479 - accuracy: 0.7466 - val_loss: 0.7013 - val_accuracy: 0.7395\n",
      "Epoch 8/15\n",
      "186/186 [==============================] - 3s 15ms/step - loss: 0.6122 - accuracy: 0.7567 - val_loss: 0.7140 - val_accuracy: 0.7233\n",
      "Epoch 9/15\n",
      "186/186 [==============================] - 3s 15ms/step - loss: 0.5751 - accuracy: 0.7769 - val_loss: 0.7323 - val_accuracy: 0.7284\n",
      "Epoch 10/15\n",
      "186/186 [==============================] - 3s 15ms/step - loss: 0.5177 - accuracy: 0.8019 - val_loss: 0.7193 - val_accuracy: 0.7400\n",
      "Epoch 11/15\n",
      "186/186 [==============================] - 3s 16ms/step - loss: 0.4745 - accuracy: 0.8202 - val_loss: 0.7515 - val_accuracy: 0.7142\n",
      "Epoch 12/15\n",
      "186/186 [==============================] - 3s 15ms/step - loss: 0.4167 - accuracy: 0.8386 - val_loss: 0.8126 - val_accuracy: 0.7279\n",
      "Epoch 13/15\n",
      "186/186 [==============================] - 3s 15ms/step - loss: 0.3591 - accuracy: 0.8608 - val_loss: 0.8915 - val_accuracy: 0.7299\n",
      "Epoch 14/15\n",
      "186/186 [==============================] - 3s 15ms/step - loss: 0.2914 - accuracy: 0.8895 - val_loss: 0.9349 - val_accuracy: 0.7289\n",
      "Epoch 15/15\n",
      "186/186 [==============================] - 3s 15ms/step - loss: 0.3217 - accuracy: 0.8809 - val_loss: 1.0862 - val_accuracy: 0.7152\n"
     ]
    },
    {
     "data": {
      "text/plain": [
       "<keras.callbacks.History at 0x2e6928dc0>"
      ]
     },
     "execution_count": 81,
     "metadata": {},
     "output_type": "execute_result"
    }
   ],
   "source": [
    "\n",
    "# print first 25 images\n",
    "plt.figure(figsize=(10,10))\n",
    "for i in range(25):\n",
    "    plt.subplot(5,5,i+1)\n",
    "    plt.xticks([])\n",
    "    plt.yticks([])\n",
    "    plt.grid(False)\n",
    "    plt.imshow(x_train[i], cmap=plt.cm.binary)\n",
    "    plt.xlabel(all_class[y_train[i]])\n",
    "plt.show()\n",
    "\n",
    "def get_multiclass_model():\n",
    "    model = tf.keras.Sequential()\n",
    "    # First convo-pooling\n",
    "    # Convolutional layers (filter the image with a kernel)\n",
    "    model.add(tf.keras.layers.Conv2D(64, (3, 3), strides=1,activation=\"relu\", input_shape=[27, 27, 3]))\n",
    "    # Max-pooling layers (reduce the size of the image by choosing max pixel at certain area)\n",
    "    model.add(tf.keras.layers.MaxPool2D(pool_size=(2, 2), strides=1))\n",
    "    \n",
    "    # Second convo-pooling\n",
    "    # Convolutional layers (filter the image with a kernel)\n",
    "    model.add(tf.keras.layers.Conv2D(64, (3, 3),strides=1, activation=\"relu\"))\n",
    "    # Max-pooling layers (reduce the size of the image by choosing max pixel at certain area)\n",
    "    model.add(tf.keras.layers.MaxPool2D(pool_size=(2, 2),strides=1))\n",
    "    \n",
    "    # Flatten input\n",
    "    model.add(tf.keras.layers.Flatten())\n",
    "    model.add(tf.keras.layers.Dense(256, activation=\"relu\"))\n",
    "    model.add(tf.keras.layers.Dense(128, activation=\"relu\"))\n",
    "    model.add(tf.keras.layers.Dense(32, activation=\"relu\"))\n",
    "    # Output layer\n",
    "    model.add(tf.keras.layers.Dense(4, activation=\"softmax\"))\n",
    "    # Compile model \n",
    "    model.compile(optimizer=\"adam\",\n",
    "                  loss=\"sparse_categorical_crossentropy\",\n",
    "                  metrics=[\"accuracy\"])\n",
    "    \n",
    "    return model\n",
    "\n",
    "multi_model = get_multiclass_model()\n",
    "multi_model.fit(x_train, y_train, epochs=15, validation_data=(x_val, y_val))"
   ]
  },
  {
   "cell_type": "code",
   "execution_count": 82,
   "id": "b7bc81c2",
   "metadata": {},
   "outputs": [
    {
     "name": "stderr",
     "output_type": "stream",
     "text": [
      "2022-05-12 18:35:25.272011: I tensorflow/core/grappler/optimizers/custom_graph_optimizer_registry.cc:113] Plugin optimizer for device_type GPU is enabled.\n"
     ]
    },
    {
     "name": "stdout",
     "output_type": "stream",
     "text": [
      "              precision    recall  f1-score   support\n",
      "\n",
      "           0       0.83      0.89      0.86       817\n",
      "           1       0.66      0.62      0.64       379\n",
      "           2       0.70      0.72      0.71       510\n",
      "           3       0.52      0.42      0.46       278\n",
      "\n",
      "    accuracy                           0.73      1984\n",
      "   macro avg       0.68      0.66      0.67      1984\n",
      "weighted avg       0.72      0.73      0.73      1984\n",
      "\n"
     ]
    }
   ],
   "source": [
    "multi_pred = multi_model.predict(x_test)\n",
    "multiclass_classification_report(y_test, multi_pred)"
   ]
  },
  {
   "cell_type": "markdown",
   "id": "d59cfe83",
   "metadata": {},
   "source": [
    "### Base CNN + ZCA whitening"
   ]
  },
  {
   "cell_type": "code",
   "execution_count": null,
   "id": "9d5d5373",
   "metadata": {
    "scrolled": true
   },
   "outputs": [],
   "source": [
    "# train data from ImageDataGenerator\n",
    "datagen = ImageDataGenerator(\n",
    "     zca_whitening=True,\n",
    ")\n",
    "datagen.fit(cell_img)\n",
    "\n",
    "multi_zca_train = datagen.flow(x_train, y_train, shuffle=True)\n",
    "multi_zca_val = datagen.flow(x_val, y_val, shuffle=True)\n",
    "\n",
    "# train model with zca whitened model\n",
    "zca_model = get_multiclass_model()\n",
    "zca_model.fit(multi_zca_train, epochs=10, validation_data=multi_zca_val)"
   ]
  },
  {
   "cell_type": "code",
   "execution_count": null,
   "id": "b584b10d",
   "metadata": {},
   "outputs": [],
   "source": [
    "multi_zca_test = datagen.flow(x_test, shuffle=False)\n",
    "\n",
    "# zca_x, zca_y = multi_zca_test.next()\n",
    "zca_multi_pred = zca_model.predict(multi_zca_test)\n",
    "multiclass_classification_report(y_test, zca_multi_pred)"
   ]
  },
  {
   "cell_type": "markdown",
   "id": "9c230a95",
   "metadata": {},
   "source": [
    "### Base CNN + rotation"
   ]
  },
  {
   "cell_type": "code",
   "execution_count": 52,
   "id": "765a8e3c",
   "metadata": {
    "scrolled": true
   },
   "outputs": [
    {
     "name": "stdout",
     "output_type": "stream",
     "text": [
      "Epoch 1/10\n"
     ]
    },
    {
     "name": "stderr",
     "output_type": "stream",
     "text": [
      "2022-05-12 18:10:59.472373: I tensorflow/core/grappler/optimizers/custom_graph_optimizer_registry.cc:113] Plugin optimizer for device_type GPU is enabled.\n"
     ]
    },
    {
     "name": "stdout",
     "output_type": "stream",
     "text": [
      "183/186 [============================>.] - ETA: 0s - loss: 1.0884 - accuracy: 0.5559"
     ]
    },
    {
     "name": "stderr",
     "output_type": "stream",
     "text": [
      "2022-05-12 18:11:02.463689: I tensorflow/core/grappler/optimizers/custom_graph_optimizer_registry.cc:113] Plugin optimizer for device_type GPU is enabled.\n"
     ]
    },
    {
     "name": "stdout",
     "output_type": "stream",
     "text": [
      "186/186 [==============================] - 4s 17ms/step - loss: 1.0849 - accuracy: 0.5577 - val_loss: 0.8668 - val_accuracy: 0.6571\n",
      "Epoch 2/10\n",
      "186/186 [==============================] - 3s 15ms/step - loss: 0.8424 - accuracy: 0.6603 - val_loss: 0.7944 - val_accuracy: 0.6722\n",
      "Epoch 3/10\n",
      "186/186 [==============================] - 3s 15ms/step - loss: 0.7902 - accuracy: 0.6787 - val_loss: 0.7516 - val_accuracy: 0.7107\n",
      "Epoch 4/10\n",
      "186/186 [==============================] - 3s 16ms/step - loss: 0.7790 - accuracy: 0.6886 - val_loss: 0.7834 - val_accuracy: 0.6869\n",
      "Epoch 5/10\n",
      "186/186 [==============================] - 3s 16ms/step - loss: 0.7462 - accuracy: 0.6979 - val_loss: 0.7301 - val_accuracy: 0.7117\n",
      "Epoch 6/10\n",
      "186/186 [==============================] - 3s 16ms/step - loss: 0.7690 - accuracy: 0.6874 - val_loss: 0.8263 - val_accuracy: 0.6737\n",
      "Epoch 7/10\n",
      "186/186 [==============================] - 3s 16ms/step - loss: 0.7128 - accuracy: 0.7122 - val_loss: 0.6931 - val_accuracy: 0.7385\n",
      "Epoch 8/10\n",
      "186/186 [==============================] - 3s 15ms/step - loss: 0.7026 - accuracy: 0.7193 - val_loss: 0.7047 - val_accuracy: 0.7233\n",
      "Epoch 9/10\n",
      "186/186 [==============================] - 3s 16ms/step - loss: 0.6778 - accuracy: 0.7289 - val_loss: 0.7202 - val_accuracy: 0.7269\n",
      "Epoch 10/10\n",
      "186/186 [==============================] - 3s 15ms/step - loss: 0.6930 - accuracy: 0.7269 - val_loss: 0.6909 - val_accuracy: 0.7405\n"
     ]
    },
    {
     "data": {
      "text/plain": [
       "<keras.callbacks.History at 0x2dc6f3490>"
      ]
     },
     "execution_count": 52,
     "metadata": {},
     "output_type": "execute_result"
    }
   ],
   "source": [
    "# train data from ImageDataGenerator\n",
    "datagen = ImageDataGenerator(\n",
    "     rotation_range=45,\n",
    ")\n",
    "datagen.fit(cell_img)\n",
    "\n",
    "rot_multi_train = datagen.flow(x_train, y_train, shuffle=True)\n",
    "rot_multi_val = datagen.flow(x_val, y_val, shuffle=True)\n",
    "\n",
    "rotation_model = get_multiclass_model()\n",
    "rotation_model.fit(rot_multi_train, epochs=10, validation_data=rot_multi_val)"
   ]
  },
  {
   "cell_type": "code",
   "execution_count": 79,
   "id": "e6e42f29",
   "metadata": {},
   "outputs": [
    {
     "name": "stderr",
     "output_type": "stream",
     "text": [
      "/var/folders/bc/1x56pk_j3glgqwsdp02fbltm0000gn/T/ipykernel_66614/3584271775.py:3: UserWarning: `Model.predict_generator` is deprecated and will be removed in a future version. Please use `Model.predict`, which supports generators.\n",
      "  rot_multi_pred = rotation_model.predict_generator(rot_multi_test)\n"
     ]
    },
    {
     "name": "stdout",
     "output_type": "stream",
     "text": [
      "              precision    recall  f1-score   support\n",
      "\n",
      "           0       0.87      0.89      0.88       817\n",
      "           1       0.71      0.57      0.63       379\n",
      "           2       0.61      0.85      0.71       510\n",
      "           3       0.56      0.27      0.36       278\n",
      "\n",
      "    accuracy                           0.73      1984\n",
      "   macro avg       0.69      0.65      0.65      1984\n",
      "weighted avg       0.73      0.73      0.72      1984\n",
      "\n"
     ]
    }
   ],
   "source": [
    "rot_multi_test = datagen.flow(x_test,shuffle=False)\n",
    "\n",
    "rot_multi_pred = rotation_model.predict_generator(rot_multi_test)\n",
    "multiclass_classification_report(y_test, rot_multi_pred)"
   ]
  },
  {
   "cell_type": "markdown",
   "id": "6ada6a38",
   "metadata": {},
   "source": [
    "### Multiclass using multiple models (Ensemble)"
   ]
  },
  {
   "cell_type": "code",
   "execution_count": 83,
   "id": "bb8d3e77",
   "metadata": {},
   "outputs": [],
   "source": [
    "def get_subclass_model():\n",
    "    model = tf.keras.Sequential()\n",
    "    # First convo-pooling\n",
    "    # Convolutional layers (filter the image with a kernel)\n",
    "    model.add(tf.keras.layers.Conv2D(64, (3, 3), activation=\"relu\", input_shape=[27, 27, 3]))\n",
    "    # Max-pooling layers (reduce the size of the image by choosing max pixel at certain area)\n",
    "    model.add(tf.keras.layers.MaxPool2D(pool_size=(2, 2)))\n",
    "    # Flatten input\n",
    "    model.add(tf.keras.layers.Flatten())\n",
    "    model.add(tf.keras.layers.Dense(256, activation=\"relu\"))\n",
    "    model.add(tf.keras.layers.Dense(128, activation=\"relu\"))\n",
    "    model.add(tf.keras.layers.Dense(32, activation=\"relu\"))\n",
    "    # Output layer\n",
    "    model.add(tf.keras.layers.Dense(3, activation=\"softmax\"))\n",
    "    # Compile model \n",
    "    model.compile(optimizer=\"adam\",\n",
    "                  loss=\"sparse_categorical_crossentropy\",\n",
    "                  metrics=[\"accuracy\"])\n",
    "    \n",
    "    return model\n",
    "\n",
    "def get_transfer_model():\n",
    "    model = tf.keras.Sequential()\n",
    "    # Flatten input\n",
    "    model.add(tf.keras.layers.Flatten())\n",
    "    # Hidden layers\n",
    "    model.add(tf.keras.layers.Dense(256, activation=\"relu\"))\n",
    "    model.add(tf.keras.layers.Dense(128, activation=\"softmax\"))\n",
    "    model.add(tf.keras.layers.Dense(32, activation=\"relu\"))\n",
    "    model.add(tf.keras.layers.Dense(3, activation=\"sigmoid\"))\n",
    "    # Output layer\n",
    "    model.add(tf.keras.layers.Dense(4, activation=\"softmax\"))\n",
    "    # Compile model\n",
    "    model.compile(optimizer=\"adam\",\n",
    "                  loss=\"sparse_categorical_crossentropy\",\n",
    "                  metrics=[\"accuracy\"])\n",
    "    return model"
   ]
  },
  {
   "cell_type": "markdown",
   "id": "1933a66d",
   "metadata": {},
   "source": [
    "### Load 3 classes model and 4 classes models"
   ]
  },
  {
   "cell_type": "code",
   "execution_count": 88,
   "id": "d5301d3b",
   "metadata": {},
   "outputs": [],
   "source": [
    "sub_multiclass = [\"epithelial\", \"fibroblast\", \"inflammatory\"]\n",
    "subx_train, suby_train = celltype_classify_data(sub_multiclass, \"train\")\n",
    "subx_train, suby_train = np.array(subx_train), np.array(suby_train)\n",
    "subx_test, suby_test = celltype_classify_data(sub_multiclass, \"val\")\n",
    "subx_test, suby_test = np.array(subx_test), np.array(suby_test)\n",
    "\n",
    "submodel_path = os.path.join(root, \"multiclass_submodels\")   \n",
    "def three_class_submodel(file_path):\n",
    "    # path to model trained with 3 classes\n",
    "    subclass_path = path.join(file_path, \"subclass.h5\")\n",
    "    subclass_model = None\n",
    "    if not os.path.isfile(subclass_path) or keras.models.load_model(subclass_path) == None:\n",
    "        print(\"---Sub model training---\")\n",
    "        # train subclass that fit with 3 types of images\n",
    "        subclass_model = get_subclass_model()\n",
    "        \n",
    "        \n",
    "        subclass_model.fit(subx_train, suby_train, epochs=20, validation_data=(subx_test, suby_test))\n",
    "            \n",
    "        subclass_model.save(subclass_path)\n",
    "        return subclass_model\n",
    "    else:\n",
    "        subclass_model = keras.models.load_model(subclass_path)\n",
    "        print(\"Model trained with 3 classes loaded\")\n",
    "        return subclass_model\n",
    "    \n",
    "def all_class_submodel(file_path):\n",
    "    allclass_path = path.join(file_path, \"allclass.h5\")\n",
    "    allclass_model = None\n",
    "    if not os.path.isfile(allclass_path) or keras.models.load_model(allclass_path) == None:\n",
    "        print(\"---Sub model training---\")\n",
    "        # train subclass that fit with 4 types of images\n",
    "        allclass_model = get_multiclass_model()\n",
    "        \n",
    "        allclass_model.fit(x_train, y_train, epochs=15, validation_data=(x_val, y_val))\n",
    "            \n",
    "        allclass_model.save(allclass_path)\n",
    "        return allclass_model\n",
    "    else:\n",
    "        allclass_model = keras.models.load_model(allclass_path)\n",
    "        print(\"Model trained with 4 classes loaded\")\n",
    "        return allclass_model"
   ]
  },
  {
   "cell_type": "markdown",
   "id": "7750be6d",
   "metadata": {},
   "source": [
    "### Get submodels output and train meta-learner"
   ]
  },
  {
   "cell_type": "code",
   "execution_count": 101,
   "id": "67e93dc1",
   "metadata": {
    "scrolled": true
   },
   "outputs": [
    {
     "name": "stdout",
     "output_type": "stream",
     "text": [
      "Model trained with 3 classes loaded\n",
      "Model trained with 4 classes loaded\n",
      "2\n"
     ]
    },
    {
     "name": "stderr",
     "output_type": "stream",
     "text": [
      "2022-05-12 18:44:26.744753: I tensorflow/core/grappler/optimizers/custom_graph_optimizer_registry.cc:113] Plugin optimizer for device_type GPU is enabled.\n",
      "2022-05-12 18:44:27.205898: I tensorflow/core/grappler/optimizers/custom_graph_optimizer_registry.cc:113] Plugin optimizer for device_type GPU is enabled.\n",
      "2022-05-12 18:44:28.358910: I tensorflow/core/grappler/optimizers/custom_graph_optimizer_registry.cc:113] Plugin optimizer for device_type GPU is enabled.\n",
      "2022-05-12 18:44:28.551063: I tensorflow/core/grappler/optimizers/custom_graph_optimizer_registry.cc:113] Plugin optimizer for device_type GPU is enabled.\n"
     ]
    },
    {
     "name": "stdout",
     "output_type": "stream",
     "text": [
      "Epoch 1/30\n",
      "  1/186 [..............................] - ETA: 50s - loss: 1.3631 - accuracy: 0.4688"
     ]
    },
    {
     "name": "stderr",
     "output_type": "stream",
     "text": [
      "2022-05-12 18:44:28.961713: I tensorflow/core/grappler/optimizers/custom_graph_optimizer_registry.cc:113] Plugin optimizer for device_type GPU is enabled.\n"
     ]
    },
    {
     "name": "stdout",
     "output_type": "stream",
     "text": [
      "186/186 [==============================] - ETA: 0s - loss: 1.2342 - accuracy: 0.4546"
     ]
    },
    {
     "name": "stderr",
     "output_type": "stream",
     "text": [
      "2022-05-12 18:44:30.344270: I tensorflow/core/grappler/optimizers/custom_graph_optimizer_registry.cc:113] Plugin optimizer for device_type GPU is enabled.\n"
     ]
    },
    {
     "name": "stdout",
     "output_type": "stream",
     "text": [
      "186/186 [==============================] - 2s 8ms/step - loss: 1.2342 - accuracy: 0.4546 - val_loss: 1.1206 - val_accuracy: 0.5964\n",
      "Epoch 2/30\n",
      "186/186 [==============================] - 1s 7ms/step - loss: 0.9600 - accuracy: 0.6595 - val_loss: 1.0188 - val_accuracy: 0.5903\n",
      "Epoch 3/30\n",
      "186/186 [==============================] - 1s 7ms/step - loss: 0.8443 - accuracy: 0.6598 - val_loss: 0.9763 - val_accuracy: 0.5933\n",
      "Epoch 4/30\n",
      "186/186 [==============================] - 1s 7ms/step - loss: 0.7702 - accuracy: 0.6610 - val_loss: 0.9430 - val_accuracy: 0.5918\n",
      "Epoch 5/30\n",
      "186/186 [==============================] - 1s 7ms/step - loss: 0.7124 - accuracy: 0.6607 - val_loss: 0.9374 - val_accuracy: 0.5948\n",
      "Epoch 6/30\n",
      "186/186 [==============================] - 1s 7ms/step - loss: 0.6681 - accuracy: 0.6664 - val_loss: 0.9264 - val_accuracy: 0.6024\n",
      "Epoch 7/30\n",
      "186/186 [==============================] - 1s 6ms/step - loss: 0.6264 - accuracy: 0.7847 - val_loss: 0.9189 - val_accuracy: 0.7006\n",
      "Epoch 8/30\n",
      "186/186 [==============================] - 1s 6ms/step - loss: 0.5903 - accuracy: 0.8332 - val_loss: 0.9076 - val_accuracy: 0.6930\n",
      "Epoch 9/30\n",
      "186/186 [==============================] - 1s 7ms/step - loss: 0.5600 - accuracy: 0.8317 - val_loss: 0.9079 - val_accuracy: 0.6990\n",
      "Epoch 10/30\n",
      "186/186 [==============================] - 1s 6ms/step - loss: 0.5343 - accuracy: 0.8335 - val_loss: 0.9131 - val_accuracy: 0.6960\n",
      "Epoch 11/30\n",
      "186/186 [==============================] - 1s 6ms/step - loss: 0.5120 - accuracy: 0.8322 - val_loss: 0.9085 - val_accuracy: 0.6990\n",
      "Epoch 12/30\n",
      "186/186 [==============================] - 1s 7ms/step - loss: 0.4885 - accuracy: 0.8349 - val_loss: 0.8937 - val_accuracy: 0.7036\n",
      "Epoch 13/30\n",
      "186/186 [==============================] - 1s 7ms/step - loss: 0.4626 - accuracy: 0.8361 - val_loss: 0.8433 - val_accuracy: 0.7011\n",
      "Epoch 14/30\n",
      "186/186 [==============================] - 1s 7ms/step - loss: 0.4403 - accuracy: 0.8362 - val_loss: 0.8611 - val_accuracy: 0.7031\n",
      "Epoch 15/30\n",
      "186/186 [==============================] - 1s 7ms/step - loss: 0.4208 - accuracy: 0.8376 - val_loss: 0.8425 - val_accuracy: 0.7046\n",
      "Epoch 16/30\n",
      "186/186 [==============================] - 1s 7ms/step - loss: 0.4025 - accuracy: 0.8716 - val_loss: 0.8437 - val_accuracy: 0.7289\n",
      "Epoch 17/30\n",
      "186/186 [==============================] - 1s 6ms/step - loss: 0.3839 - accuracy: 0.9235 - val_loss: 0.8588 - val_accuracy: 0.7208\n",
      "Epoch 18/30\n",
      "186/186 [==============================] - 1s 7ms/step - loss: 0.3683 - accuracy: 0.9275 - val_loss: 0.8585 - val_accuracy: 0.7193\n",
      "Epoch 19/30\n",
      "186/186 [==============================] - 1s 7ms/step - loss: 0.3537 - accuracy: 0.9284 - val_loss: 0.8569 - val_accuracy: 0.7198\n",
      "Epoch 20/30\n",
      "186/186 [==============================] - 1s 7ms/step - loss: 0.3409 - accuracy: 0.9292 - val_loss: 0.8575 - val_accuracy: 0.7122\n",
      "Epoch 21/30\n",
      "186/186 [==============================] - 1s 7ms/step - loss: 0.3270 - accuracy: 0.9291 - val_loss: 0.8651 - val_accuracy: 0.7188\n",
      "Epoch 22/30\n",
      "186/186 [==============================] - 1s 7ms/step - loss: 0.3147 - accuracy: 0.9314 - val_loss: 0.8725 - val_accuracy: 0.7137\n",
      "Epoch 23/30\n",
      "186/186 [==============================] - 1s 7ms/step - loss: 0.3069 - accuracy: 0.9294 - val_loss: 0.8861 - val_accuracy: 0.7097\n",
      "Epoch 24/30\n",
      "186/186 [==============================] - 1s 6ms/step - loss: 0.2960 - accuracy: 0.9314 - val_loss: 0.9034 - val_accuracy: 0.7178\n",
      "Epoch 25/30\n",
      "186/186 [==============================] - 1s 7ms/step - loss: 0.2885 - accuracy: 0.9319 - val_loss: 0.9024 - val_accuracy: 0.7137\n",
      "Epoch 26/30\n",
      "186/186 [==============================] - 1s 7ms/step - loss: 0.2809 - accuracy: 0.9313 - val_loss: 0.8840 - val_accuracy: 0.7076\n",
      "Epoch 27/30\n",
      "186/186 [==============================] - 1s 7ms/step - loss: 0.2749 - accuracy: 0.9301 - val_loss: 0.9331 - val_accuracy: 0.7122\n",
      "Epoch 28/30\n",
      "186/186 [==============================] - 1s 7ms/step - loss: 0.2702 - accuracy: 0.9297 - val_loss: 0.9440 - val_accuracy: 0.7132\n",
      "Epoch 29/30\n",
      "186/186 [==============================] - 1s 6ms/step - loss: 0.2632 - accuracy: 0.9301 - val_loss: 0.9637 - val_accuracy: 0.7127\n",
      "Epoch 30/30\n",
      "186/186 [==============================] - 1s 7ms/step - loss: 0.2601 - accuracy: 0.9313 - val_loss: 0.9494 - val_accuracy: 0.6995\n"
     ]
    },
    {
     "data": {
      "text/plain": [
       "<keras.callbacks.History at 0x3138bafa0>"
      ]
     },
     "execution_count": 101,
     "metadata": {},
     "output_type": "execute_result"
    }
   ],
   "source": [
    "def get_multi_stacked(x, submodels):\n",
    "    stacked = None\n",
    "    for submodel in submodels:\n",
    "        if stacked is None:\n",
    "            stacked = submodel.predict(x)\n",
    "        else:\n",
    "            new_pred = submodel.predict(x)\n",
    "            stacked = np.concatenate((stacked, new_pred), axis=1)\n",
    "    return stacked\n",
    "\n",
    "subclass_model = three_class_submodel(submodel_path)\n",
    "allclass_model = all_class_submodel(submodel_path)\n",
    "\n",
    "submodels = [subclass_model, allclass_model]\n",
    "\n",
    "print(len(submodels))\n",
    "stacked_x_train = get_multi_stacked(x_train, submodels)\n",
    "stacked_x_val = get_multi_stacked(x_val, submodels)\n",
    "stacked_x_test = get_multi_stacked(x_test, submodels)\n",
    "\n",
    "\n",
    "transfer_model = get_transfer_model()\n",
    "transfer_model.fit(stacked_x_train, y_train, epochs=30, validation_data=(stacked_x_val, y_val))"
   ]
  },
  {
   "cell_type": "code",
   "execution_count": 102,
   "id": "8f89e741",
   "metadata": {},
   "outputs": [
    {
     "name": "stdout",
     "output_type": "stream",
     "text": [
      "(5935, 27, 27, 3)\n",
      "(1977, 27, 27, 3)\n",
      "(1984, 27, 27, 3)\n"
     ]
    }
   ],
   "source": [
    "print(x_train.shape)\n",
    "print(x_val.shape)\n",
    "print(x_test.shape)"
   ]
  },
  {
   "cell_type": "code",
   "execution_count": 103,
   "id": "b8155f42",
   "metadata": {},
   "outputs": [
    {
     "name": "stdout",
     "output_type": "stream",
     "text": [
      "(1984, 7)\n",
      "              precision    recall  f1-score   support\n",
      "\n",
      "           0       0.85      0.90      0.88       817\n",
      "           1       0.70      0.61      0.65       379\n",
      "           2       0.69      0.65      0.67       510\n",
      "           3       0.41      0.45      0.43       278\n",
      "\n",
      "    accuracy                           0.72      1984\n",
      "   macro avg       0.66      0.65      0.66      1984\n",
      "weighted avg       0.72      0.72      0.72      1984\n",
      "\n"
     ]
    },
    {
     "name": "stderr",
     "output_type": "stream",
     "text": [
      "2022-05-12 18:45:12.243068: I tensorflow/core/grappler/optimizers/custom_graph_optimizer_registry.cc:113] Plugin optimizer for device_type GPU is enabled.\n"
     ]
    }
   ],
   "source": [
    "transfer_pred = transfer_model.predict(stacked_x_test)\n",
    "\n",
    "print(stacked_x_test.shape)\n",
    "multiclass_classification_report(y_test, transfer_pred)\n",
    "\n",
    "transfer_model.save(path.join(root, \"meta_learner.h5\"))"
   ]
  },
  {
   "cell_type": "markdown",
   "id": "07ef5cc1",
   "metadata": {},
   "source": [
    "### EDA"
   ]
  },
  {
   "cell_type": "code",
   "execution_count": 58,
   "id": "f0a27724",
   "metadata": {},
   "outputs": [
    {
     "name": "stdout",
     "output_type": "stream",
     "text": [
      "No data in class 0 in data 4079\n",
      "No data in class 1 in data 1888\n",
      "No data in class 2 in data 2543\n",
      "No data in class 3 in data 1386\n"
     ]
    }
   ],
   "source": [
    "for i in range(4):\n",
    "    print(f\"No data in class {i} in data\", (np.array(celltype_label)==i).sum())"
   ]
  },
  {
   "cell_type": "markdown",
   "id": "848b3774",
   "metadata": {},
   "source": [
    "### Multiclass + Oversampling + Decision tree"
   ]
  },
  {
   "cell_type": "code",
   "execution_count": null,
   "id": "4bb6d4d7",
   "metadata": {},
   "outputs": [],
   "source": [
    "from sklearn import tree\n",
    "from sklearn.ensemble import RandomForestClassifier\n",
    "from imblearn.over_sampling import SMOTE\n",
    "\n",
    "cell_img, celltype_label = celltype_classify_data(all_class)\n",
    "transfered_x = subclass_model.predict(np.array(cell_img))\n",
    "\n",
    "# by default, it would only over sample minority class which is the aim in this case\n",
    "oversample = SMOTE()\n",
    "transfered_x, celltype_label = oversample.fit_resample(transfered_x, np.array(celltype_label))\n",
    "\n",
    "for i in range(4):\n",
    "    print(f\"No data in class {i} in oversampled data\", (np.array(celltype_label)==i).sum())\n",
    "\n",
    "sampled_x_train, sampled_x_test, sampled_y_train, sampled_y_test = train_test_split(\n",
    "    transfered_x, celltype_label, test_size=0.2\n",
    ")\n",
    "\n",
    "tree_classifier = tree.DecisionTreeClassifier(class_weight=\"balanced\")\n",
    "tree_classifier = tree_classifier.fit(sampled_x_train, sampled_y_train)\n",
    "\n",
    "forest_classifier = RandomForestClassifier(class_weight=\"balanced\")\n",
    "forest_classifier.fit(sampled_x_train, sampled_y_train)\n",
    "\n",
    "tree_pred = tree_classifier.predict(sampled_x_test)\n",
    "forest_pred = forest_classifier.predict(sampled_x_test)\n",
    "\n",
    "print(classification_report(sampled_y_test, tree_pred))\n",
    "print(classification_report(sampled_y_test, forest_pred))                                        "
   ]
  }
 ],
 "metadata": {
  "kernelspec": {
   "display_name": "Python 3.9 (tensorflow)",
   "language": "python",
   "name": "tensorflow"
  },
  "language_info": {
   "codemirror_mode": {
    "name": "ipython",
    "version": 3
   },
   "file_extension": ".py",
   "mimetype": "text/x-python",
   "name": "python",
   "nbconvert_exporter": "python",
   "pygments_lexer": "ipython3",
   "version": "3.9.7"
  }
 },
 "nbformat": 4,
 "nbformat_minor": 5
}
