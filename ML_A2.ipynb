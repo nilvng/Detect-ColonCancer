{
 "cells": [
  {
   "cell_type": "code",
   "execution_count": 141,
   "id": "955516c7",
   "metadata": {},
   "outputs": [],
   "source": [
    "import cv2\n",
    "import numpy as np\n",
    "import pandas as pd\n",
    "import os\n",
    "import sys\n",
    "import tensorflow as tf\n",
    "from tensorflow import keras\n",
    "from sklearn.model_selection import train_test_split\n",
    "import keras_tuner as kt\n",
    "from sklearn.metrics import classification_report\n",
    "import shutil\n",
    "from os import path\n",
    "import matplotlib.pyplot as plt\n",
    "from tensorflow.keras.preprocessing import image_dataset_from_directory\n",
    "from keras.preprocessing.image import ImageDataGenerator\n",
    "\n",
    "# path variables to access files\n",
    "root = os.getcwd()\n",
    "binary_root = os.path.join(root, \"binary_task\")\n",
    "multiclass_root = os.path.join(root, \"multiclass_task\")"
   ]
  },
  {
   "cell_type": "markdown",
   "id": "57761c43",
   "metadata": {},
   "source": [
    "### Load dataframe"
   ]
  },
  {
   "cell_type": "code",
   "execution_count": 2,
   "id": "6b1deda5",
   "metadata": {},
   "outputs": [],
   "source": [
    "main_data = pd.read_csv(\"data_labels_mainData.csv\")\n",
    "extra_data = pd.read_csv(\"data_labels_extraData.csv\")"
   ]
  },
  {
   "cell_type": "markdown",
   "id": "bc53247b",
   "metadata": {},
   "source": [
    "### split data into different folders for different cell types"
   ]
  },
  {
   "cell_type": "code",
   "execution_count": 27,
   "id": "f240316c",
   "metadata": {},
   "outputs": [],
   "source": [
    "root = os.getcwd()\n",
    "source_dir = os.path.join(root, \"patch_images\")\n",
    "\n",
    "for i, row in main_data.iterrows():\n",
    "    image_name = row[\"ImageName\"]\n",
    "    cell_name = row[\"cellTypeName\"]\n",
    "    is_cancer = str(row[\"isCancerous\"])\n",
    "\n",
    "#     new_folder_multi = os.path.join(root,\"multiclass_task\", cell_name)\n",
    "    new_folder_bin = os.path.join(root,\"binary_task\", is_cancer)\n",
    "\n",
    "#     os.makedirs(new_folder_multi, exist_ok=True)\n",
    "    os.makedirs(new_folder_bin, exist_ok=True)\n",
    "\n",
    "    source = os.path.join(source_dir, image_name)\n",
    "\n",
    "#     dest_multi = os.path.join(root, \"multiclass_task\",cell_name)\n",
    "    dest_bin = os.path.join(root,\"binary_task\", is_cancer)\n",
    "\n",
    "#     go = shutil.copy(source,dest_multi)\n",
    "    go = shutil.copy(source, dest_bin)"
   ]
  },
  {
   "cell_type": "markdown",
   "id": "3890247e",
   "metadata": {},
   "source": [
    "### Add training data for cancerous classification from extra dataset "
   ]
  },
  {
   "cell_type": "code",
   "execution_count": 15,
   "id": "682dc3f2",
   "metadata": {},
   "outputs": [],
   "source": [
    "root = os.getcwd()\n",
    "source_dir = os.path.join(root, \"patch_images\")\n",
    "\n",
    "for i, row in extra_data.iterrows():\n",
    "    image_name = row[\"ImageName\"]\n",
    "    is_cancer = str(row[\"isCancerous\"])\n",
    "\n",
    "    new_folder_bin = os.path.join(root, \"binary_task\",is_cancer)\n",
    "\n",
    "    os.makedirs(new_folder_bin, exist_ok=True)\n",
    "\n",
    "    source = os.path.join(source_dir, image_name)\n",
    "\n",
    "    dest_bin = os.path.join(root, is_cancer)\n",
    "\n",
    "    go = shutil.copy(source, dest_bin)"
   ]
  },
  {
   "cell_type": "markdown",
   "id": "53e5727f",
   "metadata": {},
   "source": [
    "### Get data from splitted folder"
   ]
  },
  {
   "cell_type": "code",
   "execution_count": 3,
   "id": "7c986143",
   "metadata": {},
   "outputs": [],
   "source": [
    "root = os.getcwd()\n",
    "source_dir = os.path.join(root, \"patch_images\")\n",
    "\n",
    "# method get data for binary task (task 1)\n",
    "def cancerous_classify_data():    \n",
    "    images = list()\n",
    "    labels = list()\n",
    "    \n",
    "    for label in [0, 1]:\n",
    "        # get image directory\n",
    "        img_dir = os.path.join(root, \"binary_task\",f\"{label}\")\n",
    "        \n",
    "        for img in os.listdir(img_dir):\n",
    "            img = cv2.imread(os.path.join(img_dir, img))\n",
    "            # resize to 0-1 for faster computation\n",
    "            resized = img / 255\n",
    "            images.append(resized)\n",
    "            labels.append(label)\n",
    "        \n",
    "    return (images, labels)\n",
    "\n",
    "all_class = [\"epithelial\", \"fibroblast\", \"inflammatory\", \"others\"]\n",
    "\n",
    "# method get data for multiclass task (task 2)\n",
    "def celltype_classify_data(class_list):    \n",
    "    images = list()\n",
    "    labels = list()\n",
    "    \n",
    "    for i, label in enumerate(class_list):\n",
    "        # get image directory\n",
    "        img_dir = os.path.join(root, \"multiclass_task\", f\"{label}\")\n",
    "        \n",
    "        for img in os.listdir(img_dir):\n",
    "            img = cv2.imread(os.path.join(img_dir, img))\n",
    "            # resize to 0-1 for faster computation\n",
    "            resized = img / 255\n",
    "            images.append(resized)\n",
    "            labels.append(i)\n",
    "        \n",
    "    return (images, labels)"
   ]
  },
  {
   "cell_type": "markdown",
   "id": "b2606e21",
   "metadata": {},
   "source": [
    "### Classification report"
   ]
  },
  {
   "cell_type": "code",
   "execution_count": 146,
   "id": "fe3b52d9",
   "metadata": {},
   "outputs": [],
   "source": [
    "def multiclass_classification_report(y_test, prediction):\n",
    "    \"\"\"\n",
    "        Method to generate sklearn classification report with CNN multiclass output\n",
    "    \"\"\"\n",
    "    \n",
    "    encoded_pred = list()\n",
    "    # convert each CNN output (sparse categorial) to class\n",
    "    for pred in prediction:\n",
    "        encoded_pred.append(np.argmax(pred))\n",
    "\n",
    "    encoded_pred = np.array(encoded_pred)\n",
    "    print(classification_report(y_test, encoded_pred))\n",
    "    \n",
    "def binary_classification_report(y_test, prediction):\n",
    "    \"\"\"\n",
    "        Method to generate sklearn classification report with CNN binary output\n",
    "    \"\"\"\n",
    "    encoded_pred = list()\n",
    "    # convert each CNN output (sparse categorial) to class\n",
    "    for pred in prediction:\n",
    "        encoded_pred.append(round(pred[0]))\n",
    "\n",
    "    encoded_pred = np.array(encoded_pred)\n",
    "    print(classification_report(y_test, encoded_pred))"
   ]
  },
  {
   "cell_type": "markdown",
   "id": "9977c54a",
   "metadata": {},
   "source": [
    "## I) Task 1 - Binary classification"
   ]
  },
  {
   "cell_type": "markdown",
   "id": "a0ac1428",
   "metadata": {},
   "source": [
    "### Load binary data"
   ]
  },
  {
   "cell_type": "code",
   "execution_count": 165,
   "id": "86ba9691",
   "metadata": {},
   "outputs": [
    {
     "name": "stdout",
     "output_type": "stream",
     "text": [
      "(9896, 27, 27, 3)\n",
      "(9896,)\n"
     ]
    }
   ],
   "source": [
    "# data being used\n",
    "images, cancer_label = cancerous_classify_data()\n",
    "\n",
    "# change to numpy\n",
    "images, cancer_label = np.array(images), np.array(cancer_label)\n",
    "print(images.shape)\n",
    "print(cancer_label.shape)\n",
    "\n",
    "# generate train, validation and test set\n",
    "x_train_val, x_test, y_train_val, y_test = train_test_split(\n",
    "    images, cancer_label, test_size=0.2\n",
    ")\n",
    "x_train, x_val, y_train, y_val = train_test_split(\n",
    "    x_train_val, y_train_val, test_size=0.25\n",
    ")"
   ]
  },
  {
   "cell_type": "markdown",
   "id": "7f880fcd",
   "metadata": {},
   "source": [
    "### Base CNN model"
   ]
  },
  {
   "cell_type": "code",
   "execution_count": 166,
   "id": "19f550aa",
   "metadata": {
    "scrolled": true
   },
   "outputs": [
    {
     "name": "stdout",
     "output_type": "stream",
     "text": [
      "Epoch 1/10\n"
     ]
    },
    {
     "name": "stderr",
     "output_type": "stream",
     "text": [
      "2022-05-07 21:06:32.680362: I tensorflow/core/grappler/optimizers/custom_graph_optimizer_registry.cc:113] Plugin optimizer for device_type GPU is enabled.\n"
     ]
    },
    {
     "name": "stdout",
     "output_type": "stream",
     "text": [
      "186/186 [==============================] - ETA: 0s - loss: 0.4300 - accuracy: 0.8021 - auc: 0.8813"
     ]
    },
    {
     "name": "stderr",
     "output_type": "stream",
     "text": [
      "2022-05-07 21:06:35.198441: I tensorflow/core/grappler/optimizers/custom_graph_optimizer_registry.cc:113] Plugin optimizer for device_type GPU is enabled.\n"
     ]
    },
    {
     "name": "stdout",
     "output_type": "stream",
     "text": [
      "186/186 [==============================] - 3s 15ms/step - loss: 0.4300 - accuracy: 0.8021 - auc: 0.8813 - val_loss: 0.3503 - val_accuracy: 0.8302 - val_auc: 0.9477\n",
      "Epoch 2/10\n",
      "186/186 [==============================] - 2s 11ms/step - loss: 0.3116 - accuracy: 0.8683 - auc: 0.9385 - val_loss: 0.3070 - val_accuracy: 0.8676 - val_auc: 0.9543\n",
      "Epoch 3/10\n",
      "186/186 [==============================] - 2s 11ms/step - loss: 0.3108 - accuracy: 0.8725 - auc: 0.9383 - val_loss: 0.3687 - val_accuracy: 0.8403 - val_auc: 0.9555\n",
      "Epoch 4/10\n",
      "186/186 [==============================] - 2s 11ms/step - loss: 0.2911 - accuracy: 0.8786 - auc: 0.9461 - val_loss: 0.3083 - val_accuracy: 0.8696 - val_auc: 0.9578\n",
      "Epoch 5/10\n",
      "186/186 [==============================] - 2s 11ms/step - loss: 0.2902 - accuracy: 0.8792 - auc: 0.9466 - val_loss: 0.2641 - val_accuracy: 0.8924 - val_auc: 0.9578\n",
      "Epoch 6/10\n",
      "186/186 [==============================] - 2s 11ms/step - loss: 0.2617 - accuracy: 0.8924 - auc: 0.9567 - val_loss: 0.3209 - val_accuracy: 0.8626 - val_auc: 0.9590\n",
      "Epoch 7/10\n",
      "186/186 [==============================] - 2s 12ms/step - loss: 0.2623 - accuracy: 0.8890 - auc: 0.9565 - val_loss: 0.2551 - val_accuracy: 0.8989 - val_auc: 0.9596\n",
      "Epoch 8/10\n",
      "186/186 [==============================] - 2s 11ms/step - loss: 0.2567 - accuracy: 0.8973 - auc: 0.9581 - val_loss: 0.2939 - val_accuracy: 0.8782 - val_auc: 0.9607\n",
      "Epoch 9/10\n",
      "186/186 [==============================] - 2s 11ms/step - loss: 0.2435 - accuracy: 0.9015 - auc: 0.9626 - val_loss: 0.3526 - val_accuracy: 0.8479 - val_auc: 0.9587\n",
      "Epoch 10/10\n",
      "186/186 [==============================] - 2s 11ms/step - loss: 0.2203 - accuracy: 0.9101 - auc: 0.9694 - val_loss: 0.2438 - val_accuracy: 0.9005 - val_auc: 0.9634\n"
     ]
    },
    {
     "data": {
      "text/plain": [
       "<keras.callbacks.History at 0x347c20cd0>"
      ]
     },
     "execution_count": 166,
     "metadata": {},
     "output_type": "execute_result"
    }
   ],
   "source": [
    "def get_model():\n",
    "    model = tf.keras.Sequential()\n",
    "    # First convo-pooling\n",
    "    # Convolutional layers (filter the image with a kernel)\n",
    "    model.add(tf.keras.layers.Conv2D(32, (3, 3), activation=\"relu\", input_shape=[27, 27, 3]))\n",
    "    # Max-pooling layers (reduce the size of the image by choosing max pixel at certain area)\n",
    "    model.add(tf.keras.layers.MaxPool2D(pool_size=(2, 2)))\n",
    "    # Flatten input\n",
    "    model.add(tf.keras.layers.Flatten())\n",
    "\n",
    "    model.add(tf.keras.layers.Dense(128, activation=\"relu\"))\n",
    "    model.add(tf.keras.layers.Dense(32, activation=\"relu\"))\n",
    "    # Output layer\n",
    "    model.add(tf.keras.layers.Dense(1, activation=\"sigmoid\"))\n",
    "    # Compile model\n",
    "    model.compile(optimizer=\"adam\",\n",
    "                  loss=\"binary_crossentropy\",\n",
    "                  metrics=[\"accuracy\", \"AUC\"])\n",
    "    return model\n",
    "\n",
    "binary_model = get_model()\n",
    "binary_model.fit(x_train, y_train, epochs=10, validation_data=(x_val, y_val))"
   ]
  },
  {
   "cell_type": "code",
   "execution_count": 167,
   "id": "b812d279",
   "metadata": {},
   "outputs": [
    {
     "name": "stdout",
     "output_type": "stream",
     "text": [
      "              precision    recall  f1-score   support\n",
      "\n",
      "           0       0.90      0.90      0.90      1160\n",
      "           1       0.86      0.86      0.86       820\n",
      "\n",
      "    accuracy                           0.88      1980\n",
      "   macro avg       0.88      0.88      0.88      1980\n",
      "weighted avg       0.88      0.88      0.88      1980\n",
      "\n"
     ]
    },
    {
     "name": "stderr",
     "output_type": "stream",
     "text": [
      "2022-05-07 21:06:55.036117: I tensorflow/core/grappler/optimizers/custom_graph_optimizer_registry.cc:113] Plugin optimizer for device_type GPU is enabled.\n"
     ]
    }
   ],
   "source": [
    "binary_pred = binary_model.predict(x_test)\n",
    "binary_classification_report(y_test, binary_pred)"
   ]
  },
  {
   "cell_type": "markdown",
   "id": "8f833819",
   "metadata": {},
   "source": [
    "### CNN with ZCA whitening"
   ]
  },
  {
   "cell_type": "code",
   "execution_count": 168,
   "id": "85e2096c",
   "metadata": {},
   "outputs": [
    {
     "name": "stderr",
     "output_type": "stream",
     "text": [
      "/opt/homebrew/Caskroom/miniforge/base/envs/tensorflow/lib/python3.9/site-packages/keras_preprocessing/image/image_data_generator.py:337: UserWarning: This ImageDataGenerator specifies `zca_whitening`, which overrides setting of `featurewise_center`.\n",
      "  warnings.warn('This ImageDataGenerator specifies '\n"
     ]
    },
    {
     "name": "stdout",
     "output_type": "stream",
     "text": [
      "Epoch 1/10\n"
     ]
    },
    {
     "name": "stderr",
     "output_type": "stream",
     "text": [
      "2022-05-07 21:06:59.930672: I tensorflow/core/grappler/optimizers/custom_graph_optimizer_registry.cc:113] Plugin optimizer for device_type GPU is enabled.\n"
     ]
    },
    {
     "name": "stdout",
     "output_type": "stream",
     "text": [
      "186/186 [==============================] - ETA: 0s - loss: 0.4450 - accuracy: 0.7852 - auc: 0.8671"
     ]
    },
    {
     "name": "stderr",
     "output_type": "stream",
     "text": [
      "2022-05-07 21:07:15.732767: I tensorflow/core/grappler/optimizers/custom_graph_optimizer_registry.cc:113] Plugin optimizer for device_type GPU is enabled.\n"
     ]
    },
    {
     "name": "stdout",
     "output_type": "stream",
     "text": [
      "186/186 [==============================] - 20s 106ms/step - loss: 0.4450 - accuracy: 0.7852 - auc: 0.8671 - val_loss: 0.3196 - val_accuracy: 0.8636 - val_auc: 0.9387\n",
      "Epoch 2/10\n",
      "186/186 [==============================] - 20s 107ms/step - loss: 0.2857 - accuracy: 0.8821 - auc: 0.9480 - val_loss: 0.3155 - val_accuracy: 0.8732 - val_auc: 0.9443\n",
      "Epoch 3/10\n",
      "186/186 [==============================] - 19s 102ms/step - loss: 0.2349 - accuracy: 0.9062 - auc: 0.9649 - val_loss: 0.3167 - val_accuracy: 0.8615 - val_auc: 0.9430\n",
      "Epoch 4/10\n",
      "186/186 [==============================] - 20s 109ms/step - loss: 0.2174 - accuracy: 0.9121 - auc: 0.9698 - val_loss: 0.3205 - val_accuracy: 0.8671 - val_auc: 0.9423\n",
      "Epoch 5/10\n",
      "186/186 [==============================] - 20s 107ms/step - loss: 0.1769 - accuracy: 0.9308 - auc: 0.9804 - val_loss: 0.3338 - val_accuracy: 0.8631 - val_auc: 0.9381\n",
      "Epoch 6/10\n",
      "186/186 [==============================] - 19s 104ms/step - loss: 0.1703 - accuracy: 0.9355 - auc: 0.9813 - val_loss: 0.3366 - val_accuracy: 0.8711 - val_auc: 0.9413\n",
      "Epoch 7/10\n",
      "186/186 [==============================] - 18s 99ms/step - loss: 0.1214 - accuracy: 0.9545 - auc: 0.9908 - val_loss: 0.3921 - val_accuracy: 0.8595 - val_auc: 0.9329\n",
      "Epoch 8/10\n",
      "186/186 [==============================] - 17s 90ms/step - loss: 0.1211 - accuracy: 0.9495 - auc: 0.9908 - val_loss: 0.4694 - val_accuracy: 0.8449 - val_auc: 0.9279\n",
      "Epoch 9/10\n",
      "186/186 [==============================] - 19s 105ms/step - loss: 0.0978 - accuracy: 0.9646 - auc: 0.9936 - val_loss: 0.4576 - val_accuracy: 0.8595 - val_auc: 0.9271\n",
      "Epoch 10/10\n",
      "186/186 [==============================] - 21s 110ms/step - loss: 0.0864 - accuracy: 0.9677 - auc: 0.9951 - val_loss: 0.4869 - val_accuracy: 0.8585 - val_auc: 0.9276\n"
     ]
    },
    {
     "data": {
      "text/plain": [
       "<keras.callbacks.History at 0x347be3a00>"
      ]
     },
     "execution_count": 168,
     "metadata": {},
     "output_type": "execute_result"
    }
   ],
   "source": [
    "# get zca whitening data\n",
    "datagen = ImageDataGenerator(\n",
    "    zca_whitening=True,\n",
    ")\n",
    "datagen.fit(images)\n",
    "\n",
    "zca_aug_train = datagen.flow(x_train, y_train, shuffle=True)\n",
    "zca_aug_val = datagen.flow(x_val, y_val, shuffle=True)\n",
    "zca_aug_test = datagen.flow(x_test, y_test, shuffle=True)\n",
    "\n",
    "zca_binary = get_model()\n",
    "zca_binary.fit(zca_aug_train, epochs=10, validation_data=zca_aug_val)"
   ]
  },
  {
   "cell_type": "code",
   "execution_count": 179,
   "id": "8eb4cec3",
   "metadata": {},
   "outputs": [
    {
     "name": "stdout",
     "output_type": "stream",
     "text": [
      "              precision    recall  f1-score   support\n",
      "\n",
      "           0       0.90      0.95      0.92        19\n",
      "           1       0.92      0.85      0.88        13\n",
      "\n",
      "    accuracy                           0.91        32\n",
      "   macro avg       0.91      0.90      0.90        32\n",
      "weighted avg       0.91      0.91      0.91        32\n",
      "\n"
     ]
    },
    {
     "name": "stderr",
     "output_type": "stream",
     "text": [
      "2022-05-07 21:17:04.583017: I tensorflow/core/grappler/optimizers/custom_graph_optimizer_registry.cc:113] Plugin optimizer for device_type GPU is enabled.\n"
     ]
    }
   ],
   "source": [
    "aug_x, aug_y = zca_aug_test.next()\n",
    "zca_binary_pred = zca_binary.predict(aug_x)\n",
    "\n",
    "binary_classification_report(aug_y, zca_binary_pred)"
   ]
  },
  {
   "cell_type": "markdown",
   "id": "886dd6f9",
   "metadata": {},
   "source": [
    "### CNN with rotation"
   ]
  },
  {
   "cell_type": "code",
   "execution_count": 170,
   "id": "75a864a6",
   "metadata": {},
   "outputs": [
    {
     "name": "stdout",
     "output_type": "stream",
     "text": [
      "Epoch 1/10\n"
     ]
    },
    {
     "name": "stderr",
     "output_type": "stream",
     "text": [
      "2022-05-07 21:10:15.130412: I tensorflow/core/grappler/optimizers/custom_graph_optimizer_registry.cc:113] Plugin optimizer for device_type GPU is enabled.\n"
     ]
    },
    {
     "name": "stdout",
     "output_type": "stream",
     "text": [
      "181/186 [============================>.] - ETA: 0s - loss: 0.4712 - accuracy: 0.7724 - auc: 0.8526"
     ]
    },
    {
     "name": "stderr",
     "output_type": "stream",
     "text": [
      "2022-05-07 21:10:17.661288: I tensorflow/core/grappler/optimizers/custom_graph_optimizer_registry.cc:113] Plugin optimizer for device_type GPU is enabled.\n"
     ]
    },
    {
     "name": "stdout",
     "output_type": "stream",
     "text": [
      "186/186 [==============================] - 3s 16ms/step - loss: 0.4696 - accuracy: 0.7733 - auc: 0.8538 - val_loss: 0.4608 - val_accuracy: 0.7772 - val_auc: 0.9441\n",
      "Epoch 2/10\n",
      "186/186 [==============================] - 2s 12ms/step - loss: 0.3332 - accuracy: 0.8615 - auc: 0.9292 - val_loss: 0.2932 - val_accuracy: 0.8742 - val_auc: 0.9481\n",
      "Epoch 3/10\n",
      "186/186 [==============================] - 2s 11ms/step - loss: 0.3280 - accuracy: 0.8604 - auc: 0.9315 - val_loss: 0.3173 - val_accuracy: 0.8686 - val_auc: 0.9490\n",
      "Epoch 4/10\n",
      "186/186 [==============================] - 2s 11ms/step - loss: 0.3114 - accuracy: 0.8678 - auc: 0.9383 - val_loss: 0.3080 - val_accuracy: 0.8732 - val_auc: 0.9517\n",
      "Epoch 5/10\n",
      "186/186 [==============================] - 2s 11ms/step - loss: 0.3049 - accuracy: 0.8717 - auc: 0.9410 - val_loss: 0.3060 - val_accuracy: 0.8686 - val_auc: 0.9530\n",
      "Epoch 6/10\n",
      "186/186 [==============================] - 2s 11ms/step - loss: 0.2989 - accuracy: 0.8757 - auc: 0.9431 - val_loss: 0.2872 - val_accuracy: 0.8807 - val_auc: 0.9497\n",
      "Epoch 7/10\n",
      "186/186 [==============================] - 2s 11ms/step - loss: 0.2919 - accuracy: 0.8789 - auc: 0.9461 - val_loss: 0.2805 - val_accuracy: 0.8868 - val_auc: 0.9554\n",
      "Epoch 8/10\n",
      "186/186 [==============================] - 2s 11ms/step - loss: 0.2924 - accuracy: 0.8789 - auc: 0.9458 - val_loss: 0.2900 - val_accuracy: 0.8737 - val_auc: 0.9550\n",
      "Epoch 9/10\n",
      "186/186 [==============================] - 2s 11ms/step - loss: 0.2843 - accuracy: 0.8841 - auc: 0.9487 - val_loss: 0.3441 - val_accuracy: 0.8494 - val_auc: 0.9569\n",
      "Epoch 10/10\n",
      "186/186 [==============================] - 2s 11ms/step - loss: 0.2931 - accuracy: 0.8802 - auc: 0.9454 - val_loss: 0.2664 - val_accuracy: 0.8878 - val_auc: 0.9556\n"
     ]
    },
    {
     "data": {
      "text/plain": [
       "<keras.callbacks.History at 0x374817940>"
      ]
     },
     "execution_count": 170,
     "metadata": {},
     "output_type": "execute_result"
    }
   ],
   "source": [
    "# get rotation data\n",
    "datagen = ImageDataGenerator(\n",
    "    rotation_range=45,\n",
    ")\n",
    "datagen.fit(images)\n",
    "\n",
    "aug_train = datagen.flow(x_train, y_train, shuffle=True)\n",
    "aug_val = datagen.flow(x_val, y_val, shuffle=True)\n",
    "aug_test = datagen.flow(x_test, y_test, shuffle=True)\n",
    "\n",
    "rotation_binary = get_model()\n",
    "rotation_binary.fit(aug_train, epochs=10, validation_data=aug_val)"
   ]
  },
  {
   "cell_type": "code",
   "execution_count": 171,
   "id": "1f4472be",
   "metadata": {},
   "outputs": [
    {
     "name": "stdout",
     "output_type": "stream",
     "text": [
      "              precision    recall  f1-score   support\n",
      "\n",
      "           0       0.86      0.95      0.90        20\n",
      "           1       0.90      0.75      0.82        12\n",
      "\n",
      "    accuracy                           0.88        32\n",
      "   macro avg       0.88      0.85      0.86        32\n",
      "weighted avg       0.88      0.88      0.87        32\n",
      "\n"
     ]
    },
    {
     "name": "stderr",
     "output_type": "stream",
     "text": [
      "2022-05-07 21:10:37.606109: I tensorflow/core/grappler/optimizers/custom_graph_optimizer_registry.cc:113] Plugin optimizer for device_type GPU is enabled.\n"
     ]
    }
   ],
   "source": [
    "aug_x, aug_y = aug_test.next()\n",
    "rotation_pred = rotation_binary.predict(aug_x)\n",
    "binary_classification_report(aug_y, rotation_pred)"
   ]
  },
  {
   "cell_type": "markdown",
   "id": "5f6888d1",
   "metadata": {},
   "source": [
    "### Tune CNN model\n",
    "\n",
    "**Parameters that affect the output of models:**\n",
    "- Size of kernel of Convolution/Pooling Layers\n",
    "- Strides of Convolution/Pooling Layers\n",
    "- Activation function\n",
    "\n",
    "**Other aspects that would affect the output of models**\n",
    "- Number of Convolution/Pooling layers\n",
    "- Number of hidden layer\n",
    "\n",
    "**Method of tuning**: for this problem, the tuning being applied is RandomSearch as there are many combinations to adjust the model. The tuning progress would be carried out both manually and by using keras tuner"
   ]
  },
  {
   "cell_type": "code",
   "execution_count": 172,
   "id": "2edb288b",
   "metadata": {},
   "outputs": [
    {
     "name": "stdout",
     "output_type": "stream",
     "text": [
      "INFO:tensorflow:Reloading Oracle from existing project ./untitled_project/oracle.json\n",
      "INFO:tensorflow:Reloading Tuner from ./untitled_project/tuner0.json\n",
      "INFO:tensorflow:Oracle triggered exit\n",
      "WARNING:tensorflow:Detecting that an object or model or tf.train.Checkpoint is being deleted with unrestored values. See the following logs for the specific values in question. To silence these warnings, use `status.expect_partial()`. See https://www.tensorflow.org/api_docs/python/tf/train/Checkpoint#restorefor details about the status object returned by the restore function.\n",
      "WARNING:tensorflow:Value in checkpoint could not be found in the restored object: (root).optimizer.iter\n",
      "WARNING:tensorflow:Value in checkpoint could not be found in the restored object: (root).optimizer.beta_1\n",
      "WARNING:tensorflow:Value in checkpoint could not be found in the restored object: (root).optimizer.beta_2\n",
      "WARNING:tensorflow:Value in checkpoint could not be found in the restored object: (root).optimizer.decay\n",
      "WARNING:tensorflow:Value in checkpoint could not be found in the restored object: (root).optimizer.learning_rate\n"
     ]
    }
   ],
   "source": [
    "def cnn_tuner(hp):\n",
    "    model = tf.keras.Sequential()\n",
    "\n",
    "    for i in range(hp.Int(f'no_cnn', 1, 4, step=1)):\n",
    "        # Convolutional layers (filter the image with a kernel)\n",
    "        model.add(tf.keras.layers.Conv2D(hp.Int(f'convo_filter_{i}', 16, 128, step=16), (3, 3), strides=1,activation=hp.Choice(f\"activation_convo_{i}\", [\"relu\", \"sigmoid\", \"softmax\", \"tanh\"]), input_shape=[27, 27, 3]))\n",
    "        # Max-pooling layers (reduce the size of the image by choosing max pixel at certain area)\n",
    "        model.add(tf.keras.layers.MaxPool2D(pool_size=(2, 2), strides=1,))\n",
    "        \n",
    "    # Flatten input\n",
    "    model.add(tf.keras.layers.Flatten())\n",
    "\n",
    "    # hidden layers\n",
    "    for i in range(hp.Int('layers_no', 1, 4)):\n",
    "        model.add(tf.keras.layers.Dense(hp.Int(f'hidden_layer_{i}', 32, 256, step=32), activation=hp.Choice(f\"activation_hidden_{i}\", [\"relu\", \"sigmoid\", \"softmax\", \"tanh\"])))\n",
    "        \n",
    "    # output layer\n",
    "    model.add(tf.keras.layers.Dense(1, activation=\"sigmoid\"))   \n",
    "    # Compile model\n",
    "    model.compile(optimizer=\"adam\",\n",
    "                  loss=\"binary_crossentropy\",\n",
    "                  metrics=[\"accuracy\", \"AUC\"])\n",
    "    \n",
    "    return model\n",
    "              \n",
    "tuner = kt.RandomSearch(cnn_tuner, objective=\"val_accuracy\", max_trials=5)\n",
    "\n",
    "tuner.search(x_train, y_train, epochs=5, validation_data=(x_val, y_val))\n",
    "best_model = tuner.get_best_models()[0]"
   ]
  },
  {
   "cell_type": "code",
   "execution_count": 173,
   "id": "075833c5",
   "metadata": {},
   "outputs": [
    {
     "name": "stdout",
     "output_type": "stream",
     "text": [
      "Best number of CNN layer: 4\n",
      "Best number of hidden layer: 2\n",
      "Best filter in CNN layer 0: 32\n",
      "Best activation in CNN layer 0: relu\n",
      "Best filter in CNN layer 1: 48\n",
      "Best activation in CNN layer 1: relu\n",
      "Best filter in CNN layer 2: 16\n",
      "Best activation in CNN layer 2: relu\n",
      "Best filter in CNN layer 3: 16\n",
      "Best activation in CNN layer 3: relu\n",
      "Best nodes in hidden layer 0: 192\n",
      "Best activation in hidden layer 0: relu\n",
      "Best nodes in hidden layer 1: 128\n",
      "Best activation in hidden layer 1: sigmoid\n"
     ]
    }
   ],
   "source": [
    "# print(f\"Best Convolution filter: {tuner.get_best_hyperparameters()[0].get('convo_filter')}\")\n",
    "print(f\"Best number of CNN layer: {tuner.get_best_hyperparameters()[0].get('no_cnn')}\")\n",
    "print(f\"Best number of hidden layer: {tuner.get_best_hyperparameters()[0].get('layers_no')}\")\n",
    "\n",
    "for i in range(tuner.get_best_hyperparameters()[0].get('no_cnn')):\n",
    "    print(f\"Best filter in CNN layer {i}: {tuner.get_best_hyperparameters()[0].get(f'convo_filter_{i}')}\")\n",
    "    print(f\"Best activation in CNN layer {i}: {tuner.get_best_hyperparameters()[0].get(f'activation_convo_{i}')}\")\n",
    "\n",
    "for i in range(tuner.get_best_hyperparameters()[0].get('layers_no')):\n",
    "    print(f\"Best nodes in hidden layer {i}: {tuner.get_best_hyperparameters()[0].get(f'hidden_layer_{i}')}\")\n",
    "    print(f\"Best activation in hidden layer {i}: {tuner.get_best_hyperparameters()[0].get(f'activation_hidden_{i}')}\")"
   ]
  },
  {
   "cell_type": "code",
   "execution_count": 174,
   "id": "01340ba4",
   "metadata": {},
   "outputs": [
    {
     "name": "stdout",
     "output_type": "stream",
     "text": [
      "Epoch 1/10\n"
     ]
    },
    {
     "name": "stderr",
     "output_type": "stream",
     "text": [
      "2022-05-07 21:10:39.267139: I tensorflow/core/grappler/optimizers/custom_graph_optimizer_registry.cc:113] Plugin optimizer for device_type GPU is enabled.\n"
     ]
    },
    {
     "name": "stdout",
     "output_type": "stream",
     "text": [
      "186/186 [==============================] - ETA: 0s - loss: 0.2843 - accuracy: 0.8807 - auc: 0.9489"
     ]
    },
    {
     "name": "stderr",
     "output_type": "stream",
     "text": [
      "2022-05-07 21:10:43.089026: I tensorflow/core/grappler/optimizers/custom_graph_optimizer_registry.cc:113] Plugin optimizer for device_type GPU is enabled.\n"
     ]
    },
    {
     "name": "stdout",
     "output_type": "stream",
     "text": [
      "186/186 [==============================] - 5s 23ms/step - loss: 0.2843 - accuracy: 0.8807 - auc: 0.9489 - val_loss: 0.3276 - val_accuracy: 0.8581 - val_auc: 0.9467\n",
      "Epoch 2/10\n",
      "186/186 [==============================] - 3s 16ms/step - loss: 0.2809 - accuracy: 0.8841 - auc: 0.9499 - val_loss: 0.3613 - val_accuracy: 0.8444 - val_auc: 0.9490\n",
      "Epoch 3/10\n",
      "186/186 [==============================] - 3s 15ms/step - loss: 0.2823 - accuracy: 0.8851 - auc: 0.9493 - val_loss: 0.2887 - val_accuracy: 0.8753 - val_auc: 0.9511\n",
      "Epoch 4/10\n",
      "186/186 [==============================] - 3s 15ms/step - loss: 0.2687 - accuracy: 0.8856 - auc: 0.9542 - val_loss: 0.3014 - val_accuracy: 0.8737 - val_auc: 0.9557\n",
      "Epoch 5/10\n",
      "186/186 [==============================] - 3s 15ms/step - loss: 0.2834 - accuracy: 0.8786 - auc: 0.9492 - val_loss: 0.2581 - val_accuracy: 0.8995 - val_auc: 0.9578\n",
      "Epoch 6/10\n",
      "186/186 [==============================] - 3s 15ms/step - loss: 0.2731 - accuracy: 0.8866 - auc: 0.9528 - val_loss: 0.2661 - val_accuracy: 0.8848 - val_auc: 0.9558\n",
      "Epoch 7/10\n",
      "186/186 [==============================] - 3s 15ms/step - loss: 0.2431 - accuracy: 0.8981 - auc: 0.9628 - val_loss: 0.2641 - val_accuracy: 0.8919 - val_auc: 0.9578\n",
      "Epoch 8/10\n",
      "186/186 [==============================] - 3s 15ms/step - loss: 0.2523 - accuracy: 0.8947 - auc: 0.9596 - val_loss: 0.2623 - val_accuracy: 0.8980 - val_auc: 0.9572\n",
      "Epoch 9/10\n",
      "186/186 [==============================] - 3s 15ms/step - loss: 0.2571 - accuracy: 0.8935 - auc: 0.9580 - val_loss: 0.2603 - val_accuracy: 0.8934 - val_auc: 0.9581\n",
      "Epoch 10/10\n",
      "186/186 [==============================] - 3s 15ms/step - loss: 0.2558 - accuracy: 0.8903 - auc: 0.9587 - val_loss: 0.2783 - val_accuracy: 0.8854 - val_auc: 0.9571\n"
     ]
    },
    {
     "data": {
      "text/plain": [
       "<keras.callbacks.History at 0x347c0f160>"
      ]
     },
     "execution_count": 174,
     "metadata": {},
     "output_type": "execute_result"
    }
   ],
   "source": [
    "best_model.fit(x_train, y_train, epochs=10, validation_data=(x_test, y_test))"
   ]
  },
  {
   "cell_type": "code",
   "execution_count": 175,
   "id": "f1b1a51c",
   "metadata": {},
   "outputs": [
    {
     "name": "stderr",
     "output_type": "stream",
     "text": [
      "2022-05-07 21:11:09.286824: I tensorflow/core/grappler/optimizers/custom_graph_optimizer_registry.cc:113] Plugin optimizer for device_type GPU is enabled.\n"
     ]
    },
    {
     "name": "stdout",
     "output_type": "stream",
     "text": [
      "              precision    recall  f1-score   support\n",
      "\n",
      "           0       0.92      0.88      0.90      1160\n",
      "           1       0.84      0.90      0.87       820\n",
      "\n",
      "    accuracy                           0.89      1980\n",
      "   macro avg       0.88      0.89      0.88      1980\n",
      "weighted avg       0.89      0.89      0.89      1980\n",
      "\n"
     ]
    }
   ],
   "source": [
    "binary_tuned_pred = best_model.predict(x_test)\n",
    "binary_classification_report(y_test, binary_tuned_pred)"
   ]
  },
  {
   "cell_type": "markdown",
   "id": "63e5992e",
   "metadata": {},
   "source": [
    "### Ensemble model"
   ]
  },
  {
   "cell_type": "code",
   "execution_count": 195,
   "id": "2bc84924",
   "metadata": {},
   "outputs": [],
   "source": [
    "# intialize and train sub-models\n",
    "def get_sub_model():\n",
    "    # number of sub models\n",
    "    nets = 5\n",
    "    sub_models = [0]*nets\n",
    "    model_path = os.path.join(root, \"binary_submodels\")\n",
    "    \n",
    "    if not path.exists(model_path) or len(os.listdir(model_path))!=nets:\n",
    "        for i in range(nets):\n",
    "            model = get_model()\n",
    "            # fit sub_model with train and test data\n",
    "            model.fit(x_train, y_train, epochs=5, validation_data=(x_val, y_val))\n",
    "            # save fitted sub_model to model list\n",
    "            sub_models[i] = model\n",
    "            \n",
    "            # new file dir\n",
    "            new_dir = os.path.join(model_path, f'submodel_{i}.h5')\n",
    "            # save model to file\n",
    "            model.save(new_dir)\n",
    "        return sub_models\n",
    "    else:\n",
    "        for i in range(nets):\n",
    "            sub_models[i]=keras.models.load_model(os.path.join(model_path, f'submodel_{i}.h5'))\n",
    "        \n",
    "        return sub_models\n",
    "    \n",
    "sub_models = get_sub_model()"
   ]
  },
  {
   "cell_type": "code",
   "execution_count": 199,
   "id": "e90d20eb",
   "metadata": {},
   "outputs": [],
   "source": [
    "# method to get output from submodels to feed meta_learner\n",
    "# shape of dataset would be (no rows of OG dataset, [no output of sub model * no sub model])\n",
    "def get_ensembled_x(x):\n",
    "    ensembled_data = None\n",
    "    for sub_model in sub_models:\n",
    "        prediction = sub_model.predict(x)\n",
    "        \n",
    "        # stack prediction of sub model to ensembled data\n",
    "        if ensembled_data is None:\n",
    "            ensembled_data = prediction\n",
    "        else:\n",
    "            ensembled_data = np.dstack((ensembled_data, prediction))\n",
    "            \n",
    "    # ensemble data initially shape iz (no_col, no submodels, no classes)        \n",
    "    # reshape to (no_col, no submodels*no classes)\n",
    "    ensembled_data = ensembled_data.reshape(ensembled_data.shape[0], ensembled_data.shape[1]*ensembled_data.shape[2])\n",
    "    return ensembled_data\n",
    "\n",
    "def get_meta_learner():\n",
    "    model = tf.keras.Sequential()\n",
    "    # Flatten input\n",
    "    model.add(tf.keras.layers.Flatten())\n",
    "    # Hidden layers\n",
    "    model.add(tf.keras.layers.Dense(256, activation=\"tanh\"))\n",
    "    model.add(tf.keras.layers.Dense(128, activation=\"softmax\"))\n",
    "    model.add(tf.keras.layers.Dense(32, activation=\"relu\"))\n",
    "    # Output layer\n",
    "    model.add(tf.keras.layers.Dense(1, activation=\"sigmoid\"))\n",
    "    # Compile model\n",
    "    model.compile(optimizer=\"adam\",\n",
    "                  loss=\"binary_crossentropy\",\n",
    "                  metrics=[\"accuracy\", \"AUC\"])\n",
    "    \n",
    "    # get train ensembled data\n",
    "    ensembled_x = get_ensembled_x(x_train)\n",
    "    \n",
    "    model.fit(ensembled_x, y_train, epochs=10)\n",
    "    return model "
   ]
  },
  {
   "cell_type": "code",
   "execution_count": 200,
   "id": "9b341ecb",
   "metadata": {},
   "outputs": [
    {
     "name": "stdout",
     "output_type": "stream",
     "text": [
      "Epoch 1/10\n"
     ]
    },
    {
     "name": "stderr",
     "output_type": "stream",
     "text": [
      "2022-05-07 21:24:04.286759: I tensorflow/core/grappler/optimizers/custom_graph_optimizer_registry.cc:113] Plugin optimizer for device_type GPU is enabled.\n"
     ]
    },
    {
     "name": "stdout",
     "output_type": "stream",
     "text": [
      "248/248 [==============================] - 3s 9ms/step - loss: 0.4300 - accuracy: 0.8643 - auc: 0.9162\n",
      "Epoch 2/10\n",
      "248/248 [==============================] - 2s 9ms/step - loss: 0.2533 - accuracy: 0.8996 - auc: 0.9598\n",
      "Epoch 3/10\n",
      "248/248 [==============================] - 2s 8ms/step - loss: 0.2489 - accuracy: 0.8968 - auc: 0.9613\n",
      "Epoch 4/10\n",
      "248/248 [==============================] - 2s 9ms/step - loss: 0.2470 - accuracy: 0.9007 - auc: 0.9620\n",
      "Epoch 5/10\n",
      "248/248 [==============================] - 2s 8ms/step - loss: 0.2454 - accuracy: 0.9005 - auc: 0.9621\n",
      "Epoch 6/10\n",
      "248/248 [==============================] - 2s 9ms/step - loss: 0.2456 - accuracy: 0.8996 - auc: 0.9619\n",
      "Epoch 7/10\n",
      "248/248 [==============================] - 2s 9ms/step - loss: 0.2447 - accuracy: 0.8998 - auc: 0.9623\n",
      "Epoch 8/10\n",
      "248/248 [==============================] - 2s 9ms/step - loss: 0.2438 - accuracy: 0.9002 - auc: 0.9623\n",
      "Epoch 9/10\n",
      "248/248 [==============================] - 2s 9ms/step - loss: 0.2436 - accuracy: 0.8982 - auc: 0.9626\n",
      "Epoch 10/10\n",
      "248/248 [==============================] - 2s 9ms/step - loss: 0.2441 - accuracy: 0.8993 - auc: 0.9621\n",
      " 1/62 [..............................] - ETA: 14s - loss: 0.1049 - accuracy: 0.9688 - auc: 0.9957"
     ]
    },
    {
     "name": "stderr",
     "output_type": "stream",
     "text": [
      "2022-05-07 21:24:26.392564: I tensorflow/core/grappler/optimizers/custom_graph_optimizer_registry.cc:113] Plugin optimizer for device_type GPU is enabled.\n"
     ]
    },
    {
     "name": "stdout",
     "output_type": "stream",
     "text": [
      "62/62 [==============================] - 1s 9ms/step - loss: 0.2392 - accuracy: 0.9051 - auc: 0.9641\n"
     ]
    },
    {
     "data": {
      "text/plain": [
       "[0.2392214834690094, 0.90505051612854, 0.9640738368034363]"
      ]
     },
     "execution_count": 200,
     "metadata": {},
     "output_type": "execute_result"
    }
   ],
   "source": [
    "# evaluate with ensembled CNN model\n",
    "# get test data\n",
    "ensembled_x_test = get_ensembled_x(x_test)\n",
    "# get trained ensemble model\n",
    "ensembled_model = get_meta_learner()"
   ]
  },
  {
   "cell_type": "code",
   "execution_count": 202,
   "id": "43caeba6",
   "metadata": {},
   "outputs": [
    {
     "name": "stdout",
     "output_type": "stream",
     "text": [
      "              precision    recall  f1-score   support\n",
      "\n",
      "           0       0.91      0.94      0.92      1177\n",
      "           1       0.90      0.86      0.88       803\n",
      "\n",
      "    accuracy                           0.91      1980\n",
      "   macro avg       0.90      0.90      0.90      1980\n",
      "weighted avg       0.91      0.91      0.90      1980\n",
      "\n"
     ]
    }
   ],
   "source": [
    "# evaluate\n",
    "ensemble_pred = ensembled_model.predict(ensembled_x_test)\n",
    "binary_classification_report(y_test, ensemble_pred)"
   ]
  },
  {
   "cell_type": "markdown",
   "id": "4b8319ef",
   "metadata": {},
   "source": [
    "## II) Task 2 - Multiclasses classification\n"
   ]
  },
  {
   "cell_type": "markdown",
   "id": "50aacf33",
   "metadata": {},
   "source": [
    "### Load data for multiclasses"
   ]
  },
  {
   "cell_type": "code",
   "execution_count": 301,
   "id": "40e48c0b",
   "metadata": {},
   "outputs": [],
   "source": [
    "all_class = [\"epithelial\", \"fibroblast\", \"inflammatory\", \"others\"]\n",
    "\n",
    "\n",
    "cell_img, celltype_label = celltype_classify_data(all_class)\n",
    "cell_img, celltype_label = np.array(cell_img), np.array(celltype_label)\n",
    "\n",
    "x_train_val, x_test, y_train_val, y_test = train_test_split(\n",
    "    cell_img, celltype_label, test_size=0.2\n",
    ")\n",
    "\n",
    "x_train, x_val, y_train, y_val = train_test_split(\n",
    "    x_train_val, y_train_val, test_size=0.25\n",
    ")"
   ]
  },
  {
   "cell_type": "markdown",
   "id": "77393f00",
   "metadata": {},
   "source": [
    "### Base model for multiclass  "
   ]
  },
  {
   "cell_type": "code",
   "execution_count": 204,
   "id": "a3409180",
   "metadata": {
    "scrolled": true
   },
   "outputs": [
    {
     "data": {
      "image/png": "[encoded data removed]",
      "text/plain": [
       "<Figure size 720x720 with 25 Axes>"
      ]
     },
     "metadata": {},
     "output_type": "display_data"
    },
    {
     "name": "stdout",
     "output_type": "stream",
     "text": [
      "Epoch 1/15\n"
     ]
    },
    {
     "name": "stderr",
     "output_type": "stream",
     "text": [
      "2022-05-07 21:27:34.289126: I tensorflow/core/grappler/optimizers/custom_graph_optimizer_registry.cc:113] Plugin optimizer for device_type GPU is enabled.\n"
     ]
    },
    {
     "name": "stdout",
     "output_type": "stream",
     "text": [
      "198/198 [==============================] - ETA: 0s - loss: 1.0832 - accuracy: 0.5540"
     ]
    },
    {
     "name": "stderr",
     "output_type": "stream",
     "text": [
      "2022-05-07 21:27:37.599745: I tensorflow/core/grappler/optimizers/custom_graph_optimizer_registry.cc:113] Plugin optimizer for device_type GPU is enabled.\n"
     ]
    },
    {
     "name": "stdout",
     "output_type": "stream",
     "text": [
      "198/198 [==============================] - 4s 18ms/step - loss: 1.0832 - accuracy: 0.5540 - val_loss: 0.8623 - val_accuracy: 0.6540\n",
      "Epoch 2/15\n",
      "198/198 [==============================] - 3s 15ms/step - loss: 0.8638 - accuracy: 0.6622 - val_loss: 0.7673 - val_accuracy: 0.7058\n",
      "Epoch 3/15\n",
      "198/198 [==============================] - 3s 15ms/step - loss: 0.8277 - accuracy: 0.6788 - val_loss: 0.7259 - val_accuracy: 0.7191\n",
      "Epoch 4/15\n",
      "198/198 [==============================] - 3s 15ms/step - loss: 0.7876 - accuracy: 0.6952 - val_loss: 0.6952 - val_accuracy: 0.7292\n",
      "Epoch 5/15\n",
      "198/198 [==============================] - 3s 15ms/step - loss: 0.7770 - accuracy: 0.6982 - val_loss: 0.7239 - val_accuracy: 0.7292\n",
      "Epoch 6/15\n",
      "198/198 [==============================] - 3s 15ms/step - loss: 0.6956 - accuracy: 0.7206 - val_loss: 0.7465 - val_accuracy: 0.7008\n",
      "Epoch 7/15\n",
      "198/198 [==============================] - 3s 15ms/step - loss: 0.6767 - accuracy: 0.7339 - val_loss: 0.6681 - val_accuracy: 0.7443\n",
      "Epoch 8/15\n",
      "198/198 [==============================] - 3s 15ms/step - loss: 0.6463 - accuracy: 0.7478 - val_loss: 0.6591 - val_accuracy: 0.7481\n",
      "Epoch 9/15\n",
      "198/198 [==============================] - 3s 15ms/step - loss: 0.6141 - accuracy: 0.7547 - val_loss: 0.7897 - val_accuracy: 0.7033\n",
      "Epoch 10/15\n",
      "198/198 [==============================] - 3s 15ms/step - loss: 0.5800 - accuracy: 0.7754 - val_loss: 0.6507 - val_accuracy: 0.7487\n",
      "Epoch 11/15\n",
      "198/198 [==============================] - 3s 15ms/step - loss: 0.5196 - accuracy: 0.8051 - val_loss: 0.6429 - val_accuracy: 0.7614\n",
      "Epoch 12/15\n",
      "198/198 [==============================] - 3s 15ms/step - loss: 0.5099 - accuracy: 0.8053 - val_loss: 0.7031 - val_accuracy: 0.7475\n",
      "Epoch 13/15\n",
      "198/198 [==============================] - 3s 15ms/step - loss: 0.4396 - accuracy: 0.8337 - val_loss: 0.7204 - val_accuracy: 0.7462\n",
      "Epoch 14/15\n",
      "198/198 [==============================] - 3s 15ms/step - loss: 0.3805 - accuracy: 0.8575 - val_loss: 0.8105 - val_accuracy: 0.7216\n",
      "Epoch 15/15\n",
      "198/198 [==============================] - 3s 15ms/step - loss: 0.3375 - accuracy: 0.8770 - val_loss: 0.9266 - val_accuracy: 0.7304\n"
     ]
    },
    {
     "data": {
      "text/plain": [
       "<keras.callbacks.History at 0x3e9d55d00>"
      ]
     },
     "execution_count": 204,
     "metadata": {},
     "output_type": "execute_result"
    }
   ],
   "source": [
    "\n",
    "# print first 25 images\n",
    "plt.figure(figsize=(10,10))\n",
    "for i in range(25):\n",
    "    plt.subplot(5,5,i+1)\n",
    "    plt.xticks([])\n",
    "    plt.yticks([])\n",
    "    plt.grid(False)\n",
    "    plt.imshow(x_train[i], cmap=plt.cm.binary)\n",
    "    plt.xlabel(all_class[y_train[i]])\n",
    "plt.show()\n",
    "\n",
    "def get_multiclass_model():\n",
    "    model = tf.keras.Sequential()\n",
    "    # First convo-pooling\n",
    "    # Convolutional layers (filter the image with a kernel)\n",
    "    model.add(tf.keras.layers.Conv2D(64, (3, 3), strides=1,activation=\"relu\", input_shape=[27, 27, 3]))\n",
    "    # Max-pooling layers (reduce the size of the image by choosing max pixel at certain area)\n",
    "    model.add(tf.keras.layers.MaxPool2D(pool_size=(2, 2), strides=1))\n",
    "    \n",
    "    # Second convo-pooling\n",
    "    # Convolutional layers (filter the image with a kernel)\n",
    "    model.add(tf.keras.layers.Conv2D(64, (3, 3),strides=1, activation=\"relu\"))\n",
    "    # Max-pooling layers (reduce the size of the image by choosing max pixel at certain area)\n",
    "    model.add(tf.keras.layers.MaxPool2D(pool_size=(2, 2),strides=1))\n",
    "    \n",
    "    # Flatten input\n",
    "    model.add(tf.keras.layers.Flatten())\n",
    "    model.add(tf.keras.layers.Dense(256, activation=\"relu\"))\n",
    "    model.add(tf.keras.layers.Dense(128, activation=\"relu\"))\n",
    "    model.add(tf.keras.layers.Dense(32, activation=\"relu\"))\n",
    "    # Output layer\n",
    "    model.add(tf.keras.layers.Dense(4, activation=\"softmax\"))\n",
    "    # Compile model \n",
    "    model.compile(optimizer=\"adam\",\n",
    "                  loss=\"sparse_categorical_crossentropy\",\n",
    "                  metrics=[\"accuracy\"])\n",
    "    \n",
    "    return model\n",
    "\n",
    "multi_model = get_multiclass_model()\n",
    "multi_model.fit(x_train, y_train, epochs=15, validation_data=(x_val, y_val))"
   ]
  },
  {
   "cell_type": "code",
   "execution_count": 205,
   "id": "b7bc81c2",
   "metadata": {},
   "outputs": [
    {
     "name": "stderr",
     "output_type": "stream",
     "text": [
      "2022-05-07 21:28:39.283254: I tensorflow/core/grappler/optimizers/custom_graph_optimizer_registry.cc:113] Plugin optimizer for device_type GPU is enabled.\n"
     ]
    },
    {
     "name": "stdout",
     "output_type": "stream",
     "text": [
      "              precision    recall  f1-score   support\n",
      "\n",
      "           0       0.83      0.90      0.86       836\n",
      "           1       0.69      0.49      0.57       385\n",
      "           2       0.63      0.77      0.70       468\n",
      "           3       0.55      0.44      0.49       291\n",
      "\n",
      "    accuracy                           0.72      1980\n",
      "   macro avg       0.68      0.65      0.65      1980\n",
      "weighted avg       0.71      0.72      0.71      1980\n",
      "\n"
     ]
    }
   ],
   "source": [
    "multi_pred = multi_model.predict(x_test)\n",
    "multiclass_classification_report(y_test, multi_pred)"
   ]
  },
  {
   "cell_type": "markdown",
   "id": "d59cfe83",
   "metadata": {},
   "source": [
    "### Base CNN + ZCA whitening"
   ]
  },
  {
   "cell_type": "code",
   "execution_count": 206,
   "id": "9d5d5373",
   "metadata": {
    "scrolled": true
   },
   "outputs": [
    {
     "name": "stderr",
     "output_type": "stream",
     "text": [
      "/opt/homebrew/Caskroom/miniforge/base/envs/tensorflow/lib/python3.9/site-packages/keras_preprocessing/image/image_data_generator.py:337: UserWarning: This ImageDataGenerator specifies `zca_whitening`, which overrides setting of `featurewise_center`.\n",
      "  warnings.warn('This ImageDataGenerator specifies '\n"
     ]
    },
    {
     "name": "stdout",
     "output_type": "stream",
     "text": [
      "Epoch 1/10\n"
     ]
    },
    {
     "name": "stderr",
     "output_type": "stream",
     "text": [
      "2022-05-07 21:29:04.558949: I tensorflow/core/grappler/optimizers/custom_graph_optimizer_registry.cc:113] Plugin optimizer for device_type GPU is enabled.\n"
     ]
    },
    {
     "name": "stdout",
     "output_type": "stream",
     "text": [
      "197/198 [============================>.] - ETA: 0s - loss: 1.3599 - accuracy: 0.4086"
     ]
    },
    {
     "name": "stderr",
     "output_type": "stream",
     "text": [
      "2022-05-07 21:29:19.869110: I tensorflow/core/grappler/optimizers/custom_graph_optimizer_registry.cc:113] Plugin optimizer for device_type GPU is enabled.\n"
     ]
    },
    {
     "name": "stdout",
     "output_type": "stream",
     "text": [
      "198/198 [==============================] - 19s 92ms/step - loss: 1.3598 - accuracy: 0.4086 - val_loss: 1.3125 - val_accuracy: 0.4066\n",
      "Epoch 2/10\n",
      "198/198 [==============================] - 19s 97ms/step - loss: 1.3059 - accuracy: 0.4105 - val_loss: 1.3146 - val_accuracy: 0.4066\n",
      "Epoch 3/10\n",
      "198/198 [==============================] - 19s 95ms/step - loss: 1.3058 - accuracy: 0.4105 - val_loss: 1.3110 - val_accuracy: 0.4066\n",
      "Epoch 4/10\n",
      "198/198 [==============================] - 17s 88ms/step - loss: 1.3058 - accuracy: 0.4105 - val_loss: 1.3103 - val_accuracy: 0.4066\n",
      "Epoch 5/10\n",
      "198/198 [==============================] - 17s 88ms/step - loss: 1.3056 - accuracy: 0.4105 - val_loss: 1.3099 - val_accuracy: 0.4066\n",
      "Epoch 6/10\n",
      "198/198 [==============================] - 18s 91ms/step - loss: 1.1930 - accuracy: 0.4848 - val_loss: 1.0797 - val_accuracy: 0.5455\n",
      "Epoch 7/10\n",
      "198/198 [==============================] - 18s 92ms/step - loss: 1.0271 - accuracy: 0.5730 - val_loss: 1.0436 - val_accuracy: 0.5511\n",
      "Epoch 8/10\n",
      "198/198 [==============================] - 18s 89ms/step - loss: 0.9525 - accuracy: 0.6115 - val_loss: 1.0577 - val_accuracy: 0.5568\n",
      "Epoch 9/10\n",
      "198/198 [==============================] - 19s 97ms/step - loss: 0.8903 - accuracy: 0.6363 - val_loss: 1.0239 - val_accuracy: 0.5688\n",
      "Epoch 10/10\n",
      "198/198 [==============================] - 18s 91ms/step - loss: 0.8179 - accuracy: 0.6732 - val_loss: 1.1791 - val_accuracy: 0.5063\n"
     ]
    },
    {
     "data": {
      "text/plain": [
       "<keras.callbacks.History at 0x4005c3220>"
      ]
     },
     "execution_count": 206,
     "metadata": {},
     "output_type": "execute_result"
    }
   ],
   "source": [
    "# train data from ImageDataGenerator\n",
    "datagen = ImageDataGenerator(\n",
    "     zca_whitening=True,\n",
    ")\n",
    "datagen.fit(cell_img)\n",
    "\n",
    "multi_zca_train = datagen.flow(x_train, y_train, shuffle=True)\n",
    "multi_zca_val = datagen.flow(x_val, y_val, shuffle=True)\n",
    "multi_zca_test = datagen.flow(x_test, y_test, shuffle=True)\n",
    "\n",
    "# train model with zca whitened model\n",
    "zca_model = get_multiclass_model()\n",
    "zca_model.fit(multi_zca_train, epochs=10, validation_data=multi_zca_val)"
   ]
  },
  {
   "cell_type": "code",
   "execution_count": 208,
   "id": "b584b10d",
   "metadata": {},
   "outputs": [
    {
     "name": "stdout",
     "output_type": "stream",
     "text": [
      "              precision    recall  f1-score   support\n",
      "\n",
      "           0       0.75      0.50      0.60        12\n",
      "           1       0.12      0.25      0.17         4\n",
      "           2       0.55      0.55      0.55        11\n",
      "           3       0.60      0.60      0.60         5\n",
      "\n",
      "    accuracy                           0.50        32\n",
      "   macro avg       0.51      0.47      0.48        32\n",
      "weighted avg       0.58      0.50      0.53        32\n",
      "\n"
     ]
    },
    {
     "name": "stderr",
     "output_type": "stream",
     "text": [
      "2022-05-07 21:32:35.910429: I tensorflow/core/grappler/optimizers/custom_graph_optimizer_registry.cc:113] Plugin optimizer for device_type GPU is enabled.\n"
     ]
    }
   ],
   "source": [
    "zca_x, zca_y = multi_zca_test.next()\n",
    "zca_multi_pred = zca_model.predict(zca_x)\n",
    "multiclass_classification_report(zca_y, zca_multi_pred)"
   ]
  },
  {
   "cell_type": "markdown",
   "id": "9c230a95",
   "metadata": {},
   "source": [
    "### Base CNN + rotation"
   ]
  },
  {
   "cell_type": "code",
   "execution_count": 210,
   "id": "765a8e3c",
   "metadata": {
    "scrolled": true
   },
   "outputs": [
    {
     "name": "stdout",
     "output_type": "stream",
     "text": [
      "Epoch 1/10\n"
     ]
    },
    {
     "name": "stderr",
     "output_type": "stream",
     "text": [
      "2022-05-07 21:34:10.880793: I tensorflow/core/grappler/optimizers/custom_graph_optimizer_registry.cc:113] Plugin optimizer for device_type GPU is enabled.\n"
     ]
    },
    {
     "name": "stdout",
     "output_type": "stream",
     "text": [
      "195/198 [============================>.] - ETA: 0s - loss: 1.0871 - accuracy: 0.5391"
     ]
    },
    {
     "name": "stderr",
     "output_type": "stream",
     "text": [
      "2022-05-07 21:34:14.105969: I tensorflow/core/grappler/optimizers/custom_graph_optimizer_registry.cc:113] Plugin optimizer for device_type GPU is enabled.\n"
     ]
    },
    {
     "name": "stdout",
     "output_type": "stream",
     "text": [
      "198/198 [==============================] - 4s 17ms/step - loss: 1.0853 - accuracy: 0.5398 - val_loss: 0.8739 - val_accuracy: 0.6597\n",
      "Epoch 2/10\n",
      "198/198 [==============================] - 3s 16ms/step - loss: 0.8619 - accuracy: 0.6642 - val_loss: 0.7932 - val_accuracy: 0.6900\n",
      "Epoch 3/10\n",
      "198/198 [==============================] - 3s 15ms/step - loss: 0.7906 - accuracy: 0.6905 - val_loss: 0.7142 - val_accuracy: 0.7210\n",
      "Epoch 4/10\n",
      "198/198 [==============================] - 3s 15ms/step - loss: 0.7623 - accuracy: 0.6996 - val_loss: 0.7225 - val_accuracy: 0.7317\n",
      "Epoch 5/10\n",
      "198/198 [==============================] - 3s 15ms/step - loss: 0.7410 - accuracy: 0.7088 - val_loss: 0.6439 - val_accuracy: 0.7538\n",
      "Epoch 6/10\n",
      "198/198 [==============================] - 3s 15ms/step - loss: 0.7272 - accuracy: 0.7099 - val_loss: 0.7358 - val_accuracy: 0.7014\n",
      "Epoch 7/10\n",
      "198/198 [==============================] - 3s 15ms/step - loss: 0.7053 - accuracy: 0.7227 - val_loss: 0.6938 - val_accuracy: 0.7449\n",
      "Epoch 8/10\n",
      "198/198 [==============================] - 3s 15ms/step - loss: 0.6778 - accuracy: 0.7394 - val_loss: 0.6472 - val_accuracy: 0.7551\n",
      "Epoch 9/10\n",
      "198/198 [==============================] - 3s 15ms/step - loss: 0.6942 - accuracy: 0.7263 - val_loss: 0.6330 - val_accuracy: 0.7601\n",
      "Epoch 10/10\n",
      "198/198 [==============================] - 3s 15ms/step - loss: 0.6766 - accuracy: 0.7340 - val_loss: 0.6610 - val_accuracy: 0.7588\n"
     ]
    },
    {
     "data": {
      "text/plain": [
       "<keras.callbacks.History at 0x4005a1640>"
      ]
     },
     "execution_count": 210,
     "metadata": {},
     "output_type": "execute_result"
    }
   ],
   "source": [
    "# train data from ImageDataGenerator\n",
    "datagen = ImageDataGenerator(\n",
    "     rotation_range=45,\n",
    ")\n",
    "datagen.fit(cell_img)\n",
    "\n",
    "rot_multi_train = datagen.flow(x_train, y_train, shuffle=True)\n",
    "rot_multi_val = datagen.flow(x_val, y_val, shuffle=True)\n",
    "rot_multi_test = datagen.flow(x_val, y_val, shuffle=True)\n",
    "\n",
    "rotation_model = get_multiclass_model()\n",
    "rotation_model.fit(rot_multi_train, epochs=10, validation_data=rot_multi_val)"
   ]
  },
  {
   "cell_type": "code",
   "execution_count": 211,
   "id": "e6e42f29",
   "metadata": {},
   "outputs": [
    {
     "name": "stdout",
     "output_type": "stream",
     "text": [
      "              precision    recall  f1-score   support\n",
      "\n",
      "           0       0.75      0.50      0.60        12\n",
      "           1       0.57      0.44      0.50         9\n",
      "           2       0.55      0.75      0.63         8\n",
      "           3       0.33      0.67      0.44         3\n",
      "\n",
      "    accuracy                           0.56        32\n",
      "   macro avg       0.55      0.59      0.54        32\n",
      "weighted avg       0.61      0.56      0.57        32\n",
      "\n"
     ]
    },
    {
     "name": "stderr",
     "output_type": "stream",
     "text": [
      "2022-05-07 21:35:32.880730: I tensorflow/core/grappler/optimizers/custom_graph_optimizer_registry.cc:113] Plugin optimizer for device_type GPU is enabled.\n"
     ]
    }
   ],
   "source": [
    "rot_x, rot_y = rot_multi_test.next()\n",
    "rot_multi_pred = rotation_model.predict(rot_x)\n",
    "multiclass_classification_report(rot_y, rot_multi_pred)"
   ]
  },
  {
   "cell_type": "markdown",
   "id": "6ada6a38",
   "metadata": {},
   "source": [
    "### Multiclass using multiple models (Ensemble)"
   ]
  },
  {
   "cell_type": "code",
   "execution_count": 302,
   "id": "bb8d3e77",
   "metadata": {},
   "outputs": [],
   "source": [
    "def get_subclass_model():\n",
    "    model = tf.keras.Sequential()\n",
    "    # First convo-pooling\n",
    "    # Convolutional layers (filter the image with a kernel)\n",
    "    model.add(tf.keras.layers.Conv2D(64, (3, 3), activation=\"relu\", input_shape=[27, 27, 3]))\n",
    "    # Max-pooling layers (reduce the size of the image by choosing max pixel at certain area)\n",
    "    model.add(tf.keras.layers.MaxPool2D(pool_size=(2, 2)))\n",
    "    # Flatten input\n",
    "    model.add(tf.keras.layers.Flatten())\n",
    "    model.add(tf.keras.layers.Dense(256, activation=\"relu\"))\n",
    "    model.add(tf.keras.layers.Dense(128, activation=\"relu\"))\n",
    "    model.add(tf.keras.layers.Dense(32, activation=\"relu\"))\n",
    "    # Output layer\n",
    "    model.add(tf.keras.layers.Dense(3, activation=\"softmax\"))\n",
    "    # Compile model \n",
    "    model.compile(optimizer=\"adam\",\n",
    "                  loss=\"sparse_categorical_crossentropy\",\n",
    "                  metrics=[\"accuracy\"])\n",
    "    \n",
    "    return model\n",
    "\n",
    "def get_transfer_model():\n",
    "    model = tf.keras.Sequential()\n",
    "    # Flatten input\n",
    "    model.add(tf.keras.layers.Flatten())\n",
    "    # Hidden layers\n",
    "    model.add(tf.keras.layers.Dense(256, activation=\"relu\"))\n",
    "    model.add(tf.keras.layers.Dense(128, activation=\"softmax\"))\n",
    "    model.add(tf.keras.layers.Dense(32, activation=\"relu\"))\n",
    "    model.add(tf.keras.layers.Dense(3, activation=\"sigmoid\"))\n",
    "    # Output layer\n",
    "    model.add(tf.keras.layers.Dense(4, activation=\"softmax\"))\n",
    "    # Compile model\n",
    "    model.compile(optimizer=\"adam\",\n",
    "                  loss=\"sparse_categorical_crossentropy\",\n",
    "                  metrics=[\"accuracy\"])\n",
    "    return model"
   ]
  },
  {
   "cell_type": "markdown",
   "id": "1933a66d",
   "metadata": {},
   "source": [
    "### Load 3 classes model and 4 classes models"
   ]
  },
  {
   "cell_type": "code",
   "execution_count": 303,
   "id": "d5301d3b",
   "metadata": {},
   "outputs": [
    {
     "name": "stdout",
     "output_type": "stream",
     "text": [
      "Model trained with 3 classes loaded\n",
      "Model trained with 4 classes loaded\n"
     ]
    }
   ],
   "source": [
    "sub_multiclass = [\"epithelial\", \"fibroblast\", \"inflammatory\"]\n",
    "# imgs with 3 classes\n",
    "subcell_img, subcelltype_label = celltype_classify_data(sub_multiclass)\n",
    "\n",
    "subx_train, subx_test, suby_train, suby_test = train_test_split(\n",
    "    np.array(subcell_img), np.array(subcelltype_label), test_size=0.2\n",
    ")\n",
    "\n",
    "submodel_path = os.path.join(root, \"multiclass_submodels\")\n",
    "\n",
    "# path to model trained with 3 classes\n",
    "subclass_path = path.join(submodel_path, \"subclass.h5\")\n",
    "subclass_model = None\n",
    "if not os.path.isfile(subclass_path) or keras.models.load_model(subclass_path) == None:\n",
    "    print(\"---Sub model training---\")\n",
    "    # train subclass that fit with 3 types of images\n",
    "    subclass_model = get_subclass_model()\n",
    "    subclass_model.fit(subx_train, suby_train, epochs=40, validation_data=(subx_test, suby_test))\n",
    "    subclass_model.save(subclass_path)\n",
    "else:\n",
    "    subclass_model = keras.models.load_model(subclass_path)\n",
    "    print(\"Model trained with 3 classes loaded\")\n",
    "    \n",
    "allclass_path = path.join(submodel_path, \"allclass.h5\")\n",
    "allclass_model = None\n",
    "if not os.path.isfile(allclass_path) or keras.models.load_model(allclass_path) == None:\n",
    "    print(\"---Sub model training---\")\n",
    "    # train subclass that fit with 4 types of images\n",
    "    allclass_model = get_multiclass_model()\n",
    "    allclass_model.fit(x_train, y_train, epochs=15, validation_data=(x_val, y_val))\n",
    "    allclass_model.save(allclass_path)\n",
    "else:\n",
    "    allclass_model = keras.models.load_model(allclass_path)\n",
    "    print(\"Model trained with 4 classes loaded\")"
   ]
  },
  {
   "cell_type": "markdown",
   "id": "7750be6d",
   "metadata": {},
   "source": [
    "### Get submodels output and train meta-learner"
   ]
  },
  {
   "cell_type": "code",
   "execution_count": 304,
   "id": "67e93dc1",
   "metadata": {
    "scrolled": true
   },
   "outputs": [
    {
     "name": "stdout",
     "output_type": "stream",
     "text": [
      "2\n"
     ]
    },
    {
     "name": "stderr",
     "output_type": "stream",
     "text": [
      "2022-05-08 16:27:57.773911: I tensorflow/core/grappler/optimizers/custom_graph_optimizer_registry.cc:113] Plugin optimizer for device_type GPU is enabled.\n",
      "2022-05-08 16:27:58.312764: I tensorflow/core/grappler/optimizers/custom_graph_optimizer_registry.cc:113] Plugin optimizer for device_type GPU is enabled.\n"
     ]
    },
    {
     "name": "stdout",
     "output_type": "stream",
     "text": [
      "Epoch 1/30\n"
     ]
    },
    {
     "name": "stderr",
     "output_type": "stream",
     "text": [
      "2022-05-08 16:28:00.307513: I tensorflow/core/grappler/optimizers/custom_graph_optimizer_registry.cc:113] Plugin optimizer for device_type GPU is enabled.\n"
     ]
    },
    {
     "name": "stdout",
     "output_type": "stream",
     "text": [
      "186/186 [==============================] - ETA: 0s - loss: 1.2239 - accuracy: 0.4214"
     ]
    },
    {
     "name": "stderr",
     "output_type": "stream",
     "text": [
      "2022-05-08 16:28:02.172484: I tensorflow/core/grappler/optimizers/custom_graph_optimizer_registry.cc:113] Plugin optimizer for device_type GPU is enabled.\n"
     ]
    },
    {
     "name": "stdout",
     "output_type": "stream",
     "text": [
      "186/186 [==============================] - 2s 11ms/step - loss: 1.2239 - accuracy: 0.4214 - val_loss: 1.0890 - val_accuracy: 0.5725\n",
      "Epoch 2/30\n",
      "186/186 [==============================] - 1s 8ms/step - loss: 0.9711 - accuracy: 0.6908 - val_loss: 0.9206 - val_accuracy: 0.8014\n",
      "Epoch 3/30\n",
      "186/186 [==============================] - 1s 7ms/step - loss: 0.8572 - accuracy: 0.8152 - val_loss: 0.8401 - val_accuracy: 0.8050\n",
      "Epoch 4/30\n",
      "186/186 [==============================] - 1s 8ms/step - loss: 0.7753 - accuracy: 0.8206 - val_loss: 0.7578 - val_accuracy: 0.8146\n",
      "Epoch 5/30\n",
      "186/186 [==============================] - 1s 7ms/step - loss: 0.7070 - accuracy: 0.8213 - val_loss: 0.6853 - val_accuracy: 0.8120\n",
      "Epoch 6/30\n",
      "186/186 [==============================] - 1s 7ms/step - loss: 0.6434 - accuracy: 0.8238 - val_loss: 0.6328 - val_accuracy: 0.8095\n",
      "Epoch 7/30\n",
      "186/186 [==============================] - 1s 8ms/step - loss: 0.5964 - accuracy: 0.8253 - val_loss: 0.5887 - val_accuracy: 0.8161\n",
      "Epoch 8/30\n",
      "186/186 [==============================] - 1s 8ms/step - loss: 0.5642 - accuracy: 0.8235 - val_loss: 0.5625 - val_accuracy: 0.8221\n",
      "Epoch 9/30\n",
      "186/186 [==============================] - 1s 8ms/step - loss: 0.5374 - accuracy: 0.8275 - val_loss: 0.5371 - val_accuracy: 0.8186\n",
      "Epoch 10/30\n",
      "186/186 [==============================] - 1s 7ms/step - loss: 0.5186 - accuracy: 0.8277 - val_loss: 0.5166 - val_accuracy: 0.8166\n",
      "Epoch 11/30\n",
      "186/186 [==============================] - 1s 7ms/step - loss: 0.5002 - accuracy: 0.8277 - val_loss: 0.4997 - val_accuracy: 0.8231\n",
      "Epoch 12/30\n",
      "186/186 [==============================] - 1s 7ms/step - loss: 0.4846 - accuracy: 0.8297 - val_loss: 0.4853 - val_accuracy: 0.8161\n",
      "Epoch 13/30\n",
      "186/186 [==============================] - 1s 7ms/step - loss: 0.4699 - accuracy: 0.8418 - val_loss: 0.4633 - val_accuracy: 0.8499\n",
      "Epoch 14/30\n",
      "186/186 [==============================] - 1s 7ms/step - loss: 0.4504 - accuracy: 0.8664 - val_loss: 0.4489 - val_accuracy: 0.8807\n",
      "Epoch 15/30\n",
      "186/186 [==============================] - 1s 8ms/step - loss: 0.4355 - accuracy: 0.8887 - val_loss: 0.4312 - val_accuracy: 0.8828\n",
      "Epoch 16/30\n",
      "186/186 [==============================] - 1s 8ms/step - loss: 0.4227 - accuracy: 0.8946 - val_loss: 0.4220 - val_accuracy: 0.8858\n",
      "Epoch 17/30\n",
      "186/186 [==============================] - 1s 7ms/step - loss: 0.4126 - accuracy: 0.8912 - val_loss: 0.4112 - val_accuracy: 0.8903\n",
      "Epoch 18/30\n",
      "186/186 [==============================] - 1s 7ms/step - loss: 0.4020 - accuracy: 0.8957 - val_loss: 0.3964 - val_accuracy: 0.8964\n",
      "Epoch 19/30\n",
      "186/186 [==============================] - 1s 7ms/step - loss: 0.3909 - accuracy: 0.8999 - val_loss: 0.3954 - val_accuracy: 0.8843\n",
      "Epoch 20/30\n",
      "186/186 [==============================] - 1s 7ms/step - loss: 0.3844 - accuracy: 0.8976 - val_loss: 0.3814 - val_accuracy: 0.9015\n",
      "Epoch 21/30\n",
      "186/186 [==============================] - 1s 7ms/step - loss: 0.3777 - accuracy: 0.8984 - val_loss: 0.3783 - val_accuracy: 0.8994\n",
      "Epoch 22/30\n",
      "186/186 [==============================] - 1s 7ms/step - loss: 0.3708 - accuracy: 0.9003 - val_loss: 0.3743 - val_accuracy: 0.8984\n",
      "Epoch 23/30\n",
      "186/186 [==============================] - 1s 7ms/step - loss: 0.3667 - accuracy: 0.9015 - val_loss: 0.3658 - val_accuracy: 0.8994\n",
      "Epoch 24/30\n",
      "186/186 [==============================] - 1s 7ms/step - loss: 0.3636 - accuracy: 0.8998 - val_loss: 0.3623 - val_accuracy: 0.8994\n",
      "Epoch 25/30\n",
      "186/186 [==============================] - 1s 7ms/step - loss: 0.3582 - accuracy: 0.8969 - val_loss: 0.3604 - val_accuracy: 0.9005\n",
      "Epoch 26/30\n",
      "186/186 [==============================] - 1s 8ms/step - loss: 0.3558 - accuracy: 0.8986 - val_loss: 0.3558 - val_accuracy: 0.9010\n",
      "Epoch 27/30\n",
      "186/186 [==============================] - 1s 8ms/step - loss: 0.3528 - accuracy: 0.8998 - val_loss: 0.3514 - val_accuracy: 0.9030\n",
      "Epoch 28/30\n",
      "186/186 [==============================] - 1s 8ms/step - loss: 0.3498 - accuracy: 0.9003 - val_loss: 0.3489 - val_accuracy: 0.9005\n",
      "Epoch 29/30\n",
      "186/186 [==============================] - 1s 8ms/step - loss: 0.3473 - accuracy: 0.9001 - val_loss: 0.3479 - val_accuracy: 0.8984\n",
      "Epoch 30/30\n",
      "186/186 [==============================] - 1s 7ms/step - loss: 0.3432 - accuracy: 0.8996 - val_loss: 0.3445 - val_accuracy: 0.9005\n"
     ]
    },
    {
     "data": {
      "text/plain": [
       "<keras.callbacks.History at 0x2c8b9cd90>"
      ]
     },
     "execution_count": 304,
     "metadata": {},
     "output_type": "execute_result"
    }
   ],
   "source": [
    "def get_multi_stacked(x, submodels):\n",
    "    stacked = None\n",
    "    for submodel in submodels:\n",
    "        if stacked is None:\n",
    "            stacked = submodel.predict(x)\n",
    "        else:\n",
    "            new_pred = submodel.predict(x)\n",
    "            stacked = np.concatenate((stacked, new_pred), axis=1)\n",
    "    return stacked\n",
    "\n",
    "submodels = [subclass_model, allclass_model]\n",
    "\n",
    "print(len(submodels))\n",
    "stacked_x_train = get_multi_stacked(x_train, submodels)\n",
    "stacked_x_val = get_multi_stacked(x_val, submodels)\n",
    "stacked_x_test = get_multi_stacked(x_test, submodels)\n",
    "\n",
    "\n",
    "transfer_model = get_transfer_model()\n",
    "transfer_model.fit(stacked_x_train, y_train, epochs=30, validation_data=(stacked_x_val, y_val))"
   ]
  },
  {
   "cell_type": "code",
   "execution_count": 305,
   "id": "b8155f42",
   "metadata": {},
   "outputs": [
    {
     "name": "stderr",
     "output_type": "stream",
     "text": [
      "2022-05-08 16:28:49.279737: I tensorflow/core/grappler/optimizers/custom_graph_optimizer_registry.cc:113] Plugin optimizer for device_type GPU is enabled.\n"
     ]
    },
    {
     "name": "stdout",
     "output_type": "stream",
     "text": [
      "(1980, 7)\n",
      "              precision    recall  f1-score   support\n",
      "\n",
      "           0       0.94      0.97      0.96       823\n",
      "           1       0.90      0.91      0.90       371\n",
      "           2       0.86      0.92      0.89       511\n",
      "           3       0.79      0.61      0.69       275\n",
      "\n",
      "    accuracy                           0.90      1980\n",
      "   macro avg       0.87      0.85      0.86      1980\n",
      "weighted avg       0.89      0.90      0.89      1980\n",
      "\n"
     ]
    }
   ],
   "source": [
    "transfer_pred = transfer_model.predict(stacked_x_test)\n",
    "\n",
    "print(stacked_x_test.shape)\n",
    "multiclass_classification_report(y_test, transfer_pred)"
   ]
  },
  {
   "cell_type": "markdown",
   "id": "07ef5cc1",
   "metadata": {},
   "source": [
    "### EDA"
   ]
  },
  {
   "cell_type": "code",
   "execution_count": 55,
   "id": "f0a27724",
   "metadata": {},
   "outputs": [
    {
     "name": "stdout",
     "output_type": "stream",
     "text": [
      "No data in class 0 in data 4079\n",
      "No data in class 1 in data 1888\n",
      "No data in class 2 in data 2543\n",
      "No data in class 3 in data 1386\n"
     ]
    }
   ],
   "source": [
    "for i in range(4):\n",
    "    print(f\"No data in class {i} in data\", (np.array(celltype_label)==i).sum())"
   ]
  },
  {
   "cell_type": "markdown",
   "id": "848b3774",
   "metadata": {},
   "source": [
    "### Multiclass + Oversampling + Decision tree"
   ]
  },
  {
   "cell_type": "code",
   "execution_count": 306,
   "id": "4bb6d4d7",
   "metadata": {},
   "outputs": [
    {
     "name": "stdout",
     "output_type": "stream",
     "text": [
      "No data in class 0 in oversampled data 4079\n",
      "No data in class 1 in oversampled data 4079\n",
      "No data in class 2 in oversampled data 4079\n",
      "No data in class 3 in oversampled data 4079\n",
      "              precision    recall  f1-score   support\n",
      "\n",
      "           0       0.89      0.94      0.91       813\n",
      "           1       0.74      0.89      0.81       801\n",
      "           2       0.79      0.87      0.82       849\n",
      "           3       0.64      0.41      0.50       801\n",
      "\n",
      "    accuracy                           0.78      3264\n",
      "   macro avg       0.76      0.78      0.76      3264\n",
      "weighted avg       0.77      0.78      0.76      3264\n",
      "\n",
      "              precision    recall  f1-score   support\n",
      "\n",
      "           0       0.90      0.96      0.93       813\n",
      "           1       0.76      0.91      0.83       801\n",
      "           2       0.80      0.90      0.84       849\n",
      "           3       0.70      0.41      0.52       801\n",
      "\n",
      "    accuracy                           0.80      3264\n",
      "   macro avg       0.79      0.80      0.78      3264\n",
      "weighted avg       0.79      0.80      0.78      3264\n",
      "\n"
     ]
    }
   ],
   "source": [
    "from sklearn import tree\n",
    "from sklearn.ensemble import RandomForestClassifier\n",
    "from imblearn.over_sampling import SMOTE\n",
    "\n",
    "cell_img, celltype_label = celltype_classify_data(all_class)\n",
    "transfered_x = subclass_model.predict(np.array(cell_img))\n",
    "\n",
    "# by default, it would only over sample minority class which is the aim in this case\n",
    "oversample = SMOTE()\n",
    "transfered_x, celltype_label = oversample.fit_resample(transfered_x, np.array(celltype_label))\n",
    "\n",
    "for i in range(4):\n",
    "    print(f\"No data in class {i} in oversampled data\", (np.array(celltype_label)==i).sum())\n",
    "\n",
    "sampled_x_train, sampled_x_test, sampled_y_train, sampled_y_test = train_test_split(\n",
    "    transfered_x, celltype_label, test_size=0.2\n",
    ")\n",
    "\n",
    "tree_classifier = tree.DecisionTreeClassifier(class_weight=\"balanced\")\n",
    "tree_classifier = tree_classifier.fit(sampled_x_train, sampled_y_train)\n",
    "\n",
    "forest_classifier = RandomForestClassifier(class_weight=\"balanced\")\n",
    "forest_classifier.fit(sampled_x_train, sampled_y_train)\n",
    "\n",
    "tree_pred = tree_classifier.predict(sampled_x_test)\n",
    "forest_pred = forest_classifier.predict(sampled_x_test)\n",
    "\n",
    "print(classification_report(sampled_y_test, tree_pred))\n",
    "print(classification_report(sampled_y_test, forest_pred))                                        "
   ]
  }
 ],
 "metadata": {
  "kernelspec": {
   "display_name": "Python 3.9 (tensorflow)",
   "language": "python",
   "name": "tensorflow"
  },
  "language_info": {
   "codemirror_mode": {
    "name": "ipython",
    "version": 3
   },
   "file_extension": ".py",
   "mimetype": "text/x-python",
   "name": "python",
   "nbconvert_exporter": "python",
   "pygments_lexer": "ipython3",
   "version": "3.9.7"
  }
 },
 "nbformat": 4,
 "nbformat_minor": 5
}
