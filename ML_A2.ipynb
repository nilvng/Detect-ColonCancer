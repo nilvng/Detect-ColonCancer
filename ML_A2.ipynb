{
 "cells": [
  {
   "cell_type": "code",
   "execution_count": 1,
   "id": "955516c7",
   "metadata": {},
   "outputs": [],
   "source": [
    "import cv2\n",
    "import numpy as np\n",
    "import pandas as pd\n",
    "import os\n",
    "import sys\n",
    "import tensorflow as tf\n",
    "from sklearn.model_selection import train_test_split"
   ]
  },
  {
   "cell_type": "markdown",
   "id": "57761c43",
   "metadata": {},
   "source": [
    "### Load dataframe"
   ]
  },
  {
   "cell_type": "code",
   "execution_count": 2,
   "id": "6b1deda5",
   "metadata": {},
   "outputs": [],
   "source": [
    "main_data = pd.read_csv(\"data_labels_mainData.csv\")\n",
    "extra_data = pd.read_csv(\"data_labels_extraData.csv\")"
   ]
  },
  {
   "cell_type": "markdown",
   "id": "bc53247b",
   "metadata": {},
   "source": [
    "### split data into different folders for different cell types"
   ]
  },
  {
   "cell_type": "code",
   "execution_count": 7,
   "id": "f240316c",
   "metadata": {},
   "outputs": [],
   "source": [
    "import shutil\n",
    "root = os.getcwd()\n",
    "source_dir = os.path.join(root, \"patch_images\")\n",
    "\n",
    "for i, row in main_data.iterrows():\n",
    "    image_name = row[\"ImageName\"]\n",
    "    cell_name = row[\"cellTypeName\"]\n",
    "    is_cancer = str(row[\"isCancerous\"])\n",
    "\n",
    "    new_folder_multi = os.path.join(root, cell_name)\n",
    "    new_folder_bin = os.path.join(root, is_cancer)\n",
    "\n",
    "    os.makedirs(new_folder_multi, exist_ok=True)\n",
    "    #os.makedirs(new_folder_bin, exist_ok=True)\n",
    "\n",
    "    source = os.path.join(source_dir, image_name)\n",
    "\n",
    "    dest_multi = os.path.join(root, cell_name)\n",
    "    #dest_bin = os.path.join(root, is_cancer)\n",
    "\n",
    "    go = shutil.copy(source,dest_multi)\n",
    "    #go = shutil.copy(source, dest_bin)"
   ]
  },
  {
   "cell_type": "markdown",
   "id": "3890247e",
   "metadata": {},
   "source": [
    "### Add training data for cancerous classification from extra dataset "
   ]
  },
  {
   "cell_type": "code",
   "execution_count": 4,
   "id": "682dc3f2",
   "metadata": {},
   "outputs": [],
   "source": [
    "import shutil\n",
    "root = os.getcwd()\n",
    "source_dir = os.path.join(root, \"patch_images\")\n",
    "\n",
    "for i, row in extra_data.iterrows():\n",
    "    image_name = row[\"ImageName\"]\n",
    "    is_cancer = str(row[\"isCancerous\"])\n",
    "\n",
    "    new_folder_bin = os.path.join(root, is_cancer)\n",
    "\n",
    "    os.makedirs(new_folder_bin, exist_ok=True)\n",
    "\n",
    "    source = os.path.join(source_dir, image_name)\n",
    "\n",
    "    dest_bin = os.path.join(root, is_cancer)\n",
    "\n",
    "    go = shutil.copy(source, dest_bin)"
   ]
  },
  {
   "cell_type": "code",
   "execution_count": 8,
   "id": "3b6669fa",
   "metadata": {},
   "outputs": [
    {
     "name": "stdout",
     "output_type": "stream",
     "text": [
      "9896\n",
      "9896\n",
      "9896\n"
     ]
    }
   ],
   "source": [
    "def get_images(img_list, path):    \n",
    "    images = list()\n",
    "    \n",
    "    for img in img_list:\n",
    "        img = cv2.imread(os.path.join(path, img))\n",
    "        # resize to 0-1 for faster computation\n",
    "        resized = img / 255\n",
    "        images.append(resized)\n",
    "        \n",
    "    return images\n",
    "\n",
    "images, cell_type, is_cancerous = get_images(main_data[\"ImageName\"], \"patch_images\"), main_data[[\"cellType\"]], main_data[[\"isCancerous\"]]\n",
    "\n",
    "print(len(images))\n",
    "#print(images[0].shape)\n",
    "print(len(cell_type))\n",
    "print(len(is_cancerous))"
   ]
  },
  {
   "cell_type": "markdown",
   "id": "53e5727f",
   "metadata": {},
   "source": [
    "### Get data from splitted folder"
   ]
  },
  {
   "cell_type": "code",
   "execution_count": 17,
   "id": "7c986143",
   "metadata": {},
   "outputs": [],
   "source": [
    "def cancerous_classify_data():    \n",
    "    images = list()\n",
    "    labels = list()\n",
    "    \n",
    "    for label in [0, 1]:\n",
    "        # get image directory\n",
    "        img_dir = os.path.join(root, f\"{label}\")\n",
    "        \n",
    "        for img in os.listdir(img_dir):\n",
    "            img = cv2.imread(os.path.join(img_dir, img))\n",
    "            # resize to 0-1 for faster computation\n",
    "            resized = img / 255\n",
    "            images.append(resized)\n",
    "            labels.append(label)\n",
    "        \n",
    "    return (images, labels)\n",
    "\n"
   ]
  },
  {
   "cell_type": "code",
   "execution_count": 18,
   "id": "19f550aa",
   "metadata": {},
   "outputs": [
    {
     "name": "stderr",
     "output_type": "stream",
     "text": [
      "2022-04-29 13:32:00.256327: I tensorflow/core/common_runtime/pluggable_device/pluggable_device_factory.cc:305] Could not identify NUMA node of platform GPU ID 0, defaulting to 0. Your kernel may not have been built with NUMA support.\n",
      "2022-04-29 13:32:00.256641: I tensorflow/core/common_runtime/pluggable_device/pluggable_device_factory.cc:271] Created TensorFlow device (/job:localhost/replica:0/task:0/device:GPU:0 with 0 MB memory) -> physical PluggableDevice (device: 0, name: METAL, pci bus id: <undefined>)\n"
     ]
    },
    {
     "name": "stdout",
     "output_type": "stream",
     "text": [
      "Metal device set to: Apple M1 Pro\n",
      "(16224, 27, 27, 3)\n",
      "(16224,)\n",
      "Epoch 1/10\n"
     ]
    },
    {
     "name": "stderr",
     "output_type": "stream",
     "text": [
      "2022-04-29 13:32:00.511445: W tensorflow/core/platform/profile_utils/cpu_utils.cc:128] Failed to get CPU frequency: 0 Hz\n",
      "2022-04-29 13:32:00.709776: I tensorflow/core/grappler/optimizers/custom_graph_optimizer_registry.cc:113] Plugin optimizer for device_type GPU is enabled.\n"
     ]
    },
    {
     "name": "stdout",
     "output_type": "stream",
     "text": [
      "507/507 [==============================] - ETA: 0s - loss: 0.4174 - accuracy: 0.8073 - auc: 0.8752"
     ]
    },
    {
     "name": "stderr",
     "output_type": "stream",
     "text": [
      "2022-04-29 13:32:05.307202: I tensorflow/core/grappler/optimizers/custom_graph_optimizer_registry.cc:113] Plugin optimizer for device_type GPU is enabled.\n"
     ]
    },
    {
     "name": "stdout",
     "output_type": "stream",
     "text": [
      "507/507 [==============================] - 6s 10ms/step - loss: 0.4174 - accuracy: 0.8073 - auc: 0.8752 - val_loss: 0.4552 - val_accuracy: 0.7894 - val_auc: 0.9141\n",
      "Epoch 2/10\n",
      "507/507 [==============================] - 5s 9ms/step - loss: 0.3507 - accuracy: 0.8465 - auc: 0.9146 - val_loss: 0.3302 - val_accuracy: 0.8568 - val_auc: 0.9240\n",
      "Epoch 3/10\n",
      "507/507 [==============================] - 5s 9ms/step - loss: 0.3316 - accuracy: 0.8574 - auc: 0.9239 - val_loss: 0.3199 - val_accuracy: 0.8614 - val_auc: 0.9323\n",
      "Epoch 4/10\n",
      "507/507 [==============================] - 5s 9ms/step - loss: 0.3219 - accuracy: 0.8611 - auc: 0.9285 - val_loss: 0.3130 - val_accuracy: 0.8651 - val_auc: 0.9322\n",
      "Epoch 5/10\n",
      "507/507 [==============================] - 5s 9ms/step - loss: 0.3021 - accuracy: 0.8743 - auc: 0.9372 - val_loss: 0.3479 - val_accuracy: 0.8526 - val_auc: 0.9351\n",
      "Epoch 6/10\n",
      "507/507 [==============================] - 5s 9ms/step - loss: 0.2974 - accuracy: 0.8742 - auc: 0.9390 - val_loss: 0.3021 - val_accuracy: 0.8679 - val_auc: 0.9366\n",
      "Epoch 7/10\n",
      "507/507 [==============================] - 5s 9ms/step - loss: 0.2900 - accuracy: 0.8770 - auc: 0.9423 - val_loss: 0.3701 - val_accuracy: 0.8427 - val_auc: 0.9363\n",
      "Epoch 8/10\n",
      "507/507 [==============================] - 5s 9ms/step - loss: 0.2758 - accuracy: 0.8838 - auc: 0.9480 - val_loss: 0.3246 - val_accuracy: 0.8634 - val_auc: 0.9385\n",
      "Epoch 9/10\n",
      "507/507 [==============================] - 5s 9ms/step - loss: 0.2659 - accuracy: 0.8876 - auc: 0.9516 - val_loss: 0.3182 - val_accuracy: 0.8649 - val_auc: 0.9352\n",
      "Epoch 10/10\n",
      "507/507 [==============================] - 5s 10ms/step - loss: 0.2605 - accuracy: 0.8889 - auc: 0.9536 - val_loss: 0.3020 - val_accuracy: 0.8703 - val_auc: 0.9378\n"
     ]
    },
    {
     "name": "stderr",
     "output_type": "stream",
     "text": [
      "2022-04-29 13:32:49.016583: I tensorflow/core/grappler/optimizers/custom_graph_optimizer_registry.cc:113] Plugin optimizer for device_type GPU is enabled.\n"
     ]
    }
   ],
   "source": [
    "images, cancer_label = cancerous_classify_data()\n",
    "\n",
    "# try testing cancerous dataset\n",
    "# x_train, x_test, y_train, y_test = train_test_split(\n",
    "#     np.array(images), np.array(is_cancerous), test_size=0.2\n",
    "# )\n",
    "\n",
    "x_train, x_test, y_train, y_test = train_test_split(\n",
    "    np.array(images), np.array(cancer_label), test_size=0.2\n",
    ")\n",
    "\n",
    "model = tf.keras.Sequential()\n",
    "\n",
    "# First convo-pooling\n",
    "# Convolutional layers (filter the image with a kernel)\n",
    "model.add(tf.keras.layers.Conv2D(32, (3, 3), activation=\"relu\", input_shape=[27, 27, 3]))\n",
    "# Max-pooling layers (reduce the size of the image by choosing max pixel at certain area)\n",
    "model.add(tf.keras.layers.MaxPool2D(pool_size=(2, 2)))\n",
    "# Flatten input\n",
    "model.add(tf.keras.layers.Flatten())\n",
    "\n",
    "model.add(tf.keras.layers.Dense(128, activation=\"relu\"))\n",
    "model.add(tf.keras.layers.Dense(32, activation=\"relu\"))\n",
    "# Output layer\n",
    "model.add(tf.keras.layers.Dense(1, activation=\"sigmoid\"))\n",
    "# Compile model\n",
    "model.compile(optimizer=\"adam\",\n",
    "              loss=\"binary_crossentropy\",\n",
    "              metrics=[\"accuracy\", \"AUC\"])\n",
    "\n",
    "print(x_train.shape)\n",
    "print(y_train.shape)\n",
    "\n",
    "model.fit(x_train, y_train, epochs=10, validation_data=(x_test, y_test))\n",
    "prediction = model.predict(x_test)"
   ]
  }
 ],
 "metadata": {
  "kernelspec": {
   "display_name": "Python 3.9 (tensorflow)",
   "language": "python",
   "name": "tensorflow"
  },
  "language_info": {
   "codemirror_mode": {
    "name": "ipython",
    "version": 3
   },
   "file_extension": ".py",
   "mimetype": "text/x-python",
   "name": "python",
   "nbconvert_exporter": "python",
   "pygments_lexer": "ipython3",
   "version": "3.9.7"
  }
 },
 "nbformat": 4,
 "nbformat_minor": 5
}
