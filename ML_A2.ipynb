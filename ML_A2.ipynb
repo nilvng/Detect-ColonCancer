{
 "cells": [
  {
   "cell_type": "code",
   "execution_count": 1,
   "id": "955516c7",
   "metadata": {},
   "outputs": [],
   "source": [
    "import cv2\n",
    "import numpy as np\n",
    "import pandas as pd\n",
    "import os\n",
    "import sys\n",
    "import tensorflow as tf\n",
    "from tensorflow import keras\n",
    "from sklearn.model_selection import train_test_split\n",
    "import keras_tuner as kt\n",
    "from sklearn.metrics import classification_report\n",
    "import shutil\n",
    "from os import path\n",
    "import matplotlib.pyplot as plt\n",
    "from tensorflow.keras.preprocessing import image_dataset_from_directory\n",
    "from keras.preprocessing.image import ImageDataGenerator\n",
    "\n",
    "# path variables to access files\n",
    "root = os.getcwd()\n",
    "binary_root = os.path.join(root, \"binary_task\")\n",
    "multiclass_root = os.path.join(root, \"multiclass_task\")"
   ]
  },
  {
   "cell_type": "markdown",
   "id": "57761c43",
   "metadata": {},
   "source": [
    "### Load dataframe"
   ]
  },
  {
   "cell_type": "code",
   "execution_count": 2,
   "id": "6b1deda5",
   "metadata": {},
   "outputs": [],
   "source": [
    "main_data = pd.read_csv(\"data_labels_mainData.csv\")\n",
    "extra_data = pd.read_csv(\"data_labels_extraData.csv\")"
   ]
  },
  {
   "cell_type": "markdown",
   "id": "bc53247b",
   "metadata": {},
   "source": [
    "### split data into different folders for different cell types"
   ]
  },
  {
   "cell_type": "code",
   "execution_count": 3,
   "id": "f240316c",
   "metadata": {},
   "outputs": [],
   "source": [
    "root = os.getcwd()\n",
    "source_dir = os.path.join(root, \"patch_images\")\n",
    "\n",
    "for i, row in main_data.iterrows():\n",
    "    image_name = row[\"ImageName\"]\n",
    "    cell_name = row[\"cellTypeName\"]\n",
    "    is_cancer = str(row[\"isCancerous\"])\n",
    "\n",
    "#     new_folder_multi = os.path.join(root,\"multiclass_task\", cell_name)\n",
    "    new_folder_bin = os.path.join(root,\"binary_task\", is_cancer)\n",
    "\n",
    "#     os.makedirs(new_folder_multi, exist_ok=True)\n",
    "    os.makedirs(new_folder_bin, exist_ok=True)\n",
    "\n",
    "    source = os.path.join(source_dir, image_name)\n",
    "\n",
    "#     dest_multi = os.path.join(root, \"multiclass_task\",cell_name)\n",
    "    dest_bin = os.path.join(root,\"binary_task\", is_cancer)\n",
    "\n",
    "#     go = shutil.copy(source,dest_multi)\n",
    "    go = shutil.copy(source, dest_bin)"
   ]
  },
  {
   "cell_type": "markdown",
   "id": "3890247e",
   "metadata": {},
   "source": [
    "### Add training data for cancerous classification from extra dataset "
   ]
  },
  {
   "cell_type": "code",
   "execution_count": 4,
   "id": "682dc3f2",
   "metadata": {},
   "outputs": [],
   "source": [
    "root = os.getcwd()\n",
    "source_dir = os.path.join(root, \"patch_images\")\n",
    "\n",
    "for i, row in extra_data.iterrows():\n",
    "    image_name = row[\"ImageName\"]\n",
    "    is_cancer = str(row[\"isCancerous\"])\n",
    "\n",
    "    new_folder_bin = os.path.join(root, \"binary_task\",is_cancer)\n",
    "\n",
    "    os.makedirs(new_folder_bin, exist_ok=True)\n",
    "\n",
    "    source = os.path.join(source_dir, image_name)\n",
    "\n",
    "    dest_bin = os.path.join(root, is_cancer)\n",
    "\n",
    "    go = shutil.copy(source, dest_bin)"
   ]
  },
  {
   "cell_type": "markdown",
   "id": "53e5727f",
   "metadata": {},
   "source": [
    "### Get data from splitted folder"
   ]
  },
  {
   "cell_type": "code",
   "execution_count": 3,
   "id": "7c986143",
   "metadata": {},
   "outputs": [],
   "source": [
    "root = os.getcwd()\n",
    "source_dir = os.path.join(root, \"patch_images\")\n",
    "\n",
    "# method get data for binary task (task 1)\n",
    "def cancerous_classify_data():    \n",
    "    images = list()\n",
    "    labels = list()\n",
    "    \n",
    "    for label in [0, 1]:\n",
    "        # get image directory\n",
    "        img_dir = os.path.join(root, \"binary_task\",f\"{label}\")\n",
    "        \n",
    "        for img in os.listdir(img_dir):\n",
    "            img = cv2.imread(os.path.join(img_dir, img))\n",
    "            # resize to 0-1 for faster computation\n",
    "            resized = img / 255\n",
    "            images.append(resized)\n",
    "            labels.append(label)\n",
    "        \n",
    "    return (images, labels)\n",
    "\n",
    "all_class = [\"epithelial\", \"fibroblast\", \"inflammatory\", \"others\"]\n",
    "\n",
    "# method get data for multiclass task (task 2)\n",
    "def celltype_classify_data(class_list):    \n",
    "    images = list()\n",
    "    labels = list()\n",
    "    \n",
    "    for i, label in enumerate(class_list):\n",
    "        # get image directory\n",
    "        img_dir = os.path.join(root, \"multiclass_task\", f\"{label}\")\n",
    "        \n",
    "        for img in os.listdir(img_dir):\n",
    "            img = cv2.imread(os.path.join(img_dir, img))\n",
    "            # resize to 0-1 for faster computation\n",
    "            resized = img / 255\n",
    "            images.append(resized)\n",
    "            labels.append(i)\n",
    "        \n",
    "    return (images, labels)"
   ]
  },
  {
   "cell_type": "markdown",
   "id": "b2606e21",
   "metadata": {},
   "source": [
    "### Classification report"
   ]
  },
  {
   "cell_type": "code",
   "execution_count": 4,
   "id": "fe3b52d9",
   "metadata": {},
   "outputs": [],
   "source": [
    "def multiclass_classification_report(y_test, prediction):\n",
    "    \"\"\"\n",
    "        Method to generate sklearn classification report with CNN multiclass output\n",
    "    \"\"\"\n",
    "    \n",
    "    encoded_pred = list()\n",
    "    # convert each CNN output (sparse categorial) to class\n",
    "    for pred in prediction:\n",
    "        encoded_pred.append(np.argmax(pred))\n",
    "\n",
    "    encoded_pred = np.array(encoded_pred)\n",
    "    print(classification_report(y_test, encoded_pred))\n",
    "    \n",
    "def binary_classification_report(y_test, prediction):\n",
    "    \"\"\"\n",
    "        Method to generate sklearn classification report with CNN binary output\n",
    "    \"\"\"\n",
    "    encoded_pred = list()\n",
    "    # convert each CNN output (sparse categorial) to class\n",
    "    for pred in prediction:\n",
    "        encoded_pred.append(round(pred[0]))\n",
    "\n",
    "    encoded_pred = np.array(encoded_pred)\n",
    "    print(classification_report(y_test, encoded_pred))"
   ]
  },
  {
   "cell_type": "markdown",
   "id": "9977c54a",
   "metadata": {},
   "source": [
    "## I) Task 1 - Binary classification"
   ]
  },
  {
   "cell_type": "markdown",
   "id": "a0ac1428",
   "metadata": {},
   "source": [
    "### Load binary data"
   ]
  },
  {
   "cell_type": "code",
   "execution_count": 5,
   "id": "86ba9691",
   "metadata": {},
   "outputs": [
    {
     "name": "stdout",
     "output_type": "stream",
     "text": [
      "(9896, 27, 27, 3)\n",
      "(9896,)\n",
      "No data in class 0 in data 5817\n",
      "No data in class 1 in data 4079\n"
     ]
    }
   ],
   "source": [
    "# data being used\n",
    "images, cancer_label = cancerous_classify_data()\n",
    "\n",
    "# change to numpy\n",
    "images, cancer_label = np.array(images), np.array(cancer_label)\n",
    "print(images.shape)\n",
    "print(cancer_label.shape)\n",
    "\n",
    "for i in range(2):\n",
    "    print(f\"No data in class {i} in data\", (cancer_label==i).sum())\n",
    "\n",
    "# generate train, validation and test set\n",
    "x_train_val, x_test, y_train_val, y_test = train_test_split(\n",
    "    images, cancer_label, test_size=0.2\n",
    ")\n",
    "x_train, x_val, y_train, y_val = train_test_split(\n",
    "    x_train_val, y_train_val, test_size=0.25\n",
    ")"
   ]
  },
  {
   "cell_type": "markdown",
   "id": "7f880fcd",
   "metadata": {},
   "source": [
    "### Base CNN model"
   ]
  },
  {
   "cell_type": "code",
   "execution_count": 6,
   "id": "19f550aa",
   "metadata": {
    "scrolled": true
   },
   "outputs": [
    {
     "name": "stdout",
     "output_type": "stream",
     "text": [
      "Metal device set to: Apple M1 Pro\n",
      "Epoch 1/10\n"
     ]
    },
    {
     "name": "stderr",
     "output_type": "stream",
     "text": [
      "2022-05-12 14:25:42.426674: I tensorflow/core/common_runtime/pluggable_device/pluggable_device_factory.cc:305] Could not identify NUMA node of platform GPU ID 0, defaulting to 0. Your kernel may not have been built with NUMA support.\n",
      "2022-05-12 14:25:42.426760: I tensorflow/core/common_runtime/pluggable_device/pluggable_device_factory.cc:271] Created TensorFlow device (/job:localhost/replica:0/task:0/device:GPU:0 with 0 MB memory) -> physical PluggableDevice (device: 0, name: METAL, pci bus id: <undefined>)\n",
      "2022-05-12 14:25:42.524862: W tensorflow/core/platform/profile_utils/cpu_utils.cc:128] Failed to get CPU frequency: 0 Hz\n",
      "2022-05-12 14:25:42.709653: I tensorflow/core/grappler/optimizers/custom_graph_optimizer_registry.cc:113] Plugin optimizer for device_type GPU is enabled.\n"
     ]
    },
    {
     "name": "stdout",
     "output_type": "stream",
     "text": [
      "186/186 [==============================] - ETA: 0s - loss: 0.4338 - accuracy: 0.7972 - auc: 0.8784"
     ]
    },
    {
     "name": "stderr",
     "output_type": "stream",
     "text": [
      "2022-05-12 14:25:44.747551: I tensorflow/core/grappler/optimizers/custom_graph_optimizer_registry.cc:113] Plugin optimizer for device_type GPU is enabled.\n"
     ]
    },
    {
     "name": "stdout",
     "output_type": "stream",
     "text": [
      "186/186 [==============================] - 3s 13ms/step - loss: 0.4338 - accuracy: 0.7972 - auc: 0.8784 - val_loss: 0.3299 - val_accuracy: 0.8600 - val_auc: 0.9465\n",
      "Epoch 2/10\n",
      "186/186 [==============================] - 2s 11ms/step - loss: 0.3296 - accuracy: 0.8565 - auc: 0.9311 - val_loss: 0.2775 - val_accuracy: 0.8858 - val_auc: 0.9514\n",
      "Epoch 3/10\n",
      "186/186 [==============================] - 2s 11ms/step - loss: 0.3060 - accuracy: 0.8715 - auc: 0.9408 - val_loss: 0.2691 - val_accuracy: 0.8919 - val_auc: 0.9544\n",
      "Epoch 4/10\n",
      "186/186 [==============================] - 2s 11ms/step - loss: 0.2916 - accuracy: 0.8787 - auc: 0.9464 - val_loss: 0.2673 - val_accuracy: 0.8888 - val_auc: 0.9560\n",
      "Epoch 5/10\n",
      "186/186 [==============================] - 2s 10ms/step - loss: 0.2681 - accuracy: 0.8897 - auc: 0.9548 - val_loss: 0.2628 - val_accuracy: 0.8898 - val_auc: 0.9565\n",
      "Epoch 6/10\n",
      "186/186 [==============================] - 2s 12ms/step - loss: 0.2603 - accuracy: 0.8925 - auc: 0.9573 - val_loss: 0.3088 - val_accuracy: 0.8651 - val_auc: 0.9574\n",
      "Epoch 7/10\n",
      "186/186 [==============================] - 2s 13ms/step - loss: 0.2597 - accuracy: 0.8912 - auc: 0.9575 - val_loss: 0.2900 - val_accuracy: 0.8757 - val_auc: 0.9565\n",
      "Epoch 8/10\n",
      "186/186 [==============================] - 2s 12ms/step - loss: 0.2547 - accuracy: 0.8919 - auc: 0.9591 - val_loss: 0.2642 - val_accuracy: 0.8919 - val_auc: 0.9564\n",
      "Epoch 9/10\n",
      "186/186 [==============================] - 2s 12ms/step - loss: 0.2400 - accuracy: 0.9018 - auc: 0.9636 - val_loss: 0.2710 - val_accuracy: 0.8914 - val_auc: 0.9558\n",
      "Epoch 10/10\n",
      "186/186 [==============================] - 3s 14ms/step - loss: 0.2232 - accuracy: 0.9082 - auc: 0.9685 - val_loss: 0.2767 - val_accuracy: 0.8878 - val_auc: 0.9560\n"
     ]
    },
    {
     "data": {
      "text/plain": [
       "<keras.callbacks.History at 0x28e33c7f0>"
      ]
     },
     "execution_count": 6,
     "metadata": {},
     "output_type": "execute_result"
    }
   ],
   "source": [
    "def get_model():\n",
    "    model = tf.keras.Sequential()\n",
    "    # First convo-pooling\n",
    "    # Convolutional layers (filter the image with a kernel)\n",
    "    model.add(tf.keras.layers.Conv2D(32, (3, 3), activation=\"relu\", input_shape=[27, 27, 3]))\n",
    "    # Max-pooling layers (reduce the size of the image by choosing max pixel at certain area)\n",
    "    model.add(tf.keras.layers.MaxPool2D(pool_size=(2, 2)))\n",
    "    # Flatten input\n",
    "    model.add(tf.keras.layers.Flatten())\n",
    "\n",
    "    model.add(tf.keras.layers.Dense(128, activation=\"relu\"))\n",
    "    model.add(tf.keras.layers.Dense(32, activation=\"relu\"))\n",
    "    # Output layer\n",
    "    model.add(tf.keras.layers.Dense(1, activation=\"sigmoid\"))\n",
    "    # Compile model\n",
    "    model.compile(optimizer=\"adam\",\n",
    "                  loss=\"binary_crossentropy\",\n",
    "                  metrics=[\"accuracy\", \"AUC\"])\n",
    "    return model\n",
    "\n",
    "binary_model = get_model()\n",
    "binary_model.fit(x_train, y_train, epochs=10, validation_data=(x_val, y_val))"
   ]
  },
  {
   "cell_type": "code",
   "execution_count": 7,
   "id": "b812d279",
   "metadata": {},
   "outputs": [
    {
     "name": "stdout",
     "output_type": "stream",
     "text": [
      "              precision    recall  f1-score   support\n",
      "\n",
      "           0       0.88      0.96      0.92      1156\n",
      "           1       0.93      0.83      0.87       824\n",
      "\n",
      "    accuracy                           0.90      1980\n",
      "   macro avg       0.91      0.89      0.90      1980\n",
      "weighted avg       0.90      0.90      0.90      1980\n",
      "\n"
     ]
    },
    {
     "name": "stderr",
     "output_type": "stream",
     "text": [
      "2022-05-12 14:26:04.895470: I tensorflow/core/grappler/optimizers/custom_graph_optimizer_registry.cc:113] Plugin optimizer for device_type GPU is enabled.\n"
     ]
    }
   ],
   "source": [
    "binary_pred = binary_model.predict(x_test)\n",
    "binary_classification_report(y_test, binary_pred)"
   ]
  },
  {
   "cell_type": "markdown",
   "id": "8f833819",
   "metadata": {},
   "source": [
    "### CNN with ZCA whitening"
   ]
  },
  {
   "cell_type": "code",
   "execution_count": 8,
   "id": "85e2096c",
   "metadata": {},
   "outputs": [
    {
     "name": "stderr",
     "output_type": "stream",
     "text": [
      "/opt/homebrew/Caskroom/miniforge/base/envs/tensorflow/lib/python3.9/site-packages/keras_preprocessing/image/image_data_generator.py:337: UserWarning: This ImageDataGenerator specifies `zca_whitening`, which overrides setting of `featurewise_center`.\n",
      "  warnings.warn('This ImageDataGenerator specifies '\n"
     ]
    },
    {
     "name": "stdout",
     "output_type": "stream",
     "text": [
      "Epoch 1/10\n"
     ]
    },
    {
     "name": "stderr",
     "output_type": "stream",
     "text": [
      "2022-05-12 14:26:21.579794: I tensorflow/core/grappler/optimizers/custom_graph_optimizer_registry.cc:113] Plugin optimizer for device_type GPU is enabled.\n"
     ]
    },
    {
     "name": "stdout",
     "output_type": "stream",
     "text": [
      "186/186 [==============================] - ETA: 0s - loss: 0.4804 - accuracy: 0.7657 - auc: 0.8482"
     ]
    },
    {
     "name": "stderr",
     "output_type": "stream",
     "text": [
      "2022-05-12 14:26:51.209116: I tensorflow/core/grappler/optimizers/custom_graph_optimizer_registry.cc:113] Plugin optimizer for device_type GPU is enabled.\n"
     ]
    },
    {
     "name": "stdout",
     "output_type": "stream",
     "text": [
      "186/186 [==============================] - 39s 205ms/step - loss: 0.4804 - accuracy: 0.7657 - auc: 0.8482 - val_loss: 0.3409 - val_accuracy: 0.8535 - val_auc: 0.9327\n",
      "Epoch 2/10\n",
      "186/186 [==============================] - 41s 219ms/step - loss: 0.2980 - accuracy: 0.8757 - auc: 0.9439 - val_loss: 0.3100 - val_accuracy: 0.8651 - val_auc: 0.9393\n",
      "Epoch 3/10\n",
      "186/186 [==============================] - 28s 149ms/step - loss: 0.2538 - accuracy: 0.8937 - auc: 0.9593 - val_loss: 0.3127 - val_accuracy: 0.8757 - val_auc: 0.9420\n",
      "Epoch 4/10\n",
      "186/186 [==============================] - 28s 149ms/step - loss: 0.2238 - accuracy: 0.9102 - auc: 0.9684 - val_loss: 0.3297 - val_accuracy: 0.8671 - val_auc: 0.9403\n",
      "Epoch 5/10\n",
      "186/186 [==============================] - 26s 141ms/step - loss: 0.1894 - accuracy: 0.9281 - auc: 0.9776 - val_loss: 0.3327 - val_accuracy: 0.8666 - val_auc: 0.9401\n",
      "Epoch 6/10\n",
      "186/186 [==============================] - 27s 143ms/step - loss: 0.1455 - accuracy: 0.9434 - auc: 0.9868 - val_loss: 0.3582 - val_accuracy: 0.8686 - val_auc: 0.9378\n",
      "Epoch 7/10\n",
      "186/186 [==============================] - 27s 146ms/step - loss: 0.1271 - accuracy: 0.9500 - auc: 0.9897 - val_loss: 0.4849 - val_accuracy: 0.8469 - val_auc: 0.9318\n",
      "Epoch 8/10\n",
      "186/186 [==============================] - 32s 172ms/step - loss: 0.1184 - accuracy: 0.9522 - auc: 0.9912 - val_loss: 0.4374 - val_accuracy: 0.8696 - val_auc: 0.9280\n",
      "Epoch 9/10\n",
      "186/186 [==============================] - 26s 137ms/step - loss: 0.1055 - accuracy: 0.9587 - auc: 0.9928 - val_loss: 0.3729 - val_accuracy: 0.8701 - val_auc: 0.9328\n",
      "Epoch 10/10\n",
      "186/186 [==============================] - 29s 158ms/step - loss: 0.0730 - accuracy: 0.9759 - auc: 0.9969 - val_loss: 0.4900 - val_accuracy: 0.8641 - val_auc: 0.9265\n"
     ]
    },
    {
     "data": {
      "text/plain": [
       "<keras.callbacks.History at 0x2d7fbe400>"
      ]
     },
     "execution_count": 8,
     "metadata": {},
     "output_type": "execute_result"
    }
   ],
   "source": [
    "# get zca whitening data\n",
    "datagen = ImageDataGenerator(\n",
    "    zca_whitening=True,\n",
    ")\n",
    "datagen.fit(images)\n",
    "\n",
    "zca_aug_train = datagen.flow(x_train, y_train, shuffle=True)\n",
    "zca_aug_val = datagen.flow(x_val, y_val, shuffle=True)\n",
    "\n",
    "zca_binary = get_model()\n",
    "zca_binary.fit(zca_aug_train, epochs=10, validation_data=zca_aug_val)"
   ]
  },
  {
   "cell_type": "code",
   "execution_count": 9,
   "id": "8eb4cec3",
   "metadata": {},
   "outputs": [
    {
     "name": "stderr",
     "output_type": "stream",
     "text": [
      "/var/folders/bc/1x56pk_j3glgqwsdp02fbltm0000gn/T/ipykernel_64239/2020905885.py:2: UserWarning: `Model.predict_generator` is deprecated and will be removed in a future version. Please use `Model.predict`, which supports generators.\n",
      "  zca_binary_pred = zca_binary.predict_generator(zca_aug_test)\n",
      "2022-05-12 14:31:23.631797: I tensorflow/core/grappler/optimizers/custom_graph_optimizer_registry.cc:113] Plugin optimizer for device_type GPU is enabled.\n"
     ]
    },
    {
     "name": "stdout",
     "output_type": "stream",
     "text": [
      "              precision    recall  f1-score   support\n",
      "\n",
      "           0       0.89      0.88      0.89      1156\n",
      "           1       0.84      0.85      0.84       824\n",
      "\n",
      "    accuracy                           0.87      1980\n",
      "   macro avg       0.86      0.86      0.86      1980\n",
      "weighted avg       0.87      0.87      0.87      1980\n",
      "\n"
     ]
    }
   ],
   "source": [
    "zca_aug_test = datagen.flow(x_test, shuffle=False)\n",
    "zca_binary_pred = zca_binary.predict_generator(zca_aug_test)\n",
    "\n",
    "binary_classification_report(y_test, zca_binary_pred)"
   ]
  },
  {
   "cell_type": "markdown",
   "id": "886dd6f9",
   "metadata": {},
   "source": [
    "### CNN with rotation"
   ]
  },
  {
   "cell_type": "code",
   "execution_count": 10,
   "id": "75a864a6",
   "metadata": {},
   "outputs": [
    {
     "name": "stdout",
     "output_type": "stream",
     "text": [
      "Epoch 1/10\n"
     ]
    },
    {
     "name": "stderr",
     "output_type": "stream",
     "text": [
      "2022-05-12 14:31:29.316158: I tensorflow/core/grappler/optimizers/custom_graph_optimizer_registry.cc:113] Plugin optimizer for device_type GPU is enabled.\n"
     ]
    },
    {
     "name": "stdout",
     "output_type": "stream",
     "text": [
      "186/186 [==============================] - ETA: 0s - loss: 0.4690 - accuracy: 0.7741 - auc: 0.8559"
     ]
    },
    {
     "name": "stderr",
     "output_type": "stream",
     "text": [
      "2022-05-12 14:31:31.568984: I tensorflow/core/grappler/optimizers/custom_graph_optimizer_registry.cc:113] Plugin optimizer for device_type GPU is enabled.\n"
     ]
    },
    {
     "name": "stdout",
     "output_type": "stream",
     "text": [
      "186/186 [==============================] - 3s 13ms/step - loss: 0.4690 - accuracy: 0.7741 - auc: 0.8559 - val_loss: 0.5097 - val_accuracy: 0.7499 - val_auc: 0.9391\n",
      "Epoch 2/10\n",
      "186/186 [==============================] - 2s 11ms/step - loss: 0.3441 - accuracy: 0.8509 - auc: 0.9252 - val_loss: 0.3260 - val_accuracy: 0.8585 - val_auc: 0.9493\n",
      "Epoch 3/10\n",
      "186/186 [==============================] - 2s 11ms/step - loss: 0.3282 - accuracy: 0.8604 - auc: 0.9318 - val_loss: 0.2783 - val_accuracy: 0.8873 - val_auc: 0.9535\n",
      "Epoch 4/10\n",
      "186/186 [==============================] - 2s 11ms/step - loss: 0.3031 - accuracy: 0.8708 - auc: 0.9418 - val_loss: 0.2864 - val_accuracy: 0.8818 - val_auc: 0.9516\n",
      "Epoch 5/10\n",
      "186/186 [==============================] - 2s 11ms/step - loss: 0.3018 - accuracy: 0.8791 - auc: 0.9421 - val_loss: 0.2700 - val_accuracy: 0.8853 - val_auc: 0.9552\n",
      "Epoch 6/10\n",
      "186/186 [==============================] - 2s 10ms/step - loss: 0.2960 - accuracy: 0.8760 - auc: 0.9446 - val_loss: 0.2674 - val_accuracy: 0.8893 - val_auc: 0.9567\n",
      "Epoch 7/10\n",
      "186/186 [==============================] - 2s 10ms/step - loss: 0.2795 - accuracy: 0.8863 - auc: 0.9503 - val_loss: 0.2654 - val_accuracy: 0.8919 - val_auc: 0.9558\n",
      "Epoch 8/10\n",
      "186/186 [==============================] - 2s 10ms/step - loss: 0.2814 - accuracy: 0.8831 - auc: 0.9499 - val_loss: 0.3483 - val_accuracy: 0.8489 - val_auc: 0.9561\n",
      "Epoch 9/10\n",
      "186/186 [==============================] - 2s 11ms/step - loss: 0.2831 - accuracy: 0.8850 - auc: 0.9492 - val_loss: 0.3889 - val_accuracy: 0.8297 - val_auc: 0.9539\n",
      "Epoch 10/10\n",
      "186/186 [==============================] - 2s 11ms/step - loss: 0.2865 - accuracy: 0.8806 - auc: 0.9480 - val_loss: 0.2690 - val_accuracy: 0.8848 - val_auc: 0.9563\n"
     ]
    },
    {
     "data": {
      "text/plain": [
       "<keras.callbacks.History at 0x28e471eb0>"
      ]
     },
     "execution_count": 10,
     "metadata": {},
     "output_type": "execute_result"
    }
   ],
   "source": [
    "# get rotation data\n",
    "datagen = ImageDataGenerator(\n",
    "    rotation_range=45,\n",
    ")\n",
    "datagen.fit(images)\n",
    "\n",
    "aug_train = datagen.flow(x_train, y_train, shuffle=True)\n",
    "aug_val = datagen.flow(x_val, y_val, shuffle=True)\n",
    "\n",
    "rotation_binary = get_model()\n",
    "rotation_binary.fit(aug_train, epochs=10, validation_data=aug_val)"
   ]
  },
  {
   "cell_type": "code",
   "execution_count": 11,
   "id": "1f4472be",
   "metadata": {},
   "outputs": [
    {
     "name": "stderr",
     "output_type": "stream",
     "text": [
      "/var/folders/bc/1x56pk_j3glgqwsdp02fbltm0000gn/T/ipykernel_64239/786871663.py:3: UserWarning: `Model.predict_generator` is deprecated and will be removed in a future version. Please use `Model.predict`, which supports generators.\n",
      "  rotation_pred = rotation_binary.predict_generator(aug_test)\n",
      "2022-05-12 14:31:50.182330: I tensorflow/core/grappler/optimizers/custom_graph_optimizer_registry.cc:113] Plugin optimizer for device_type GPU is enabled.\n"
     ]
    },
    {
     "name": "stdout",
     "output_type": "stream",
     "text": [
      "              precision    recall  f1-score   support\n",
      "\n",
      "           0       0.94      0.90      0.92      1156\n",
      "           1       0.87      0.91      0.89       824\n",
      "\n",
      "    accuracy                           0.91      1980\n",
      "   macro avg       0.90      0.91      0.91      1980\n",
      "weighted avg       0.91      0.91      0.91      1980\n",
      "\n"
     ]
    }
   ],
   "source": [
    "aug_test = datagen.flow(x_test, shuffle=False)\n",
    "\n",
    "rotation_pred = rotation_binary.predict_generator(aug_test)\n",
    "binary_classification_report(y_test, rotation_pred)"
   ]
  },
  {
   "cell_type": "markdown",
   "id": "5f6888d1",
   "metadata": {},
   "source": [
    "### Tune CNN model\n",
    "\n",
    "**Parameters that affect the output of models:**\n",
    "- Size of kernel of Convolution/Pooling Layers\n",
    "- Strides of Convolution/Pooling Layers\n",
    "- Activation function\n",
    "\n",
    "**Other aspects that would affect the output of models**\n",
    "- Number of Convolution/Pooling layers\n",
    "- Number of hidden layer\n",
    "\n",
    "**Method of tuning**: for this problem, the tuning being applied is RandomSearch as there are many combinations to adjust the model. The tuning progress would be carried out both manually and by using keras tuner"
   ]
  },
  {
   "cell_type": "code",
   "execution_count": 12,
   "id": "2edb288b",
   "metadata": {},
   "outputs": [
    {
     "name": "stdout",
     "output_type": "stream",
     "text": [
      "INFO:tensorflow:Reloading Oracle from existing project ./untitled_project/oracle.json\n",
      "INFO:tensorflow:Reloading Tuner from ./untitled_project/tuner0.json\n",
      "INFO:tensorflow:Oracle triggered exit\n"
     ]
    }
   ],
   "source": [
    "def cnn_tuner(hp):\n",
    "    model = tf.keras.Sequential()\n",
    "\n",
    "    for i in range(hp.Int(f'no_cnn', 1, 4, step=1)):\n",
    "        # Convolutional layers (filter the image with a kernel)\n",
    "        model.add(tf.keras.layers.Conv2D(hp.Int(f'convo_filter_{i}', 16, 128, step=16), (3, 3), strides=1,activation=hp.Choice(f\"activation_convo_{i}\", [\"relu\", \"sigmoid\", \"softmax\", \"tanh\"]), input_shape=[27, 27, 3]))\n",
    "        # Max-pooling layers (reduce the size of the image by choosing max pixel at certain area)\n",
    "        model.add(tf.keras.layers.MaxPool2D(pool_size=(2, 2), strides=1,))\n",
    "        \n",
    "    # Flatten input\n",
    "    model.add(tf.keras.layers.Flatten())\n",
    "\n",
    "    # hidden layers\n",
    "    for i in range(hp.Int('layers_no', 1, 4)):\n",
    "        model.add(tf.keras.layers.Dense(hp.Int(f'hidden_layer_{i}', 32, 256, step=32), activation=hp.Choice(f\"activation_hidden_{i}\", [\"relu\", \"sigmoid\", \"softmax\", \"tanh\"])))\n",
    "        \n",
    "    # output layer\n",
    "    model.add(tf.keras.layers.Dense(1, activation=\"sigmoid\"))   \n",
    "    # Compile model\n",
    "    model.compile(optimizer=\"adam\",\n",
    "                  loss=\"binary_crossentropy\",\n",
    "                  metrics=[\"accuracy\", \"AUC\"])\n",
    "    \n",
    "    return model\n",
    "              \n",
    "tuner = kt.RandomSearch(cnn_tuner, objective=\"val_accuracy\", max_trials=5)\n",
    "\n",
    "tuner.search(x_train, y_train, epochs=5, validation_data=(x_val, y_val))\n",
    "best_model = tuner.get_best_models()[0]"
   ]
  },
  {
   "cell_type": "code",
   "execution_count": 13,
   "id": "075833c5",
   "metadata": {},
   "outputs": [
    {
     "name": "stdout",
     "output_type": "stream",
     "text": [
      "Best number of CNN layer: 4\n",
      "Best number of hidden layer: 2\n",
      "Best filter in CNN layer 0: 32\n",
      "Best activation in CNN layer 0: relu\n",
      "Best filter in CNN layer 1: 48\n",
      "Best activation in CNN layer 1: relu\n",
      "Best filter in CNN layer 2: 16\n",
      "Best activation in CNN layer 2: relu\n",
      "Best filter in CNN layer 3: 16\n",
      "Best activation in CNN layer 3: relu\n",
      "Best nodes in hidden layer 0: 192\n",
      "Best activation in hidden layer 0: relu\n",
      "Best nodes in hidden layer 1: 128\n",
      "Best activation in hidden layer 1: sigmoid\n"
     ]
    }
   ],
   "source": [
    "# print(f\"Best Convolution filter: {tuner.get_best_hyperparameters()[0].get('convo_filter')}\")\n",
    "print(f\"Best number of CNN layer: {tuner.get_best_hyperparameters()[0].get('no_cnn')}\")\n",
    "print(f\"Best number of hidden layer: {tuner.get_best_hyperparameters()[0].get('layers_no')}\")\n",
    "\n",
    "for i in range(tuner.get_best_hyperparameters()[0].get('no_cnn')):\n",
    "    print(f\"Best filter in CNN layer {i}: {tuner.get_best_hyperparameters()[0].get(f'convo_filter_{i}')}\")\n",
    "    print(f\"Best activation in CNN layer {i}: {tuner.get_best_hyperparameters()[0].get(f'activation_convo_{i}')}\")\n",
    "\n",
    "for i in range(tuner.get_best_hyperparameters()[0].get('layers_no')):\n",
    "    print(f\"Best nodes in hidden layer {i}: {tuner.get_best_hyperparameters()[0].get(f'hidden_layer_{i}')}\")\n",
    "    print(f\"Best activation in hidden layer {i}: {tuner.get_best_hyperparameters()[0].get(f'activation_hidden_{i}')}\")"
   ]
  },
  {
   "cell_type": "code",
   "execution_count": 14,
   "id": "01340ba4",
   "metadata": {},
   "outputs": [
    {
     "name": "stdout",
     "output_type": "stream",
     "text": [
      "Epoch 1/10\n"
     ]
    },
    {
     "name": "stderr",
     "output_type": "stream",
     "text": [
      "2022-05-12 14:31:51.068282: I tensorflow/core/grappler/optimizers/custom_graph_optimizer_registry.cc:113] Plugin optimizer for device_type GPU is enabled.\n"
     ]
    },
    {
     "name": "stdout",
     "output_type": "stream",
     "text": [
      "186/186 [==============================] - ETA: 0s - loss: 0.3014 - accuracy: 0.8732 - auc: 0.9420"
     ]
    },
    {
     "name": "stderr",
     "output_type": "stream",
     "text": [
      "2022-05-12 14:31:53.807574: I tensorflow/core/grappler/optimizers/custom_graph_optimizer_registry.cc:113] Plugin optimizer for device_type GPU is enabled.\n"
     ]
    },
    {
     "name": "stdout",
     "output_type": "stream",
     "text": [
      "186/186 [==============================] - 3s 16ms/step - loss: 0.3014 - accuracy: 0.8732 - auc: 0.9420 - val_loss: 0.2713 - val_accuracy: 0.8929 - val_auc: 0.9560\n",
      "Epoch 2/10\n",
      "186/186 [==============================] - 3s 15ms/step - loss: 0.2902 - accuracy: 0.8737 - auc: 0.9466 - val_loss: 0.2587 - val_accuracy: 0.9005 - val_auc: 0.9608\n",
      "Epoch 3/10\n",
      "186/186 [==============================] - 3s 15ms/step - loss: 0.2775 - accuracy: 0.8819 - auc: 0.9513 - val_loss: 0.2830 - val_accuracy: 0.8742 - val_auc: 0.9617\n",
      "Epoch 4/10\n",
      "186/186 [==============================] - 3s 14ms/step - loss: 0.2733 - accuracy: 0.8865 - auc: 0.9528 - val_loss: 0.2465 - val_accuracy: 0.9045 - val_auc: 0.9617\n",
      "Epoch 5/10\n",
      "186/186 [==============================] - 3s 15ms/step - loss: 0.2724 - accuracy: 0.8833 - auc: 0.9534 - val_loss: 0.2338 - val_accuracy: 0.9096 - val_auc: 0.9652\n",
      "Epoch 6/10\n",
      "186/186 [==============================] - 3s 15ms/step - loss: 0.2728 - accuracy: 0.8850 - auc: 0.9531 - val_loss: 0.2862 - val_accuracy: 0.8838 - val_auc: 0.9571\n",
      "Epoch 7/10\n",
      "186/186 [==============================] - 3s 14ms/step - loss: 0.2669 - accuracy: 0.8892 - auc: 0.9549 - val_loss: 0.2577 - val_accuracy: 0.8970 - val_auc: 0.9636\n",
      "Epoch 8/10\n",
      "186/186 [==============================] - 3s 15ms/step - loss: 0.2574 - accuracy: 0.8905 - auc: 0.9582 - val_loss: 0.2470 - val_accuracy: 0.9051 - val_auc: 0.9639\n",
      "Epoch 9/10\n",
      "186/186 [==============================] - 3s 14ms/step - loss: 0.2569 - accuracy: 0.8907 - auc: 0.9582 - val_loss: 0.2828 - val_accuracy: 0.8753 - val_auc: 0.9566\n",
      "Epoch 10/10\n",
      "186/186 [==============================] - 3s 14ms/step - loss: 0.2347 - accuracy: 0.9023 - auc: 0.9652 - val_loss: 0.2392 - val_accuracy: 0.9000 - val_auc: 0.9641\n"
     ]
    },
    {
     "data": {
      "text/plain": [
       "<keras.callbacks.History at 0x2d25ce9a0>"
      ]
     },
     "execution_count": 14,
     "metadata": {},
     "output_type": "execute_result"
    }
   ],
   "source": [
    "best_model.fit(x_train, y_train, epochs=10, validation_data=(x_test, y_test))"
   ]
  },
  {
   "cell_type": "code",
   "execution_count": 15,
   "id": "f1b1a51c",
   "metadata": {},
   "outputs": [
    {
     "name": "stdout",
     "output_type": "stream",
     "text": [
      "              precision    recall  f1-score   support\n",
      "\n",
      "           0       0.92      0.90      0.91      1156\n",
      "           1       0.87      0.90      0.88       824\n",
      "\n",
      "    accuracy                           0.90      1980\n",
      "   macro avg       0.90      0.90      0.90      1980\n",
      "weighted avg       0.90      0.90      0.90      1980\n",
      "\n"
     ]
    },
    {
     "name": "stderr",
     "output_type": "stream",
     "text": [
      "2022-05-12 14:32:18.524514: I tensorflow/core/grappler/optimizers/custom_graph_optimizer_registry.cc:113] Plugin optimizer for device_type GPU is enabled.\n"
     ]
    }
   ],
   "source": [
    "binary_tuned_pred = best_model.predict(x_test)\n",
    "binary_classification_report(y_test, binary_tuned_pred)"
   ]
  },
  {
   "cell_type": "markdown",
   "id": "63e5992e",
   "metadata": {},
   "source": [
    "### Ensemble model"
   ]
  },
  {
   "cell_type": "code",
   "execution_count": 16,
   "id": "2bc84924",
   "metadata": {},
   "outputs": [],
   "source": [
    "# intialize and train sub-models\n",
    "def get_sub_model():\n",
    "    # number of sub models\n",
    "    nets = 5\n",
    "    sub_models = [0]*nets\n",
    "    model_path = os.path.join(root, \"binary_submodels\")\n",
    "    \n",
    "    if not path.exists(model_path) or len(os.listdir(model_path))!=nets:\n",
    "        for i in range(nets):\n",
    "            model = get_model()\n",
    "            # fit sub_model with train and test data\n",
    "            model.fit(x_train, y_train, epochs=5, validation_data=(x_val, y_val))\n",
    "            # save fitted sub_model to model list\n",
    "            sub_models[i] = model\n",
    "            \n",
    "            # new file dir\n",
    "            new_dir = os.path.join(model_path, f'submodel_{i}.h5')\n",
    "            # save model to file\n",
    "            model.save(new_dir)\n",
    "        return sub_models\n",
    "    else:\n",
    "        for i in range(nets):\n",
    "            sub_models[i]=keras.models.load_model(os.path.join(model_path, f'submodel_{i}.h5'))\n",
    "        \n",
    "        return sub_models\n",
    "    \n",
    "sub_models = get_sub_model()"
   ]
  },
  {
   "cell_type": "code",
   "execution_count": 17,
   "id": "e90d20eb",
   "metadata": {},
   "outputs": [],
   "source": [
    "# method to get output from submodels to feed meta_learner\n",
    "# shape of dataset would be (no rows of OG dataset, [no output of sub model * no sub model])\n",
    "def get_ensembled_x(x):\n",
    "    ensembled_data = None\n",
    "    for sub_model in sub_models:\n",
    "        prediction = sub_model.predict(x)\n",
    "        \n",
    "        # stack prediction of sub model to ensembled data\n",
    "        if ensembled_data is None:\n",
    "            ensembled_data = prediction\n",
    "        else:\n",
    "            ensembled_data = np.dstack((ensembled_data, prediction))\n",
    "            \n",
    "    # ensemble data initially shape iz (no_col, no submodels, no classes)        \n",
    "    # reshape to (no_col, no submodels*no classes)\n",
    "    ensembled_data = ensembled_data.reshape(ensembled_data.shape[0], ensembled_data.shape[1]*ensembled_data.shape[2])\n",
    "    return ensembled_data\n",
    "\n",
    "def get_meta_learner():\n",
    "    model = tf.keras.Sequential()\n",
    "    # Flatten input\n",
    "    model.add(tf.keras.layers.Flatten())\n",
    "    # Hidden layers\n",
    "    model.add(tf.keras.layers.Dense(256, activation=\"tanh\"))\n",
    "    model.add(tf.keras.layers.Dense(128, activation=\"softmax\"))\n",
    "    model.add(tf.keras.layers.Dense(32, activation=\"relu\"))\n",
    "    # Output layer\n",
    "    model.add(tf.keras.layers.Dense(1, activation=\"sigmoid\"))\n",
    "    # Compile model\n",
    "    model.compile(optimizer=\"adam\",\n",
    "                  loss=\"binary_crossentropy\",\n",
    "                  metrics=[\"accuracy\", \"AUC\"])\n",
    "    \n",
    "    # get train ensembled data\n",
    "    ensembled_x = get_ensembled_x(x_train)\n",
    "    \n",
    "    model.fit(ensembled_x, y_train, epochs=10)\n",
    "    return model "
   ]
  },
  {
   "cell_type": "code",
   "execution_count": 18,
   "id": "9b341ecb",
   "metadata": {},
   "outputs": [
    {
     "name": "stderr",
     "output_type": "stream",
     "text": [
      "2022-05-12 14:32:19.006747: I tensorflow/core/grappler/optimizers/custom_graph_optimizer_registry.cc:113] Plugin optimizer for device_type GPU is enabled.\n",
      "2022-05-12 14:32:19.157442: I tensorflow/core/grappler/optimizers/custom_graph_optimizer_registry.cc:113] Plugin optimizer for device_type GPU is enabled.\n",
      "2022-05-12 14:32:19.311904: I tensorflow/core/grappler/optimizers/custom_graph_optimizer_registry.cc:113] Plugin optimizer for device_type GPU is enabled.\n",
      "2022-05-12 14:32:19.491760: I tensorflow/core/grappler/optimizers/custom_graph_optimizer_registry.cc:113] Plugin optimizer for device_type GPU is enabled.\n",
      "2022-05-12 14:32:19.652688: I tensorflow/core/grappler/optimizers/custom_graph_optimizer_registry.cc:113] Plugin optimizer for device_type GPU is enabled.\n"
     ]
    },
    {
     "name": "stdout",
     "output_type": "stream",
     "text": [
      "Epoch 1/10\n",
      "  1/186 [..............................] - ETA: 1:09 - loss: 0.6932 - accuracy: 0.4062 - auc: 0.5000"
     ]
    },
    {
     "name": "stderr",
     "output_type": "stream",
     "text": [
      "2022-05-12 14:32:21.588770: I tensorflow/core/grappler/optimizers/custom_graph_optimizer_registry.cc:113] Plugin optimizer for device_type GPU is enabled.\n"
     ]
    },
    {
     "name": "stdout",
     "output_type": "stream",
     "text": [
      "186/186 [==============================] - 2s 8ms/step - loss: 0.4885 - accuracy: 0.8801 - auc: 0.9119\n",
      "Epoch 2/10\n",
      "186/186 [==============================] - 2s 8ms/step - loss: 0.2777 - accuracy: 0.8978 - auc: 0.9525\n",
      "Epoch 3/10\n",
      "186/186 [==============================] - 2s 8ms/step - loss: 0.2556 - accuracy: 0.8996 - auc: 0.9592\n",
      "Epoch 4/10\n",
      "186/186 [==============================] - 1s 8ms/step - loss: 0.2523 - accuracy: 0.8976 - auc: 0.9589\n",
      "Epoch 5/10\n",
      "186/186 [==============================] - 1s 8ms/step - loss: 0.2500 - accuracy: 0.8993 - auc: 0.9607\n",
      "Epoch 6/10\n",
      "186/186 [==============================] - 1s 8ms/step - loss: 0.2492 - accuracy: 0.8991 - auc: 0.9612\n",
      "Epoch 7/10\n",
      "186/186 [==============================] - 1s 8ms/step - loss: 0.2478 - accuracy: 0.9001 - auc: 0.9612\n",
      "Epoch 8/10\n",
      "186/186 [==============================] - 1s 8ms/step - loss: 0.2478 - accuracy: 0.9008 - auc: 0.9612\n",
      "Epoch 9/10\n",
      "186/186 [==============================] - 1s 8ms/step - loss: 0.2493 - accuracy: 0.8996 - auc: 0.9610\n",
      "Epoch 10/10\n",
      "186/186 [==============================] - 1s 8ms/step - loss: 0.2463 - accuracy: 0.8984 - auc: 0.9618\n"
     ]
    }
   ],
   "source": [
    "# evaluate with ensembled CNN model\n",
    "# get test data\n",
    "ensembled_x_test = get_ensembled_x(x_test)\n",
    "# get trained ensemble model\n",
    "ensembled_model = get_meta_learner()"
   ]
  },
  {
   "cell_type": "code",
   "execution_count": 19,
   "id": "43caeba6",
   "metadata": {},
   "outputs": [
    {
     "name": "stdout",
     "output_type": "stream",
     "text": [
      "              precision    recall  f1-score   support\n",
      "\n",
      "           0       0.91      0.95      0.93      1156\n",
      "           1       0.92      0.87      0.89       824\n",
      "\n",
      "    accuracy                           0.91      1980\n",
      "   macro avg       0.91      0.91      0.91      1980\n",
      "weighted avg       0.91      0.91      0.91      1980\n",
      "\n"
     ]
    },
    {
     "name": "stderr",
     "output_type": "stream",
     "text": [
      "2022-05-12 14:32:36.686614: I tensorflow/core/grappler/optimizers/custom_graph_optimizer_registry.cc:113] Plugin optimizer for device_type GPU is enabled.\n"
     ]
    }
   ],
   "source": [
    "# evaluate\n",
    "ensemble_pred = ensembled_model.predict(ensembled_x_test)\n",
    "binary_classification_report(y_test, ensemble_pred)"
   ]
  },
  {
   "cell_type": "markdown",
   "id": "4b8319ef",
   "metadata": {},
   "source": [
    "## II) Task 2 - Multiclasses classification\n"
   ]
  },
  {
   "cell_type": "markdown",
   "id": "50aacf33",
   "metadata": {},
   "source": [
    "### Load data for multiclasses"
   ]
  },
  {
   "cell_type": "code",
   "execution_count": 20,
   "id": "40e48c0b",
   "metadata": {},
   "outputs": [],
   "source": [
    "all_class = [\"epithelial\", \"fibroblast\", \"inflammatory\", \"others\"]\n",
    "\n",
    "\n",
    "cell_img, celltype_label = celltype_classify_data(all_class)\n",
    "cell_img, celltype_label = np.array(cell_img), np.array(celltype_label)\n",
    "\n",
    "x_train_val, x_test, y_train_val, y_test = train_test_split(\n",
    "    cell_img, celltype_label, test_size=0.2\n",
    ")\n",
    "\n",
    "x_train, x_val, y_train, y_val = train_test_split(\n",
    "    x_train_val, y_train_val, test_size=0.25\n",
    ")"
   ]
  },
  {
   "cell_type": "markdown",
   "id": "77393f00",
   "metadata": {},
   "source": [
    "### Base model for multiclass  "
   ]
  },
  {
   "cell_type": "code",
   "execution_count": 21,
   "id": "a3409180",
   "metadata": {
    "scrolled": true
   },
   "outputs": [
    {
     "data": {
      "image/png": "[encoded data removed]",
      "text/plain": [
       "<Figure size 720x720 with 25 Axes>"
      ]
     },
     "metadata": {},
     "output_type": "display_data"
    },
    {
     "name": "stdout",
     "output_type": "stream",
     "text": [
      "Epoch 1/15\n",
      "  1/186 [..............................] - ETA: 1:19 - loss: 1.3884 - accuracy: 0.2500"
     ]
    },
    {
     "name": "stderr",
     "output_type": "stream",
     "text": [
      "2022-05-12 14:32:39.242249: I tensorflow/core/grappler/optimizers/custom_graph_optimizer_registry.cc:113] Plugin optimizer for device_type GPU is enabled.\n"
     ]
    },
    {
     "name": "stdout",
     "output_type": "stream",
     "text": [
      "186/186 [==============================] - ETA: 0s - loss: 1.0555 - accuracy: 0.5599"
     ]
    },
    {
     "name": "stderr",
     "output_type": "stream",
     "text": [
      "2022-05-12 14:32:42.267385: I tensorflow/core/grappler/optimizers/custom_graph_optimizer_registry.cc:113] Plugin optimizer for device_type GPU is enabled.\n"
     ]
    },
    {
     "name": "stdout",
     "output_type": "stream",
     "text": [
      "186/186 [==============================] - 4s 18ms/step - loss: 1.0555 - accuracy: 0.5599 - val_loss: 0.9096 - val_accuracy: 0.6513\n",
      "Epoch 2/15\n",
      "186/186 [==============================] - 3s 16ms/step - loss: 0.8435 - accuracy: 0.6682 - val_loss: 0.8326 - val_accuracy: 0.6741\n",
      "Epoch 3/15\n",
      "186/186 [==============================] - 3s 15ms/step - loss: 0.7411 - accuracy: 0.7147 - val_loss: 0.8229 - val_accuracy: 0.6842\n",
      "Epoch 4/15\n",
      "186/186 [==============================] - 3s 16ms/step - loss: 0.7120 - accuracy: 0.7266 - val_loss: 0.7901 - val_accuracy: 0.6963\n",
      "Epoch 5/15\n",
      "186/186 [==============================] - 3s 15ms/step - loss: 0.6984 - accuracy: 0.7265 - val_loss: 0.6761 - val_accuracy: 0.7352\n",
      "Epoch 6/15\n",
      "186/186 [==============================] - 3s 15ms/step - loss: 0.6279 - accuracy: 0.7607 - val_loss: 0.7804 - val_accuracy: 0.7150\n",
      "Epoch 7/15\n",
      "186/186 [==============================] - 3s 15ms/step - loss: 0.6026 - accuracy: 0.7632 - val_loss: 0.6913 - val_accuracy: 0.7312\n",
      "Epoch 8/15\n",
      "186/186 [==============================] - 3s 15ms/step - loss: 0.5519 - accuracy: 0.7901 - val_loss: 0.7218 - val_accuracy: 0.7110\n",
      "Epoch 9/15\n",
      "186/186 [==============================] - 3s 15ms/step - loss: 0.5254 - accuracy: 0.7999 - val_loss: 0.7763 - val_accuracy: 0.7140\n",
      "Epoch 10/15\n",
      "186/186 [==============================] - 3s 15ms/step - loss: 0.4632 - accuracy: 0.8243 - val_loss: 0.7870 - val_accuracy: 0.7084\n",
      "Epoch 11/15\n",
      "186/186 [==============================] - 3s 15ms/step - loss: 0.4765 - accuracy: 0.8210 - val_loss: 0.8902 - val_accuracy: 0.6857\n",
      "Epoch 12/15\n",
      "186/186 [==============================] - 3s 15ms/step - loss: 0.3906 - accuracy: 0.8543 - val_loss: 0.8366 - val_accuracy: 0.7256\n",
      "Epoch 13/15\n",
      "186/186 [==============================] - 3s 15ms/step - loss: 0.3363 - accuracy: 0.8770 - val_loss: 0.8383 - val_accuracy: 0.7388\n",
      "Epoch 14/15\n",
      "186/186 [==============================] - 3s 15ms/step - loss: 0.2664 - accuracy: 0.9048 - val_loss: 1.1508 - val_accuracy: 0.6721\n",
      "Epoch 15/15\n",
      "186/186 [==============================] - 3s 15ms/step - loss: 0.2324 - accuracy: 0.9193 - val_loss: 1.0145 - val_accuracy: 0.7094\n"
     ]
    },
    {
     "data": {
      "text/plain": [
       "<keras.callbacks.History at 0x2c5dd7f70>"
      ]
     },
     "execution_count": 21,
     "metadata": {},
     "output_type": "execute_result"
    }
   ],
   "source": [
    "\n",
    "# print first 25 images\n",
    "plt.figure(figsize=(10,10))\n",
    "for i in range(25):\n",
    "    plt.subplot(5,5,i+1)\n",
    "    plt.xticks([])\n",
    "    plt.yticks([])\n",
    "    plt.grid(False)\n",
    "    plt.imshow(x_train[i], cmap=plt.cm.binary)\n",
    "    plt.xlabel(all_class[y_train[i]])\n",
    "plt.show()\n",
    "\n",
    "def get_multiclass_model():\n",
    "    model = tf.keras.Sequential()\n",
    "    # First convo-pooling\n",
    "    # Convolutional layers (filter the image with a kernel)\n",
    "    model.add(tf.keras.layers.Conv2D(64, (3, 3), strides=1,activation=\"relu\", input_shape=[27, 27, 3]))\n",
    "    # Max-pooling layers (reduce the size of the image by choosing max pixel at certain area)\n",
    "    model.add(tf.keras.layers.MaxPool2D(pool_size=(2, 2), strides=1))\n",
    "    \n",
    "    # Second convo-pooling\n",
    "    # Convolutional layers (filter the image with a kernel)\n",
    "    model.add(tf.keras.layers.Conv2D(64, (3, 3),strides=1, activation=\"relu\"))\n",
    "    # Max-pooling layers (reduce the size of the image by choosing max pixel at certain area)\n",
    "    model.add(tf.keras.layers.MaxPool2D(pool_size=(2, 2),strides=1))\n",
    "    \n",
    "    # Flatten input\n",
    "    model.add(tf.keras.layers.Flatten())\n",
    "    model.add(tf.keras.layers.Dense(256, activation=\"relu\"))\n",
    "    model.add(tf.keras.layers.Dense(128, activation=\"relu\"))\n",
    "    model.add(tf.keras.layers.Dense(32, activation=\"relu\"))\n",
    "    # Output layer\n",
    "    model.add(tf.keras.layers.Dense(4, activation=\"softmax\"))\n",
    "    # Compile model \n",
    "    model.compile(optimizer=\"adam\",\n",
    "                  loss=\"sparse_categorical_crossentropy\",\n",
    "                  metrics=[\"accuracy\"])\n",
    "    \n",
    "    return model\n",
    "\n",
    "multi_model = get_multiclass_model()\n",
    "multi_model.fit(x_train, y_train, epochs=15, validation_data=(x_val, y_val))"
   ]
  },
  {
   "cell_type": "code",
   "execution_count": 22,
   "id": "b7bc81c2",
   "metadata": {},
   "outputs": [
    {
     "name": "stderr",
     "output_type": "stream",
     "text": [
      "2022-05-12 14:33:22.091604: I tensorflow/core/grappler/optimizers/custom_graph_optimizer_registry.cc:113] Plugin optimizer for device_type GPU is enabled.\n"
     ]
    },
    {
     "name": "stdout",
     "output_type": "stream",
     "text": [
      "              precision    recall  f1-score   support\n",
      "\n",
      "           0       0.83      0.85      0.84       798\n",
      "           1       0.69      0.57      0.63       368\n",
      "           2       0.67      0.69      0.68       533\n",
      "           3       0.42      0.46      0.44       281\n",
      "\n",
      "    accuracy                           0.70      1980\n",
      "   macro avg       0.65      0.64      0.65      1980\n",
      "weighted avg       0.70      0.70      0.70      1980\n",
      "\n"
     ]
    }
   ],
   "source": [
    "multi_pred = multi_model.predict(x_test)\n",
    "multiclass_classification_report(y_test, multi_pred)"
   ]
  },
  {
   "cell_type": "markdown",
   "id": "d59cfe83",
   "metadata": {},
   "source": [
    "### Base CNN + ZCA whitening"
   ]
  },
  {
   "cell_type": "code",
   "execution_count": 33,
   "id": "9d5d5373",
   "metadata": {
    "scrolled": true
   },
   "outputs": [
    {
     "name": "stderr",
     "output_type": "stream",
     "text": [
      "/opt/homebrew/Caskroom/miniforge/base/envs/tensorflow/lib/python3.9/site-packages/keras_preprocessing/image/image_data_generator.py:337: UserWarning: This ImageDataGenerator specifies `zca_whitening`, which overrides setting of `featurewise_center`.\n",
      "  warnings.warn('This ImageDataGenerator specifies '\n"
     ]
    },
    {
     "name": "stdout",
     "output_type": "stream",
     "text": [
      "Epoch 1/10\n"
     ]
    },
    {
     "name": "stderr",
     "output_type": "stream",
     "text": [
      "2022-05-12 14:45:15.851628: I tensorflow/core/grappler/optimizers/custom_graph_optimizer_registry.cc:113] Plugin optimizer for device_type GPU is enabled.\n"
     ]
    },
    {
     "name": "stdout",
     "output_type": "stream",
     "text": [
      "185/186 [============================>.] - ETA: 0s - loss: 1.2341 - accuracy: 0.4483"
     ]
    },
    {
     "name": "stderr",
     "output_type": "stream",
     "text": [
      "2022-05-12 14:45:28.747084: I tensorflow/core/grappler/optimizers/custom_graph_optimizer_registry.cc:113] Plugin optimizer for device_type GPU is enabled.\n"
     ]
    },
    {
     "name": "stdout",
     "output_type": "stream",
     "text": [
      "186/186 [==============================] - 17s 87ms/step - loss: 1.2329 - accuracy: 0.4489 - val_loss: 1.1152 - val_accuracy: 0.5184\n",
      "Epoch 2/10\n",
      "186/186 [==============================] - 16s 83ms/step - loss: 0.9870 - accuracy: 0.5872 - val_loss: 1.0088 - val_accuracy: 0.5841\n",
      "Epoch 3/10\n",
      "186/186 [==============================] - 19s 101ms/step - loss: 0.8382 - accuracy: 0.6604 - val_loss: 0.8981 - val_accuracy: 0.6498\n",
      "Epoch 4/10\n",
      "186/186 [==============================] - 22s 119ms/step - loss: 0.6993 - accuracy: 0.7180 - val_loss: 0.8529 - val_accuracy: 0.6594\n",
      "Epoch 5/10\n",
      "186/186 [==============================] - 18s 99ms/step - loss: 0.6079 - accuracy: 0.7546 - val_loss: 0.9879 - val_accuracy: 0.6150\n",
      "Epoch 6/10\n",
      "186/186 [==============================] - 16s 86ms/step - loss: 0.4970 - accuracy: 0.8066 - val_loss: 0.9076 - val_accuracy: 0.6508\n",
      "Epoch 7/10\n",
      "186/186 [==============================] - 17s 93ms/step - loss: 0.3859 - accuracy: 0.8567 - val_loss: 1.1780 - val_accuracy: 0.6337\n",
      "Epoch 8/10\n",
      "186/186 [==============================] - 18s 97ms/step - loss: 0.2696 - accuracy: 0.9037 - val_loss: 1.2137 - val_accuracy: 0.6498\n",
      "Epoch 9/10\n",
      "186/186 [==============================] - 15s 78ms/step - loss: 0.2134 - accuracy: 0.9227 - val_loss: 1.3629 - val_accuracy: 0.6074\n",
      "Epoch 10/10\n",
      "186/186 [==============================] - 18s 95ms/step - loss: 0.1801 - accuracy: 0.9355 - val_loss: 1.5921 - val_accuracy: 0.6559\n"
     ]
    },
    {
     "data": {
      "text/plain": [
       "<keras.callbacks.History at 0x2998ae970>"
      ]
     },
     "execution_count": 33,
     "metadata": {},
     "output_type": "execute_result"
    }
   ],
   "source": [
    "# train data from ImageDataGenerator\n",
    "datagen = ImageDataGenerator(\n",
    "     zca_whitening=True,\n",
    ")\n",
    "datagen.fit(cell_img)\n",
    "\n",
    "multi_zca_train = datagen.flow(x_train, y_train, shuffle=True)\n",
    "multi_zca_val = datagen.flow(x_val, y_val, shuffle=True)\n",
    "\n",
    "# train model with zca whitened model\n",
    "zca_model = get_multiclass_model()\n",
    "zca_model.fit(multi_zca_train, epochs=10, validation_data=multi_zca_val)"
   ]
  },
  {
   "cell_type": "code",
   "execution_count": 34,
   "id": "b584b10d",
   "metadata": {},
   "outputs": [
    {
     "name": "stderr",
     "output_type": "stream",
     "text": [
      "2022-05-12 14:48:11.428514: I tensorflow/core/grappler/optimizers/custom_graph_optimizer_registry.cc:113] Plugin optimizer for device_type GPU is enabled.\n"
     ]
    },
    {
     "name": "stdout",
     "output_type": "stream",
     "text": [
      "              precision    recall  f1-score   support\n",
      "\n",
      "           0       0.77      0.83      0.80       798\n",
      "           1       0.49      0.49      0.49       368\n",
      "           2       0.59      0.62      0.60       533\n",
      "           3       0.36      0.24      0.29       281\n",
      "\n",
      "    accuracy                           0.63      1980\n",
      "   macro avg       0.55      0.54      0.54      1980\n",
      "weighted avg       0.61      0.63      0.62      1980\n",
      "\n"
     ]
    }
   ],
   "source": [
    "multi_zca_test = datagen.flow(x_test, shuffle=False)\n",
    "\n",
    "# zca_x, zca_y = multi_zca_test.next()\n",
    "zca_multi_pred = zca_model.predict(multi_zca_test)\n",
    "multiclass_classification_report(y_test, zca_multi_pred)"
   ]
  },
  {
   "cell_type": "markdown",
   "id": "9c230a95",
   "metadata": {},
   "source": [
    "### Base CNN + rotation"
   ]
  },
  {
   "cell_type": "code",
   "execution_count": 25,
   "id": "765a8e3c",
   "metadata": {
    "scrolled": true
   },
   "outputs": [
    {
     "name": "stdout",
     "output_type": "stream",
     "text": [
      "Epoch 1/10\n",
      "  5/186 [..............................] - ETA: 2s - loss: 1.5523 - accuracy: 0.3938 "
     ]
    },
    {
     "name": "stderr",
     "output_type": "stream",
     "text": [
      "2022-05-12 14:33:22.560055: I tensorflow/core/grappler/optimizers/custom_graph_optimizer_registry.cc:113] Plugin optimizer for device_type GPU is enabled.\n"
     ]
    },
    {
     "name": "stdout",
     "output_type": "stream",
     "text": [
      "186/186 [==============================] - ETA: 0s - loss: 1.0542 - accuracy: 0.5715"
     ]
    },
    {
     "name": "stderr",
     "output_type": "stream",
     "text": [
      "2022-05-12 14:33:25.179210: I tensorflow/core/grappler/optimizers/custom_graph_optimizer_registry.cc:113] Plugin optimizer for device_type GPU is enabled.\n"
     ]
    },
    {
     "name": "stdout",
     "output_type": "stream",
     "text": [
      "186/186 [==============================] - 3s 15ms/step - loss: 1.0542 - accuracy: 0.5715 - val_loss: 0.7910 - val_accuracy: 0.6842\n",
      "Epoch 2/10\n",
      "186/186 [==============================] - 3s 15ms/step - loss: 0.8288 - accuracy: 0.6764 - val_loss: 0.7724 - val_accuracy: 0.6948\n",
      "Epoch 3/10\n",
      "186/186 [==============================] - 3s 15ms/step - loss: 0.7762 - accuracy: 0.6977 - val_loss: 0.7313 - val_accuracy: 0.7110\n",
      "Epoch 4/10\n",
      "186/186 [==============================] - 3s 15ms/step - loss: 0.7349 - accuracy: 0.7068 - val_loss: 0.7811 - val_accuracy: 0.6928\n",
      "Epoch 5/10\n",
      "186/186 [==============================] - 3s 15ms/step - loss: 0.7172 - accuracy: 0.7192 - val_loss: 0.6973 - val_accuracy: 0.7372\n",
      "Epoch 6/10\n",
      "186/186 [==============================] - 3s 16ms/step - loss: 0.6881 - accuracy: 0.7335 - val_loss: 0.6995 - val_accuracy: 0.7337\n",
      "Epoch 7/10\n",
      "186/186 [==============================] - 3s 15ms/step - loss: 0.6673 - accuracy: 0.7415 - val_loss: 0.7765 - val_accuracy: 0.6923\n",
      "Epoch 8/10\n",
      "186/186 [==============================] - 3s 15ms/step - loss: 0.6784 - accuracy: 0.7393 - val_loss: 0.7011 - val_accuracy: 0.7307\n",
      "Epoch 9/10\n",
      "186/186 [==============================] - 3s 15ms/step - loss: 0.6532 - accuracy: 0.7490 - val_loss: 0.6448 - val_accuracy: 0.7377\n",
      "Epoch 10/10\n",
      "186/186 [==============================] - 3s 15ms/step - loss: 0.6473 - accuracy: 0.7482 - val_loss: 0.6802 - val_accuracy: 0.7317\n"
     ]
    },
    {
     "data": {
      "text/plain": [
       "<keras.callbacks.History at 0x2cdfa09d0>"
      ]
     },
     "execution_count": 25,
     "metadata": {},
     "output_type": "execute_result"
    }
   ],
   "source": [
    "# train data from ImageDataGenerator\n",
    "datagen = ImageDataGenerator(\n",
    "     rotation_range=45,\n",
    ")\n",
    "datagen.fit(cell_img)\n",
    "\n",
    "rot_multi_train = datagen.flow(x_train, y_train, shuffle=True)\n",
    "rot_multi_val = datagen.flow(x_val, y_val, shuffle=True)\n",
    "\n",
    "rotation_model = get_multiclass_model()\n",
    "rotation_model.fit(rot_multi_train, epochs=10, validation_data=rot_multi_val)"
   ]
  },
  {
   "cell_type": "code",
   "execution_count": 26,
   "id": "e6e42f29",
   "metadata": {},
   "outputs": [
    {
     "name": "stderr",
     "output_type": "stream",
     "text": [
      "/var/folders/bc/1x56pk_j3glgqwsdp02fbltm0000gn/T/ipykernel_64239/3584271775.py:3: UserWarning: `Model.predict_generator` is deprecated and will be removed in a future version. Please use `Model.predict`, which supports generators.\n",
      "  rot_multi_pred = rotation_model.predict_generator(rot_multi_test)\n",
      "2022-05-12 14:33:50.962240: I tensorflow/core/grappler/optimizers/custom_graph_optimizer_registry.cc:113] Plugin optimizer for device_type GPU is enabled.\n"
     ]
    },
    {
     "name": "stdout",
     "output_type": "stream",
     "text": [
      "              precision    recall  f1-score   support\n",
      "\n",
      "           0       0.87      0.82      0.84       798\n",
      "           1       0.55      0.76      0.64       368\n",
      "           2       0.69      0.77      0.73       533\n",
      "           3       0.49      0.22      0.30       281\n",
      "\n",
      "    accuracy                           0.71      1980\n",
      "   macro avg       0.65      0.64      0.63      1980\n",
      "weighted avg       0.71      0.71      0.70      1980\n",
      "\n"
     ]
    }
   ],
   "source": [
    "rot_multi_test = datagen.flow(x_test,shuffle=False)\n",
    "\n",
    "rot_multi_pred = rotation_model.predict_generator(rot_multi_test)\n",
    "multiclass_classification_report(y_test, rot_multi_pred)"
   ]
  },
  {
   "cell_type": "markdown",
   "id": "6ada6a38",
   "metadata": {},
   "source": [
    "### Multiclass using multiple models (Ensemble)"
   ]
  },
  {
   "cell_type": "code",
   "execution_count": 27,
   "id": "bb8d3e77",
   "metadata": {},
   "outputs": [],
   "source": [
    "def get_subclass_model():\n",
    "    model = tf.keras.Sequential()\n",
    "    # First convo-pooling\n",
    "    # Convolutional layers (filter the image with a kernel)\n",
    "    model.add(tf.keras.layers.Conv2D(64, (3, 3), activation=\"relu\", input_shape=[27, 27, 3]))\n",
    "    # Max-pooling layers (reduce the size of the image by choosing max pixel at certain area)\n",
    "    model.add(tf.keras.layers.MaxPool2D(pool_size=(2, 2)))\n",
    "    # Flatten input\n",
    "    model.add(tf.keras.layers.Flatten())\n",
    "    model.add(tf.keras.layers.Dense(256, activation=\"relu\"))\n",
    "    model.add(tf.keras.layers.Dense(128, activation=\"relu\"))\n",
    "    model.add(tf.keras.layers.Dense(32, activation=\"relu\"))\n",
    "    # Output layer\n",
    "    model.add(tf.keras.layers.Dense(3, activation=\"softmax\"))\n",
    "    # Compile model \n",
    "    model.compile(optimizer=\"adam\",\n",
    "                  loss=\"sparse_categorical_crossentropy\",\n",
    "                  metrics=[\"accuracy\"])\n",
    "    \n",
    "    return model\n",
    "\n",
    "def get_transfer_model():\n",
    "    model = tf.keras.Sequential()\n",
    "    # Flatten input\n",
    "    model.add(tf.keras.layers.Flatten())\n",
    "    # Hidden layers\n",
    "    model.add(tf.keras.layers.Dense(256, activation=\"relu\"))\n",
    "    model.add(tf.keras.layers.Dense(128, activation=\"softmax\"))\n",
    "    model.add(tf.keras.layers.Dense(32, activation=\"relu\"))\n",
    "    model.add(tf.keras.layers.Dense(3, activation=\"sigmoid\"))\n",
    "    # Output layer\n",
    "    model.add(tf.keras.layers.Dense(4, activation=\"softmax\"))\n",
    "    # Compile model\n",
    "    model.compile(optimizer=\"adam\",\n",
    "                  loss=\"sparse_categorical_crossentropy\",\n",
    "                  metrics=[\"accuracy\"])\n",
    "    return model"
   ]
  },
  {
   "cell_type": "markdown",
   "id": "1933a66d",
   "metadata": {},
   "source": [
    "### Load 3 classes model and 4 classes models"
   ]
  },
  {
   "cell_type": "code",
   "execution_count": 28,
   "id": "d5301d3b",
   "metadata": {},
   "outputs": [],
   "source": [
    "sub_multiclass = [\"epithelial\", \"fibroblast\", \"inflammatory\"]\n",
    "# imgs with 3 classes\n",
    "subcell_img, subcelltype_label = celltype_classify_data(sub_multiclass)\n",
    "\n",
    "subx_train, subx_test, suby_train, suby_test = train_test_split(\n",
    "    np.array(subcell_img), np.array(subcelltype_label), test_size=0.2\n",
    ")\n",
    "\n",
    "submodel_path = os.path.join(root, \"multiclass_submodels\")   \n",
    "def three_class_submodel(file_path, aug_train = None, aug_val = None):\n",
    "    # path to model trained with 3 classes\n",
    "    subclass_path = path.join(file_path, \"subclass.h5\")\n",
    "    subclass_model = None\n",
    "    if not os.path.isfile(subclass_path) or keras.models.load_model(subclass_path) == None:\n",
    "        print(\"---Sub model training---\")\n",
    "        # train subclass that fit with 3 types of images\n",
    "        subclass_model = get_subclass_model()\n",
    "        \n",
    "        if aug_train is not None and aug_val is not None:\n",
    "            subclass_model.fit(aug_train, epochs=40, validation_data=aug_val)\n",
    "        else:\n",
    "            subclass_model.fit(subx_train, suby_train, epochs=40, validation_data=(subx_test, suby_test))\n",
    "            \n",
    "        subclass_model.save(subclass_path)\n",
    "        return subclass_model\n",
    "    else:\n",
    "        subclass_model = keras.models.load_model(subclass_path)\n",
    "        print(\"Model trained with 3 classes loaded\")\n",
    "        return subclass_model\n",
    "    \n",
    "def all_class_submodel(file_path, aug_train = None, aug_val = None):\n",
    "    allclass_path = path.join(file_path, \"allclass.h5\")\n",
    "    allclass_model = None\n",
    "    if not os.path.isfile(allclass_path) or keras.models.load_model(allclass_path) == None:\n",
    "        print(\"---Sub model training---\")\n",
    "        # train subclass that fit with 4 types of images\n",
    "        allclass_model = get_multiclass_model()\n",
    "        \n",
    "        if aug_train is not None and aug_val is not None:\n",
    "            allclass_model.fit(aug_train, epochs=15, validation_data=aug_val)\n",
    "        else:\n",
    "            allclass_model.fit(x_train, y_train, epochs=15, validation_data=(x_val, y_val))\n",
    "            \n",
    "        allclass_model.save(allclass_path)\n",
    "        return allclass_model\n",
    "    else:\n",
    "        allclass_model = keras.models.load_model(allclass_path)\n",
    "        print(\"Model trained with 4 classes loaded\")\n",
    "        return allclass_model"
   ]
  },
  {
   "cell_type": "markdown",
   "id": "7750be6d",
   "metadata": {},
   "source": [
    "### Get submodels output and train meta-learner"
   ]
  },
  {
   "cell_type": "code",
   "execution_count": 29,
   "id": "67e93dc1",
   "metadata": {
    "scrolled": true
   },
   "outputs": [
    {
     "name": "stdout",
     "output_type": "stream",
     "text": [
      "Model trained with 3 classes loaded\n",
      "Model trained with 4 classes loaded\n",
      "2\n"
     ]
    },
    {
     "name": "stderr",
     "output_type": "stream",
     "text": [
      "2022-05-12 14:33:53.142069: I tensorflow/core/grappler/optimizers/custom_graph_optimizer_registry.cc:113] Plugin optimizer for device_type GPU is enabled.\n",
      "2022-05-12 14:33:53.636114: I tensorflow/core/grappler/optimizers/custom_graph_optimizer_registry.cc:113] Plugin optimizer for device_type GPU is enabled.\n"
     ]
    },
    {
     "name": "stdout",
     "output_type": "stream",
     "text": [
      "Epoch 1/30\n",
      "  6/186 [..............................] - ETA: 1s - loss: 1.4046 - accuracy: 0.1771 "
     ]
    },
    {
     "name": "stderr",
     "output_type": "stream",
     "text": [
      "2022-05-12 14:33:55.290557: I tensorflow/core/grappler/optimizers/custom_graph_optimizer_registry.cc:113] Plugin optimizer for device_type GPU is enabled.\n"
     ]
    },
    {
     "name": "stdout",
     "output_type": "stream",
     "text": [
      "186/186 [==============================] - ETA: 0s - loss: 1.2679 - accuracy: 0.3692"
     ]
    },
    {
     "name": "stderr",
     "output_type": "stream",
     "text": [
      "2022-05-12 14:33:56.572518: I tensorflow/core/grappler/optimizers/custom_graph_optimizer_registry.cc:113] Plugin optimizer for device_type GPU is enabled.\n"
     ]
    },
    {
     "name": "stdout",
     "output_type": "stream",
     "text": [
      "186/186 [==============================] - 2s 8ms/step - loss: 1.2679 - accuracy: 0.3692 - val_loss: 1.1185 - val_accuracy: 0.4113\n",
      "Epoch 2/30\n",
      "186/186 [==============================] - 1s 7ms/step - loss: 0.9924 - accuracy: 0.6156 - val_loss: 0.9122 - val_accuracy: 0.8115\n",
      "Epoch 3/30\n",
      "186/186 [==============================] - 1s 7ms/step - loss: 0.8422 - accuracy: 0.8233 - val_loss: 0.8203 - val_accuracy: 0.8115\n",
      "Epoch 4/30\n",
      "186/186 [==============================] - 1s 7ms/step - loss: 0.7661 - accuracy: 0.8240 - val_loss: 0.7566 - val_accuracy: 0.8125\n",
      "Epoch 5/30\n",
      "186/186 [==============================] - 1s 6ms/step - loss: 0.7154 - accuracy: 0.8225 - val_loss: 0.7126 - val_accuracy: 0.8130\n",
      "Epoch 6/30\n",
      "186/186 [==============================] - 1s 6ms/step - loss: 0.6768 - accuracy: 0.8243 - val_loss: 0.6790 - val_accuracy: 0.8151\n",
      "Epoch 7/30\n",
      "186/186 [==============================] - 1s 6ms/step - loss: 0.6479 - accuracy: 0.8231 - val_loss: 0.6531 - val_accuracy: 0.8120\n",
      "Epoch 8/30\n",
      "186/186 [==============================] - 1s 6ms/step - loss: 0.6207 - accuracy: 0.8243 - val_loss: 0.6280 - val_accuracy: 0.8130\n",
      "Epoch 9/30\n",
      "186/186 [==============================] - 1s 6ms/step - loss: 0.5960 - accuracy: 0.8245 - val_loss: 0.6101 - val_accuracy: 0.8110\n",
      "Epoch 10/30\n",
      "186/186 [==============================] - 1s 6ms/step - loss: 0.5737 - accuracy: 0.8253 - val_loss: 0.5733 - val_accuracy: 0.8216\n",
      "Epoch 11/30\n",
      "186/186 [==============================] - 1s 7ms/step - loss: 0.5420 - accuracy: 0.8346 - val_loss: 0.5465 - val_accuracy: 0.8211\n",
      "Epoch 12/30\n",
      "186/186 [==============================] - 1s 7ms/step - loss: 0.5029 - accuracy: 0.8774 - val_loss: 0.5076 - val_accuracy: 0.8888\n",
      "Epoch 13/30\n",
      "186/186 [==============================] - 1s 7ms/step - loss: 0.4725 - accuracy: 0.8994 - val_loss: 0.4817 - val_accuracy: 0.8914\n",
      "Epoch 14/30\n",
      "186/186 [==============================] - 1s 6ms/step - loss: 0.4500 - accuracy: 0.9003 - val_loss: 0.4648 - val_accuracy: 0.8929\n",
      "Epoch 15/30\n",
      "186/186 [==============================] - 1s 7ms/step - loss: 0.4336 - accuracy: 0.8989 - val_loss: 0.4477 - val_accuracy: 0.8888\n",
      "Epoch 16/30\n",
      "186/186 [==============================] - 1s 7ms/step - loss: 0.4192 - accuracy: 0.8989 - val_loss: 0.4365 - val_accuracy: 0.8893\n",
      "Epoch 17/30\n",
      "186/186 [==============================] - 1s 7ms/step - loss: 0.4072 - accuracy: 0.9013 - val_loss: 0.4250 - val_accuracy: 0.8944\n",
      "Epoch 18/30\n",
      "186/186 [==============================] - 1s 7ms/step - loss: 0.3971 - accuracy: 0.9013 - val_loss: 0.4225 - val_accuracy: 0.8903\n",
      "Epoch 19/30\n",
      "186/186 [==============================] - 1s 7ms/step - loss: 0.3883 - accuracy: 0.9010 - val_loss: 0.4077 - val_accuracy: 0.8929\n",
      "Epoch 20/30\n",
      "186/186 [==============================] - 1s 6ms/step - loss: 0.3809 - accuracy: 0.9026 - val_loss: 0.4012 - val_accuracy: 0.8863\n",
      "Epoch 21/30\n",
      "186/186 [==============================] - 1s 6ms/step - loss: 0.3749 - accuracy: 0.9010 - val_loss: 0.3983 - val_accuracy: 0.8934\n",
      "Epoch 22/30\n",
      "186/186 [==============================] - 1s 6ms/step - loss: 0.3699 - accuracy: 0.9015 - val_loss: 0.3894 - val_accuracy: 0.8929\n",
      "Epoch 23/30\n",
      "186/186 [==============================] - 1s 6ms/step - loss: 0.3641 - accuracy: 0.8999 - val_loss: 0.3861 - val_accuracy: 0.8939\n",
      "Epoch 24/30\n",
      "186/186 [==============================] - 1s 7ms/step - loss: 0.3598 - accuracy: 0.9015 - val_loss: 0.3822 - val_accuracy: 0.8919\n",
      "Epoch 25/30\n",
      "186/186 [==============================] - 1s 6ms/step - loss: 0.3543 - accuracy: 0.9023 - val_loss: 0.3743 - val_accuracy: 0.8929\n",
      "Epoch 26/30\n",
      "186/186 [==============================] - 1s 6ms/step - loss: 0.3507 - accuracy: 0.9023 - val_loss: 0.3722 - val_accuracy: 0.8914\n",
      "Epoch 27/30\n",
      "186/186 [==============================] - 1s 6ms/step - loss: 0.3486 - accuracy: 0.9020 - val_loss: 0.3733 - val_accuracy: 0.8939\n",
      "Epoch 28/30\n",
      "186/186 [==============================] - 1s 6ms/step - loss: 0.3444 - accuracy: 0.9037 - val_loss: 0.3640 - val_accuracy: 0.8924\n",
      "Epoch 29/30\n",
      "186/186 [==============================] - 1s 6ms/step - loss: 0.3416 - accuracy: 0.9023 - val_loss: 0.3659 - val_accuracy: 0.8909\n",
      "Epoch 30/30\n",
      "186/186 [==============================] - 1s 6ms/step - loss: 0.3391 - accuracy: 0.9016 - val_loss: 0.3676 - val_accuracy: 0.8868\n"
     ]
    },
    {
     "data": {
      "text/plain": [
       "<keras.callbacks.History at 0x2c5853520>"
      ]
     },
     "execution_count": 29,
     "metadata": {},
     "output_type": "execute_result"
    }
   ],
   "source": [
    "def get_multi_stacked(x, submodels):\n",
    "    stacked = None\n",
    "    for submodel in submodels:\n",
    "        if stacked is None:\n",
    "            stacked = submodel.predict(x)\n",
    "        else:\n",
    "            new_pred = submodel.predict(x)\n",
    "            stacked = np.concatenate((stacked, new_pred), axis=1)\n",
    "    return stacked\n",
    "\n",
    "subclass_model = three_class_submodel(submodel_path)\n",
    "allclass_model = all_class_submodel(submodel_path)\n",
    "\n",
    "submodels = [subclass_model, allclass_model]\n",
    "\n",
    "print(len(submodels))\n",
    "stacked_x_train = get_multi_stacked(x_train, submodels)\n",
    "stacked_x_val = get_multi_stacked(x_val, submodels)\n",
    "stacked_x_test = get_multi_stacked(x_test, submodels)\n",
    "\n",
    "\n",
    "transfer_model = get_transfer_model()\n",
    "transfer_model.fit(stacked_x_train, y_train, epochs=30, validation_data=(stacked_x_val, y_val))"
   ]
  },
  {
   "cell_type": "code",
   "execution_count": 30,
   "id": "b8155f42",
   "metadata": {},
   "outputs": [
    {
     "name": "stdout",
     "output_type": "stream",
     "text": [
      "(1980, 7)\n",
      "              precision    recall  f1-score   support\n",
      "\n",
      "           0       0.94      0.97      0.95       798\n",
      "           1       0.85      0.88      0.87       368\n",
      "           2       0.88      0.90      0.89       533\n",
      "           3       0.70      0.58      0.63       281\n",
      "\n",
      "    accuracy                           0.88      1980\n",
      "   macro avg       0.84      0.83      0.84      1980\n",
      "weighted avg       0.87      0.88      0.88      1980\n",
      "\n"
     ]
    },
    {
     "name": "stderr",
     "output_type": "stream",
     "text": [
      "2022-05-12 14:34:31.828114: I tensorflow/core/grappler/optimizers/custom_graph_optimizer_registry.cc:113] Plugin optimizer for device_type GPU is enabled.\n"
     ]
    }
   ],
   "source": [
    "transfer_pred = transfer_model.predict(stacked_x_test)\n",
    "\n",
    "print(stacked_x_test.shape)\n",
    "multiclass_classification_report(y_test, transfer_pred)\n",
    "\n",
    "transfer_model.save(path.join(root, \"meta_learner.h5\"))"
   ]
  },
  {
   "cell_type": "markdown",
   "id": "07ef5cc1",
   "metadata": {},
   "source": [
    "### EDA"
   ]
  },
  {
   "cell_type": "code",
   "execution_count": 31,
   "id": "f0a27724",
   "metadata": {},
   "outputs": [
    {
     "name": "stdout",
     "output_type": "stream",
     "text": [
      "No data in class 0 in data 4079\n",
      "No data in class 1 in data 1888\n",
      "No data in class 2 in data 2543\n",
      "No data in class 3 in data 1386\n"
     ]
    }
   ],
   "source": [
    "for i in range(4):\n",
    "    print(f\"No data in class {i} in data\", (np.array(celltype_label)==i).sum())"
   ]
  },
  {
   "cell_type": "markdown",
   "id": "848b3774",
   "metadata": {},
   "source": [
    "### Multiclass + Oversampling + Decision tree"
   ]
  },
  {
   "cell_type": "code",
   "execution_count": 32,
   "id": "4bb6d4d7",
   "metadata": {},
   "outputs": [
    {
     "name": "stdout",
     "output_type": "stream",
     "text": [
      "No data in class 0 in oversampled data 4079\n",
      "No data in class 1 in oversampled data 4079\n",
      "No data in class 2 in oversampled data 4079\n",
      "No data in class 3 in oversampled data 4079\n",
      "              precision    recall  f1-score   support\n",
      "\n",
      "           0       0.88      0.93      0.90       843\n",
      "           1       0.73      0.90      0.80       816\n",
      "           2       0.74      0.90      0.81       800\n",
      "           3       0.68      0.33      0.44       805\n",
      "\n",
      "    accuracy                           0.77      3264\n",
      "   macro avg       0.75      0.76      0.74      3264\n",
      "weighted avg       0.76      0.77      0.74      3264\n",
      "\n",
      "              precision    recall  f1-score   support\n",
      "\n",
      "           0       0.89      0.94      0.91       843\n",
      "           1       0.75      0.92      0.82       816\n",
      "           2       0.75      0.93      0.83       800\n",
      "           3       0.76      0.35      0.48       805\n",
      "\n",
      "    accuracy                           0.79      3264\n",
      "   macro avg       0.79      0.79      0.76      3264\n",
      "weighted avg       0.79      0.79      0.76      3264\n",
      "\n"
     ]
    }
   ],
   "source": [
    "from sklearn import tree\n",
    "from sklearn.ensemble import RandomForestClassifier\n",
    "from imblearn.over_sampling import SMOTE\n",
    "\n",
    "cell_img, celltype_label = celltype_classify_data(all_class)\n",
    "transfered_x = subclass_model.predict(np.array(cell_img))\n",
    "\n",
    "# by default, it would only over sample minority class which is the aim in this case\n",
    "oversample = SMOTE()\n",
    "transfered_x, celltype_label = oversample.fit_resample(transfered_x, np.array(celltype_label))\n",
    "\n",
    "for i in range(4):\n",
    "    print(f\"No data in class {i} in oversampled data\", (np.array(celltype_label)==i).sum())\n",
    "\n",
    "sampled_x_train, sampled_x_test, sampled_y_train, sampled_y_test = train_test_split(\n",
    "    transfered_x, celltype_label, test_size=0.2\n",
    ")\n",
    "\n",
    "tree_classifier = tree.DecisionTreeClassifier(class_weight=\"balanced\")\n",
    "tree_classifier = tree_classifier.fit(sampled_x_train, sampled_y_train)\n",
    "\n",
    "forest_classifier = RandomForestClassifier(class_weight=\"balanced\")\n",
    "forest_classifier.fit(sampled_x_train, sampled_y_train)\n",
    "\n",
    "tree_pred = tree_classifier.predict(sampled_x_test)\n",
    "forest_pred = forest_classifier.predict(sampled_x_test)\n",
    "\n",
    "print(classification_report(sampled_y_test, tree_pred))\n",
    "print(classification_report(sampled_y_test, forest_pred))                                        "
   ]
  }
 ],
 "metadata": {
  "kernelspec": {
   "display_name": "Python 3.9 (tensorflow)",
   "language": "python",
   "name": "tensorflow"
  },
  "language_info": {
   "codemirror_mode": {
    "name": "ipython",
    "version": 3
   },
   "file_extension": ".py",
   "mimetype": "text/x-python",
   "name": "python",
   "nbconvert_exporter": "python",
   "pygments_lexer": "ipython3",
   "version": "3.9.7"
  }
 },
 "nbformat": 4,
 "nbformat_minor": 5
}
