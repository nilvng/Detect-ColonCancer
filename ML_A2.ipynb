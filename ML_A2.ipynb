{
 "cells": [
  {
   "cell_type": "code",
   "execution_count": 1,
   "id": "955516c7",
   "metadata": {},
   "outputs": [],
   "source": [
    "import cv2\n",
    "import numpy as np\n",
    "import pandas as pd\n",
    "import os\n",
    "import sys\n",
    "import tensorflow as tf\n",
    "from sklearn.model_selection import train_test_split\n",
    "import keras_tuner as kt"
   ]
  },
  {
   "cell_type": "markdown",
   "id": "57761c43",
   "metadata": {},
   "source": [
    "### Load dataframe"
   ]
  },
  {
   "cell_type": "code",
   "execution_count": 2,
   "id": "6b1deda5",
   "metadata": {},
   "outputs": [],
   "source": [
    "main_data = pd.read_csv(\"data_labels_mainData.csv\")\n",
    "extra_data = pd.read_csv(\"data_labels_extraData.csv\")"
   ]
  },
  {
   "cell_type": "markdown",
   "id": "bc53247b",
   "metadata": {},
   "source": [
    "### split data into different folders for different cell types"
   ]
  },
  {
   "cell_type": "code",
   "execution_count": 3,
   "id": "f240316c",
   "metadata": {},
   "outputs": [],
   "source": [
    "import shutil\n",
    "root = os.getcwd()\n",
    "source_dir = os.path.join(root, \"patch_images\")\n",
    "\n",
    "for i, row in main_data.iterrows():\n",
    "    image_name = row[\"ImageName\"]\n",
    "    cell_name = row[\"cellTypeName\"]\n",
    "    is_cancer = str(row[\"isCancerous\"])\n",
    "\n",
    "    new_folder_multi = os.path.join(root, cell_name)\n",
    "    new_folder_bin = os.path.join(root, is_cancer)\n",
    "\n",
    "    os.makedirs(new_folder_multi, exist_ok=True)\n",
    "    #os.makedirs(new_folder_bin, exist_ok=True)\n",
    "\n",
    "    source = os.path.join(source_dir, image_name)\n",
    "\n",
    "    dest_multi = os.path.join(root, cell_name)\n",
    "    #dest_bin = os.path.join(root, is_cancer)\n",
    "\n",
    "    go = shutil.copy(source,dest_multi)\n",
    "    #go = shutil.copy(source, dest_bin)"
   ]
  },
  {
   "cell_type": "markdown",
   "id": "3890247e",
   "metadata": {},
   "source": [
    "### Add training data for cancerous classification from extra dataset "
   ]
  },
  {
   "cell_type": "code",
   "execution_count": 5,
   "id": "682dc3f2",
   "metadata": {},
   "outputs": [],
   "source": [
    "import shutil\n",
    "root = os.getcwd()\n",
    "source_dir = os.path.join(root, \"patch_images\")\n",
    "\n",
    "for i, row in extra_data.iterrows():\n",
    "    image_name = row[\"ImageName\"]\n",
    "    is_cancer = str(row[\"isCancerous\"])\n",
    "\n",
    "    new_folder_bin = os.path.join(root, is_cancer)\n",
    "\n",
    "    os.makedirs(new_folder_bin, exist_ok=True)\n",
    "\n",
    "    source = os.path.join(source_dir, image_name)\n",
    "\n",
    "    dest_bin = os.path.join(root, is_cancer)\n",
    "\n",
    "    go = shutil.copy(source, dest_bin)"
   ]
  },
  {
   "cell_type": "markdown",
   "id": "857e51b4",
   "metadata": {},
   "source": [
    "### Old load image code "
   ]
  },
  {
   "cell_type": "code",
   "execution_count": 4,
   "id": "3b6669fa",
   "metadata": {},
   "outputs": [
    {
     "name": "stdout",
     "output_type": "stream",
     "text": [
      "9896\n",
      "9896\n",
      "9896\n"
     ]
    }
   ],
   "source": [
    "def get_images(img_list, path):    \n",
    "    images = list()\n",
    "    \n",
    "    for img in img_list:\n",
    "        img = cv2.imread(os.path.join(path, img))\n",
    "        # resize to 0-1 for faster computation\n",
    "        resized = img / 255\n",
    "        images.append(resized)\n",
    "        \n",
    "    return images\n",
    "\n",
    "images, cell_type, is_cancerous = get_images(main_data[\"ImageName\"], \"patch_images\"), main_data[[\"cellType\"]], main_data[[\"isCancerous\"]]\n",
    "\n",
    "print(len(images))\n",
    "#print(images[0].shape)\n",
    "print(len(cell_type))\n",
    "print(len(is_cancerous))"
   ]
  },
  {
   "cell_type": "markdown",
   "id": "53e5727f",
   "metadata": {},
   "source": [
    "### Get data from splitted folder"
   ]
  },
  {
   "cell_type": "code",
   "execution_count": 3,
   "id": "7c986143",
   "metadata": {},
   "outputs": [],
   "source": [
    "import shutil\n",
    "root = os.getcwd()\n",
    "source_dir = os.path.join(root, \"patch_images\")\n",
    "\n",
    "def cancerous_classify_data():    \n",
    "    images = list()\n",
    "    labels = list()\n",
    "    \n",
    "    for label in [0, 1]:\n",
    "        # get image directory\n",
    "        img_dir = os.path.join(root, f\"{label}\")\n",
    "        \n",
    "        for img in os.listdir(img_dir):\n",
    "            img = cv2.imread(os.path.join(img_dir, img))\n",
    "            # resize to 0-1 for faster computation\n",
    "            resized = img / 255\n",
    "            images.append(resized)\n",
    "            labels.append(label)\n",
    "        \n",
    "    return (images, labels)\n"
   ]
  },
  {
   "cell_type": "markdown",
   "id": "9977c54a",
   "metadata": {},
   "source": [
    "### Base CNN model"
   ]
  },
  {
   "cell_type": "code",
   "execution_count": 8,
   "id": "19f550aa",
   "metadata": {},
   "outputs": [
    {
     "name": "stdout",
     "output_type": "stream",
     "text": [
      "(16224, 27, 27, 3)\n",
      "(16224,)\n",
      "Metal device set to: Apple M1 Pro\n"
     ]
    },
    {
     "name": "stderr",
     "output_type": "stream",
     "text": [
      "2022-05-03 12:26:41.281955: I tensorflow/core/common_runtime/pluggable_device/pluggable_device_factory.cc:305] Could not identify NUMA node of platform GPU ID 0, defaulting to 0. Your kernel may not have been built with NUMA support.\n",
      "2022-05-03 12:26:41.282248: I tensorflow/core/common_runtime/pluggable_device/pluggable_device_factory.cc:271] Created TensorFlow device (/job:localhost/replica:0/task:0/device:GPU:0 with 0 MB memory) -> physical PluggableDevice (device: 0, name: METAL, pci bus id: <undefined>)\n"
     ]
    },
    {
     "name": "stdout",
     "output_type": "stream",
     "text": [
      "Epoch 1/10\n"
     ]
    },
    {
     "name": "stderr",
     "output_type": "stream",
     "text": [
      "2022-05-03 12:26:41.520725: W tensorflow/core/platform/profile_utils/cpu_utils.cc:128] Failed to get CPU frequency: 0 Hz\n",
      "2022-05-03 12:26:41.725192: I tensorflow/core/grappler/optimizers/custom_graph_optimizer_registry.cc:113] Plugin optimizer for device_type GPU is enabled.\n"
     ]
    },
    {
     "name": "stdout",
     "output_type": "stream",
     "text": [
      "501/507 [============================>.] - ETA: 0s - loss: 0.4109 - accuracy: 0.8076 - auc: 0.8794"
     ]
    },
    {
     "name": "stderr",
     "output_type": "stream",
     "text": [
      "2022-05-03 12:26:46.169622: I tensorflow/core/grappler/optimizers/custom_graph_optimizer_registry.cc:113] Plugin optimizer for device_type GPU is enabled.\n"
     ]
    },
    {
     "name": "stdout",
     "output_type": "stream",
     "text": [
      "507/507 [==============================] - 5s 10ms/step - loss: 0.4095 - accuracy: 0.8084 - auc: 0.8804 - val_loss: 0.3615 - val_accuracy: 0.8397 - val_auc: 0.9163\n",
      "Epoch 2/10\n",
      "507/507 [==============================] - 5s 9ms/step - loss: 0.3372 - accuracy: 0.8529 - auc: 0.9212 - val_loss: 0.3632 - val_accuracy: 0.8390 - val_auc: 0.9265\n",
      "Epoch 3/10\n",
      "507/507 [==============================] - 5s 9ms/step - loss: 0.3206 - accuracy: 0.8630 - auc: 0.9291 - val_loss: 0.3173 - val_accuracy: 0.8602 - val_auc: 0.9313\n",
      "Epoch 4/10\n",
      "507/507 [==============================] - 5s 9ms/step - loss: 0.3136 - accuracy: 0.8664 - auc: 0.9321 - val_loss: 0.3372 - val_accuracy: 0.8452 - val_auc: 0.9355\n",
      "Epoch 5/10\n",
      "507/507 [==============================] - 5s 9ms/step - loss: 0.2941 - accuracy: 0.8749 - auc: 0.9406 - val_loss: 0.3164 - val_accuracy: 0.8587 - val_auc: 0.9337\n",
      "Epoch 6/10\n",
      "507/507 [==============================] - 5s 9ms/step - loss: 0.2890 - accuracy: 0.8764 - auc: 0.9423 - val_loss: 0.3069 - val_accuracy: 0.8725 - val_auc: 0.9392\n",
      "Epoch 7/10\n",
      "507/507 [==============================] - 5s 9ms/step - loss: 0.2748 - accuracy: 0.8841 - auc: 0.9482 - val_loss: 0.3760 - val_accuracy: 0.8336 - val_auc: 0.9379\n",
      "Epoch 8/10\n",
      "507/507 [==============================] - 5s 9ms/step - loss: 0.2701 - accuracy: 0.8866 - auc: 0.9500 - val_loss: 0.3018 - val_accuracy: 0.8698 - val_auc: 0.9373\n",
      "Epoch 9/10\n",
      "507/507 [==============================] - 5s 9ms/step - loss: 0.2547 - accuracy: 0.8926 - auc: 0.9557 - val_loss: 0.3047 - val_accuracy: 0.8720 - val_auc: 0.9370\n",
      "Epoch 10/10\n",
      "507/507 [==============================] - 5s 9ms/step - loss: 0.2451 - accuracy: 0.8960 - auc: 0.9592 - val_loss: 0.3037 - val_accuracy: 0.8745 - val_auc: 0.9400\n"
     ]
    },
    {
     "name": "stderr",
     "output_type": "stream",
     "text": [
      "2022-05-03 12:27:29.655092: I tensorflow/core/grappler/optimizers/custom_graph_optimizer_registry.cc:113] Plugin optimizer for device_type GPU is enabled.\n"
     ]
    }
   ],
   "source": [
    "images, cancer_label = cancerous_classify_data()\n",
    "\n",
    "# try testing cancerous dataset\n",
    "# x_train, x_test, y_train, y_test = train_test_split(\n",
    "#     np.array(images), np.array(is_cancerous), test_size=0.2\n",
    "# )\n",
    "\n",
    "x_train, x_test, y_train, y_test = train_test_split(\n",
    "    np.array(images), np.array(cancer_label), test_size=0.2\n",
    ")\n",
    "\n",
    "def get_model():\n",
    "    model = tf.keras.Sequential()\n",
    "    # First convo-pooling\n",
    "    # Convolutional layers (filter the image with a kernel)\n",
    "    model.add(tf.keras.layers.Conv2D(32, (3, 3), activation=\"relu\", input_shape=[27, 27, 3]))\n",
    "    # Max-pooling layers (reduce the size of the image by choosing max pixel at certain area)\n",
    "    model.add(tf.keras.layers.MaxPool2D(pool_size=(2, 2)))\n",
    "    # Flatten input\n",
    "    model.add(tf.keras.layers.Flatten())\n",
    "\n",
    "    model.add(tf.keras.layers.Dense(128, activation=\"relu\"))\n",
    "    model.add(tf.keras.layers.Dense(32, activation=\"relu\"))\n",
    "    # Output layer\n",
    "    model.add(tf.keras.layers.Dense(1, activation=\"sigmoid\"))\n",
    "    # Compile model\n",
    "    model.compile(optimizer=\"adam\",\n",
    "                  loss=\"binary_crossentropy\",\n",
    "                  metrics=[\"accuracy\", \"AUC\"])\n",
    "    \n",
    "    return model\n",
    "\n",
    "print(x_train.shape)\n",
    "print(y_train.shape)\n",
    "model = get_model()\n",
    "\n",
    "model.fit(x_train, y_train, epochs=10, validation_data=(x_test, y_test))\n",
    "prediction = model.predict(x_test)"
   ]
  },
  {
   "cell_type": "markdown",
   "id": "5f6888d1",
   "metadata": {},
   "source": [
    "### Tune CNN model\n",
    "\n",
    "Tunable parameters:\n",
    "- Size of kernel of Convolution/Pooling Layers\n",
    "- Strides of Convolution/Pooling Layers\n",
    "- Activation function"
   ]
  },
  {
   "cell_type": "code",
   "execution_count": 47,
   "id": "2edb288b",
   "metadata": {},
   "outputs": [
    {
     "name": "stdout",
     "output_type": "stream",
     "text": [
      "Trial 5 Complete [00h 00m 32s]\n",
      "val_accuracy: 0.8639053106307983\n",
      "\n",
      "Best val_accuracy So Far: 0.8639053106307983\n",
      "Total elapsed time: 00h 02m 30s\n",
      "INFO:tensorflow:Oracle triggered exit\n",
      "[<keras_tuner.engine.hyperparameters.HyperParameters object at 0x318747130>]\n"
     ]
    }
   ],
   "source": [
    "x_train, x_test, y_train, y_test = train_test_split(\n",
    "    np.array(images), np.array(cancer_label), test_size=0.2\n",
    ")\n",
    "\n",
    "def cnn_tuner(hp):\n",
    "    model = tf.keras.Sequential()\n",
    "\n",
    "    # Convolutional layers (filter the image with a kernel)\n",
    "    model.add(tf.keras.layers.Conv2D(hp.Int(f'convo_filter', 16, 128, step=16), (3, 3), activation=hp.Choice(\"activation_convo\", [\"relu\", \"sigmoid\", \"softmax\", \"tanh\"]), input_shape=[27, 27, 3]))\n",
    "    # Max-pooling layers (reduce the size of the image by choosing max pixel at certain area)\n",
    "    model.add(tf.keras.layers.MaxPool2D(pool_size=(2, 2)))\n",
    "        \n",
    "    # Flatten input\n",
    "    model.add(tf.keras.layers.Flatten())\n",
    "\n",
    "    # hidden layers\n",
    "    for i in range(hp.Int('layers_no', 1, 4)):\n",
    "        model.add(tf.keras.layers.Dense(hp.Int('hidden_layer', 32, 256, step=32), activation=hp.Choice(f\"activation_hidden_{i}\", [\"relu\", \"sigmoid\", \"softmax\", \"tanh\"])))\n",
    "        \n",
    "    # output layer\n",
    "    model.add(tf.keras.layers.Dense(1, activation=\"sigmoid\"))   \n",
    "    # Compile model\n",
    "    model.compile(optimizer=\"adam\",\n",
    "                  loss=\"binary_crossentropy\",\n",
    "                  metrics=[\"accuracy\", \"AUC\"])\n",
    "    \n",
    "    return model\n",
    "\n",
    "# status.expect_partial()\n",
    "              \n",
    "tuner = kt.RandomSearch(cnn_tuner, objective=\"val_accuracy\", max_trials=5)\n",
    "\n",
    "tuner.search(x_train, y_train, epochs=5, validation_data=(x_test, y_test))\n",
    "best_model = tuner.get_best_models()[0]"
   ]
  },
  {
   "cell_type": "code",
   "execution_count": 52,
   "id": "075833c5",
   "metadata": {},
   "outputs": [
    {
     "name": "stdout",
     "output_type": "stream",
     "text": [
      "Best Convolution filter: 96\n",
      "Best number of hidden layer: 160\n",
      "Best nodes in hidden layer 0: 160\n",
      "Best activation in hidden layer 0: sigmoid\n",
      "Best nodes in hidden layer 1: 160\n",
      "Best activation in hidden layer 1: tanh\n",
      "Best nodes in hidden layer 2: 160\n",
      "Best activation in hidden layer 2: sigmoid\n",
      "Best nodes in hidden layer 3: 160\n",
      "Best activation in hidden layer 3: relu\n"
     ]
    }
   ],
   "source": [
    "print(f\"Best Convolution filter: {tuner.get_best_hyperparameters()[0].get('convo_filter')}\")\n",
    "print(f\"Best number of hidden layer: {tuner.get_best_hyperparameters()[0].get('hidden_layer')}\")\n",
    "for i in range(tuner.get_best_hyperparameters()[0].get('layers_no')):\n",
    "    print(f\"Best nodes in hidden layer {i}: {tuner.get_best_hyperparameters()[0].get('hidden_layer')}\")\n",
    "    print(f\"Best activation in hidden layer {i}: {tuner.get_best_hyperparameters()[0].get(f'activation_hidden_{i}')}\")\n",
    "    \n"
   ]
  },
  {
   "cell_type": "code",
   "execution_count": 48,
   "id": "01340ba4",
   "metadata": {},
   "outputs": [
    {
     "name": "stdout",
     "output_type": "stream",
     "text": [
      "Epoch 1/10\n"
     ]
    },
    {
     "name": "stderr",
     "output_type": "stream",
     "text": [
      "2022-05-03 13:15:50.902990: I tensorflow/core/grappler/optimizers/custom_graph_optimizer_registry.cc:113] Plugin optimizer for device_type GPU is enabled.\n"
     ]
    },
    {
     "name": "stdout",
     "output_type": "stream",
     "text": [
      "505/507 [============================>.] - ETA: 0s - loss: 0.3040 - accuracy: 0.8665 - auc: 0.9364"
     ]
    },
    {
     "name": "stderr",
     "output_type": "stream",
     "text": [
      "2022-05-03 13:15:56.659471: I tensorflow/core/grappler/optimizers/custom_graph_optimizer_registry.cc:113] Plugin optimizer for device_type GPU is enabled.\n"
     ]
    },
    {
     "name": "stdout",
     "output_type": "stream",
     "text": [
      "507/507 [==============================] - 7s 13ms/step - loss: 0.3041 - accuracy: 0.8667 - auc: 0.9364 - val_loss: 0.3408 - val_accuracy: 0.8474 - val_auc: 0.9363\n",
      "Epoch 2/10\n",
      "507/507 [==============================] - 6s 12ms/step - loss: 0.2892 - accuracy: 0.8739 - auc: 0.9425 - val_loss: 0.3483 - val_accuracy: 0.8614 - val_auc: 0.9390\n",
      "Epoch 3/10\n",
      "507/507 [==============================] - 6s 12ms/step - loss: 0.2661 - accuracy: 0.8876 - auc: 0.9514 - val_loss: 0.3096 - val_accuracy: 0.8728 - val_auc: 0.9376\n",
      "Epoch 4/10\n",
      "507/507 [==============================] - 6s 12ms/step - loss: 0.2448 - accuracy: 0.8935 - auc: 0.9590 - val_loss: 0.4050 - val_accuracy: 0.8425 - val_auc: 0.9346\n",
      "Epoch 5/10\n",
      "507/507 [==============================] - 6s 12ms/step - loss: 0.2220 - accuracy: 0.9077 - auc: 0.9662 - val_loss: 0.3574 - val_accuracy: 0.8627 - val_auc: 0.9325\n",
      "Epoch 6/10\n",
      "507/507 [==============================] - 6s 12ms/step - loss: 0.1984 - accuracy: 0.9173 - auc: 0.9731 - val_loss: 0.3761 - val_accuracy: 0.8508 - val_auc: 0.9318\n",
      "Epoch 7/10\n",
      "507/507 [==============================] - 6s 12ms/step - loss: 0.1664 - accuracy: 0.9334 - auc: 0.9809 - val_loss: 0.3838 - val_accuracy: 0.8688 - val_auc: 0.9231\n",
      "Epoch 8/10\n",
      "507/507 [==============================] - 6s 12ms/step - loss: 0.1456 - accuracy: 0.9421 - auc: 0.9852 - val_loss: 0.3927 - val_accuracy: 0.8698 - val_auc: 0.9295\n",
      "Epoch 9/10\n",
      "507/507 [==============================] - 6s 12ms/step - loss: 0.1294 - accuracy: 0.9476 - auc: 0.9881 - val_loss: 0.3855 - val_accuracy: 0.8644 - val_auc: 0.9291\n",
      "Epoch 10/10\n",
      "507/507 [==============================] - 6s 12ms/step - loss: 0.1074 - accuracy: 0.9589 - auc: 0.9916 - val_loss: 0.4712 - val_accuracy: 0.8649 - val_auc: 0.9173\n"
     ]
    },
    {
     "data": {
      "text/plain": [
       "<keras.callbacks.History at 0x323a0cca0>"
      ]
     },
     "execution_count": 48,
     "metadata": {},
     "output_type": "execute_result"
    }
   ],
   "source": [
    "best_model.fit(x_train, y_train, epochs=10, validation_data=(x_test, y_test))"
   ]
  },
  {
   "cell_type": "markdown",
   "id": "63e5992e",
   "metadata": {},
   "source": [
    "### Ensemble model"
   ]
  },
  {
   "cell_type": "code",
   "execution_count": 12,
   "id": "2bc84924",
   "metadata": {},
   "outputs": [
    {
     "name": "stdout",
     "output_type": "stream",
     "text": [
      "Epoch 1/5\n"
     ]
    },
    {
     "name": "stderr",
     "output_type": "stream",
     "text": [
      "2022-05-03 12:29:02.441814: I tensorflow/core/grappler/optimizers/custom_graph_optimizer_registry.cc:113] Plugin optimizer for device_type GPU is enabled.\n"
     ]
    },
    {
     "name": "stdout",
     "output_type": "stream",
     "text": [
      "502/507 [============================>.] - ETA: 0s - loss: 0.4035 - accuracy: 0.8150 - auc: 0.8832"
     ]
    },
    {
     "name": "stderr",
     "output_type": "stream",
     "text": [
      "2022-05-03 12:29:07.267409: I tensorflow/core/grappler/optimizers/custom_graph_optimizer_registry.cc:113] Plugin optimizer for device_type GPU is enabled.\n"
     ]
    },
    {
     "name": "stdout",
     "output_type": "stream",
     "text": [
      "507/507 [==============================] - 6s 11ms/step - loss: 0.4023 - accuracy: 0.8155 - auc: 0.8839 - val_loss: 0.3566 - val_accuracy: 0.8481 - val_auc: 0.9196\n",
      "Epoch 2/5\n",
      "507/507 [==============================] - 5s 9ms/step - loss: 0.3472 - accuracy: 0.8513 - auc: 0.9155 - val_loss: 0.4497 - val_accuracy: 0.7894 - val_auc: 0.9224\n",
      "Epoch 3/5\n",
      "507/507 [==============================] - 5s 9ms/step - loss: 0.3271 - accuracy: 0.8634 - auc: 0.9255 - val_loss: 0.3253 - val_accuracy: 0.8609 - val_auc: 0.9320\n",
      "Epoch 4/5\n",
      "507/507 [==============================] - 5s 9ms/step - loss: 0.3061 - accuracy: 0.8726 - auc: 0.9345 - val_loss: 0.3085 - val_accuracy: 0.8688 - val_auc: 0.9371\n",
      "Epoch 5/5\n",
      "507/507 [==============================] - 5s 10ms/step - loss: 0.2996 - accuracy: 0.8755 - auc: 0.9376 - val_loss: 0.3480 - val_accuracy: 0.8543 - val_auc: 0.9352\n",
      "Epoch 1/5\n",
      "  1/507 [..............................] - ETA: 2:36 - loss: 0.6759 - accuracy: 0.5938 - auc: 0.6053"
     ]
    },
    {
     "name": "stderr",
     "output_type": "stream",
     "text": [
      "2022-05-03 12:29:27.537301: I tensorflow/core/grappler/optimizers/custom_graph_optimizer_registry.cc:113] Plugin optimizer for device_type GPU is enabled.\n"
     ]
    },
    {
     "name": "stdout",
     "output_type": "stream",
     "text": [
      "506/507 [============================>.] - ETA: 0s - loss: 0.4187 - accuracy: 0.8018 - auc: 0.8733"
     ]
    },
    {
     "name": "stderr",
     "output_type": "stream",
     "text": [
      "2022-05-03 12:29:31.934386: I tensorflow/core/grappler/optimizers/custom_graph_optimizer_registry.cc:113] Plugin optimizer for device_type GPU is enabled.\n"
     ]
    },
    {
     "name": "stdout",
     "output_type": "stream",
     "text": [
      "507/507 [==============================] - 5s 10ms/step - loss: 0.4183 - accuracy: 0.8020 - auc: 0.8736 - val_loss: 0.3767 - val_accuracy: 0.8323 - val_auc: 0.9160\n",
      "Epoch 2/5\n",
      "507/507 [==============================] - 5s 10ms/step - loss: 0.3408 - accuracy: 0.8543 - auc: 0.9189 - val_loss: 0.3306 - val_accuracy: 0.8590 - val_auc: 0.9262\n",
      "Epoch 3/5\n",
      "507/507 [==============================] - 5s 9ms/step - loss: 0.3263 - accuracy: 0.8611 - auc: 0.9258 - val_loss: 0.3197 - val_accuracy: 0.8664 - val_auc: 0.9308\n",
      "Epoch 4/5\n",
      "507/507 [==============================] - 5s 9ms/step - loss: 0.3099 - accuracy: 0.8705 - auc: 0.9332 - val_loss: 0.3471 - val_accuracy: 0.8531 - val_auc: 0.9297\n",
      "Epoch 5/5\n",
      "507/507 [==============================] - 5s 9ms/step - loss: 0.3007 - accuracy: 0.8736 - auc: 0.9373 - val_loss: 0.3209 - val_accuracy: 0.8632 - val_auc: 0.9362\n",
      "Epoch 1/5\n",
      "  1/507 [..............................] - ETA: 2:38 - loss: 0.6501 - accuracy: 0.7188 - auc: 0.6473"
     ]
    },
    {
     "name": "stderr",
     "output_type": "stream",
     "text": [
      "2022-05-03 12:29:52.092467: I tensorflow/core/grappler/optimizers/custom_graph_optimizer_registry.cc:113] Plugin optimizer for device_type GPU is enabled.\n"
     ]
    },
    {
     "name": "stdout",
     "output_type": "stream",
     "text": [
      "507/507 [==============================] - ETA: 0s - loss: 0.3943 - accuracy: 0.8187 - auc: 0.8893"
     ]
    },
    {
     "name": "stderr",
     "output_type": "stream",
     "text": [
      "2022-05-03 12:29:56.532275: I tensorflow/core/grappler/optimizers/custom_graph_optimizer_registry.cc:113] Plugin optimizer for device_type GPU is enabled.\n"
     ]
    },
    {
     "name": "stdout",
     "output_type": "stream",
     "text": [
      "507/507 [==============================] - 5s 10ms/step - loss: 0.3943 - accuracy: 0.8187 - auc: 0.8893 - val_loss: 0.3908 - val_accuracy: 0.8222 - val_auc: 0.9181\n",
      "Epoch 2/5\n",
      "507/507 [==============================] - 5s 10ms/step - loss: 0.3409 - accuracy: 0.8515 - auc: 0.9188 - val_loss: 0.3395 - val_accuracy: 0.8540 - val_auc: 0.9244\n",
      "Epoch 3/5\n",
      "507/507 [==============================] - 5s 10ms/step - loss: 0.3256 - accuracy: 0.8600 - auc: 0.9261 - val_loss: 0.3995 - val_accuracy: 0.8257 - val_auc: 0.9281\n",
      "Epoch 4/5\n",
      "507/507 [==============================] - 5s 9ms/step - loss: 0.3121 - accuracy: 0.8705 - auc: 0.9322 - val_loss: 0.4551 - val_accuracy: 0.7944 - val_auc: 0.9304\n",
      "Epoch 5/5\n",
      "507/507 [==============================] - 5s 9ms/step - loss: 0.2986 - accuracy: 0.8746 - auc: 0.9381 - val_loss: 0.3361 - val_accuracy: 0.8543 - val_auc: 0.9338\n",
      "Epoch 1/5\n",
      "  1/507 [..............................] - ETA: 2:36 - loss: 0.6376 - accuracy: 0.7812 - auc: 0.6771"
     ]
    },
    {
     "name": "stderr",
     "output_type": "stream",
     "text": [
      "2022-05-03 12:30:16.958711: I tensorflow/core/grappler/optimizers/custom_graph_optimizer_registry.cc:113] Plugin optimizer for device_type GPU is enabled.\n"
     ]
    },
    {
     "name": "stdout",
     "output_type": "stream",
     "text": [
      "506/507 [============================>.] - ETA: 0s - loss: 0.4108 - accuracy: 0.8136 - auc: 0.8789"
     ]
    },
    {
     "name": "stderr",
     "output_type": "stream",
     "text": [
      "2022-05-03 12:30:21.261002: I tensorflow/core/grappler/optimizers/custom_graph_optimizer_registry.cc:113] Plugin optimizer for device_type GPU is enabled.\n"
     ]
    },
    {
     "name": "stdout",
     "output_type": "stream",
     "text": [
      "507/507 [==============================] - 5s 10ms/step - loss: 0.4106 - accuracy: 0.8138 - auc: 0.8789 - val_loss: 0.3663 - val_accuracy: 0.8432 - val_auc: 0.9141\n",
      "Epoch 2/5\n",
      "507/507 [==============================] - 5s 10ms/step - loss: 0.3464 - accuracy: 0.8497 - auc: 0.9162 - val_loss: 0.3438 - val_accuracy: 0.8531 - val_auc: 0.9204\n",
      "Epoch 3/5\n",
      "507/507 [==============================] - 5s 10ms/step - loss: 0.3312 - accuracy: 0.8572 - auc: 0.9237 - val_loss: 0.4029 - val_accuracy: 0.8129 - val_auc: 0.9269\n",
      "Epoch 4/5\n",
      "507/507 [==============================] - 5s 9ms/step - loss: 0.3136 - accuracy: 0.8658 - auc: 0.9317 - val_loss: 0.3340 - val_accuracy: 0.8484 - val_auc: 0.9341\n",
      "Epoch 5/5\n",
      "507/507 [==============================] - 5s 10ms/step - loss: 0.3033 - accuracy: 0.8715 - auc: 0.9362 - val_loss: 0.3656 - val_accuracy: 0.8452 - val_auc: 0.9314\n",
      "Epoch 1/5\n",
      "  1/507 [..............................] - ETA: 2:51 - loss: 0.6469 - accuracy: 0.7500 - auc: 0.5990"
     ]
    },
    {
     "name": "stderr",
     "output_type": "stream",
     "text": [
      "2022-05-03 12:30:41.839497: I tensorflow/core/grappler/optimizers/custom_graph_optimizer_registry.cc:113] Plugin optimizer for device_type GPU is enabled.\n"
     ]
    },
    {
     "name": "stdout",
     "output_type": "stream",
     "text": [
      "502/507 [============================>.] - ETA: 0s - loss: 0.4079 - accuracy: 0.8134 - auc: 0.8805"
     ]
    },
    {
     "name": "stderr",
     "output_type": "stream",
     "text": [
      "2022-05-03 12:30:46.377667: I tensorflow/core/grappler/optimizers/custom_graph_optimizer_registry.cc:113] Plugin optimizer for device_type GPU is enabled.\n"
     ]
    },
    {
     "name": "stdout",
     "output_type": "stream",
     "text": [
      "507/507 [==============================] - 6s 10ms/step - loss: 0.4075 - accuracy: 0.8141 - auc: 0.8808 - val_loss: 0.3662 - val_accuracy: 0.8390 - val_auc: 0.9201\n",
      "Epoch 2/5\n",
      "507/507 [==============================] - 5s 10ms/step - loss: 0.3458 - accuracy: 0.8499 - auc: 0.9162 - val_loss: 0.3440 - val_accuracy: 0.8523 - val_auc: 0.9224\n",
      "Epoch 3/5\n",
      "507/507 [==============================] - 5s 10ms/step - loss: 0.3267 - accuracy: 0.8606 - auc: 0.9255 - val_loss: 0.3220 - val_accuracy: 0.8644 - val_auc: 0.9308\n",
      "Epoch 4/5\n",
      "507/507 [==============================] - 5s 10ms/step - loss: 0.3026 - accuracy: 0.8702 - auc: 0.9363 - val_loss: 0.3158 - val_accuracy: 0.8698 - val_auc: 0.9339\n",
      "Epoch 5/5\n",
      "507/507 [==============================] - 5s 10ms/step - loss: 0.2974 - accuracy: 0.8759 - auc: 0.9384 - val_loss: 0.3303 - val_accuracy: 0.8656 - val_auc: 0.9305\n"
     ]
    }
   ],
   "source": [
    "# generate train and test set\n",
    "x_train, x_test, y_train, y_test = train_test_split(np.array(images), np.array(cancer_label), test_size=0.2)\n",
    "\n",
    "# intialize and train sub-models\n",
    "def get_sub_model():\n",
    "    # number of sub models\n",
    "    nets = 5\n",
    "    sub_models = [0]*nets\n",
    "    \n",
    "    for i in range(nets):\n",
    "        model = get_model()\n",
    "        # fit sub_model with train and test data\n",
    "        model.fit(x_train, y_train, epochs=5, validation_data=(x_test, y_test))\n",
    "        \n",
    "        # save fitted sub_model to model list\n",
    "        sub_models[i] = model\n",
    "        \n",
    "    return sub_models\n",
    "    \n",
    "sub_models = get_sub_model()"
   ]
  },
  {
   "cell_type": "code",
   "execution_count": 13,
   "id": "e90d20eb",
   "metadata": {},
   "outputs": [],
   "source": [
    "# method to get output from submodels to feed meta_learner\n",
    "# shape of dataset would be (no rows of OG dataset, [no output of sub model * no sub model])\n",
    "def get_ensembled_x(x):\n",
    "    ensembled_data = None\n",
    "    for sub_model in sub_models:\n",
    "        prediction = sub_model.predict(x)\n",
    "        \n",
    "        # stack prediction of sub model to ensembled data\n",
    "        if ensembled_data is None:\n",
    "            ensembled_data = prediction\n",
    "        else:\n",
    "            ensembled_data = np.dstack((ensembled_data, prediction))\n",
    "            \n",
    "    # ensemble data initially shape iz (no_col, no submodels, no classes)        \n",
    "    # reshape to (no_col, no submodels*no classes)\n",
    "    ensembled_data = ensembled_data.reshape(ensembled_data.shape[0], ensembled_data.shape[1]*ensembled_data.shape[2])\n",
    "    return ensembled_data\n",
    "\n",
    "def get_meta_learner():\n",
    "    model = tf.keras.Sequential()\n",
    "    # Flatten input\n",
    "    model.add(tf.keras.layers.Flatten())\n",
    "    # Hidden layers\n",
    "    model.add(tf.keras.layers.Dense(256, activation=\"tanh\"))\n",
    "    model.add(tf.keras.layers.Dense(128, activation=\"softmax\"))\n",
    "    model.add(tf.keras.layers.Dense(32, activation=\"relu\"))\n",
    "    # Output layer\n",
    "    model.add(tf.keras.layers.Dense(1, activation=\"sigmoid\"))\n",
    "    # Compile model\n",
    "    model.compile(optimizer=\"adam\",\n",
    "                  loss=\"binary_crossentropy\",\n",
    "                  metrics=[\"accuracy\", \"AUC\"])\n",
    "    \n",
    "    # get train ensembled data\n",
    "    ensembled_x = get_ensembled_x(x_train)\n",
    "    \n",
    "    model.fit(ensembled_x, y_train, epochs=10)\n",
    "    return model "
   ]
  },
  {
   "cell_type": "code",
   "execution_count": 14,
   "id": "9b341ecb",
   "metadata": {},
   "outputs": [
    {
     "name": "stderr",
     "output_type": "stream",
     "text": [
      "2022-05-03 12:31:14.316182: I tensorflow/core/grappler/optimizers/custom_graph_optimizer_registry.cc:113] Plugin optimizer for device_type GPU is enabled.\n",
      "2022-05-03 12:31:14.592216: I tensorflow/core/grappler/optimizers/custom_graph_optimizer_registry.cc:113] Plugin optimizer for device_type GPU is enabled.\n",
      "2022-05-03 12:31:14.857777: I tensorflow/core/grappler/optimizers/custom_graph_optimizer_registry.cc:113] Plugin optimizer for device_type GPU is enabled.\n",
      "2022-05-03 12:31:15.125754: I tensorflow/core/grappler/optimizers/custom_graph_optimizer_registry.cc:113] Plugin optimizer for device_type GPU is enabled.\n",
      "2022-05-03 12:31:15.393551: I tensorflow/core/grappler/optimizers/custom_graph_optimizer_registry.cc:113] Plugin optimizer for device_type GPU is enabled.\n",
      "2022-05-03 12:31:15.748085: I tensorflow/core/grappler/optimizers/custom_graph_optimizer_registry.cc:113] Plugin optimizer for device_type GPU is enabled.\n",
      "2022-05-03 12:31:16.835260: I tensorflow/core/grappler/optimizers/custom_graph_optimizer_registry.cc:113] Plugin optimizer for device_type GPU is enabled.\n",
      "2022-05-03 12:31:17.800838: I tensorflow/core/grappler/optimizers/custom_graph_optimizer_registry.cc:113] Plugin optimizer for device_type GPU is enabled.\n",
      "2022-05-03 12:31:18.874799: I tensorflow/core/grappler/optimizers/custom_graph_optimizer_registry.cc:113] Plugin optimizer for device_type GPU is enabled.\n",
      "2022-05-03 12:31:19.863718: I tensorflow/core/grappler/optimizers/custom_graph_optimizer_registry.cc:113] Plugin optimizer for device_type GPU is enabled.\n"
     ]
    },
    {
     "name": "stdout",
     "output_type": "stream",
     "text": [
      "Epoch 1/10\n"
     ]
    },
    {
     "name": "stderr",
     "output_type": "stream",
     "text": [
      "2022-05-03 12:31:20.944978: I tensorflow/core/grappler/optimizers/custom_graph_optimizer_registry.cc:113] Plugin optimizer for device_type GPU is enabled.\n"
     ]
    },
    {
     "name": "stdout",
     "output_type": "stream",
     "text": [
      "507/507 [==============================] - 4s 8ms/step - loss: 0.3601 - accuracy: 0.8763 - auc: 0.9177\n",
      "Epoch 2/10\n",
      "507/507 [==============================] - 4s 7ms/step - loss: 0.2748 - accuracy: 0.8889 - auc: 0.9486\n",
      "Epoch 3/10\n",
      "507/507 [==============================] - 4s 7ms/step - loss: 0.2718 - accuracy: 0.8903 - auc: 0.9498\n",
      "Epoch 4/10\n",
      "507/507 [==============================] - 4s 7ms/step - loss: 0.2711 - accuracy: 0.8901 - auc: 0.9496\n",
      "Epoch 5/10\n",
      "507/507 [==============================] - 4s 7ms/step - loss: 0.2700 - accuracy: 0.8904 - auc: 0.9500\n",
      "Epoch 6/10\n",
      "507/507 [==============================] - 4s 7ms/step - loss: 0.2694 - accuracy: 0.8897 - auc: 0.9499\n",
      "Epoch 7/10\n",
      "507/507 [==============================] - 4s 7ms/step - loss: 0.2690 - accuracy: 0.8907 - auc: 0.9501\n",
      "Epoch 8/10\n",
      "507/507 [==============================] - 4s 7ms/step - loss: 0.2687 - accuracy: 0.8896 - auc: 0.9502\n",
      "Epoch 9/10\n",
      "507/507 [==============================] - 4s 7ms/step - loss: 0.2685 - accuracy: 0.8895 - auc: 0.9501\n",
      "Epoch 10/10\n",
      "507/507 [==============================] - 4s 8ms/step - loss: 0.2692 - accuracy: 0.8894 - auc: 0.9499\n",
      "  1/127 [..............................] - ETA: 28s - loss: 0.2177 - accuracy: 0.9062 - auc: 0.9543"
     ]
    },
    {
     "name": "stderr",
     "output_type": "stream",
     "text": [
      "2022-05-03 12:31:59.237369: I tensorflow/core/grappler/optimizers/custom_graph_optimizer_registry.cc:113] Plugin optimizer for device_type GPU is enabled.\n"
     ]
    },
    {
     "name": "stdout",
     "output_type": "stream",
     "text": [
      "127/127 [==============================] - 1s 7ms/step - loss: 0.3076 - accuracy: 0.8691 - auc: 0.9365\n"
     ]
    },
    {
     "data": {
      "text/plain": [
       "[0.3075993061065674, 0.8690828680992126, 0.936511218547821]"
      ]
     },
     "execution_count": 14,
     "metadata": {},
     "output_type": "execute_result"
    }
   ],
   "source": [
    "# evaluate with ensembled CNN model\n",
    "# get test data\n",
    "ensembled_x_test = get_ensembled_x(x_test)\n",
    "# get trained ensemble model\n",
    "ensembled_model = get_meta_learner()\n",
    "# evaluate\n",
    "ensembled_model.evaluate(ensembled_x_test, y_test)"
   ]
  },
  {
   "cell_type": "markdown",
   "id": "4b8319ef",
   "metadata": {},
   "source": [
    "### Base model for multiclass  "
   ]
  },
  {
   "cell_type": "code",
   "execution_count": 28,
   "id": "a3409180",
   "metadata": {},
   "outputs": [
    {
     "data": {
      "image/png": "[encoded data removed]",
      "text/plain": [
       "<Figure size 720x720 with 25 Axes>"
      ]
     },
     "metadata": {},
     "output_type": "display_data"
    },
    {
     "name": "stdout",
     "output_type": "stream",
     "text": [
      "Epoch 1/10\n",
      "  5/248 [..............................] - ETA: 3s - loss: 1.5236 - accuracy: 0.2062 "
     ]
    },
    {
     "name": "stderr",
     "output_type": "stream",
     "text": [
      "2022-05-04 11:11:24.848386: I tensorflow/core/grappler/optimizers/custom_graph_optimizer_registry.cc:113] Plugin optimizer for device_type GPU is enabled.\n"
     ]
    },
    {
     "name": "stdout",
     "output_type": "stream",
     "text": [
      "246/248 [============================>.] - ETA: 0s - loss: 0.9466 - accuracy: 0.6198"
     ]
    },
    {
     "name": "stderr",
     "output_type": "stream",
     "text": [
      "2022-05-04 11:11:27.046969: I tensorflow/core/grappler/optimizers/custom_graph_optimizer_registry.cc:113] Plugin optimizer for device_type GPU is enabled.\n"
     ]
    },
    {
     "name": "stdout",
     "output_type": "stream",
     "text": [
      "248/248 [==============================] - 3s 10ms/step - loss: 0.9458 - accuracy: 0.6203 - val_loss: 0.8055 - val_accuracy: 0.6818\n",
      "Epoch 2/10\n",
      "248/248 [==============================] - 2s 9ms/step - loss: 0.7821 - accuracy: 0.6945 - val_loss: 0.7724 - val_accuracy: 0.6995\n",
      "Epoch 3/10\n",
      "248/248 [==============================] - 2s 9ms/step - loss: 0.7286 - accuracy: 0.7160 - val_loss: 0.8199 - val_accuracy: 0.6914\n",
      "Epoch 4/10\n",
      "248/248 [==============================] - 2s 9ms/step - loss: 0.6869 - accuracy: 0.7308 - val_loss: 0.7423 - val_accuracy: 0.7101\n",
      "Epoch 5/10\n",
      "248/248 [==============================] - 2s 9ms/step - loss: 0.6741 - accuracy: 0.7423 - val_loss: 0.7306 - val_accuracy: 0.7141\n",
      "Epoch 6/10\n",
      "248/248 [==============================] - 2s 9ms/step - loss: 0.6198 - accuracy: 0.7606 - val_loss: 0.7047 - val_accuracy: 0.7333\n",
      "Epoch 7/10\n",
      "248/248 [==============================] - 2s 9ms/step - loss: 0.5694 - accuracy: 0.7845 - val_loss: 0.7468 - val_accuracy: 0.7268\n",
      "Epoch 8/10\n",
      "248/248 [==============================] - 2s 9ms/step - loss: 0.5582 - accuracy: 0.7832 - val_loss: 0.7335 - val_accuracy: 0.7172\n",
      "Epoch 9/10\n",
      "248/248 [==============================] - 2s 9ms/step - loss: 0.5048 - accuracy: 0.8134 - val_loss: 0.8489 - val_accuracy: 0.6803\n",
      "Epoch 10/10\n",
      "248/248 [==============================] - 2s 9ms/step - loss: 0.4588 - accuracy: 0.8311 - val_loss: 0.7674 - val_accuracy: 0.7247\n"
     ]
    },
    {
     "name": "stderr",
     "output_type": "stream",
     "text": [
      "2022-05-04 11:11:46.877996: I tensorflow/core/grappler/optimizers/custom_graph_optimizer_registry.cc:113] Plugin optimizer for device_type GPU is enabled.\n"
     ]
    }
   ],
   "source": [
    "import matplotlib.pyplot as plt\n",
    "all_class = [\"epithelial\", \"fibroblast\", \"inflammatory\", \"others\"]\n",
    "\n",
    "def celltype_classify_data(class_list):    \n",
    "    images = list()\n",
    "    labels = list()\n",
    "    \n",
    "    for i, label in enumerate(class_list):\n",
    "        # get image directory\n",
    "        img_dir = os.path.join(root, f\"{label}\")\n",
    "        \n",
    "        for img in os.listdir(img_dir):\n",
    "            img = cv2.imread(os.path.join(img_dir, img))\n",
    "            # resize to 0-1 for faster computation\n",
    "            resized = img / 255\n",
    "            images.append(resized)\n",
    "            labels.append(i)\n",
    "        \n",
    "    return (images, labels)\n",
    "\n",
    "cell_img, celltype_label = celltype_classify_data(all_class)\n",
    "x_train, x_test, y_train, y_test = train_test_split(\n",
    "    np.array(cell_img), np.array(celltype_label), test_size=0.2\n",
    ")\n",
    "\n",
    "# print first 25 images\n",
    "plt.figure(figsize=(10,10))\n",
    "for i in range(25):\n",
    "    plt.subplot(5,5,i+1)\n",
    "    plt.xticks([])\n",
    "    plt.yticks([])\n",
    "    plt.grid(False)\n",
    "    plt.imshow(x_train[i], cmap=plt.cm.binary)\n",
    "    plt.xlabel(all_class[y_train[i]])\n",
    "plt.show()\n",
    "\n",
    "def get_multiclass_model():\n",
    "    model = tf.keras.Sequential()\n",
    "    # First convo-pooling\n",
    "    # Convolutional layers (filter the image with a kernel)\n",
    "    model.add(tf.keras.layers.Conv2D(64, (3, 3), activation=\"relu\", input_shape=[27, 27, 3]))\n",
    "    # Max-pooling layers (reduce the size of the image by choosing max pixel at certain area)\n",
    "    model.add(tf.keras.layers.MaxPool2D(pool_size=(2, 2)))\n",
    "    # Flatten input\n",
    "    model.add(tf.keras.layers.Flatten())\n",
    "    model.add(tf.keras.layers.Dense(256, activation=\"relu\"))\n",
    "    model.add(tf.keras.layers.Dense(128, activation=\"relu\"))\n",
    "    model.add(tf.keras.layers.Dense(32, activation=\"relu\"))\n",
    "    # Output layer\n",
    "    model.add(tf.keras.layers.Dense(4, activation=\"softmax\"))\n",
    "    # Compile model \n",
    "    model.compile(optimizer=\"adam\",\n",
    "                  loss=\"sparse_categorical_crossentropy\",\n",
    "                  metrics=[\"accuracy\"])\n",
    "    \n",
    "    return model\n",
    "\n",
    "model = get_multiclass_model()\n",
    "\n",
    "model.fit(x_train, y_train, epochs=10, validation_data=(x_test, y_test))\n",
    "prediction = model.predict(x_test)"
   ]
  },
  {
   "cell_type": "markdown",
   "id": "6ada6a38",
   "metadata": {},
   "source": [
    "### Multiclass using transfer learning "
   ]
  },
  {
   "cell_type": "code",
   "execution_count": 30,
   "id": "bb8d3e77",
   "metadata": {},
   "outputs": [
    {
     "name": "stdout",
     "output_type": "stream",
     "text": [
      "[2 0 0 0 0]\n",
      "[2 2 2 0 0]\n",
      "---Subclass training---\n",
      "Epoch 1/10\n",
      "  6/213 [..............................] - ETA: 2s - loss: 1.1048 - accuracy: 0.4583 "
     ]
    },
    {
     "name": "stderr",
     "output_type": "stream",
     "text": [
      "2022-05-04 11:13:00.519010: I tensorflow/core/grappler/optimizers/custom_graph_optimizer_registry.cc:113] Plugin optimizer for device_type GPU is enabled.\n"
     ]
    },
    {
     "name": "stdout",
     "output_type": "stream",
     "text": [
      "213/213 [==============================] - ETA: 0s - loss: 0.6661 - accuracy: 0.7193"
     ]
    },
    {
     "name": "stderr",
     "output_type": "stream",
     "text": [
      "2022-05-04 11:13:02.436573: I tensorflow/core/grappler/optimizers/custom_graph_optimizer_registry.cc:113] Plugin optimizer for device_type GPU is enabled.\n"
     ]
    },
    {
     "name": "stdout",
     "output_type": "stream",
     "text": [
      "213/213 [==============================] - 2s 10ms/step - loss: 0.6661 - accuracy: 0.7193 - val_loss: 0.4743 - val_accuracy: 0.8179\n",
      "Epoch 2/10\n",
      "213/213 [==============================] - 2s 9ms/step - loss: 0.5012 - accuracy: 0.8020 - val_loss: 0.5262 - val_accuracy: 0.7914\n",
      "Epoch 3/10\n",
      "213/213 [==============================] - 2s 9ms/step - loss: 0.4742 - accuracy: 0.8149 - val_loss: 0.6408 - val_accuracy: 0.7444\n",
      "Epoch 4/10\n",
      "213/213 [==============================] - 2s 9ms/step - loss: 0.4444 - accuracy: 0.8245 - val_loss: 0.4599 - val_accuracy: 0.8161\n",
      "Epoch 5/10\n",
      "213/213 [==============================] - 2s 9ms/step - loss: 0.4344 - accuracy: 0.8298 - val_loss: 0.4489 - val_accuracy: 0.8314\n",
      "Epoch 6/10\n",
      "213/213 [==============================] - 2s 9ms/step - loss: 0.4004 - accuracy: 0.8477 - val_loss: 0.5128 - val_accuracy: 0.7996\n",
      "Epoch 7/10\n",
      "213/213 [==============================] - 2s 9ms/step - loss: 0.3756 - accuracy: 0.8534 - val_loss: 0.5245 - val_accuracy: 0.8061\n",
      "Epoch 8/10\n",
      "213/213 [==============================] - 2s 9ms/step - loss: 0.3494 - accuracy: 0.8656 - val_loss: 0.4511 - val_accuracy: 0.8267\n",
      "Epoch 9/10\n",
      "213/213 [==============================] - 2s 9ms/step - loss: 0.3382 - accuracy: 0.8700 - val_loss: 0.4649 - val_accuracy: 0.8325\n",
      "Epoch 10/10\n",
      "213/213 [==============================] - 2s 9ms/step - loss: 0.3171 - accuracy: 0.8768 - val_loss: 0.4717 - val_accuracy: 0.8249\n"
     ]
    },
    {
     "name": "stderr",
     "output_type": "stream",
     "text": [
      "2022-05-04 11:13:19.759024: I tensorflow/core/grappler/optimizers/custom_graph_optimizer_registry.cc:113] Plugin optimizer for device_type GPU is enabled.\n"
     ]
    },
    {
     "name": "stdout",
     "output_type": "stream",
     "text": [
      "---Transfer learning training---\n",
      "Epoch 1/10\n",
      "  9/248 [>.............................] - ETA: 1s - loss: 1.3817 - accuracy: 0.3854 "
     ]
    },
    {
     "name": "stderr",
     "output_type": "stream",
     "text": [
      "2022-05-04 11:13:20.524342: I tensorflow/core/grappler/optimizers/custom_graph_optimizer_registry.cc:113] Plugin optimizer for device_type GPU is enabled.\n"
     ]
    },
    {
     "name": "stdout",
     "output_type": "stream",
     "text": [
      "244/248 [============================>.] - ETA: 0s - loss: 0.9612 - accuracy: 0.6528"
     ]
    },
    {
     "name": "stderr",
     "output_type": "stream",
     "text": [
      "2022-05-04 11:13:22.027335: I tensorflow/core/grappler/optimizers/custom_graph_optimizer_registry.cc:113] Plugin optimizer for device_type GPU is enabled.\n"
     ]
    },
    {
     "name": "stdout",
     "output_type": "stream",
     "text": [
      "248/248 [==============================] - 2s 7ms/step - loss: 0.9564 - accuracy: 0.6547 - val_loss: 0.6560 - val_accuracy: 0.7823\n",
      "Epoch 2/10\n",
      "248/248 [==============================] - 2s 7ms/step - loss: 0.6398 - accuracy: 0.7769 - val_loss: 0.6307 - val_accuracy: 0.7838\n",
      "Epoch 3/10\n",
      "248/248 [==============================] - 2s 6ms/step - loss: 0.6213 - accuracy: 0.7765 - val_loss: 0.6269 - val_accuracy: 0.7747\n",
      "Epoch 4/10\n",
      "248/248 [==============================] - 2s 6ms/step - loss: 0.6121 - accuracy: 0.7784 - val_loss: 0.6216 - val_accuracy: 0.7793\n",
      "Epoch 5/10\n",
      "248/248 [==============================] - 2s 6ms/step - loss: 0.6090 - accuracy: 0.7773 - val_loss: 0.6099 - val_accuracy: 0.7813\n",
      "Epoch 6/10\n",
      "248/248 [==============================] - 2s 6ms/step - loss: 0.6046 - accuracy: 0.7778 - val_loss: 0.6161 - val_accuracy: 0.7793\n",
      "Epoch 7/10\n",
      "248/248 [==============================] - 2s 6ms/step - loss: 0.6012 - accuracy: 0.7794 - val_loss: 0.6056 - val_accuracy: 0.7813\n",
      "Epoch 8/10\n",
      "248/248 [==============================] - 2s 7ms/step - loss: 0.5981 - accuracy: 0.7779 - val_loss: 0.6082 - val_accuracy: 0.7818\n",
      "Epoch 9/10\n",
      "248/248 [==============================] - 2s 6ms/step - loss: 0.5978 - accuracy: 0.7794 - val_loss: 0.6092 - val_accuracy: 0.7773\n",
      "Epoch 10/10\n",
      "248/248 [==============================] - 2s 6ms/step - loss: 0.5954 - accuracy: 0.7787 - val_loss: 0.6116 - val_accuracy: 0.7778\n"
     ]
    },
    {
     "data": {
      "text/plain": [
       "<keras.callbacks.History at 0x2b8e77f40>"
      ]
     },
     "execution_count": 30,
     "metadata": {},
     "output_type": "execute_result"
    }
   ],
   "source": [
    "def get_subclass_model():\n",
    "    model = tf.keras.Sequential()\n",
    "    # First convo-pooling\n",
    "    # Convolutional layers (filter the image with a kernel)\n",
    "    model.add(tf.keras.layers.Conv2D(64, (3, 3), activation=\"relu\", input_shape=[27, 27, 3]))\n",
    "    # Max-pooling layers (reduce the size of the image by choosing max pixel at certain area)\n",
    "    model.add(tf.keras.layers.MaxPool2D(pool_size=(2, 2)))\n",
    "    # Flatten input\n",
    "    model.add(tf.keras.layers.Flatten())\n",
    "    model.add(tf.keras.layers.Dense(256, activation=\"relu\"))\n",
    "    model.add(tf.keras.layers.Dense(128, activation=\"relu\"))\n",
    "    model.add(tf.keras.layers.Dense(32, activation=\"relu\"))\n",
    "    # Output layer\n",
    "    model.add(tf.keras.layers.Dense(3, activation=\"softmax\"))\n",
    "    # Compile model \n",
    "    model.compile(optimizer=\"adam\",\n",
    "                  loss=\"sparse_categorical_crossentropy\",\n",
    "                  metrics=[\"accuracy\"])\n",
    "    \n",
    "    return model\n",
    "\n",
    "def get_transfer_model():\n",
    "    model = tf.keras.Sequential()\n",
    "    # Flatten input\n",
    "    model.add(tf.keras.layers.Flatten())\n",
    "    # Hidden layers\n",
    "    model.add(tf.keras.layers.Dense(256, activation=\"relu\"))\n",
    "    model.add(tf.keras.layers.Dense(128, activation=\"softmax\"))\n",
    "    model.add(tf.keras.layers.Dense(32, activation=\"relu\"))\n",
    "    # Output layer\n",
    "    model.add(tf.keras.layers.Dense(4, activation=\"softmax\"))\n",
    "    # Compile model\n",
    "    model.compile(optimizer=\"adam\",\n",
    "                  loss=\"sparse_categorical_crossentropy\",\n",
    "                  metrics=[\"accuracy\"])\n",
    "    \n",
    "    return model\n",
    "\n",
    "sub_multiclass = [\"epithelial\", \"fibroblast\", \"inflammatory\"]\n",
    "\n",
    "# imgs with 3 classes\n",
    "subcell_img, subcelltype_label = celltype_classify_data(sub_multiclass)\n",
    "subx_train, subx_test, suby_train, suby_test = train_test_split(\n",
    "    np.array(subcell_img), np.array(subcelltype_label), test_size=0.2\n",
    ")\n",
    "\n",
    "all_class = [\"epithelial\", \"fibroblast\", \"inflammatory\", \"others\"]\n",
    "# imgs with 4 classes\n",
    "cell_img, celltype_label = celltype_classify_data(all_class)\n",
    "x_train, x_test, y_train, y_test = train_test_split(\n",
    "    np.array(cell_img), np.array(celltype_label), test_size=0.2\n",
    ")\n",
    "\n",
    "print(\"---Subclass training---\")\n",
    "# train subclass that fit with 3 types of images\n",
    "subclass_model = get_subclass_model()\n",
    "subclass_model.fit(subx_train, suby_train, epochs=10, validation_data=(subx_test, suby_test))\n",
    "\n",
    "# get transfered model and train\n",
    "transfer_x_train = subclass_model.predict(x_train)\n",
    "transfer_x_test = subclass_model.predict(x_test)\n",
    "transfer_model = get_transfer_model()\n",
    "print(\"---Transfer learning training---\")\n",
    "transfer_model.fit(transfer_x_train, y_train, epochs=10, validation_data=(transfer_x_test, y_test))"
   ]
  }
 ],
 "metadata": {
  "kernelspec": {
   "display_name": "Python 3.9 (tensorflow)",
   "language": "python",
   "name": "tensorflow"
  },
  "language_info": {
   "codemirror_mode": {
    "name": "ipython",
    "version": 3
   },
   "file_extension": ".py",
   "mimetype": "text/x-python",
   "name": "python",
   "nbconvert_exporter": "python",
   "pygments_lexer": "ipython3",
   "version": "3.9.7"
  }
 },
 "nbformat": 4,
 "nbformat_minor": 5
}
