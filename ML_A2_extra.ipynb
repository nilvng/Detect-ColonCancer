{
 "cells": [
  {
   "cell_type": "code",
   "execution_count": 1,
   "id": "19ac42e6",
   "metadata": {},
   "outputs": [],
   "source": [
    "import cv2\n",
    "import numpy as np\n",
    "import pandas as pd\n",
    "import os\n",
    "import sys\n",
    "import tensorflow as tf\n",
    "from tensorflow import keras\n",
    "from sklearn.model_selection import train_test_split\n",
    "import keras_tuner as kt\n",
    "from sklearn.metrics import classification_report\n",
    "import shutil\n",
    "from os import path\n",
    "import matplotlib.pyplot as plt\n",
    "from tensorflow.keras.preprocessing import image_dataset_from_directory\n",
    "from keras.preprocessing.image import ImageDataGenerator\n",
    "\n",
    "# path variables to access files\n",
    "root = os.getcwd()"
   ]
  },
  {
   "cell_type": "markdown",
   "id": "7434e2ba",
   "metadata": {},
   "source": [
    "### Load dataframe"
   ]
  },
  {
   "cell_type": "code",
   "execution_count": 2,
   "id": "eff2688d",
   "metadata": {},
   "outputs": [],
   "source": [
    "main_data = pd.read_csv(\"data_labels_mainData.csv\")\n",
    "extra_data = pd.read_csv(\"data_labels_extraData.csv\")"
   ]
  },
  {
   "cell_type": "markdown",
   "id": "ef8b54b5",
   "metadata": {},
   "source": [
    "### Get data from splitted folder"
   ]
  },
  {
   "cell_type": "code",
   "execution_count": 3,
   "id": "63c61732",
   "metadata": {},
   "outputs": [],
   "source": [
    "# method get data for multiclass task (task 2)\n",
    "def celltype_classify_data_all(class_list):    \n",
    "    images = list()\n",
    "    labels = list()\n",
    "    \n",
    "    for i, label in enumerate(class_list):\n",
    "        # get image directory\n",
    "        img_dir = os.path.join(root, \"multiclass_task\", f\"{label}\")\n",
    "        \n",
    "        for img in os.listdir(img_dir):\n",
    "            img = cv2.imread(os.path.join(img_dir, img))\n",
    "            # resize to 0-1 for faster computation\n",
    "            resized = img / 255\n",
    "            images.append(resized)\n",
    "            labels.append(i)\n",
    "        \n",
    "    return (images, labels)\n",
    "\n",
    "all_class = [\"epithelial\", \"fibroblast\", \"inflammatory\", \"others\"]\n",
    "\n",
    "# method get data for multiclass task (task 2)\n",
    "def celltype_classify_data(class_list, mode):    \n",
    "    images = list()\n",
    "    labels = list()\n",
    "    \n",
    "    for i, label in enumerate(class_list):\n",
    "        # get image directory\n",
    "        img_dir = os.path.join(root, \"split3-multi-task\", f\"{mode}\", f\"{label}\")\n",
    "        \n",
    "        for img in os.listdir(img_dir):\n",
    "            img = cv2.imread(os.path.join(img_dir, img))\n",
    "            # resize to 0-1 for faster computation\n",
    "            resized = img / 255\n",
    "            images.append(resized)\n",
    "            labels.append(i)\n",
    "        \n",
    "    return (images, labels)"
   ]
  },
  {
   "cell_type": "markdown",
   "id": "88d50611",
   "metadata": {},
   "source": [
    "### Classification report method"
   ]
  },
  {
   "cell_type": "code",
   "execution_count": 4,
   "id": "6644e10b",
   "metadata": {},
   "outputs": [],
   "source": [
    "def multiclass_classification_report(y_test, prediction, print_out=True):\n",
    "    \"\"\"\n",
    "        Method to generate sklearn classification report with CNN multiclass output\n",
    "    \"\"\"\n",
    "    \n",
    "    encoded_pred = list()\n",
    "    # convert each CNN output (sparse categorial) to class\n",
    "    for pred in prediction:\n",
    "        encoded_pred.append(np.argmax(pred))\n",
    "\n",
    "    encoded_pred = np.array(encoded_pred)\n",
    "    if print_out:\n",
    "        print(classification_report(y_test, encoded_pred))\n",
    "    \n",
    "    return classification_report(y_test, encoded_pred, output_dict = True)"
   ]
  },
  {
   "cell_type": "markdown",
   "id": "c3c1e833",
   "metadata": {},
   "source": [
    "### Structure of sub-models"
   ]
  },
  {
   "cell_type": "code",
   "execution_count": 5,
   "id": "9cf0ea0f",
   "metadata": {},
   "outputs": [],
   "source": [
    "def get_multiclass_model():\n",
    "    \"\"\"\n",
    "        Structure of model classifying 4 classes\n",
    "    \"\"\"\n",
    "    \n",
    "    model = tf.keras.Sequential()\n",
    "    # First convo-pooling\n",
    "    # Convolutional layers (filter the image with a kernel)\n",
    "    model.add(tf.keras.layers.Conv2D(64, (3, 3), strides=1,activation=\"relu\", input_shape=[27, 27, 3]))\n",
    "    # Max-pooling layers (reduce the size of the image by choosing max pixel at certain area)\n",
    "    model.add(tf.keras.layers.MaxPool2D(pool_size=(2, 2), strides=1))\n",
    "    \n",
    "    # Second convo-pooling\n",
    "    # Convolutional layers (filter the image with a kernel)\n",
    "    model.add(tf.keras.layers.Conv2D(64, (3, 3),strides=1, activation=\"relu\"))\n",
    "    # Max-pooling layers (reduce the size of the image by choosing max pixel at certain area)\n",
    "    model.add(tf.keras.layers.MaxPool2D(pool_size=(2, 2),strides=1))\n",
    "    \n",
    "    # Flatten input\n",
    "    model.add(tf.keras.layers.Flatten())\n",
    "    model.add(tf.keras.layers.Dense(256, activation=\"relu\"))\n",
    "    model.add(tf.keras.layers.Dense(128, activation=\"relu\"))\n",
    "    model.add(tf.keras.layers.Dense(32, activation=\"relu\"))\n",
    "    # Output layer\n",
    "    model.add(tf.keras.layers.Dense(4, activation=\"softmax\"))\n",
    "    # Compile model \n",
    "    model.compile(optimizer=\"adam\",\n",
    "                  loss=\"sparse_categorical_crossentropy\",\n",
    "                  metrics=[\"accuracy\"])\n",
    "    \n",
    "    return model\n",
    "\n",
    "def get_subclass_model():\n",
    "    \"\"\"\n",
    "        Structure of model classifying 3 classes\n",
    "    \"\"\"\n",
    "    \n",
    "    model = tf.keras.Sequential()\n",
    "    # First convo-pooling\n",
    "    # Convolutional layers (filter the image with a kernel)\n",
    "    model.add(tf.keras.layers.Conv2D(64, (3, 3), activation=\"relu\", input_shape=[27, 27, 3]))\n",
    "    # Max-pooling layers (reduce the size of the image by choosing max pixel at certain area)\n",
    "    model.add(tf.keras.layers.MaxPool2D(pool_size=(2, 2)))\n",
    "    # Flatten input\n",
    "    model.add(tf.keras.layers.Flatten())\n",
    "    model.add(tf.keras.layers.Dense(256, activation=\"relu\"))\n",
    "    model.add(tf.keras.layers.Dense(128, activation=\"relu\"))\n",
    "    model.add(tf.keras.layers.Dense(32, activation=\"relu\"))\n",
    "    # Output layer\n",
    "    model.add(tf.keras.layers.Dense(3, activation=\"softmax\"))\n",
    "    # Compile model \n",
    "    model.compile(optimizer=\"adam\",\n",
    "                  loss=\"sparse_categorical_crossentropy\",\n",
    "                  metrics=[\"accuracy\"])\n",
    "    \n",
    "    return model"
   ]
  },
  {
   "cell_type": "markdown",
   "id": "eef69168",
   "metadata": {},
   "source": [
    "### Methods to train and save submodels"
   ]
  },
  {
   "cell_type": "code",
   "execution_count": 6,
   "id": "b9341569",
   "metadata": {},
   "outputs": [],
   "source": [
    "submodel_path = os.path.join(root, \"multiclass_submodels\")   \n",
    "def three_class_submodel(file_path, aug_train = None, aug_val = None):\n",
    "    # path to model trained with 3 classes\n",
    "    subclass_path = path.join(file_path, \"subclass.h5\")\n",
    "    subclass_model = None\n",
    "    if not os.path.isfile(subclass_path) or keras.models.load_model(subclass_path) == None:\n",
    "        print(\"---Sub model training---\")\n",
    "        # train subclass that fit with 3 types of images\n",
    "        subclass_model = get_subclass_model()\n",
    "        \n",
    "        if aug_train is not None and aug_val is not None:\n",
    "            print(\"Train with augmented data\")\n",
    "            subclass_model.fit(aug_train, epochs=50, validation_data=aug_val)\n",
    "        else:\n",
    "            print(\"Train with non-augmented data\")\n",
    "            subclass_model.fit(subx_train, suby_train, epochs=40, validation_data=(subx_test, suby_test))\n",
    "            \n",
    "        subclass_model.save(subclass_path)\n",
    "        return subclass_model\n",
    "    else:\n",
    "        subclass_model = keras.models.load_model(subclass_path)\n",
    "        print(\"Model trained with 3 classes loaded\")\n",
    "        return subclass_model\n",
    "    \n",
    "def all_class_submodel(file_path, aug_train = None, aug_val = None):\n",
    "    allclass_path = path.join(file_path, \"allclass.h5\")\n",
    "    allclass_model = None\n",
    "    if not os.path.isfile(allclass_path) or keras.models.load_model(allclass_path) == None:\n",
    "        print(\"---Sub model training---\")\n",
    "        # train subclass that fit with 4 types of images\n",
    "        allclass_model = get_multiclass_model()\n",
    "        \n",
    "        if aug_train is not None and aug_val is not None:\n",
    "            print(\"Train with augmented data\")\n",
    "            allclass_model.fit(aug_train, epochs=50, validation_data=aug_val)\n",
    "        else:\n",
    "            print(\"Train with non-augmented data\")\n",
    "            allclass_model.fit(x_train, y_train, epochs=15, validation_data=(x_val, y_val))\n",
    "            \n",
    "        allclass_model.save(allclass_path)\n",
    "        return allclass_model\n",
    "    else:\n",
    "        allclass_model = keras.models.load_model(allclass_path)\n",
    "        print(\"Model trained with 4 classes loaded\")\n",
    "        return allclass_model"
   ]
  },
  {
   "cell_type": "markdown",
   "id": "75c40b39",
   "metadata": {},
   "source": [
    "### Meta-learner"
   ]
  },
  {
   "cell_type": "code",
   "execution_count": 7,
   "id": "13a29b70",
   "metadata": {},
   "outputs": [],
   "source": [
    "def get_transfer_model():\n",
    "    model = tf.keras.Sequential()\n",
    "    # Flatten input\n",
    "    model.add(tf.keras.layers.Flatten())\n",
    "    # Hidden layers\n",
    "    model.add(tf.keras.layers.Dense(256, activation=\"relu\"))\n",
    "    model.add(tf.keras.layers.Dense(128, activation=\"softmax\"))\n",
    "    model.add(tf.keras.layers.Dense(32, activation=\"relu\"))\n",
    "    model.add(tf.keras.layers.Dense(3, activation=\"sigmoid\"))\n",
    "    # Output layer\n",
    "    model.add(tf.keras.layers.Dense(4, activation=\"softmax\"))\n",
    "    # Compile model\n",
    "    model.compile(optimizer=\"adam\",\n",
    "                  loss=\"sparse_categorical_crossentropy\",\n",
    "                  metrics=[\"accuracy\"])\n",
    "    return model"
   ]
  },
  {
   "cell_type": "markdown",
   "id": "4c4c3911",
   "metadata": {},
   "source": [
    "### Get augmentated data for training"
   ]
  },
  {
   "cell_type": "code",
   "execution_count": 9,
   "id": "d672cb7f",
   "metadata": {},
   "outputs": [],
   "source": [
    "# load images from folders\n",
    "all_class = [\"epithelial\", \"fibroblast\", \"inflammatory\", \"others\"]\n",
    "cell_img, cell_label = celltype_classify_data_all(all_class)\n",
    "cell_img, cell_label = np.array(cell_img), np.array(cell_label)\n",
    "\n",
    "sub_multiclass = [\"epithelial\", \"fibroblast\", \"inflammatory\"]\n",
    "sub_img, sub_label = celltype_classify_data_all(sub_multiclass)\n",
    "\n",
    "# # train and validate data for 3 classes\n",
    "# subx_train, subx_test, suby_train, suby_test = train_test_split(\n",
    "#     np.array(sub_img), np.array(sub_label), test_size=0.2\n",
    "# )\n",
    "\n",
    "# # train and validate data for 4 classes\n",
    "# x_train_val, x_test, y_train_val, y_test = train_test_split(\n",
    "#     cell_img, cell_label, test_size=0.2\n",
    "# )\n",
    "# x_train, x_val, y_train, y_val = train_test_split(\n",
    "#     x_train_val, y_train_val, test_size=0.25\n",
    "# )\n",
    "\n",
    "x_train, y_train = celltype_classify_data(all_class, \"train\")\n",
    "x_train, y_train = np.array(x_train), np.array(y_train)\n",
    "\n",
    "x_val, y_val = celltype_classify_data(all_class, \"val\")\n",
    "x_val, y_val = np.array(x_val), np.array(y_val)\n",
    "\n",
    "x_test, y_test = celltype_classify_data(all_class, \"test\")\n",
    "x_test, y_test = np.array(x_test), np.array(y_test)\n",
    "\n",
    "sub_multiclass = [\"epithelial\", \"fibroblast\", \"inflammatory\"]\n",
    "subx_train, suby_train = celltype_classify_data(sub_multiclass, \"train\")\n",
    "subx_train, suby_train = np.array(subx_train), np.array(suby_train)\n",
    "subx_test, suby_test = celltype_classify_data(sub_multiclass, \"val\")\n",
    "subx_test, suby_test = np.array(subx_test), np.array(suby_test)\n",
    "\n",
    "\n",
    "# get augmentation for extra training data\n",
    "extra_datagen = ImageDataGenerator(\n",
    "#     width_shift_range=0.3,\n",
    "#     height_shift_range=0.3,\n",
    "    rotation_range=60,\n",
    "    horizontal_flip=True,\n",
    "    vertical_flip=True,\n",
    "\n",
    ")\n",
    "\n",
    "# fit augmentation with all images from all 4 classes\n",
    "extra_datagen.fit(cell_img)\n",
    "\n",
    "# get augmentations for unlabeled data\n",
    "# shift_aug = ImageDataGenerator(\n",
    "#     width_shift_range=0.3,\n",
    "#     height_shift_range=0.3,\n",
    "# )\n",
    "rotation_aug = ImageDataGenerator(\n",
    "    rotation_range=60\n",
    ")\n",
    "flip_aug = ImageDataGenerator(\n",
    "    horizontal_flip=True,\n",
    "    vertical_flip=True,\n",
    ")\n",
    "aug_list = [rotation_aug, flip_aug]\n",
    "\n",
    "# git aug_list with images\n",
    "for aug in aug_list:\n",
    "    aug.fit(cell_img)"
   ]
  },
  {
   "cell_type": "markdown",
   "id": "1f5bf919",
   "metadata": {},
   "source": [
    "### Helper function "
   ]
  },
  {
   "cell_type": "code",
   "execution_count": 10,
   "id": "221f7340",
   "metadata": {},
   "outputs": [],
   "source": [
    "def get_extra_stacked(x, submodels, datagen):\n",
    "    \"\"\"Generate stacked output from submodels with augmented x for meta learner\"\"\"\n",
    "    stacked = None\n",
    "    # augmentate x before predicting with submodels\n",
    "    pred_gen = datagen.flow(x, shuffle=False)\n",
    "    for submodel in submodels:\n",
    "        if stacked is None:\n",
    "            stacked = submodel.predict_generator(pred_gen)\n",
    "        else:\n",
    "            # augmentate x before predicting with submodels\n",
    "            new_pred = submodel.predict_generator(pred_gen)\n",
    "            stacked = np.concatenate((stacked, new_pred), axis=1)\n",
    "    return stacked\n",
    "\n",
    "def mix_match_pred(x, aug_list, sub_models, meta_learner):\n",
    "#     get prediction of mix match model\n",
    "    pred_arr = None\n",
    "#     Find the sum of all predictions from each augmentation test set\n",
    "    for aug in aug_list:\n",
    "        # get stacked output from submodels to let meta_learner predict \n",
    "        stacked_x = get_extra_stacked(x, sub_models, aug)\n",
    "        # predict with metta_learner\n",
    "        pred = meta_learner.predict(stacked_x)\n",
    "        \n",
    "        if pred_arr is None:\n",
    "            pred_arr = pred\n",
    "        else:\n",
    "            pred_arr = np.add(pred_arr, pred)\n",
    "#     Find the average of prediction      \n",
    "    pred_arr = np.true_divide(pred_arr, len(aug_list))\n",
    "    return pred_arr"
   ]
  },
  {
   "cell_type": "markdown",
   "id": "5f9eb1da",
   "metadata": {},
   "source": [
    "### "
   ]
  },
  {
   "cell_type": "code",
   "execution_count": 11,
   "id": "323e9855",
   "metadata": {
    "scrolled": false
   },
   "outputs": [
    {
     "name": "stdout",
     "output_type": "stream",
     "text": [
      "---Sub model training---\n",
      "Metal device set to: Apple M1 Pro\n",
      "Train with augmented data\n",
      "Epoch 1/50\n"
     ]
    },
    {
     "name": "stderr",
     "output_type": "stream",
     "text": [
      "2022-05-12 18:57:00.317794: I tensorflow/core/common_runtime/pluggable_device/pluggable_device_factory.cc:305] Could not identify NUMA node of platform GPU ID 0, defaulting to 0. Your kernel may not have been built with NUMA support.\n",
      "2022-05-12 18:57:00.317973: I tensorflow/core/common_runtime/pluggable_device/pluggable_device_factory.cc:271] Created TensorFlow device (/job:localhost/replica:0/task:0/device:GPU:0 with 0 MB memory) -> physical PluggableDevice (device: 0, name: METAL, pci bus id: <undefined>)\n",
      "2022-05-12 18:57:00.450571: W tensorflow/core/platform/profile_utils/cpu_utils.cc:128] Failed to get CPU frequency: 0 Hz\n",
      "2022-05-12 18:57:00.593590: I tensorflow/core/grappler/optimizers/custom_graph_optimizer_registry.cc:113] Plugin optimizer for device_type GPU is enabled.\n"
     ]
    },
    {
     "name": "stdout",
     "output_type": "stream",
     "text": [
      "154/160 [===========================>..] - ETA: 0s - loss: 0.7411 - accuracy: 0.6755"
     ]
    },
    {
     "name": "stderr",
     "output_type": "stream",
     "text": [
      "2022-05-12 18:57:02.192267: I tensorflow/core/grappler/optimizers/custom_graph_optimizer_registry.cc:113] Plugin optimizer for device_type GPU is enabled.\n"
     ]
    },
    {
     "name": "stdout",
     "output_type": "stream",
     "text": [
      "160/160 [==============================] - 2s 11ms/step - loss: 0.7364 - accuracy: 0.6791 - val_loss: 0.6293 - val_accuracy: 0.7324\n",
      "Epoch 2/50\n",
      "160/160 [==============================] - 1s 9ms/step - loss: 0.5746 - accuracy: 0.7692 - val_loss: 0.4969 - val_accuracy: 0.8141\n",
      "Epoch 3/50\n",
      "160/160 [==============================] - 2s 9ms/step - loss: 0.5337 - accuracy: 0.7851 - val_loss: 0.5364 - val_accuracy: 0.7853\n",
      "Epoch 4/50\n",
      "160/160 [==============================] - 1s 9ms/step - loss: 0.5147 - accuracy: 0.7929 - val_loss: 0.5000 - val_accuracy: 0.8071\n",
      "Epoch 5/50\n",
      "160/160 [==============================] - 2s 10ms/step - loss: 0.4977 - accuracy: 0.8002 - val_loss: 0.4919 - val_accuracy: 0.8171\n",
      "Epoch 6/50\n",
      "160/160 [==============================] - 1s 9ms/step - loss: 0.4921 - accuracy: 0.8054 - val_loss: 0.4768 - val_accuracy: 0.8153\n",
      "Epoch 7/50\n",
      "160/160 [==============================] - 2s 10ms/step - loss: 0.4923 - accuracy: 0.8053 - val_loss: 0.6146 - val_accuracy: 0.7459\n",
      "Epoch 8/50\n",
      "160/160 [==============================] - 2s 10ms/step - loss: 0.5007 - accuracy: 0.8015 - val_loss: 0.5015 - val_accuracy: 0.7965\n",
      "Epoch 9/50\n",
      "160/160 [==============================] - 1s 9ms/step - loss: 0.4922 - accuracy: 0.8000 - val_loss: 0.4599 - val_accuracy: 0.8171\n",
      "Epoch 10/50\n",
      "160/160 [==============================] - 2s 9ms/step - loss: 0.4773 - accuracy: 0.8111 - val_loss: 0.4704 - val_accuracy: 0.8182\n",
      "Epoch 11/50\n",
      "160/160 [==============================] - 2s 10ms/step - loss: 0.4660 - accuracy: 0.8086 - val_loss: 0.4930 - val_accuracy: 0.8047\n",
      "Epoch 12/50\n",
      "160/160 [==============================] - 2s 10ms/step - loss: 0.4674 - accuracy: 0.8088 - val_loss: 0.4910 - val_accuracy: 0.8112\n",
      "Epoch 13/50\n",
      "160/160 [==============================] - 2s 10ms/step - loss: 0.4466 - accuracy: 0.8217 - val_loss: 0.4686 - val_accuracy: 0.8094\n",
      "Epoch 14/50\n",
      "160/160 [==============================] - 1s 9ms/step - loss: 0.4593 - accuracy: 0.8199 - val_loss: 0.4501 - val_accuracy: 0.8265\n",
      "Epoch 15/50\n",
      "160/160 [==============================] - 1s 9ms/step - loss: 0.4526 - accuracy: 0.8168 - val_loss: 0.4876 - val_accuracy: 0.7894\n",
      "Epoch 16/50\n",
      "160/160 [==============================] - 1s 9ms/step - loss: 0.4436 - accuracy: 0.8215 - val_loss: 0.4562 - val_accuracy: 0.8176\n",
      "Epoch 17/50\n",
      "160/160 [==============================] - 1s 9ms/step - loss: 0.4503 - accuracy: 0.8229 - val_loss: 0.5288 - val_accuracy: 0.7735\n",
      "Epoch 18/50\n",
      "160/160 [==============================] - 1s 9ms/step - loss: 0.4640 - accuracy: 0.8135 - val_loss: 0.4502 - val_accuracy: 0.8282\n",
      "Epoch 19/50\n",
      "160/160 [==============================] - 1s 9ms/step - loss: 0.4522 - accuracy: 0.8201 - val_loss: 0.4576 - val_accuracy: 0.8188\n",
      "Epoch 20/50\n",
      "160/160 [==============================] - 1s 9ms/step - loss: 0.4290 - accuracy: 0.8286 - val_loss: 0.4663 - val_accuracy: 0.8059\n",
      "Epoch 21/50\n",
      "160/160 [==============================] - 1s 9ms/step - loss: 0.4236 - accuracy: 0.8225 - val_loss: 0.4301 - val_accuracy: 0.8324\n",
      "Epoch 22/50\n",
      "160/160 [==============================] - 2s 9ms/step - loss: 0.4159 - accuracy: 0.8352 - val_loss: 0.4373 - val_accuracy: 0.8288\n",
      "Epoch 23/50\n",
      "160/160 [==============================] - 2s 10ms/step - loss: 0.4112 - accuracy: 0.8358 - val_loss: 0.4607 - val_accuracy: 0.8200\n",
      "Epoch 24/50\n",
      "160/160 [==============================] - 2s 10ms/step - loss: 0.4063 - accuracy: 0.8425 - val_loss: 0.4625 - val_accuracy: 0.8235\n",
      "Epoch 25/50\n",
      "160/160 [==============================] - 1s 9ms/step - loss: 0.4089 - accuracy: 0.8370 - val_loss: 0.4292 - val_accuracy: 0.8353\n",
      "Epoch 26/50\n",
      "160/160 [==============================] - 1s 9ms/step - loss: 0.4378 - accuracy: 0.8211 - val_loss: 0.4905 - val_accuracy: 0.7876\n",
      "Epoch 27/50\n",
      "160/160 [==============================] - 1s 9ms/step - loss: 0.4242 - accuracy: 0.8327 - val_loss: 0.4296 - val_accuracy: 0.8353\n",
      "Epoch 28/50\n",
      "160/160 [==============================] - 1s 9ms/step - loss: 0.3999 - accuracy: 0.8411 - val_loss: 0.4228 - val_accuracy: 0.8394\n",
      "Epoch 29/50\n",
      "160/160 [==============================] - 1s 9ms/step - loss: 0.3969 - accuracy: 0.8411 - val_loss: 0.4160 - val_accuracy: 0.8412\n",
      "Epoch 30/50\n",
      "160/160 [==============================] - 1s 9ms/step - loss: 0.4013 - accuracy: 0.8405 - val_loss: 0.4441 - val_accuracy: 0.8265\n",
      "Epoch 31/50\n",
      "160/160 [==============================] - 1s 9ms/step - loss: 0.3768 - accuracy: 0.8476 - val_loss: 0.4205 - val_accuracy: 0.8347\n",
      "Epoch 32/50\n",
      "160/160 [==============================] - 1s 9ms/step - loss: 0.3979 - accuracy: 0.8397 - val_loss: 0.4504 - val_accuracy: 0.8118\n",
      "Epoch 33/50\n",
      "160/160 [==============================] - 1s 9ms/step - loss: 0.4017 - accuracy: 0.8399 - val_loss: 0.4273 - val_accuracy: 0.8271\n",
      "Epoch 34/50\n",
      "160/160 [==============================] - 1s 9ms/step - loss: 0.3907 - accuracy: 0.8450 - val_loss: 0.4359 - val_accuracy: 0.8318\n",
      "Epoch 35/50\n",
      "160/160 [==============================] - 1s 9ms/step - loss: 0.3962 - accuracy: 0.8468 - val_loss: 0.4208 - val_accuracy: 0.8324\n",
      "Epoch 36/50\n",
      "160/160 [==============================] - 1s 9ms/step - loss: 0.3861 - accuracy: 0.8495 - val_loss: 0.3867 - val_accuracy: 0.8547\n",
      "Epoch 37/50\n",
      "160/160 [==============================] - 1s 9ms/step - loss: 0.3994 - accuracy: 0.8389 - val_loss: 0.4784 - val_accuracy: 0.8059\n",
      "Epoch 38/50\n",
      "160/160 [==============================] - 1s 9ms/step - loss: 0.3696 - accuracy: 0.8497 - val_loss: 0.4248 - val_accuracy: 0.8329\n",
      "Epoch 39/50\n",
      "160/160 [==============================] - 1s 9ms/step - loss: 0.3716 - accuracy: 0.8529 - val_loss: 0.4250 - val_accuracy: 0.8229\n",
      "Epoch 40/50\n",
      "160/160 [==============================] - 1s 9ms/step - loss: 0.3719 - accuracy: 0.8550 - val_loss: 0.4144 - val_accuracy: 0.8388\n",
      "Epoch 41/50\n",
      "160/160 [==============================] - 1s 9ms/step - loss: 0.3794 - accuracy: 0.8474 - val_loss: 0.4812 - val_accuracy: 0.8071\n",
      "Epoch 42/50\n",
      "160/160 [==============================] - 1s 9ms/step - loss: 0.3776 - accuracy: 0.8536 - val_loss: 0.4269 - val_accuracy: 0.8329\n",
      "Epoch 43/50\n",
      "160/160 [==============================] - 1s 9ms/step - loss: 0.3852 - accuracy: 0.8391 - val_loss: 0.4191 - val_accuracy: 0.8335\n",
      "Epoch 44/50\n",
      "160/160 [==============================] - 1s 9ms/step - loss: 0.3684 - accuracy: 0.8550 - val_loss: 0.4124 - val_accuracy: 0.8335\n",
      "Epoch 45/50\n",
      "160/160 [==============================] - 1s 9ms/step - loss: 0.3720 - accuracy: 0.8525 - val_loss: 0.4027 - val_accuracy: 0.8388\n",
      "Epoch 46/50\n",
      "160/160 [==============================] - 1s 9ms/step - loss: 0.3625 - accuracy: 0.8538 - val_loss: 0.4092 - val_accuracy: 0.8388\n",
      "Epoch 47/50\n",
      "160/160 [==============================] - 1s 9ms/step - loss: 0.3608 - accuracy: 0.8540 - val_loss: 0.4175 - val_accuracy: 0.8465\n",
      "Epoch 48/50\n",
      "160/160 [==============================] - 1s 9ms/step - loss: 0.3728 - accuracy: 0.8515 - val_loss: 0.4329 - val_accuracy: 0.8324\n",
      "Epoch 49/50\n",
      "160/160 [==============================] - 1s 9ms/step - loss: 0.3648 - accuracy: 0.8562 - val_loss: 0.3970 - val_accuracy: 0.8400\n",
      "Epoch 50/50\n",
      "160/160 [==============================] - 1s 9ms/step - loss: 0.3420 - accuracy: 0.8625 - val_loss: 0.4506 - val_accuracy: 0.8318\n",
      "---Sub model training---\n",
      "Train with augmented data\n",
      "Epoch 1/50\n",
      "  1/186 [..............................] - ETA: 47s - loss: 1.4184 - accuracy: 0.1250"
     ]
    },
    {
     "name": "stderr",
     "output_type": "stream",
     "text": [
      "2022-05-12 18:58:15.256802: I tensorflow/core/grappler/optimizers/custom_graph_optimizer_registry.cc:113] Plugin optimizer for device_type GPU is enabled.\n"
     ]
    },
    {
     "name": "stdout",
     "output_type": "stream",
     "text": [
      "186/186 [==============================] - ETA: 0s - loss: 1.0991 - accuracy: 0.5397"
     ]
    },
    {
     "name": "stderr",
     "output_type": "stream",
     "text": [
      "2022-05-12 18:58:18.355051: I tensorflow/core/grappler/optimizers/custom_graph_optimizer_registry.cc:113] Plugin optimizer for device_type GPU is enabled.\n"
     ]
    },
    {
     "name": "stdout",
     "output_type": "stream",
     "text": [
      "186/186 [==============================] - 4s 18ms/step - loss: 1.0991 - accuracy: 0.5397 - val_loss: 0.8670 - val_accuracy: 0.6626\n",
      "Epoch 2/50\n",
      "186/186 [==============================] - 3s 15ms/step - loss: 0.8471 - accuracy: 0.6634 - val_loss: 0.8194 - val_accuracy: 0.6859\n",
      "Epoch 3/50\n",
      "186/186 [==============================] - 3s 15ms/step - loss: 0.7804 - accuracy: 0.6964 - val_loss: 0.7300 - val_accuracy: 0.7269\n",
      "Epoch 4/50\n",
      "186/186 [==============================] - 3s 15ms/step - loss: 0.7716 - accuracy: 0.6918 - val_loss: 0.7838 - val_accuracy: 0.7122\n",
      "Epoch 5/50\n",
      "186/186 [==============================] - 3s 15ms/step - loss: 0.7391 - accuracy: 0.7043 - val_loss: 0.7317 - val_accuracy: 0.7021\n",
      "Epoch 6/50\n",
      "186/186 [==============================] - 3s 15ms/step - loss: 0.7188 - accuracy: 0.7152 - val_loss: 0.6874 - val_accuracy: 0.7441\n",
      "Epoch 7/50\n",
      "186/186 [==============================] - 3s 15ms/step - loss: 0.6968 - accuracy: 0.7279 - val_loss: 0.6705 - val_accuracy: 0.7370\n",
      "Epoch 8/50\n",
      "186/186 [==============================] - 3s 15ms/step - loss: 0.6886 - accuracy: 0.7331 - val_loss: 0.6942 - val_accuracy: 0.7355\n",
      "Epoch 9/50\n",
      "186/186 [==============================] - 3s 15ms/step - loss: 0.6784 - accuracy: 0.7302 - val_loss: 0.8259 - val_accuracy: 0.6844\n",
      "Epoch 10/50\n",
      "186/186 [==============================] - 3s 15ms/step - loss: 0.6776 - accuracy: 0.7307 - val_loss: 0.6600 - val_accuracy: 0.7491\n",
      "Epoch 11/50\n",
      "186/186 [==============================] - 3s 15ms/step - loss: 0.6772 - accuracy: 0.7341 - val_loss: 0.6825 - val_accuracy: 0.7370\n",
      "Epoch 12/50\n",
      "186/186 [==============================] - 3s 15ms/step - loss: 0.6644 - accuracy: 0.7343 - val_loss: 0.6857 - val_accuracy: 0.7350\n",
      "Epoch 13/50\n",
      "186/186 [==============================] - 3s 15ms/step - loss: 0.6535 - accuracy: 0.7412 - val_loss: 0.6876 - val_accuracy: 0.7304\n",
      "Epoch 14/50\n",
      "186/186 [==============================] - 3s 15ms/step - loss: 0.6434 - accuracy: 0.7489 - val_loss: 0.6854 - val_accuracy: 0.7309\n",
      "Epoch 15/50\n",
      "186/186 [==============================] - 3s 15ms/step - loss: 0.6443 - accuracy: 0.7473 - val_loss: 0.6346 - val_accuracy: 0.7562\n",
      "Epoch 16/50\n",
      "186/186 [==============================] - 3s 15ms/step - loss: 0.6418 - accuracy: 0.7452 - val_loss: 0.6515 - val_accuracy: 0.7552\n",
      "Epoch 17/50\n",
      "186/186 [==============================] - 3s 15ms/step - loss: 0.6343 - accuracy: 0.7518 - val_loss: 0.6474 - val_accuracy: 0.7456\n",
      "Epoch 18/50\n",
      "186/186 [==============================] - 3s 15ms/step - loss: 0.6526 - accuracy: 0.7459 - val_loss: 0.6452 - val_accuracy: 0.7537\n",
      "Epoch 19/50\n",
      "186/186 [==============================] - 3s 15ms/step - loss: 0.6113 - accuracy: 0.7584 - val_loss: 0.6363 - val_accuracy: 0.7602\n",
      "Epoch 20/50\n",
      "186/186 [==============================] - 3s 15ms/step - loss: 0.6146 - accuracy: 0.7611 - val_loss: 0.6079 - val_accuracy: 0.7562\n",
      "Epoch 21/50\n",
      "186/186 [==============================] - 3s 15ms/step - loss: 0.6309 - accuracy: 0.7489 - val_loss: 0.6332 - val_accuracy: 0.7461\n",
      "Epoch 22/50\n",
      "186/186 [==============================] - 3s 15ms/step - loss: 0.6103 - accuracy: 0.7601 - val_loss: 0.6600 - val_accuracy: 0.7441\n",
      "Epoch 23/50\n",
      "186/186 [==============================] - 3s 15ms/step - loss: 0.5862 - accuracy: 0.7671 - val_loss: 0.6762 - val_accuracy: 0.7213\n",
      "Epoch 24/50\n",
      "186/186 [==============================] - 3s 15ms/step - loss: 0.6070 - accuracy: 0.7582 - val_loss: 0.6406 - val_accuracy: 0.7451\n",
      "Epoch 25/50\n",
      "186/186 [==============================] - 3s 15ms/step - loss: 0.5844 - accuracy: 0.7680 - val_loss: 0.6623 - val_accuracy: 0.7456\n",
      "Epoch 26/50\n",
      "186/186 [==============================] - 3s 15ms/step - loss: 0.6283 - accuracy: 0.7528 - val_loss: 0.6421 - val_accuracy: 0.7633\n",
      "Epoch 27/50\n",
      "186/186 [==============================] - 3s 16ms/step - loss: 0.5813 - accuracy: 0.7720 - val_loss: 0.6332 - val_accuracy: 0.7567\n",
      "Epoch 28/50\n",
      "186/186 [==============================] - 3s 15ms/step - loss: 0.5796 - accuracy: 0.7714 - val_loss: 0.5966 - val_accuracy: 0.7704\n",
      "Epoch 29/50\n",
      "186/186 [==============================] - 3s 15ms/step - loss: 0.5749 - accuracy: 0.7722 - val_loss: 0.6173 - val_accuracy: 0.7648\n",
      "Epoch 30/50\n",
      "186/186 [==============================] - 3s 15ms/step - loss: 0.5833 - accuracy: 0.7700 - val_loss: 0.6587 - val_accuracy: 0.7557\n",
      "Epoch 31/50\n",
      "186/186 [==============================] - 3s 15ms/step - loss: 0.5770 - accuracy: 0.7722 - val_loss: 0.6452 - val_accuracy: 0.7582\n",
      "Epoch 32/50\n",
      "186/186 [==============================] - 3s 15ms/step - loss: 0.5715 - accuracy: 0.7796 - val_loss: 0.6339 - val_accuracy: 0.7673\n",
      "Epoch 33/50\n",
      "186/186 [==============================] - 3s 15ms/step - loss: 0.5546 - accuracy: 0.7840 - val_loss: 0.6030 - val_accuracy: 0.7714\n",
      "Epoch 34/50\n",
      "186/186 [==============================] - 3s 15ms/step - loss: 0.5630 - accuracy: 0.7764 - val_loss: 0.6070 - val_accuracy: 0.7714\n",
      "Epoch 35/50\n",
      "186/186 [==============================] - 3s 15ms/step - loss: 0.5668 - accuracy: 0.7769 - val_loss: 0.5983 - val_accuracy: 0.7693\n",
      "Epoch 36/50\n",
      "186/186 [==============================] - 3s 15ms/step - loss: 0.5644 - accuracy: 0.7818 - val_loss: 0.6136 - val_accuracy: 0.7592\n",
      "Epoch 37/50\n",
      "186/186 [==============================] - 3s 15ms/step - loss: 0.5451 - accuracy: 0.7857 - val_loss: 0.5938 - val_accuracy: 0.7865\n",
      "Epoch 38/50\n",
      "186/186 [==============================] - 3s 15ms/step - loss: 0.5618 - accuracy: 0.7847 - val_loss: 0.6119 - val_accuracy: 0.7678\n",
      "Epoch 39/50\n",
      "186/186 [==============================] - 3s 15ms/step - loss: 0.5395 - accuracy: 0.7855 - val_loss: 0.5924 - val_accuracy: 0.7719\n",
      "Epoch 40/50\n",
      "186/186 [==============================] - 3s 15ms/step - loss: 0.5546 - accuracy: 0.7818 - val_loss: 0.6290 - val_accuracy: 0.7557\n",
      "Epoch 41/50\n",
      "186/186 [==============================] - 3s 15ms/step - loss: 0.5357 - accuracy: 0.7946 - val_loss: 0.6501 - val_accuracy: 0.7587\n",
      "Epoch 42/50\n",
      "186/186 [==============================] - 3s 15ms/step - loss: 0.5446 - accuracy: 0.7869 - val_loss: 0.6462 - val_accuracy: 0.7471\n",
      "Epoch 43/50\n",
      "186/186 [==============================] - 3s 15ms/step - loss: 0.5328 - accuracy: 0.7939 - val_loss: 0.5928 - val_accuracy: 0.7749\n",
      "Epoch 44/50\n",
      "186/186 [==============================] - 3s 14ms/step - loss: 0.5410 - accuracy: 0.7906 - val_loss: 0.6590 - val_accuracy: 0.7597\n",
      "Epoch 45/50\n",
      "186/186 [==============================] - 3s 14ms/step - loss: 0.5168 - accuracy: 0.8003 - val_loss: 0.6280 - val_accuracy: 0.7668\n",
      "Epoch 46/50\n",
      "186/186 [==============================] - 3s 15ms/step - loss: 0.5380 - accuracy: 0.7917 - val_loss: 0.6046 - val_accuracy: 0.7658\n",
      "Epoch 47/50\n",
      "186/186 [==============================] - 3s 15ms/step - loss: 0.5180 - accuracy: 0.7944 - val_loss: 0.6325 - val_accuracy: 0.7704\n",
      "Epoch 48/50\n",
      "186/186 [==============================] - 3s 14ms/step - loss: 0.5141 - accuracy: 0.8022 - val_loss: 0.5957 - val_accuracy: 0.7764\n",
      "Epoch 49/50\n",
      "186/186 [==============================] - 3s 15ms/step - loss: 0.5071 - accuracy: 0.8007 - val_loss: 0.6219 - val_accuracy: 0.7860\n",
      "Epoch 50/50\n",
      "186/186 [==============================] - 3s 15ms/step - loss: 0.5238 - accuracy: 0.7988 - val_loss: 0.6216 - val_accuracy: 0.7714\n"
     ]
    },
    {
     "name": "stderr",
     "output_type": "stream",
     "text": [
      "/var/folders/bc/1x56pk_j3glgqwsdp02fbltm0000gn/T/ipykernel_68356/2772422593.py:8: UserWarning: `Model.predict_generator` is deprecated and will be removed in a future version. Please use `Model.predict`, which supports generators.\n",
      "  stacked = submodel.predict_generator(pred_gen)\n",
      "2022-05-12 19:00:34.977011: I tensorflow/core/grappler/optimizers/custom_graph_optimizer_registry.cc:113] Plugin optimizer for device_type GPU is enabled.\n",
      "/var/folders/bc/1x56pk_j3glgqwsdp02fbltm0000gn/T/ipykernel_68356/2772422593.py:11: UserWarning: `Model.predict_generator` is deprecated and will be removed in a future version. Please use `Model.predict`, which supports generators.\n",
      "  new_pred = submodel.predict_generator(pred_gen)\n",
      "2022-05-12 19:00:35.765680: I tensorflow/core/grappler/optimizers/custom_graph_optimizer_registry.cc:113] Plugin optimizer for device_type GPU is enabled.\n"
     ]
    },
    {
     "name": "stdout",
     "output_type": "stream",
     "text": [
      "Epoch 1/30\n",
      " 10/186 [>.............................] - ETA: 1s - loss: 1.5176 - accuracy: 0.2375 "
     ]
    },
    {
     "name": "stderr",
     "output_type": "stream",
     "text": [
      "2022-05-12 19:00:37.234203: I tensorflow/core/grappler/optimizers/custom_graph_optimizer_registry.cc:113] Plugin optimizer for device_type GPU is enabled.\n"
     ]
    },
    {
     "name": "stdout",
     "output_type": "stream",
     "text": [
      "186/186 [==============================] - ETA: 0s - loss: 1.3406 - accuracy: 0.2876"
     ]
    },
    {
     "name": "stderr",
     "output_type": "stream",
     "text": [
      "2022-05-12 19:00:38.540740: I tensorflow/core/grappler/optimizers/custom_graph_optimizer_registry.cc:113] Plugin optimizer for device_type GPU is enabled.\n"
     ]
    },
    {
     "name": "stdout",
     "output_type": "stream",
     "text": [
      "186/186 [==============================] - 2s 8ms/step - loss: 1.3406 - accuracy: 0.2876 - val_loss: 1.1660 - val_accuracy: 0.5873\n",
      "Epoch 2/30\n",
      "186/186 [==============================] - 1s 6ms/step - loss: 1.0396 - accuracy: 0.7483 - val_loss: 0.9696 - val_accuracy: 0.7344\n",
      "Epoch 3/30\n",
      "186/186 [==============================] - 1s 6ms/step - loss: 0.8917 - accuracy: 0.7570 - val_loss: 0.8749 - val_accuracy: 0.7319\n",
      "Epoch 4/30\n",
      "186/186 [==============================] - 1s 6ms/step - loss: 0.8263 - accuracy: 0.7508 - val_loss: 0.8310 - val_accuracy: 0.7339\n",
      "Epoch 5/30\n",
      "186/186 [==============================] - 1s 6ms/step - loss: 0.7848 - accuracy: 0.7542 - val_loss: 0.8077 - val_accuracy: 0.7304\n",
      "Epoch 6/30\n",
      "186/186 [==============================] - 1s 6ms/step - loss: 0.7539 - accuracy: 0.7520 - val_loss: 0.7774 - val_accuracy: 0.7314\n",
      "Epoch 7/30\n",
      "186/186 [==============================] - 1s 6ms/step - loss: 0.7268 - accuracy: 0.7532 - val_loss: 0.7551 - val_accuracy: 0.7294\n",
      "Epoch 8/30\n",
      "186/186 [==============================] - 1s 6ms/step - loss: 0.6970 - accuracy: 0.7542 - val_loss: 0.7307 - val_accuracy: 0.7289\n",
      "Epoch 9/30\n",
      "186/186 [==============================] - 1s 6ms/step - loss: 0.6728 - accuracy: 0.7562 - val_loss: 0.7109 - val_accuracy: 0.7334\n",
      "Epoch 10/30\n",
      "186/186 [==============================] - 1s 6ms/step - loss: 0.6517 - accuracy: 0.7594 - val_loss: 0.6935 - val_accuracy: 0.7339\n",
      "Epoch 11/30\n",
      "186/186 [==============================] - 1s 6ms/step - loss: 0.6359 - accuracy: 0.7614 - val_loss: 0.6816 - val_accuracy: 0.7425\n",
      "Epoch 12/30\n",
      "186/186 [==============================] - 1s 6ms/step - loss: 0.6220 - accuracy: 0.7703 - val_loss: 0.6749 - val_accuracy: 0.7496\n",
      "Epoch 13/30\n",
      "186/186 [==============================] - 1s 6ms/step - loss: 0.6107 - accuracy: 0.7912 - val_loss: 0.6627 - val_accuracy: 0.7714\n",
      "Epoch 14/30\n",
      "186/186 [==============================] - 1s 6ms/step - loss: 0.6020 - accuracy: 0.7992 - val_loss: 0.6553 - val_accuracy: 0.7658\n",
      "Epoch 15/30\n",
      "186/186 [==============================] - 1s 6ms/step - loss: 0.5936 - accuracy: 0.8030 - val_loss: 0.6537 - val_accuracy: 0.7673\n",
      "Epoch 16/30\n",
      "186/186 [==============================] - 1s 6ms/step - loss: 0.5870 - accuracy: 0.8025 - val_loss: 0.6475 - val_accuracy: 0.7704\n",
      "Epoch 17/30\n",
      "186/186 [==============================] - 1s 6ms/step - loss: 0.5799 - accuracy: 0.8029 - val_loss: 0.6430 - val_accuracy: 0.7673\n",
      "Epoch 18/30\n",
      "186/186 [==============================] - 1s 6ms/step - loss: 0.5748 - accuracy: 0.8056 - val_loss: 0.6407 - val_accuracy: 0.7699\n",
      "Epoch 19/30\n",
      "186/186 [==============================] - 1s 6ms/step - loss: 0.5706 - accuracy: 0.8069 - val_loss: 0.6349 - val_accuracy: 0.7699\n",
      "Epoch 20/30\n",
      "186/186 [==============================] - 1s 6ms/step - loss: 0.5663 - accuracy: 0.8086 - val_loss: 0.6422 - val_accuracy: 0.7633\n",
      "Epoch 21/30\n",
      "186/186 [==============================] - 1s 6ms/step - loss: 0.5623 - accuracy: 0.8057 - val_loss: 0.6314 - val_accuracy: 0.7673\n",
      "Epoch 22/30\n",
      "186/186 [==============================] - 1s 6ms/step - loss: 0.5580 - accuracy: 0.8064 - val_loss: 0.6280 - val_accuracy: 0.7678\n",
      "Epoch 23/30\n",
      "186/186 [==============================] - 1s 6ms/step - loss: 0.5540 - accuracy: 0.8059 - val_loss: 0.6302 - val_accuracy: 0.7633\n",
      "Epoch 24/30\n",
      "186/186 [==============================] - 16s 87ms/step - loss: 0.5518 - accuracy: 0.8076 - val_loss: 0.6239 - val_accuracy: 0.7683\n",
      "Epoch 25/30\n",
      "186/186 [==============================] - 1s 7ms/step - loss: 0.5479 - accuracy: 0.8071 - val_loss: 0.6249 - val_accuracy: 0.7744\n",
      "Epoch 26/30\n",
      "186/186 [==============================] - 1s 6ms/step - loss: 0.5467 - accuracy: 0.8072 - val_loss: 0.6178 - val_accuracy: 0.7699\n",
      "Epoch 27/30\n",
      "186/186 [==============================] - 1s 6ms/step - loss: 0.5451 - accuracy: 0.8079 - val_loss: 0.6200 - val_accuracy: 0.7764\n",
      "Epoch 28/30\n",
      "186/186 [==============================] - 1s 6ms/step - loss: 0.5399 - accuracy: 0.8101 - val_loss: 0.6277 - val_accuracy: 0.7704\n",
      "Epoch 29/30\n",
      "186/186 [==============================] - 1s 6ms/step - loss: 0.5411 - accuracy: 0.8110 - val_loss: 0.6179 - val_accuracy: 0.7673\n",
      "Epoch 30/30\n",
      "186/186 [==============================] - 1s 7ms/step - loss: 0.5362 - accuracy: 0.8104 - val_loss: 0.6223 - val_accuracy: 0.7709\n"
     ]
    },
    {
     "data": {
      "text/plain": [
       "<keras.callbacks.History at 0x2e02e9850>"
      ]
     },
     "execution_count": 11,
     "metadata": {},
     "output_type": "execute_result"
    }
   ],
   "source": [
    "extramodel_path = os.path.join(root, \"extra_submodels\")\n",
    "# data for 3 classes submodels\n",
    "sub_train = extra_datagen.flow(subx_train, suby_train)\n",
    "sub_val = extra_datagen.flow(subx_test, suby_test)\n",
    "\n",
    "# data for 4 classes submodels \n",
    "all_train = extra_datagen.flow(x_train, y_train)\n",
    "all_val = extra_datagen.flow(x_val, y_val)\n",
    "\n",
    "# train submodels with augmented x\n",
    "subclass_extra = three_class_submodel(extramodel_path, aug_train=sub_train, aug_val=sub_val)\n",
    "allclass_extra = all_class_submodel(extramodel_path, aug_train=all_train, aug_val=all_val)\n",
    "extra_submodels = [subclass_extra, allclass_extra]\n",
    "\n",
    "# get stacked x for meta-learner\n",
    "stacked_x_train = get_extra_stacked(x_train,extra_submodels, extra_datagen)\n",
    "stacked_x_val = get_extra_stacked(x_val,extra_submodels, extra_datagen)\n",
    "\n",
    "extra_model = get_transfer_model()\n",
    "# fit model with stacked data from submodels\n",
    "extra_model.fit(stacked_x_train, y_train, epochs=30, validation_data=(stacked_x_val, y_val))"
   ]
  },
  {
   "cell_type": "code",
   "execution_count": 12,
   "id": "003ad621",
   "metadata": {},
   "outputs": [
    {
     "name": "stderr",
     "output_type": "stream",
     "text": [
      "/var/folders/bc/1x56pk_j3glgqwsdp02fbltm0000gn/T/ipykernel_68356/2772422593.py:8: UserWarning: `Model.predict_generator` is deprecated and will be removed in a future version. Please use `Model.predict`, which supports generators.\n",
      "  stacked = submodel.predict_generator(pred_gen)\n",
      "/var/folders/bc/1x56pk_j3glgqwsdp02fbltm0000gn/T/ipykernel_68356/2772422593.py:11: UserWarning: `Model.predict_generator` is deprecated and will be removed in a future version. Please use `Model.predict`, which supports generators.\n",
      "  new_pred = submodel.predict_generator(pred_gen)\n",
      "2022-05-12 19:01:28.838864: I tensorflow/core/grappler/optimizers/custom_graph_optimizer_registry.cc:113] Plugin optimizer for device_type GPU is enabled.\n"
     ]
    },
    {
     "name": "stdout",
     "output_type": "stream",
     "text": [
      "              precision    recall  f1-score   support\n",
      "\n",
      "           0       0.87      0.93      0.90       817\n",
      "           1       0.79      0.73      0.76       379\n",
      "           2       0.73      0.83      0.77       510\n",
      "           3       0.72      0.49      0.58       278\n",
      "\n",
      "    accuracy                           0.80      1984\n",
      "   macro avg       0.78      0.74      0.75      1984\n",
      "weighted avg       0.80      0.80      0.79      1984\n",
      "\n"
     ]
    }
   ],
   "source": [
    "# predict with mix match (avg of multiple augmentations)\n",
    "meta_pred = mix_match_pred(x_test, aug_list, extra_submodels, extra_model)\n",
    "\n",
    "multiclass_classification_report(y_test,meta_pred);"
   ]
  },
  {
   "cell_type": "markdown",
   "id": "7927245a",
   "metadata": {},
   "source": [
    "### Get extra dataset"
   ]
  },
  {
   "cell_type": "code",
   "execution_count": 13,
   "id": "7cd71565",
   "metadata": {},
   "outputs": [],
   "source": [
    "def load_extra_epi():   \n",
    "    \"\"\"Load cancerous/epithelial in the extra dataset\"\"\"\n",
    "    images = list()\n",
    "    labels = list()\n",
    "    \n",
    "    # get image directory\n",
    "    img_dir = os.path.join(root, \"extra\", \"1\")\n",
    "\n",
    "    for img in os.listdir(img_dir):\n",
    "        img = cv2.imread(os.path.join(img_dir, img))\n",
    "        # resize to 0-1 for faster computation\n",
    "        resized = img / 255\n",
    "        images.append(resized)\n",
    "        \n",
    "        labels.append(0)\n",
    "    return (images, labels)\n",
    "\n",
    "def load_unlabeled():\n",
    "    \"\"\"Load unlabeled data from the extra dataset\"\"\"\n",
    "    images = list()\n",
    "    \n",
    "    # get image directory\n",
    "    img_dir = os.path.join(root, \"extra\", \"0\")\n",
    "\n",
    "    for img in os.listdir(img_dir):\n",
    "        img = cv2.imread(os.path.join(img_dir, img))\n",
    "        # resize to 0-1 for faster computation\n",
    "        resized = img / 255\n",
    "        images.append(resized)\n",
    "    return images"
   ]
  },
  {
   "cell_type": "markdown",
   "id": "84776fe8",
   "metadata": {},
   "source": [
    "### Load extra data"
   ]
  },
  {
   "cell_type": "code",
   "execution_count": 14,
   "id": "e63a0f2c",
   "metadata": {},
   "outputs": [
    {
     "name": "stdout",
     "output_type": "stream",
     "text": [
      "(2990,)\n"
     ]
    }
   ],
   "source": [
    "epi_train, epi_label = load_extra_epi()\n",
    "epi_train, epi_label = np.array(epi_train), np.array(epi_label)\n",
    "\n",
    "unlabeled = load_unlabeled()\n",
    "unlabeled = np.array(unlabeled)\n",
    "\n",
    "extra_model.save(path.join(root, \"extra_model.h5\"))\n",
    "\n",
    "print(epi_label.shape)"
   ]
  },
  {
   "cell_type": "markdown",
   "id": "f8343a11",
   "metadata": {},
   "source": [
    "### Load model"
   ]
  },
  {
   "cell_type": "code",
   "execution_count": 15,
   "id": "c0f30f13",
   "metadata": {},
   "outputs": [],
   "source": [
    "extra_model = keras.models.load_model(path.join(root, \"extra_model.h5\"))"
   ]
  },
  {
   "cell_type": "markdown",
   "id": "1390bcd8",
   "metadata": {},
   "source": [
    "### Generate additional train data from extra dataset"
   ]
  },
  {
   "cell_type": "code",
   "execution_count": 16,
   "id": "9e0f80c8",
   "metadata": {},
   "outputs": [
    {
     "name": "stderr",
     "output_type": "stream",
     "text": [
      "/var/folders/bc/1x56pk_j3glgqwsdp02fbltm0000gn/T/ipykernel_68356/2772422593.py:8: UserWarning: `Model.predict_generator` is deprecated and will be removed in a future version. Please use `Model.predict`, which supports generators.\n",
      "  stacked = submodel.predict_generator(pred_gen)\n",
      "/var/folders/bc/1x56pk_j3glgqwsdp02fbltm0000gn/T/ipykernel_68356/2772422593.py:11: UserWarning: `Model.predict_generator` is deprecated and will be removed in a future version. Please use `Model.predict`, which supports generators.\n",
      "  new_pred = submodel.predict_generator(pred_gen)\n",
      "2022-05-12 19:01:33.273588: I tensorflow/core/grappler/optimizers/custom_graph_optimizer_registry.cc:113] Plugin optimizer for device_type GPU is enabled.\n"
     ]
    }
   ],
   "source": [
    "def encode_labels(pred_labels):\n",
    "    encoded_list = list()\n",
    "    # transform pseudo label to consists of integers\n",
    "    for i, pred in enumerate(pseudo_labels):\n",
    "        encoded = np.argmax(pred)\n",
    "        encoded_list.append(encoded)\n",
    "        \n",
    "    return np.array(encoded_list)\n",
    "\n",
    "# predict unlabeled data\n",
    "pseudo_labels = mix_match_pred(unlabeled, aug_list, extra_submodels, extra_model)\n",
    "pseudo_labels = encode_labels(pseudo_labels)"
   ]
  },
  {
   "cell_type": "markdown",
   "id": "21f54c63",
   "metadata": {},
   "source": [
    "### Train extra data in batches"
   ]
  },
  {
   "cell_type": "code",
   "execution_count": 17,
   "id": "8462e281",
   "metadata": {},
   "outputs": [
    {
     "name": "stderr",
     "output_type": "stream",
     "text": [
      "2022-05-12 19:01:35.857414: I tensorflow/core/grappler/optimizers/custom_graph_optimizer_registry.cc:113] Plugin optimizer for device_type GPU is enabled.\n",
      "2022-05-12 19:01:36.772772: I tensorflow/core/grappler/optimizers/custom_graph_optimizer_registry.cc:113] Plugin optimizer for device_type GPU is enabled.\n",
      "2022-05-12 19:01:37.055507: I tensorflow/core/grappler/optimizers/custom_graph_optimizer_registry.cc:113] Plugin optimizer for device_type GPU is enabled.\n"
     ]
    },
    {
     "name": "stdout",
     "output_type": "stream",
     "text": [
      "Reload from most recent save\n"
     ]
    },
    {
     "name": "stderr",
     "output_type": "stream",
     "text": [
      "2022-05-12 19:01:41.863148: I tensorflow/core/grappler/optimizers/custom_graph_optimizer_registry.cc:113] Plugin optimizer for device_type GPU is enabled.\n",
      "2022-05-12 19:01:42.751742: I tensorflow/core/grappler/optimizers/custom_graph_optimizer_registry.cc:113] Plugin optimizer for device_type GPU is enabled.\n",
      "2022-05-12 19:01:43.017069: I tensorflow/core/grappler/optimizers/custom_graph_optimizer_registry.cc:113] Plugin optimizer for device_type GPU is enabled.\n"
     ]
    },
    {
     "name": "stdout",
     "output_type": "stream",
     "text": [
      "Reload from most recent save\n"
     ]
    },
    {
     "name": "stderr",
     "output_type": "stream",
     "text": [
      "2022-05-12 19:01:47.776086: I tensorflow/core/grappler/optimizers/custom_graph_optimizer_registry.cc:113] Plugin optimizer for device_type GPU is enabled.\n",
      "2022-05-12 19:01:48.658806: I tensorflow/core/grappler/optimizers/custom_graph_optimizer_registry.cc:113] Plugin optimizer for device_type GPU is enabled.\n",
      "2022-05-12 19:01:48.941488: I tensorflow/core/grappler/optimizers/custom_graph_optimizer_registry.cc:113] Plugin optimizer for device_type GPU is enabled.\n"
     ]
    },
    {
     "name": "stdout",
     "output_type": "stream",
     "text": [
      "Reload from most recent save\n"
     ]
    },
    {
     "name": "stderr",
     "output_type": "stream",
     "text": [
      "2022-05-12 19:03:21.184869: I tensorflow/core/grappler/optimizers/custom_graph_optimizer_registry.cc:113] Plugin optimizer for device_type GPU is enabled.\n",
      "2022-05-12 19:03:22.141535: I tensorflow/core/grappler/optimizers/custom_graph_optimizer_registry.cc:113] Plugin optimizer for device_type GPU is enabled.\n",
      "2022-05-12 19:03:22.466159: I tensorflow/core/grappler/optimizers/custom_graph_optimizer_registry.cc:113] Plugin optimizer for device_type GPU is enabled.\n"
     ]
    },
    {
     "name": "stdout",
     "output_type": "stream",
     "text": [
      "Reload from most recent save\n"
     ]
    },
    {
     "name": "stderr",
     "output_type": "stream",
     "text": [
      "2022-05-12 19:03:27.770319: I tensorflow/core/grappler/optimizers/custom_graph_optimizer_registry.cc:113] Plugin optimizer for device_type GPU is enabled.\n",
      "2022-05-12 19:03:28.787875: I tensorflow/core/grappler/optimizers/custom_graph_optimizer_registry.cc:113] Plugin optimizer for device_type GPU is enabled.\n",
      "2022-05-12 19:03:29.159390: I tensorflow/core/grappler/optimizers/custom_graph_optimizer_registry.cc:113] Plugin optimizer for device_type GPU is enabled.\n"
     ]
    },
    {
     "name": "stdout",
     "output_type": "stream",
     "text": [
      "Reload from most recent save\n"
     ]
    },
    {
     "name": "stderr",
     "output_type": "stream",
     "text": [
      "2022-05-12 19:03:34.489752: I tensorflow/core/grappler/optimizers/custom_graph_optimizer_registry.cc:113] Plugin optimizer for device_type GPU is enabled.\n",
      "2022-05-12 19:03:35.458988: I tensorflow/core/grappler/optimizers/custom_graph_optimizer_registry.cc:113] Plugin optimizer for device_type GPU is enabled.\n",
      "2022-05-12 19:03:35.768025: I tensorflow/core/grappler/optimizers/custom_graph_optimizer_registry.cc:113] Plugin optimizer for device_type GPU is enabled.\n"
     ]
    },
    {
     "name": "stdout",
     "output_type": "stream",
     "text": [
      "Reload from most recent save\n"
     ]
    },
    {
     "name": "stderr",
     "output_type": "stream",
     "text": [
      "2022-05-12 19:03:40.885282: I tensorflow/core/grappler/optimizers/custom_graph_optimizer_registry.cc:113] Plugin optimizer for device_type GPU is enabled.\n",
      "2022-05-12 19:03:41.823397: I tensorflow/core/grappler/optimizers/custom_graph_optimizer_registry.cc:113] Plugin optimizer for device_type GPU is enabled.\n",
      "2022-05-12 19:03:42.132522: I tensorflow/core/grappler/optimizers/custom_graph_optimizer_registry.cc:113] Plugin optimizer for device_type GPU is enabled.\n"
     ]
    },
    {
     "name": "stdout",
     "output_type": "stream",
     "text": [
      "Reload from most recent save\n"
     ]
    },
    {
     "name": "stderr",
     "output_type": "stream",
     "text": [
      "2022-05-12 19:03:47.316885: I tensorflow/core/grappler/optimizers/custom_graph_optimizer_registry.cc:113] Plugin optimizer for device_type GPU is enabled.\n",
      "2022-05-12 19:03:48.277798: I tensorflow/core/grappler/optimizers/custom_graph_optimizer_registry.cc:113] Plugin optimizer for device_type GPU is enabled.\n",
      "2022-05-12 19:03:48.586791: I tensorflow/core/grappler/optimizers/custom_graph_optimizer_registry.cc:113] Plugin optimizer for device_type GPU is enabled.\n"
     ]
    },
    {
     "name": "stdout",
     "output_type": "stream",
     "text": [
      "Reload from most recent save\n"
     ]
    },
    {
     "name": "stderr",
     "output_type": "stream",
     "text": [
      "2022-05-12 19:03:53.384305: I tensorflow/core/grappler/optimizers/custom_graph_optimizer_registry.cc:113] Plugin optimizer for device_type GPU is enabled.\n",
      "2022-05-12 19:03:54.276671: I tensorflow/core/grappler/optimizers/custom_graph_optimizer_registry.cc:113] Plugin optimizer for device_type GPU is enabled.\n",
      "2022-05-12 19:03:54.576600: I tensorflow/core/grappler/optimizers/custom_graph_optimizer_registry.cc:113] Plugin optimizer for device_type GPU is enabled.\n"
     ]
    },
    {
     "name": "stdout",
     "output_type": "stream",
     "text": [
      "Reload from most recent save\n"
     ]
    },
    {
     "name": "stderr",
     "output_type": "stream",
     "text": [
      "2022-05-12 19:03:59.585466: I tensorflow/core/grappler/optimizers/custom_graph_optimizer_registry.cc:113] Plugin optimizer for device_type GPU is enabled.\n",
      "2022-05-12 19:04:00.514549: I tensorflow/core/grappler/optimizers/custom_graph_optimizer_registry.cc:113] Plugin optimizer for device_type GPU is enabled.\n",
      "2022-05-12 19:04:00.834668: I tensorflow/core/grappler/optimizers/custom_graph_optimizer_registry.cc:113] Plugin optimizer for device_type GPU is enabled.\n"
     ]
    },
    {
     "name": "stdout",
     "output_type": "stream",
     "text": [
      "Reload from most recent save\n"
     ]
    },
    {
     "name": "stderr",
     "output_type": "stream",
     "text": [
      "2022-05-12 19:04:06.086633: I tensorflow/core/grappler/optimizers/custom_graph_optimizer_registry.cc:113] Plugin optimizer for device_type GPU is enabled.\n"
     ]
    },
    {
     "name": "stdout",
     "output_type": "stream",
     "text": [
      "              precision    recall  f1-score   support\n",
      "\n",
      "           0       0.87      0.92      0.90       817\n",
      "           1       0.77      0.72      0.74       379\n",
      "           2       0.72      0.83      0.77       510\n",
      "           3       0.69      0.45      0.55       278\n",
      "\n",
      "    accuracy                           0.79      1984\n",
      "   macro avg       0.76      0.73      0.74      1984\n",
      "weighted avg       0.79      0.79      0.79      1984\n",
      "\n"
     ]
    }
   ],
   "source": [
    "import warnings\n",
    "# mute warning \n",
    "warnings.filterwarnings('ignore')\n",
    "\n",
    "batches = 10\n",
    "extra_x_batch = np.array_split(unlabeled, batches)\n",
    "extra_y_batch = np.array_split(pseudo_labels, batches)\n",
    "\n",
    "# load extra model from last save point\n",
    "extra_model = keras.models.load_model(path.join(root, \"extra_model.h5\"))\n",
    "\n",
    "for i in range(batches):\n",
    "    # compute accuracy with test set\n",
    "    old_pred = mix_match_pred(x_test, aug_list, extra_submodels, extra_model)\n",
    "    old_accuracy = multiclass_classification_report(y_test,old_pred, print_out=False)[\"accuracy\"]\n",
    "    \n",
    "    # generate stacked x for train\n",
    "    stacked_batched = get_extra_stacked(extra_x_batch[i], extra_submodels, extra_datagen)\n",
    "    # fit with augmented batch\n",
    "    extra_model.fit(stacked_batched, extra_y_batch[i], epochs=10, validation_data=(stacked_x_val, y_val), verbose=0)\n",
    "    \n",
    "    # compute new accuracy with test set\n",
    "    new_pred = mix_match_pred(x_test, aug_list, extra_submodels, extra_model)\n",
    "    new_accuracy = multiclass_classification_report(y_test,new_pred, print_out=False)[\"accuracy\"]\n",
    "    \n",
    "    # save model if newly trained batch increase accuracy by at least 0.001\n",
    "    if (new_accuracy - old_accuracy) > 0.001:\n",
    "        print(\"Update model with newly trained data\")\n",
    "        extra_model.save(path.join(root, \"extra_model.h5\"))\n",
    "    else:\n",
    "        print(\"Reload from most recent save\")\n",
    "        # reload from old model/checkpoint if new batch decrease accuracy\n",
    "        extra_model = keras.models.load_model(path.join(root, \"extra_model.h5\"))\n",
    "    \n",
    "# compute new model stats\n",
    "updated_pred = mix_match_pred(x_test, aug_list, extra_submodels, extra_model)\n",
    "multiclass_classification_report(y_test,updated_pred);"
   ]
  }
 ],
 "metadata": {
  "kernelspec": {
   "display_name": "Python 3.9 (tensorflow)",
   "language": "python",
   "name": "tensorflow"
  },
  "language_info": {
   "codemirror_mode": {
    "name": "ipython",
    "version": 3
   },
   "file_extension": ".py",
   "mimetype": "text/x-python",
   "name": "python",
   "nbconvert_exporter": "python",
   "pygments_lexer": "ipython3",
   "version": "3.9.7"
  }
 },
 "nbformat": 4,
 "nbformat_minor": 5
}
