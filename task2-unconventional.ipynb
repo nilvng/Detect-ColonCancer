{
 "cells": [
  {
   "cell_type": "markdown",
   "metadata": {},
   "source": [
    "# Load data"
   ]
  },
  {
   "cell_type": "code",
   "execution_count": 17,
   "metadata": {},
   "outputs": [],
   "source": [
    "classes = [\"epithelial\",\"fibroblast\",\"inflammatory\",\"others\"]"
   ]
  },
  {
   "cell_type": "code",
   "execution_count": 3,
   "metadata": {},
   "outputs": [],
   "source": [
    "import cv2\n",
    "import matplotlib.image as mplib \n",
    "from PIL import Image\n",
    "import numpy as np\n",
    "\n",
    "def load_data(labelNames, root):    \n",
    "    images = list()\n",
    "    labels = list()\n",
    "    \n",
    "    for label in labelNames:\n",
    "        # get image directory\n",
    "        img_dir = os.path.join(root, f\"{label}\")\n",
    "        \n",
    "        for img in os.listdir(img_dir):\n",
    "            img = np.array(Image.open(os.path.join(img_dir, img),'r'))\n",
    "            images.append(img)\n",
    "            labels.append(label)\n",
    "        \n",
    "    return (images, labels)"
   ]
  },
  {
   "cell_type": "code",
   "execution_count": 4,
   "metadata": {},
   "outputs": [
    {
     "name": "stdout",
     "output_type": "stream",
     "text": [
      "(9896, 27, 27, 3)\n",
      "(9896,)\n"
     ]
    }
   ],
   "source": [
    "multiclass_path = \"Image_classification_data/multi-task\"\n",
    "images, labels = load_data(classes, multiclass_path)\n",
    "images = np.asarray(images)\n",
    "labels = np.asarray(labels)\n",
    "print(images.shape)\n",
    "print(labels.shape)"
   ]
  },
  {
   "cell_type": "markdown",
   "metadata": {},
   "source": [
    "# Preprocess data"
   ]
  },
  {
   "cell_type": "markdown",
   "metadata": {},
   "source": [
    "## Construct Features: Color Histogram"
   ]
  },
  {
   "cell_type": "code",
   "execution_count": 5,
   "metadata": {},
   "outputs": [],
   "source": [
    "class ColorDescriptor:\n",
    "\n",
    "    def __init__(self, bins):\n",
    "\t\t# store the number of bins for the 3D histogram\n",
    "        self.bins = bins\n",
    "    \n",
    "    def histogram(self,image, mask):\n",
    "        \t# extract a 3D color histogram from the masked region of the\n",
    "\t\t# image, using the supplied number of bins per channel\n",
    "        hist = cv2.calcHist([image], [0, 1, 2], mask, self.bins, [0, 256, 0, 256, 0, 256])\n",
    "\t\t# normalize the histogram \n",
    "        hist = cv2.normalize(hist, hist).flatten() # help the difference in image dimension\n",
    "\t\t# return the histogram\n",
    "        return hist\n",
    "    def describe(self, image):\n",
    "\t\t# convert the image to the HSV color space and initialize\n",
    "\t\t# the features used to quantify the image\n",
    "        image = cv2.cvtColor(image, cv2.COLOR_BGR2HSV)\n",
    "        features = []\n",
    "\t\t# grab the dimensions and compute the center of the image\n",
    "        (h, w) = image.shape[:2]\n",
    "        (cX, cY) = (int(w * 0.5), int(h * 0.5))\n",
    "\n",
    "        # Divide image into 5 regions (top-left,\n",
    "        # top-right, bottom-right, bottom-left, center oval)\n",
    "        segments = [(0, cX, 0, cY), (cX, w, 0, cY), (cX, w, cY, h),\n",
    "            (0, cX, cY, h)]\n",
    "        # construct an elliptical mask representing the center of the\n",
    "        # image\n",
    "        (axesX, axesY) = (int(w * 0.75) // 2, int(h * 0.75) // 2)\n",
    "        ellipMask = np.zeros(image.shape[:2], dtype = \"uint8\") # center\n",
    "        cv2.ellipse(ellipMask, (cX, cY), (axesX, axesY), 0, 0, 360, 255, -1)\n",
    "        \n",
    "        # loop over the segments\n",
    "        for (startX, endX, startY, endY) in segments:\n",
    "            # construct a mask for each corner of the image, subtracting\n",
    "            # the elliptical center from it\n",
    "            cornerMask = np.zeros(image.shape[:2], dtype = \"uint8\")\n",
    "            cv2.rectangle(cornerMask, (startX, startY), (endX, endY), 255, -1)\n",
    "            cornerMask = cv2.subtract(cornerMask, ellipMask)\n",
    "            # extract a color histogram from the image, then update the\n",
    "            # feature vector\n",
    "            hist = self.histogram(image, cornerMask)\n",
    "            features.extend(hist)\n",
    "        # extract a color histogram from the elliptical region and\n",
    "        # update the feature vector\n",
    "        hist = self.histogram(image, ellipMask)\n",
    "        features.extend(hist)\n",
    "        # return the feature vector\n",
    "        return features\n",
    "\n"
   ]
  },
  {
   "cell_type": "code",
   "execution_count": 9,
   "metadata": {},
   "outputs": [],
   "source": [
    "descriptor = ColorDescriptor([8,8,8])\n",
    "images = [descriptor.describe(im) for im in images]"
   ]
  },
  {
   "cell_type": "code",
   "execution_count": 10,
   "metadata": {},
   "outputs": [
    {
     "data": {
      "text/plain": [
       "(9896, 2560)"
      ]
     },
     "execution_count": 10,
     "metadata": {},
     "output_type": "execute_result"
    }
   ],
   "source": [
    "np.asarray(images).shape"
   ]
  },
  {
   "cell_type": "markdown",
   "metadata": {},
   "source": [
    "## Split dataset: training, and testing"
   ]
  },
  {
   "cell_type": "code",
   "execution_count": 21,
   "metadata": {},
   "outputs": [
    {
     "data": {
      "text/plain": [
       "(7916, 2560)"
      ]
     },
     "execution_count": 21,
     "metadata": {},
     "output_type": "execute_result"
    }
   ],
   "source": [
    "from sklearn.model_selection import train_test_split\n",
    "trainX, valX, trainY, valY = train_test_split(images, labels, test_size=0.2, random_state=4)\n",
    "np.asarray(trainX).shape"
   ]
  },
  {
   "cell_type": "markdown",
   "metadata": {},
   "source": [
    "## PCA"
   ]
  },
  {
   "cell_type": "code",
   "execution_count": 29,
   "metadata": {},
   "outputs": [
    {
     "name": "stdout",
     "output_type": "stream",
     "text": [
      "0.9294395534607484\n"
     ]
    }
   ],
   "source": [
    "from sklearn.decomposition import PCA\n",
    "\n",
    "pca = PCA(50)\n",
    "pca.fit(trainX)\n",
    "## Training\n",
    "transformed_trainX = pca.transform(trainX)\n",
    "print(np.sum(pca.explained_variance_ratio_) )\n",
    "\n",
    "## Testing\n",
    "transformed_valX = pca.transform(valX)"
   ]
  },
  {
   "cell_type": "markdown",
   "metadata": {},
   "source": [
    "# Model KNN"
   ]
  },
  {
   "cell_type": "code",
   "execution_count": 30,
   "metadata": {},
   "outputs": [
    {
     "name": "stdout",
     "output_type": "stream",
     "text": [
      "[INFO] Validation accuracy: 66.36%\n"
     ]
    }
   ],
   "source": [
    "from sklearn.neighbors import KNeighborsClassifier\n",
    "\n",
    "knn = KNeighborsClassifier(\n",
    "\tn_neighbors=len(classes),\n",
    "\tn_jobs=-1, \n",
    "\tmetric=\"manhattan\")\n",
    "\n",
    "knn.fit(transformed_trainX, trainY)\n",
    "\n",
    "acc = knn.score(transformed_valX, valY)\n",
    "\n",
    "print(\"[INFO] Validation accuracy: {:.2f}%\".format(acc * 100))"
   ]
  },
  {
   "cell_type": "markdown",
   "metadata": {},
   "source": [
    "# Model Random Forest"
   ]
  },
  {
   "cell_type": "code",
   "execution_count": 31,
   "metadata": {},
   "outputs": [
    {
     "data": {
      "text/plain": [
       "0.7181818181818181"
      ]
     },
     "execution_count": 31,
     "metadata": {},
     "output_type": "execute_result"
    }
   ],
   "source": [
    "from sklearn.ensemble import RandomForestClassifier\n",
    "\n",
    "rfc = RandomForestClassifier()\n",
    "rfc.fit(transformed_trainX, trainY)\n",
    "rfc.score(transformed_valX, valY)"
   ]
  },
  {
   "cell_type": "markdown",
   "metadata": {},
   "source": [
    "# Light XGM Boosting"
   ]
  },
  {
   "cell_type": "code",
   "execution_count": 32,
   "metadata": {},
   "outputs": [
    {
     "data": {
      "text/plain": [
       "0.7262626262626263"
      ]
     },
     "execution_count": 32,
     "metadata": {},
     "output_type": "execute_result"
    }
   ],
   "source": [
    "from sklearn.ensemble import HistGradientBoostingClassifier\n",
    "\n",
    "histgb = HistGradientBoostingClassifier()\n",
    "histgb.fit(transformed_trainX, trainY)\n",
    "histgb.score(transformed_valX, valY)"
   ]
  },
  {
   "cell_type": "markdown",
   "metadata": {},
   "source": [
    "# Ensemble Learner"
   ]
  },
  {
   "cell_type": "code",
   "execution_count": 41,
   "metadata": {},
   "outputs": [
    {
     "data": {
      "text/plain": [
       "0.7257575757575757"
      ]
     },
     "execution_count": 41,
     "metadata": {},
     "output_type": "execute_result"
    }
   ],
   "source": [
    "from sklearn.linear_model import LogisticRegression\n",
    "from sklearn.ensemble import StackingClassifier\n",
    "from sklearn.tree import DecisionTreeClassifier\n",
    "from sklearn.model_selection import cross_val_score\n",
    "\n",
    "lr = DecisionTreeClassifier()\n",
    "submodels = [(\"rfc\", rfc), (\"histgb\", histgb), (\"knn\",knn)]\n",
    "stacker = StackingClassifier(estimators=submodels, final_estimator=lr, stack_method=\"predict\", n_jobs=-1)\n",
    "\n",
    "stacker.fit(transformed_trainX, trainY)\n",
    "stacker_score  = stacker.score(transformed_valX, valY)\n",
    "stacker_score"
   ]
  },
  {
   "cell_type": "code",
   "execution_count": 42,
   "metadata": {},
   "outputs": [
    {
     "name": "stdout",
     "output_type": "stream",
     "text": [
      "              precision    recall  f1-score   support\n",
      "\n",
      "  epithelial       0.85      0.91      0.88       798\n",
      "  fibroblast       0.60      0.65      0.62       371\n",
      "inflammatory       0.66      0.66      0.66       513\n",
      "      others       0.62      0.44      0.51       298\n",
      "\n",
      "    accuracy                           0.73      1980\n",
      "   macro avg       0.68      0.66      0.67      1980\n",
      "weighted avg       0.72      0.73      0.72      1980\n",
      "\n"
     ]
    }
   ],
   "source": [
    "from sklearn.metrics import classification_report\n",
    "pred_stack = stacker.predict(transformed_valX)\n",
    "\n",
    "print(classification_report(valY, pred_stack))"
   ]
  },
  {
   "cell_type": "code",
   "execution_count": 46,
   "metadata": {},
   "outputs": [
    {
     "data": {
      "image/png": "[encoded data removed]",
      "text/plain": [
       "<Figure size 432x288 with 2 Axes>"
      ]
     },
     "metadata": {
      "needs_background": "light"
     },
     "output_type": "display_data"
    }
   ],
   "source": [
    "from sklearn.metrics import confusion_matrix, ConfusionMatrixDisplay\n",
    "import matplotlib.pyplot as plt\n",
    "cm = confusion_matrix(valY, pred_stack)\n",
    "dist = ConfusionMatrixDisplay(cm, display_labels=classes)\n",
    "dist.plot()\n",
    "plt.show()"
   ]
  },
  {
   "cell_type": "code",
   "execution_count": null,
   "metadata": {},
   "outputs": [],
   "source": []
  }
 ],
 "metadata": {
  "interpreter": {
   "hash": "0f85430522e24dcceb49f547c8042b2746187a0750be8e55b7097447c175006b"
  },
  "kernelspec": {
   "display_name": "Python 3.7.11 64-bit ('keras-env': conda)",
   "language": "python",
   "name": "python3"
  },
  "language_info": {
   "codemirror_mode": {
    "name": "ipython",
    "version": 3
   },
   "file_extension": ".py",
   "mimetype": "text/x-python",
   "name": "python",
   "nbconvert_exporter": "python",
   "pygments_lexer": "ipython3",
   "version": "3.7.11"
  },
  "orig_nbformat": 4
 },
 "nbformat": 4,
 "nbformat_minor": 2
}
