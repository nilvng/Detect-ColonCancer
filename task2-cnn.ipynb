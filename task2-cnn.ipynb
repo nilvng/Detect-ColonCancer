{
 "cells": [
  {
   "cell_type": "code",
   "execution_count": 3,
   "metadata": {},
   "outputs": [
    {
     "name": "stdout",
     "output_type": "stream",
     "text": [
      "(9896, 27, 27, 3)\n",
      "(9896,)\n"
     ]
    }
   ],
   "source": [
    "import cv2\n",
    "import matplotlib.image as mplib \n",
    "from PIL import Image\n",
    "import numpy as np\n",
    "classes = [\"epithelial\",\"fibroblast\",\"inflammatory\",\"others\"]\n",
    "def load_data(labelNames, root):    \n",
    "    images = list()\n",
    "    labels = list()\n",
    "    \n",
    "    for label in labelNames:\n",
    "        # get image directory\n",
    "        img_dir = os.path.join(root, f\"{label}\")\n",
    "        \n",
    "        for img in os.listdir(img_dir):\n",
    "            img = np.array(Image.open(os.path.join(img_dir, img),'r'))\n",
    "            images.append(img)\n",
    "            labels.append(label)\n",
    "        \n",
    "    return (images, labels)\n",
    "multiclass_path = \"Image_classification_data/multi-task\"\n",
    "images, labels = load_data(classes, multiclass_path)\n",
    "images = np.asarray(images)\n",
    "labels = np.asarray(labels)\n",
    "print(images.shape)\n",
    "print(labels.shape)"
   ]
  },
  {
   "cell_type": "markdown",
   "metadata": {},
   "source": [
    "## Split dataset into 3"
   ]
  },
  {
   "cell_type": "code",
   "execution_count": 38,
   "metadata": {},
   "outputs": [
    {
     "name": "stdout",
     "output_type": "stream",
     "text": [
      "Train (5937, 27, 27, 3)\n",
      " Validation (1979, 27, 27, 3) \n",
      " Test (1980, 27, 27, 3)\n"
     ]
    }
   ],
   "source": [
    "from sklearn.model_selection import train_test_split\n",
    "x_train, x_test, y_train, y_test = train_test_split(images, labels, test_size=0.2)\n",
    "x_train, x_val, y_train, y_val = train_test_split(x_train, y_train, test_size=0.25)\n",
    "print(f\"Train {x_train.shape}\\n Validation {x_val.shape} \\n Test {x_test.shape}\")"
   ]
  },
  {
   "cell_type": "code",
   "execution_count": 15,
   "metadata": {},
   "outputs": [],
   "source": [
    "from sklearn.preprocessing import LabelEncoder\n",
    "def label_encoder(arr):\n",
    "    labels = np.array(arr)\n",
    "    label_coder = LabelEncoder()\n",
    "    return label_coder.fit_transform(labels)"
   ]
  },
  {
   "cell_type": "code",
   "execution_count": 30,
   "metadata": {},
   "outputs": [],
   "source": [
    "y_train = label_encoder(y_train)\n",
    "y_test = label_encoder(y_test)\n",
    "y_val = label_encoder(y_val)"
   ]
  },
  {
   "cell_type": "code",
   "execution_count": 40,
   "metadata": {},
   "outputs": [],
   "source": [
    "no_classes = 4\n",
    "from tensorflow.keras.utils import to_categorical\n",
    "y_train = to_categorical(label_encoder(y_train), no_classes)\n",
    "y_val = to_categorical(label_encoder(y_val), no_classes)\n",
    "y_test = to_categorical(label_encoder(y_test), no_classes)"
   ]
  },
  {
   "cell_type": "markdown",
   "metadata": {},
   "source": [
    "# Model 1"
   ]
  },
  {
   "cell_type": "code",
   "execution_count": 190,
   "metadata": {},
   "outputs": [],
   "source": [
    "from keras.models import Sequential\n",
    "from keras.layers import Conv2D, Flatten, Dense, InputLayer, MaxPooling2D, Dropout, Rescaling\n",
    "from keras.applications import xception\n",
    "from keras.metrics import Precision\n",
    "from keras.losses import BinaryCrossentropy, CategoricalCrossentropy, SparseCategoricalCrossentropy\n",
    "no_classes = 4\n",
    "input_shape = (27,27,3)\n",
    "model = Sequential([\n",
    "    Rescaling(1./255),\n",
    "    Conv2D(32, 3, activation='relu', padding='same'),\n",
    "    Conv2D(16, 3, activation='relu',padding='same'),\n",
    "    MaxPooling2D(pool_size=(2,2),strides=2,padding = 'valid'),\n",
    "    Flatten(),\n",
    "Dense(64, activation='relu'),\n",
    "Dropout(0.4),\n",
    "Dense(64, activation='relu'),\n",
    "Dropout(0.4),\n",
    "Dense(no_classes, activation=\"softmax\")\n",
    "])\n",
    "model.compile(\n",
    "  optimizer='adam',\n",
    "  loss=CategoricalCrossentropy(),\n",
    "  metrics=[CategoricalAccuracy(), Precision()])\n",
    "  "
   ]
  },
  {
   "cell_type": "code",
   "execution_count": 191,
   "metadata": {},
   "outputs": [
    {
     "name": "stdout",
     "output_type": "stream",
     "text": [
      "Model: \"sequential_53\"\n",
      "_________________________________________________________________\n",
      " Layer (type)                Output Shape              Param #   \n",
      "=================================================================\n",
      " rescaling_54 (Rescaling)    (5937, 27, 27, 3)         0         \n",
      "                                                                 \n",
      " conv2d_159 (Conv2D)         (5937, 27, 27, 32)        896       \n",
      "                                                                 \n",
      " conv2d_160 (Conv2D)         (5937, 27, 27, 16)        4624      \n",
      "                                                                 \n",
      " max_pooling2d_93 (MaxPoolin  (5937, 13, 13, 16)       0         \n",
      " g2D)                                                            \n",
      "                                                                 \n",
      " flatten_53 (Flatten)        (5937, 2704)              0         \n",
      "                                                                 \n",
      " dense_152 (Dense)           (5937, 64)                173120    \n",
      "                                                                 \n",
      " dropout_76 (Dropout)        (5937, 64)                0         \n",
      "                                                                 \n",
      " dense_153 (Dense)           (5937, 64)                4160      \n",
      "                                                                 \n",
      " dropout_77 (Dropout)        (5937, 64)                0         \n",
      "                                                                 \n",
      " dense_154 (Dense)           (5937, 4)                 260       \n",
      "                                                                 \n",
      "=================================================================\n",
      "Total params: 183,060\n",
      "Trainable params: 183,060\n",
      "Non-trainable params: 0\n",
      "_________________________________________________________________\n"
     ]
    }
   ],
   "source": [
    "model.build(x_train.shape)\n",
    "model.summary()"
   ]
  },
  {
   "cell_type": "code",
   "execution_count": 193,
   "metadata": {},
   "outputs": [
    {
     "name": "stdout",
     "output_type": "stream",
     "text": [
      "Epoch 1/40\n",
      "186/186 [==============================] - 16s 84ms/step - loss: 1.0633 - categorical_accuracy: 0.5742 - precision_52: 0.7452 - val_loss: 0.8658 - val_categorical_accuracy: 0.6756 - val_precision_52: 0.7918\n",
      "Epoch 2/40\n",
      "186/186 [==============================] - 13s 67ms/step - loss: 0.9142 - categorical_accuracy: 0.6539 - precision_52: 0.7541 - val_loss: 0.8794 - val_categorical_accuracy: 0.6407 - val_precision_52: 0.7048\n",
      "Epoch 3/40\n",
      "186/186 [==============================] - 10s 55ms/step - loss: 0.8462 - categorical_accuracy: 0.6780 - precision_52: 0.7681 - val_loss: 0.7635 - val_categorical_accuracy: 0.6958 - val_precision_52: 0.7810\n",
      "Epoch 4/40\n",
      "186/186 [==============================] - 12s 66ms/step - loss: 0.7824 - categorical_accuracy: 0.7064 - precision_52: 0.7820 - val_loss: 0.7277 - val_categorical_accuracy: 0.7221 - val_precision_52: 0.7751\n",
      "Epoch 5/40\n",
      "186/186 [==============================] - 14s 73ms/step - loss: 0.7866 - categorical_accuracy: 0.7047 - precision_52: 0.7771 - val_loss: 0.7420 - val_categorical_accuracy: 0.7084 - val_precision_52: 0.7717\n",
      "Epoch 6/40\n",
      "186/186 [==============================] - 13s 72ms/step - loss: 0.7633 - categorical_accuracy: 0.7100 - precision_52: 0.7810 - val_loss: 0.7614 - val_categorical_accuracy: 0.7079 - val_precision_52: 0.7881\n",
      "Epoch 7/40\n",
      "186/186 [==============================] - 14s 76ms/step - loss: 0.7650 - categorical_accuracy: 0.7034 - precision_52: 0.7845 - val_loss: 0.7305 - val_categorical_accuracy: 0.7155 - val_precision_52: 0.8128\n",
      "Epoch 8/40\n",
      "186/186 [==============================] - 10s 56ms/step - loss: 0.7189 - categorical_accuracy: 0.7305 - precision_52: 0.7961 - val_loss: 0.7173 - val_categorical_accuracy: 0.7185 - val_precision_52: 0.7694\n",
      "Epoch 9/40\n",
      "186/186 [==============================] - 12s 64ms/step - loss: 0.7107 - categorical_accuracy: 0.7303 - precision_52: 0.8017 - val_loss: 0.7123 - val_categorical_accuracy: 0.7185 - val_precision_52: 0.7792\n",
      "Epoch 10/40\n",
      "186/186 [==============================] - 13s 70ms/step - loss: 0.6796 - categorical_accuracy: 0.7436 - precision_52: 0.8086 - val_loss: 0.6953 - val_categorical_accuracy: 0.7261 - val_precision_52: 0.7695\n",
      "Epoch 11/40\n",
      "186/186 [==============================] - 13s 69ms/step - loss: 0.6706 - categorical_accuracy: 0.7472 - precision_52: 0.8065 - val_loss: 0.7575 - val_categorical_accuracy: 0.7084 - val_precision_52: 0.7529\n",
      "Epoch 12/40\n",
      "186/186 [==============================] - 16s 88ms/step - loss: 0.6411 - categorical_accuracy: 0.7563 - precision_52: 0.8140 - val_loss: 0.6994 - val_categorical_accuracy: 0.7287 - val_precision_52: 0.7764\n",
      "Epoch 13/40\n",
      "186/186 [==============================] - 19s 103ms/step - loss: 0.6263 - categorical_accuracy: 0.7561 - precision_52: 0.8158 - val_loss: 0.7134 - val_categorical_accuracy: 0.7256 - val_precision_52: 0.7858\n",
      "Epoch 14/40\n",
      "186/186 [==============================] - 14s 75ms/step - loss: 0.5974 - categorical_accuracy: 0.7728 - precision_52: 0.8308 - val_loss: 0.7364 - val_categorical_accuracy: 0.7221 - val_precision_52: 0.7609\n",
      "Epoch 15/40\n",
      "186/186 [==============================] - 15s 78ms/step - loss: 0.5988 - categorical_accuracy: 0.7709 - precision_52: 0.8202 - val_loss: 0.7108 - val_categorical_accuracy: 0.7302 - val_precision_52: 0.7725\n",
      "Epoch 16/40\n",
      "186/186 [==============================] - 16s 85ms/step - loss: 0.5685 - categorical_accuracy: 0.7925 - precision_52: 0.8383 - val_loss: 0.7442 - val_categorical_accuracy: 0.7226 - val_precision_52: 0.7609\n",
      "Epoch 17/40\n",
      "186/186 [==============================] - 14s 76ms/step - loss: 0.5588 - categorical_accuracy: 0.7844 - precision_52: 0.8355 - val_loss: 0.7239 - val_categorical_accuracy: 0.7297 - val_precision_52: 0.7714\n",
      "Epoch 18/40\n",
      "186/186 [==============================] - 15s 81ms/step - loss: 0.5263 - categorical_accuracy: 0.8043 - precision_52: 0.8496 - val_loss: 0.7573 - val_categorical_accuracy: 0.7287 - val_precision_52: 0.7584\n",
      "Epoch 19/40\n",
      "186/186 [==============================] - 15s 81ms/step - loss: 0.5114 - categorical_accuracy: 0.8110 - precision_52: 0.8515 - val_loss: 0.7933 - val_categorical_accuracy: 0.7231 - val_precision_52: 0.7586\n",
      "Epoch 20/40\n",
      "186/186 [==============================] - 14s 74ms/step - loss: 0.4948 - categorical_accuracy: 0.8149 - precision_52: 0.8523 - val_loss: 0.8026 - val_categorical_accuracy: 0.7180 - val_precision_52: 0.7501\n",
      "Epoch 21/40\n",
      "186/186 [==============================] - 16s 85ms/step - loss: 0.4517 - categorical_accuracy: 0.8307 - precision_52: 0.8642 - val_loss: 0.7879 - val_categorical_accuracy: 0.7216 - val_precision_52: 0.7508\n",
      "Epoch 22/40\n",
      "186/186 [==============================] - 17s 90ms/step - loss: 0.4640 - categorical_accuracy: 0.8263 - precision_52: 0.8611 - val_loss: 0.7859 - val_categorical_accuracy: 0.7287 - val_precision_52: 0.7567\n",
      "Epoch 23/40\n",
      "186/186 [==============================] - 15s 79ms/step - loss: 0.4566 - categorical_accuracy: 0.8250 - precision_52: 0.8592 - val_loss: 0.7844 - val_categorical_accuracy: 0.7150 - val_precision_52: 0.7549\n",
      "Epoch 24/40\n",
      "186/186 [==============================] - 16s 85ms/step - loss: 0.4092 - categorical_accuracy: 0.8440 - precision_52: 0.8734 - val_loss: 0.9723 - val_categorical_accuracy: 0.7039 - val_precision_52: 0.7253\n",
      "Epoch 25/40\n",
      "186/186 [==============================] - 14s 74ms/step - loss: 0.3893 - categorical_accuracy: 0.8514 - precision_52: 0.8781 - val_loss: 0.9745 - val_categorical_accuracy: 0.7115 - val_precision_52: 0.7240\n",
      "Epoch 26/40\n",
      "186/186 [==============================] - 14s 77ms/step - loss: 0.4110 - categorical_accuracy: 0.8464 - precision_52: 0.8708 - val_loss: 0.8758 - val_categorical_accuracy: 0.7201 - val_precision_52: 0.7433\n",
      "Epoch 27/40\n",
      "186/186 [==============================] - 14s 76ms/step - loss: 0.3669 - categorical_accuracy: 0.8599 - precision_52: 0.8898 - val_loss: 0.9067 - val_categorical_accuracy: 0.7251 - val_precision_52: 0.7434\n",
      "Epoch 28/40\n",
      "186/186 [==============================] - 14s 77ms/step - loss: 0.3684 - categorical_accuracy: 0.8577 - precision_52: 0.8862 - val_loss: 0.9229 - val_categorical_accuracy: 0.7145 - val_precision_52: 0.7353\n",
      "Epoch 29/40\n",
      "186/186 [==============================] - 16s 87ms/step - loss: 0.3455 - categorical_accuracy: 0.8671 - precision_52: 0.8966 - val_loss: 1.1305 - val_categorical_accuracy: 0.7024 - val_precision_52: 0.7189\n",
      "Epoch 30/40\n",
      "186/186 [==============================] - 14s 75ms/step - loss: 0.3492 - categorical_accuracy: 0.8693 - precision_52: 0.8957 - val_loss: 0.9766 - val_categorical_accuracy: 0.7266 - val_precision_52: 0.7476\n",
      "Epoch 31/40\n",
      "186/186 [==============================] - 14s 77ms/step - loss: 0.3376 - categorical_accuracy: 0.8735 - precision_52: 0.8981 - val_loss: 1.0371 - val_categorical_accuracy: 0.7241 - val_precision_52: 0.7365\n",
      "Epoch 32/40\n",
      "186/186 [==============================] - 14s 76ms/step - loss: 0.2953 - categorical_accuracy: 0.8897 - precision_52: 0.9067 - val_loss: 1.1906 - val_categorical_accuracy: 0.7054 - val_precision_52: 0.7226\n",
      "Epoch 33/40\n",
      "186/186 [==============================] - 16s 87ms/step - loss: 0.3032 - categorical_accuracy: 0.8848 - precision_52: 0.9064 - val_loss: 1.0869 - val_categorical_accuracy: 0.7287 - val_precision_52: 0.7423\n",
      "Epoch 34/40\n",
      "186/186 [==============================] - 15s 78ms/step - loss: 0.2925 - categorical_accuracy: 0.8841 - precision_52: 0.9024 - val_loss: 1.1648 - val_categorical_accuracy: 0.7241 - val_precision_52: 0.7344\n",
      "Epoch 35/40\n",
      "186/186 [==============================] - 14s 77ms/step - loss: 0.3026 - categorical_accuracy: 0.8829 - precision_52: 0.9035 - val_loss: 1.0555 - val_categorical_accuracy: 0.7054 - val_precision_52: 0.7172\n",
      "Epoch 36/40\n",
      "186/186 [==============================] - 15s 80ms/step - loss: 0.3100 - categorical_accuracy: 0.8801 - precision_52: 0.9033 - val_loss: 1.1040 - val_categorical_accuracy: 0.7287 - val_precision_52: 0.7403\n",
      "Epoch 37/40\n",
      "186/186 [==============================] - 15s 80ms/step - loss: 0.2845 - categorical_accuracy: 0.8902 - precision_52: 0.9101 - val_loss: 1.1592 - val_categorical_accuracy: 0.7251 - val_precision_52: 0.7343\n",
      "Epoch 38/40\n",
      "186/186 [==============================] - 15s 78ms/step - loss: 0.2881 - categorical_accuracy: 0.8927 - precision_52: 0.9095 - val_loss: 1.1994 - val_categorical_accuracy: 0.7150 - val_precision_52: 0.7290\n",
      "Epoch 39/40\n",
      "186/186 [==============================] - 14s 76ms/step - loss: 0.2646 - categorical_accuracy: 0.8993 - precision_52: 0.9164 - val_loss: 1.1663 - val_categorical_accuracy: 0.7231 - val_precision_52: 0.7340\n",
      "Epoch 40/40\n",
      "186/186 [==============================] - 14s 78ms/step - loss: 0.2732 - categorical_accuracy: 0.8986 - precision_52: 0.9163 - val_loss: 1.2362 - val_categorical_accuracy: 0.7246 - val_precision_52: 0.7357\n"
     ]
    }
   ],
   "source": [
    "import tensorflow as tf\n",
    "tf.config.run_functions_eagerly(True)\n",
    "history = model.fit(\n",
    "    x=x_train,\n",
    "    y=y_train,\n",
    "    validation_data=(x_val, y_val),\n",
    "    epochs=40\n",
    ")"
   ]
  },
  {
   "cell_type": "markdown",
   "metadata": {},
   "source": [
    "# Model 2"
   ]
  },
  {
   "cell_type": "code",
   "execution_count": 182,
   "metadata": {},
   "outputs": [],
   "source": [
    "from keras.metrics import CategoricalAccuracy\n",
    "from keras.layers import BatchNormalization, ReLU\n",
    "no_classes = 4\n",
    "input_shape = (27,27,3)\n",
    "model = Sequential([\n",
    "    Rescaling(1./255),\n",
    "    Conv2D(8, 1,padding='same', activation=ReLU()),\n",
    "    Conv2D(8, 1, activation=ReLU()),\n",
    "    MaxPooling2D(pool_size=(3,3),strides=2,padding = 'valid'),\n",
    "\n",
    "    Conv2D(32, 5,padding='same', activation=ReLU()),\n",
    "    MaxPooling2D(pool_size=(3,3),strides=1,padding = 'valid'),\n",
    "\n",
    "    Conv2D(32, 3, activation='relu', strides=1),\n",
    "    MaxPooling2D(pool_size=(3,3),strides=2,padding = 'valid'),\n",
    "    \n",
    "    Flatten(),\n",
    "Dense(256, activation='relu'),\n",
    "Dropout(0.4),\n",
    "Dense(128, activation='relu'),\n",
    "Dropout(0.4),\n",
    "Dense(64, activation='relu'),\n",
    "Dense(no_classes, activation=\"softmax\")\n",
    "])\n",
    "model.compile(\n",
    "  optimizer='adam',\n",
    "  loss=CategoricalCrossentropy(),\n",
    "  metrics=[CategoricalAccuracy(), Precision()])"
   ]
  },
  {
   "cell_type": "code",
   "execution_count": 183,
   "metadata": {},
   "outputs": [
    {
     "name": "stdout",
     "output_type": "stream",
     "text": [
      "Model: \"sequential_51\"\n",
      "_________________________________________________________________\n",
      " Layer (type)                Output Shape              Param #   \n",
      "=================================================================\n",
      " rescaling_52 (Rescaling)    (5937, 27, 27, 3)         0         \n",
      "                                                                 \n",
      " conv2d_153 (Conv2D)         (5937, 27, 27, 8)         32        \n",
      "                                                                 \n",
      " conv2d_154 (Conv2D)         (5937, 27, 27, 8)         72        \n",
      "                                                                 \n",
      " max_pooling2d_89 (MaxPoolin  (5937, 13, 13, 8)        0         \n",
      " g2D)                                                            \n",
      "                                                                 \n",
      " conv2d_155 (Conv2D)         (5937, 13, 13, 32)        6432      \n",
      "                                                                 \n",
      " max_pooling2d_90 (MaxPoolin  (5937, 11, 11, 32)       0         \n",
      " g2D)                                                            \n",
      "                                                                 \n",
      " conv2d_156 (Conv2D)         (5937, 9, 9, 32)          9248      \n",
      "                                                                 \n",
      " max_pooling2d_91 (MaxPoolin  (5937, 4, 4, 32)         0         \n",
      " g2D)                                                            \n",
      "                                                                 \n",
      " flatten_51 (Flatten)        (5937, 512)               0         \n",
      "                                                                 \n",
      " dense_145 (Dense)           (5937, 256)               131328    \n",
      "                                                                 \n",
      " dropout_72 (Dropout)        (5937, 256)               0         \n",
      "                                                                 \n",
      " dense_146 (Dense)           (5937, 128)               32896     \n",
      "                                                                 \n",
      " dropout_73 (Dropout)        (5937, 128)               0         \n",
      "                                                                 \n",
      " dense_147 (Dense)           (5937, 64)                8256      \n",
      "                                                                 \n",
      " dense_148 (Dense)           (5937, 4)                 260       \n",
      "                                                                 \n",
      "=================================================================\n",
      "Total params: 188,524\n",
      "Trainable params: 188,524\n",
      "Non-trainable params: 0\n",
      "_________________________________________________________________\n"
     ]
    }
   ],
   "source": [
    "model.build(x_train.shape)\n",
    "model.summary()"
   ]
  },
  {
   "cell_type": "code",
   "execution_count": 173,
   "metadata": {},
   "outputs": [],
   "source": [
    "from keras.callbacks import ReduceLROnPlateau\n",
    "reduce_lr = ReduceLROnPlateau(monitor='val_loss', factor=0.2,\n",
    "                              patience=5, min_lr=0.001)"
   ]
  },
  {
   "cell_type": "code",
   "execution_count": 184,
   "metadata": {},
   "outputs": [
    {
     "name": "stdout",
     "output_type": "stream",
     "text": [
      "Epoch 1/40\n",
      "186/186 [==============================] - 15s 79ms/step - loss: 1.1774 - categorical_accuracy: 0.4684 - precision_50: 0.7227 - val_loss: 0.9716 - val_categorical_accuracy: 0.5675 - val_precision_50: 0.7928 - lr: 0.0010\n",
      "Epoch 2/40\n",
      "186/186 [==============================] - 14s 75ms/step - loss: 0.9923 - categorical_accuracy: 0.5622 - precision_50: 0.7962 - val_loss: 0.9294 - val_categorical_accuracy: 0.5766 - val_precision_50: 0.7934 - lr: 0.0010\n",
      "Epoch 3/40\n",
      "186/186 [==============================] - 14s 74ms/step - loss: 0.9689 - categorical_accuracy: 0.5703 - precision_50: 0.8111 - val_loss: 0.9251 - val_categorical_accuracy: 0.5846 - val_precision_50: 0.8724 - lr: 0.0010\n",
      "Epoch 4/40\n",
      "186/186 [==============================] - 14s 76ms/step - loss: 0.9424 - categorical_accuracy: 0.5841 - precision_50: 0.8234 - val_loss: 0.9321 - val_categorical_accuracy: 0.6018 - val_precision_50: 0.7602 - lr: 0.0010\n",
      "Epoch 5/40\n",
      "186/186 [==============================] - 15s 80ms/step - loss: 0.9292 - categorical_accuracy: 0.6074 - precision_50: 0.7935 - val_loss: 0.8699 - val_categorical_accuracy: 0.6195 - val_precision_50: 0.7860 - lr: 0.0010\n",
      "Epoch 6/40\n",
      "186/186 [==============================] - 11s 57ms/step - loss: 0.8751 - categorical_accuracy: 0.6547 - precision_50: 0.7619 - val_loss: 0.7983 - val_categorical_accuracy: 0.6761 - val_precision_50: 0.7790 - lr: 0.0010\n",
      "Epoch 7/40\n",
      "186/186 [==============================] - 13s 71ms/step - loss: 0.8220 - categorical_accuracy: 0.6837 - precision_50: 0.7604 - val_loss: 0.7727 - val_categorical_accuracy: 0.7014 - val_precision_50: 0.7639 - lr: 0.0010\n",
      "Epoch 8/40\n",
      "186/186 [==============================] - 15s 78ms/step - loss: 0.7769 - categorical_accuracy: 0.7014 - precision_50: 0.7675 - val_loss: 0.7256 - val_categorical_accuracy: 0.7110 - val_precision_50: 0.7576 - lr: 0.0010\n",
      "Epoch 9/40\n",
      "186/186 [==============================] - 12s 64ms/step - loss: 0.7389 - categorical_accuracy: 0.7167 - precision_50: 0.7820 - val_loss: 0.6916 - val_categorical_accuracy: 0.7261 - val_precision_50: 0.7946 - lr: 0.0010\n",
      "Epoch 10/40\n",
      "186/186 [==============================] - 13s 68ms/step - loss: 0.7162 - categorical_accuracy: 0.7271 - precision_50: 0.7867 - val_loss: 0.6572 - val_categorical_accuracy: 0.7413 - val_precision_50: 0.7963 - lr: 0.0010\n",
      "Epoch 11/40\n",
      "186/186 [==============================] - 16s 84ms/step - loss: 0.6939 - categorical_accuracy: 0.7352 - precision_50: 0.7931 - val_loss: 0.6910 - val_categorical_accuracy: 0.7287 - val_precision_50: 0.7681 - lr: 0.0010\n",
      "Epoch 12/40\n",
      "186/186 [==============================] - 17s 89ms/step - loss: 0.6703 - categorical_accuracy: 0.7425 - precision_50: 0.8004 - val_loss: 0.6387 - val_categorical_accuracy: 0.7479 - val_precision_50: 0.8036 - lr: 0.0010\n",
      "Epoch 13/40\n",
      "186/186 [==============================] - 15s 80ms/step - loss: 0.6442 - categorical_accuracy: 0.7536 - precision_50: 0.8093 - val_loss: 0.6490 - val_categorical_accuracy: 0.7514 - val_precision_50: 0.8021 - lr: 0.0010\n",
      "Epoch 14/40\n",
      "186/186 [==============================] - 14s 76ms/step - loss: 0.6476 - categorical_accuracy: 0.7526 - precision_50: 0.8079 - val_loss: 0.6317 - val_categorical_accuracy: 0.7580 - val_precision_50: 0.8164 - lr: 0.0010\n",
      "Epoch 15/40\n",
      "186/186 [==============================] - 16s 84ms/step - loss: 0.6397 - categorical_accuracy: 0.7543 - precision_50: 0.8125 - val_loss: 0.6490 - val_categorical_accuracy: 0.7347 - val_precision_50: 0.7856 - lr: 0.0010\n",
      "Epoch 16/40\n",
      "186/186 [==============================] - 12s 65ms/step - loss: 0.6133 - categorical_accuracy: 0.7649 - precision_50: 0.8166 - val_loss: 0.6348 - val_categorical_accuracy: 0.7529 - val_precision_50: 0.8012 - lr: 0.0010\n",
      "Epoch 17/40\n",
      "186/186 [==============================] - 12s 64ms/step - loss: 0.6372 - categorical_accuracy: 0.7544 - precision_50: 0.8059 - val_loss: 0.6444 - val_categorical_accuracy: 0.7504 - val_precision_50: 0.7883 - lr: 0.0010\n",
      "Epoch 18/40\n",
      "186/186 [==============================] - 12s 63ms/step - loss: 0.6032 - categorical_accuracy: 0.7645 - precision_50: 0.8119 - val_loss: 0.6260 - val_categorical_accuracy: 0.7625 - val_precision_50: 0.8011 - lr: 0.0010\n",
      "Epoch 19/40\n",
      "186/186 [==============================] - 12s 63ms/step - loss: 0.6036 - categorical_accuracy: 0.7644 - precision_50: 0.8190 - val_loss: 0.6718 - val_categorical_accuracy: 0.7463 - val_precision_50: 0.7762 - lr: 0.0010\n",
      "Epoch 20/40\n",
      "186/186 [==============================] - 12s 67ms/step - loss: 0.5903 - categorical_accuracy: 0.7728 - precision_50: 0.8179 - val_loss: 0.6342 - val_categorical_accuracy: 0.7499 - val_precision_50: 0.7873 - lr: 0.0010\n",
      "Epoch 21/40\n",
      "186/186 [==============================] - 13s 73ms/step - loss: 0.6012 - categorical_accuracy: 0.7649 - precision_50: 0.8145 - val_loss: 0.6408 - val_categorical_accuracy: 0.7519 - val_precision_50: 0.7875 - lr: 0.0010\n",
      "Epoch 22/40\n",
      "186/186 [==============================] - 13s 71ms/step - loss: 0.5845 - categorical_accuracy: 0.7687 - precision_50: 0.8193 - val_loss: 0.6188 - val_categorical_accuracy: 0.7585 - val_precision_50: 0.8140 - lr: 0.0010\n",
      "Epoch 23/40\n",
      "186/186 [==============================] - 16s 84ms/step - loss: 0.5623 - categorical_accuracy: 0.7842 - precision_50: 0.8308 - val_loss: 0.6172 - val_categorical_accuracy: 0.7605 - val_precision_50: 0.8017 - lr: 0.0010\n",
      "Epoch 24/40\n",
      "186/186 [==============================] - 11s 58ms/step - loss: 0.5437 - categorical_accuracy: 0.7910 - precision_50: 0.8339 - val_loss: 0.6456 - val_categorical_accuracy: 0.7473 - val_precision_50: 0.7913 - lr: 0.0010\n",
      "Epoch 25/40\n",
      "186/186 [==============================] - 15s 80ms/step - loss: 0.5450 - categorical_accuracy: 0.7859 - precision_50: 0.8295 - val_loss: 0.6134 - val_categorical_accuracy: 0.7671 - val_precision_50: 0.8051 - lr: 0.0010\n",
      "Epoch 26/40\n",
      "186/186 [==============================] - 16s 85ms/step - loss: 0.5374 - categorical_accuracy: 0.7922 - precision_50: 0.8334 - val_loss: 0.6047 - val_categorical_accuracy: 0.7671 - val_precision_50: 0.8066 - lr: 0.0010\n",
      "Epoch 27/40\n",
      "186/186 [==============================] - 17s 93ms/step - loss: 0.5362 - categorical_accuracy: 0.7930 - precision_50: 0.8329 - val_loss: 0.6261 - val_categorical_accuracy: 0.7605 - val_precision_50: 0.7862 - lr: 0.0010\n",
      "Epoch 28/40\n",
      "186/186 [==============================] - 13s 69ms/step - loss: 0.5209 - categorical_accuracy: 0.7982 - precision_50: 0.8373 - val_loss: 0.6121 - val_categorical_accuracy: 0.7671 - val_precision_50: 0.7990 - lr: 0.0010\n",
      "Epoch 29/40\n",
      "186/186 [==============================] - 13s 72ms/step - loss: 0.5188 - categorical_accuracy: 0.8061 - precision_50: 0.8420 - val_loss: 0.6493 - val_categorical_accuracy: 0.7484 - val_precision_50: 0.7789 - lr: 0.0010\n",
      "Epoch 30/40\n",
      "186/186 [==============================] - 15s 79ms/step - loss: 0.5175 - categorical_accuracy: 0.8041 - precision_50: 0.8383 - val_loss: 0.6378 - val_categorical_accuracy: 0.7595 - val_precision_50: 0.7935 - lr: 0.0010\n",
      "Epoch 31/40\n",
      "186/186 [==============================] - 14s 74ms/step - loss: 0.4733 - categorical_accuracy: 0.8220 - precision_50: 0.8553 - val_loss: 0.6469 - val_categorical_accuracy: 0.7736 - val_precision_50: 0.7953 - lr: 0.0010\n",
      "Epoch 32/40\n",
      "186/186 [==============================] - 14s 74ms/step - loss: 0.4952 - categorical_accuracy: 0.8129 - precision_50: 0.8493 - val_loss: 0.6875 - val_categorical_accuracy: 0.7337 - val_precision_50: 0.7777 - lr: 0.0010\n",
      "Epoch 33/40\n",
      "186/186 [==============================] - 17s 90ms/step - loss: 0.4758 - categorical_accuracy: 0.8183 - precision_50: 0.8507 - val_loss: 0.7087 - val_categorical_accuracy: 0.7509 - val_precision_50: 0.7848 - lr: 0.0010\n",
      "Epoch 34/40\n",
      "186/186 [==============================] - 15s 80ms/step - loss: 0.4746 - categorical_accuracy: 0.8206 - precision_50: 0.8533 - val_loss: 0.6214 - val_categorical_accuracy: 0.7676 - val_precision_50: 0.7980 - lr: 0.0010\n",
      "Epoch 35/40\n",
      "186/186 [==============================] - 16s 88ms/step - loss: 0.4833 - categorical_accuracy: 0.8167 - precision_50: 0.8460 - val_loss: 0.6255 - val_categorical_accuracy: 0.7726 - val_precision_50: 0.7986 - lr: 0.0010\n",
      "Epoch 36/40\n",
      "186/186 [==============================] - 13s 71ms/step - loss: 0.4374 - categorical_accuracy: 0.8324 - precision_50: 0.8591 - val_loss: 0.6555 - val_categorical_accuracy: 0.7575 - val_precision_50: 0.7841 - lr: 0.0010\n",
      "Epoch 37/40\n",
      "186/186 [==============================] - 14s 75ms/step - loss: 0.4526 - categorical_accuracy: 0.8284 - precision_50: 0.8552 - val_loss: 0.6565 - val_categorical_accuracy: 0.7635 - val_precision_50: 0.7881 - lr: 0.0010\n",
      "Epoch 38/40\n",
      "186/186 [==============================] - 14s 77ms/step - loss: 0.4344 - categorical_accuracy: 0.8354 - precision_50: 0.8580 - val_loss: 0.6731 - val_categorical_accuracy: 0.7665 - val_precision_50: 0.7876 - lr: 0.0010\n",
      "Epoch 39/40\n",
      "186/186 [==============================] - 13s 69ms/step - loss: 0.4073 - categorical_accuracy: 0.8513 - precision_50: 0.8714 - val_loss: 0.6655 - val_categorical_accuracy: 0.7610 - val_precision_50: 0.7782 - lr: 0.0010\n",
      "Epoch 40/40\n",
      "186/186 [==============================] - 14s 77ms/step - loss: 0.4131 - categorical_accuracy: 0.8482 - precision_50: 0.8716 - val_loss: 0.6890 - val_categorical_accuracy: 0.7590 - val_precision_50: 0.7788 - lr: 0.0010\n"
     ]
    }
   ],
   "source": [
    "history2 = model.fit(\n",
    "    x=x_train,\n",
    "    y=y_train,\n",
    "    validation_data=(x_val, y_val),\n",
    "    epochs=40,\n",
    "    callbacks=[reduce_lr]\n",
    ")"
   ]
  },
  {
   "cell_type": "code",
   "execution_count": 186,
   "metadata": {},
   "outputs": [],
   "source": [
    "model.save_weights(\"cnn.h5\")"
   ]
  },
  {
   "cell_type": "markdown",
   "metadata": {},
   "source": [
    "# Evaluation"
   ]
  },
  {
   "cell_type": "code",
   "execution_count": 194,
   "metadata": {},
   "outputs": [],
   "source": [
    "import matplotlib.pyplot as plt\n",
    "def plot_learning_curve(train_loss, val_loss, train_metric, val_metric, metric_name='Accuracy'):\n",
    "    plt.figure(figsize=(10,5))\n",
    "    \n",
    "    plt.subplot(1,2,1)\n",
    "    plt.plot(train_loss, 'r--')\n",
    "    plt.plot(val_loss, 'b--')\n",
    "    plt.xlabel(\"epochs\")\n",
    "    plt.ylabel(\"Loss\")\n",
    "    plt.legend(['train', 'val'], loc='upper left')\n",
    "\n",
    "    plt.subplot(1,2,2)\n",
    "    plt.plot(train_metric, 'r--')\n",
    "    plt.plot(val_metric, 'b--')\n",
    "    plt.xlabel(\"epochs\")\n",
    "    plt.ylabel(metric_name)\n",
    "    plt.legend(['train', 'val'], loc='upper left')\n",
    "\n",
    "    plt.show()"
   ]
  },
  {
   "cell_type": "code",
   "execution_count": 195,
   "metadata": {},
   "outputs": [
    {
     "data": {
      "image/png": "[encoded data removed]",
      "text/plain": [
       "<Figure size 720x360 with 2 Axes>"
      ]
     },
     "metadata": {
      "needs_background": "light"
     },
     "output_type": "display_data"
    }
   ],
   "source": [
    "# first model\n",
    "plot_learning_curve(history.history['loss'], history.history['val_loss'], \n",
    "                    history.history['categorical_accuracy'], history.history['val_categorical_accuracy'], \n",
    "                    metric_name='Accuracy')"
   ]
  },
  {
   "cell_type": "code",
   "execution_count": 185,
   "metadata": {},
   "outputs": [
    {
     "data": {
      "image/png": "[encoded data removed]",
      "text/plain": [
       "<Figure size 720x360 with 2 Axes>"
      ]
     },
     "metadata": {
      "needs_background": "light"
     },
     "output_type": "display_data"
    }
   ],
   "source": [
    "plot_learning_curve(history2.history['loss'], history2.history['val_loss'], \n",
    "                    history2.history['categorical_accuracy'], history2.history['val_categorical_accuracy'], \n",
    "                    metric_name='Accuracy')"
   ]
  },
  {
   "cell_type": "markdown",
   "metadata": {},
   "source": [
    "# Variations"
   ]
  },
  {
   "cell_type": "code",
   "execution_count": 30,
   "metadata": {},
   "outputs": [],
   "source": [
    "from sklearn.model_selection import train_test_split\n",
    "from keras.layers import Conv2D, MaxPooling2D, Flatten, Dense, Rescaling, Dropout\n",
    "from keras import Sequential\n",
    "from keras.losses import CategoricalCrossentropy\n",
    "from keras.metrics import CategoricalAccuracy, Precision\n",
    "from tensorflow.keras.utils import to_categorical\n",
    "\n",
    "root = \"Image_classification_data/multi-task\"\n",
    "def create_simple_cnn(no_classes):\n",
    "    model = Sequential([\n",
    "    Rescaling(1./255),\n",
    "    Conv2D(32, 3, activation='relu', padding='same'),\n",
    "    Conv2D(16, 3, activation='relu',padding='same'),\n",
    "    MaxPooling2D(pool_size=(2,2),strides=2,padding = 'valid'),\n",
    "    Flatten(),\n",
    "    Dense(64, activation='relu'),\n",
    "    Dropout(0.4),\n",
    "    Dense(64, activation='relu'),\n",
    "    Dropout(0.4),\n",
    "    Dense(no_classes, activation=\"softmax\")\n",
    "    ])\n",
    "    model.compile(\n",
    "    optimizer='adam',\n",
    "    loss=CategoricalCrossentropy(),\n",
    "    metrics=[CategoricalAccuracy(), Precision()])\n",
    "    return model\n",
    "def cnn_model(classes):\n",
    "    images, labels = load_data(classes, root=root)\n",
    "    x_train, x_test, y_train, y_test = train_test_split(images, labels, test_size=0.2)\n",
    "\n",
    "    x_train = np.array(x_train)\n",
    "    x_test = np.array(x_test)\n",
    "    no_classes = len(classes)\n",
    "    y_train = to_categorical(label_encoder(y_train), no_classes)\n",
    "    y_test = to_categorical(label_encoder(y_test), no_classes)\n",
    "\n",
    "    model = create_simple_cnn(no_classes)\n",
    "    model.fit(x_train, y_train, epochs=20, validation_data=(x_test, y_test))\n",
    "    return model\n"
   ]
  },
  {
   "cell_type": "code",
   "execution_count": 31,
   "metadata": {},
   "outputs": [
    {
     "name": "stdout",
     "output_type": "stream",
     "text": [
      "Epoch 1/20\n",
      "WARNING:tensorflow:AutoGraph could not transform <function Model.make_train_function.<locals>.train_function at 0x7f980fa35440> and will run it as-is.\n",
      "Please report this to the TensorFlow team. When filing the bug, set the verbosity to 10 (on Linux, `export AUTOGRAPH_VERBOSITY=10`) and attach the full output.\n",
      "Cause: 'arguments' object has no attribute 'posonlyargs'\n",
      "To silence this warning, decorate the function with @tf.autograph.experimental.do_not_convert\n",
      "WARNING: AutoGraph could not transform <function Model.make_train_function.<locals>.train_function at 0x7f980fa35440> and will run it as-is.\n",
      "Please report this to the TensorFlow team. When filing the bug, set the verbosity to 10 (on Linux, `export AUTOGRAPH_VERBOSITY=10`) and attach the full output.\n",
      "Cause: 'arguments' object has no attribute 'posonlyargs'\n",
      "To silence this warning, decorate the function with @tf.autograph.experimental.do_not_convert\n",
      "213/213 [==============================] - ETA: 0s - loss: 0.8589 - categorical_accuracy: 0.6030 - precision_6: 0.7554WARNING:tensorflow:AutoGraph could not transform <function Model.make_test_function.<locals>.test_function at 0x7f9809e36cb0> and will run it as-is.\n",
      "Please report this to the TensorFlow team. When filing the bug, set the verbosity to 10 (on Linux, `export AUTOGRAPH_VERBOSITY=10`) and attach the full output.\n",
      "Cause: 'arguments' object has no attribute 'posonlyargs'\n",
      "To silence this warning, decorate the function with @tf.autograph.experimental.do_not_convert\n",
      "WARNING: AutoGraph could not transform <function Model.make_test_function.<locals>.test_function at 0x7f9809e36cb0> and will run it as-is.\n",
      "Please report this to the TensorFlow team. When filing the bug, set the verbosity to 10 (on Linux, `export AUTOGRAPH_VERBOSITY=10`) and attach the full output.\n",
      "Cause: 'arguments' object has no attribute 'posonlyargs'\n",
      "To silence this warning, decorate the function with @tf.autograph.experimental.do_not_convert\n",
      "213/213 [==============================] - 9s 38ms/step - loss: 0.8589 - categorical_accuracy: 0.6030 - precision_6: 0.7554 - val_loss: 0.6235 - val_categorical_accuracy: 0.7432 - val_precision_6: 0.7859\n",
      "Epoch 2/20\n",
      "213/213 [==============================] - 8s 37ms/step - loss: 0.6014 - categorical_accuracy: 0.7675 - precision_6: 0.8096 - val_loss: 0.4833 - val_categorical_accuracy: 0.8096 - val_precision_6: 0.8297\n",
      "Epoch 3/20\n",
      "213/213 [==============================] - 7s 35ms/step - loss: 0.5418 - categorical_accuracy: 0.7974 - precision_6: 0.8333 - val_loss: 0.5058 - val_categorical_accuracy: 0.7932 - val_precision_6: 0.8139\n",
      "Epoch 4/20\n",
      "213/213 [==============================] - 7s 35ms/step - loss: 0.4968 - categorical_accuracy: 0.8152 - precision_6: 0.8454 - val_loss: 0.5304 - val_categorical_accuracy: 0.7949 - val_precision_6: 0.8074\n",
      "Epoch 5/20\n",
      "213/213 [==============================] - 6s 27ms/step - loss: 0.4853 - categorical_accuracy: 0.8176 - precision_6: 0.8463 - val_loss: 0.4646 - val_categorical_accuracy: 0.7996 - val_precision_6: 0.8277\n",
      "Epoch 6/20\n",
      "213/213 [==============================] - 8s 37ms/step - loss: 0.4679 - categorical_accuracy: 0.8234 - precision_6: 0.8478 - val_loss: 0.4425 - val_categorical_accuracy: 0.8255 - val_precision_6: 0.8446\n",
      "Epoch 7/20\n",
      "213/213 [==============================] - 7s 35ms/step - loss: 0.4638 - categorical_accuracy: 0.8252 - precision_6: 0.8493 - val_loss: 0.4860 - val_categorical_accuracy: 0.8049 - val_precision_6: 0.8388\n",
      "Epoch 8/20\n",
      "213/213 [==============================] - 7s 34ms/step - loss: 0.4403 - categorical_accuracy: 0.8336 - precision_6: 0.8581 - val_loss: 0.4590 - val_categorical_accuracy: 0.8114 - val_precision_6: 0.8353\n",
      "Epoch 9/20\n",
      "213/213 [==============================] - 8s 36ms/step - loss: 0.4163 - categorical_accuracy: 0.8424 - precision_6: 0.8629 - val_loss: 0.4568 - val_categorical_accuracy: 0.8196 - val_precision_6: 0.8292\n",
      "Epoch 10/20\n",
      "213/213 [==============================] - 7s 35ms/step - loss: 0.4036 - categorical_accuracy: 0.8503 - precision_6: 0.8714 - val_loss: 0.4593 - val_categorical_accuracy: 0.8261 - val_precision_6: 0.8397\n",
      "Epoch 11/20\n",
      "213/213 [==============================] - 8s 35ms/step - loss: 0.3894 - categorical_accuracy: 0.8524 - precision_6: 0.8721 - val_loss: 0.5208 - val_categorical_accuracy: 0.8020 - val_precision_6: 0.8142\n",
      "Epoch 12/20\n",
      "213/213 [==============================] - 7s 34ms/step - loss: 0.3717 - categorical_accuracy: 0.8591 - precision_6: 0.8813 - val_loss: 0.4773 - val_categorical_accuracy: 0.8284 - val_precision_6: 0.8348\n",
      "Epoch 13/20\n",
      "213/213 [==============================] - 7s 35ms/step - loss: 0.3548 - categorical_accuracy: 0.8660 - precision_6: 0.8828 - val_loss: 0.4857 - val_categorical_accuracy: 0.8184 - val_precision_6: 0.8328\n",
      "Epoch 14/20\n",
      "213/213 [==============================] - 8s 39ms/step - loss: 0.3420 - categorical_accuracy: 0.8731 - precision_6: 0.8913 - val_loss: 0.5512 - val_categorical_accuracy: 0.8067 - val_precision_6: 0.8213\n",
      "Epoch 15/20\n",
      "213/213 [==============================] - 8s 40ms/step - loss: 0.3340 - categorical_accuracy: 0.8702 - precision_6: 0.8892 - val_loss: 0.4772 - val_categorical_accuracy: 0.8220 - val_precision_6: 0.8370\n",
      "Epoch 16/20\n",
      "213/213 [==============================] - 8s 38ms/step - loss: 0.3216 - categorical_accuracy: 0.8806 - precision_6: 0.8977 - val_loss: 0.5091 - val_categorical_accuracy: 0.8249 - val_precision_6: 0.8335\n",
      "Epoch 17/20\n",
      "213/213 [==============================] - 8s 38ms/step - loss: 0.3106 - categorical_accuracy: 0.8809 - precision_6: 0.8992 - val_loss: 0.5785 - val_categorical_accuracy: 0.8049 - val_precision_6: 0.8163\n",
      "Epoch 18/20\n",
      "213/213 [==============================] - 8s 39ms/step - loss: 0.2851 - categorical_accuracy: 0.8917 - precision_6: 0.9049 - val_loss: 0.5140 - val_categorical_accuracy: 0.8179 - val_precision_6: 0.8299\n",
      "Epoch 19/20\n",
      "213/213 [==============================] - 8s 37ms/step - loss: 0.2841 - categorical_accuracy: 0.8895 - precision_6: 0.9068 - val_loss: 0.5446 - val_categorical_accuracy: 0.8126 - val_precision_6: 0.8208\n",
      "Epoch 20/20\n",
      "213/213 [==============================] - 8s 38ms/step - loss: 0.2813 - categorical_accuracy: 0.8892 - precision_6: 0.9043 - val_loss: 0.5435 - val_categorical_accuracy: 0.8161 - val_precision_6: 0.8247\n"
     ]
    }
   ],
   "source": [
    "main = [\"epithelial\",\"fibroblast\",\"inflammatory\"]\n",
    "three_main_model = cnn_model([\"epithelial\",\"fibroblast\",\"inflammatory\"])\n"
   ]
  },
  {
   "cell_type": "code",
   "execution_count": 33,
   "metadata": {},
   "outputs": [],
   "source": [
    "three_main_model.save_weights(\"three_main.h5\")"
   ]
  },
  {
   "cell_type": "code",
   "execution_count": 32,
   "metadata": {},
   "outputs": [
    {
     "name": "stdout",
     "output_type": "stream",
     "text": [
      "Epoch 1/20\n",
      "WARNING:tensorflow:AutoGraph could not transform <function Model.make_train_function.<locals>.train_function at 0x7f980fa88f80> and will run it as-is.\n",
      "Please report this to the TensorFlow team. When filing the bug, set the verbosity to 10 (on Linux, `export AUTOGRAPH_VERBOSITY=10`) and attach the full output.\n",
      "Cause: 'arguments' object has no attribute 'posonlyargs'\n",
      "To silence this warning, decorate the function with @tf.autograph.experimental.do_not_convert\n",
      "WARNING: AutoGraph could not transform <function Model.make_train_function.<locals>.train_function at 0x7f980fa88f80> and will run it as-is.\n",
      "Please report this to the TensorFlow team. When filing the bug, set the verbosity to 10 (on Linux, `export AUTOGRAPH_VERBOSITY=10`) and attach the full output.\n",
      "Cause: 'arguments' object has no attribute 'posonlyargs'\n",
      "To silence this warning, decorate the function with @tf.autograph.experimental.do_not_convert\n",
      "145/146 [============================>.] - ETA: 0s - loss: 1.0738 - categorical_accuracy: 0.4256 - precision_7: 0.5008WARNING:tensorflow:AutoGraph could not transform <function Model.make_test_function.<locals>.test_function at 0x7f980f836320> and will run it as-is.\n",
      "Please report this to the TensorFlow team. When filing the bug, set the verbosity to 10 (on Linux, `export AUTOGRAPH_VERBOSITY=10`) and attach the full output.\n",
      "Cause: 'arguments' object has no attribute 'posonlyargs'\n",
      "To silence this warning, decorate the function with @tf.autograph.experimental.do_not_convert\n",
      "WARNING: AutoGraph could not transform <function Model.make_test_function.<locals>.test_function at 0x7f980f836320> and will run it as-is.\n",
      "Please report this to the TensorFlow team. When filing the bug, set the verbosity to 10 (on Linux, `export AUTOGRAPH_VERBOSITY=10`) and attach the full output.\n",
      "Cause: 'arguments' object has no attribute 'posonlyargs'\n",
      "To silence this warning, decorate the function with @tf.autograph.experimental.do_not_convert\n",
      "146/146 [==============================] - 7s 41ms/step - loss: 1.0738 - categorical_accuracy: 0.4255 - precision_7: 0.5008 - val_loss: 1.0739 - val_categorical_accuracy: 0.4622 - val_precision_7: 0.0000e+00\n",
      "Epoch 2/20\n",
      "146/146 [==============================] - 6s 38ms/step - loss: 1.0717 - categorical_accuracy: 0.4290 - precision_7: 0.5943 - val_loss: 1.0545 - val_categorical_accuracy: 0.4622 - val_precision_7: 0.0000e+00\n",
      "Epoch 3/20\n",
      "146/146 [==============================] - 5s 37ms/step - loss: 1.0004 - categorical_accuracy: 0.5076 - precision_7: 0.6540 - val_loss: 0.9540 - val_categorical_accuracy: 0.5653 - val_precision_7: 0.7638\n",
      "Epoch 4/20\n",
      "146/146 [==============================] - 5s 35ms/step - loss: 0.9302 - categorical_accuracy: 0.5906 - precision_7: 0.6656 - val_loss: 0.8841 - val_categorical_accuracy: 0.6100 - val_precision_7: 0.6777\n",
      "Epoch 5/20\n",
      "146/146 [==============================] - 6s 42ms/step - loss: 0.8691 - categorical_accuracy: 0.6297 - precision_7: 0.6876 - val_loss: 0.8501 - val_categorical_accuracy: 0.6271 - val_precision_7: 0.6809\n",
      "Epoch 6/20\n",
      "146/146 [==============================] - 5s 35ms/step - loss: 0.8417 - categorical_accuracy: 0.6357 - precision_7: 0.6967 - val_loss: 0.8314 - val_categorical_accuracy: 0.6246 - val_precision_7: 0.6927\n",
      "Epoch 7/20\n",
      "146/146 [==============================] - 6s 38ms/step - loss: 0.8131 - categorical_accuracy: 0.6495 - precision_7: 0.7018 - val_loss: 0.8033 - val_categorical_accuracy: 0.6529 - val_precision_7: 0.6960\n",
      "Epoch 8/20\n",
      "146/146 [==============================] - 6s 38ms/step - loss: 0.7886 - categorical_accuracy: 0.6546 - precision_7: 0.7163 - val_loss: 0.7877 - val_categorical_accuracy: 0.6564 - val_precision_7: 0.7089\n",
      "Epoch 9/20\n",
      "146/146 [==============================] - 6s 39ms/step - loss: 0.7673 - categorical_accuracy: 0.6662 - precision_7: 0.7303 - val_loss: 0.7828 - val_categorical_accuracy: 0.6478 - val_precision_7: 0.7041\n",
      "Epoch 10/20\n",
      "146/146 [==============================] - 6s 39ms/step - loss: 0.7402 - categorical_accuracy: 0.6832 - precision_7: 0.7336 - val_loss: 0.7833 - val_categorical_accuracy: 0.6624 - val_precision_7: 0.7141\n",
      "Epoch 11/20\n",
      "146/146 [==============================] - 6s 38ms/step - loss: 0.7416 - categorical_accuracy: 0.6849 - precision_7: 0.7348 - val_loss: 0.7468 - val_categorical_accuracy: 0.6787 - val_precision_7: 0.7240\n",
      "Epoch 12/20\n",
      "146/146 [==============================] - 6s 39ms/step - loss: 0.7124 - categorical_accuracy: 0.6937 - precision_7: 0.7427 - val_loss: 0.7451 - val_categorical_accuracy: 0.6753 - val_precision_7: 0.7246\n",
      "Epoch 13/20\n",
      "146/146 [==============================] - 5s 37ms/step - loss: 0.6919 - categorical_accuracy: 0.7021 - precision_7: 0.7514 - val_loss: 0.7427 - val_categorical_accuracy: 0.6813 - val_precision_7: 0.7241\n",
      "Epoch 14/20\n",
      "146/146 [==============================] - 6s 39ms/step - loss: 0.6808 - categorical_accuracy: 0.7077 - precision_7: 0.7541 - val_loss: 0.7437 - val_categorical_accuracy: 0.6718 - val_precision_7: 0.7212\n",
      "Epoch 15/20\n",
      "146/146 [==============================] - 6s 38ms/step - loss: 0.6655 - categorical_accuracy: 0.7195 - precision_7: 0.7647 - val_loss: 0.7625 - val_categorical_accuracy: 0.6778 - val_precision_7: 0.7087\n",
      "Epoch 16/20\n",
      "146/146 [==============================] - 7s 46ms/step - loss: 0.6394 - categorical_accuracy: 0.7228 - precision_7: 0.7697 - val_loss: 0.7541 - val_categorical_accuracy: 0.6778 - val_precision_7: 0.7087\n",
      "Epoch 17/20\n",
      "146/146 [==============================] - 6s 40ms/step - loss: 0.6232 - categorical_accuracy: 0.7380 - precision_7: 0.7736 - val_loss: 0.8026 - val_categorical_accuracy: 0.6718 - val_precision_7: 0.7007\n",
      "Epoch 18/20\n",
      "146/146 [==============================] - 6s 40ms/step - loss: 0.6203 - categorical_accuracy: 0.7363 - precision_7: 0.7813 - val_loss: 0.7854 - val_categorical_accuracy: 0.6744 - val_precision_7: 0.7031\n",
      "Epoch 19/20\n",
      "146/146 [==============================] - 6s 40ms/step - loss: 0.5745 - categorical_accuracy: 0.7636 - precision_7: 0.7975 - val_loss: 0.7646 - val_categorical_accuracy: 0.6821 - val_precision_7: 0.7155\n",
      "Epoch 20/20\n",
      "146/146 [==============================] - 6s 38ms/step - loss: 0.5537 - categorical_accuracy: 0.7670 - precision_7: 0.8010 - val_loss: 0.7868 - val_categorical_accuracy: 0.6838 - val_precision_7: 0.7123\n"
     ]
    }
   ],
   "source": [
    "others_class = [\"others\",\"fibroblast\",\"inflammatory\"]\n",
    "three_other_model = cnn_model(others_class)"
   ]
  },
  {
   "cell_type": "code",
   "execution_count": 34,
   "metadata": {},
   "outputs": [],
   "source": [
    "three_other_model.save_weights(\"three_other.h5\")"
   ]
  },
  {
   "cell_type": "code",
   "execution_count": null,
   "metadata": {},
   "outputs": [],
   "source": []
  }
 ],
 "metadata": {
  "interpreter": {
   "hash": "0f85430522e24dcceb49f547c8042b2746187a0750be8e55b7097447c175006b"
  },
  "kernelspec": {
   "display_name": "Python 3.7.11 64-bit ('keras-env': conda)",
   "language": "python",
   "name": "python3"
  },
  "language_info": {
   "codemirror_mode": {
    "name": "ipython",
    "version": 3
   },
   "file_extension": ".py",
   "mimetype": "text/x-python",
   "name": "python",
   "nbconvert_exporter": "python",
   "pygments_lexer": "ipython3",
   "version": "3.7.11"
  },
  "orig_nbformat": 4
 },
 "nbformat": 4,
 "nbformat_minor": 2
}
